{
 "cells": [
  {
   "cell_type": "markdown",
   "metadata": {
    "toc": "true"
   },
   "source": [
    "<h1>Table of Contents<span class=\"tocSkip\"></span></h1>\n",
    "<div class=\"toc\"><ul class=\"toc-item\"><li><span><a href=\"#Data-Wrangling-with-Pandas\" data-toc-modified-id=\"Data-Wrangling-with-Pandas-1\">Data Wrangling with Pandas</a></span><ul class=\"toc-item\"><li><span><a href=\"#Date/Time-data-handling\" data-toc-modified-id=\"Date/Time-data-handling-1.1\">Date/Time data handling</a></span></li><li><span><a href=\"#Merging-and-joining-DataFrame-objects\" data-toc-modified-id=\"Merging-and-joining-DataFrame-objects-1.2\">Merging and joining DataFrame objects</a></span><ul class=\"toc-item\"><li><span><a href=\"#Exercise-6\" data-toc-modified-id=\"Exercise-6-1.2.1\">Exercise 6</a></span></li></ul></li><li><span><a href=\"#Concatenation\" data-toc-modified-id=\"Concatenation-1.3\">Concatenation</a></span></li><li><span><a href=\"#Reshaping-DataFrame-objects\" data-toc-modified-id=\"Reshaping-DataFrame-objects-1.4\">Reshaping DataFrame objects</a></span></li><li><span><a href=\"#Pivoting\" data-toc-modified-id=\"Pivoting-1.5\">Pivoting</a></span></li><li><span><a href=\"#Data-transformation\" data-toc-modified-id=\"Data-transformation-1.6\">Data transformation</a></span><ul class=\"toc-item\"><li><span><a href=\"#Dealing-with-duplicates\" data-toc-modified-id=\"Dealing-with-duplicates-1.6.1\">Dealing with duplicates</a></span></li><li><span><a href=\"#Value-replacement\" data-toc-modified-id=\"Value-replacement-1.6.2\">Value replacement</a></span></li><li><span><a href=\"#Inidcator-variables\" data-toc-modified-id=\"Inidcator-variables-1.6.3\">Inidcator variables</a></span></li></ul></li><li><span><a href=\"#Categorical-Data\" data-toc-modified-id=\"Categorical-Data-1.7\">Categorical Data</a></span><ul class=\"toc-item\"><li><span><a href=\"#Discretization\" data-toc-modified-id=\"Discretization-1.7.1\">Discretization</a></span></li><li><span><a href=\"#Permutation-and-sampling\" data-toc-modified-id=\"Permutation-and-sampling-1.7.2\">Permutation and sampling</a></span></li></ul></li><li><span><a href=\"#Data-aggregation-and-GroupBy-operations\" data-toc-modified-id=\"Data-aggregation-and-GroupBy-operations-1.8\">Data aggregation and GroupBy operations</a></span><ul class=\"toc-item\"><li><span><a href=\"#Apply\" data-toc-modified-id=\"Apply-1.8.1\">Apply</a></span></li></ul></li><li><span><a href=\"#References\" data-toc-modified-id=\"References-1.9\">References</a></span></li></ul></li></ul></div>"
   ]
  },
  {
   "cell_type": "markdown",
   "metadata": {},
   "source": [
    "# Data Wrangling with Pandas\n",
    "\n",
    "Now that we have been exposed to the basic functionality of Pandas, let's explore some more advanced features that will be useful when addressing more complex data management tasks.\n",
    "\n",
    "As most statisticians/data analysts will admit, often the lion's share of the time spent implementing an analysis is devoted to preparing the data itself, rather than to coding or running a particular model that uses the data. This is where Pandas and  Python's standard library are beneficial, providing high-level, flexible, and efficient tools for manipulating your data as needed.\n"
   ]
  },
  {
   "cell_type": "code",
   "execution_count": 1,
   "metadata": {},
   "outputs": [],
   "source": [
    "%matplotlib inline\n",
    "import pandas as pd\n",
    "import numpy as np\n",
    "import matplotlib.pyplot as plt\n",
    "import seaborn as sns\n",
    "sns.set_context('notebook')"
   ]
  },
  {
   "cell_type": "markdown",
   "metadata": {},
   "source": [
    "## Date/Time data handling\n",
    "\n",
    "Date and time data are inherently problematic. There are an unequal number of days in every month, an unequal number of days in a year (due to leap years), and time zones that vary over space. Yet information about time is essential in many analyses, particularly in the case of time series analysis."
   ]
  },
  {
   "cell_type": "markdown",
   "metadata": {},
   "source": [
    "The `datetime` built-in library handles temporal information down to the nanosecond."
   ]
  },
  {
   "cell_type": "code",
   "execution_count": 2,
   "metadata": {},
   "outputs": [],
   "source": [
    "from datetime import datetime, date, time"
   ]
  },
  {
   "cell_type": "code",
   "execution_count": 3,
   "metadata": {},
   "outputs": [
    {
     "output_type": "execute_result",
     "data": {
      "text/plain": [
       "datetime.datetime(2021, 1, 11, 7, 30, 22, 713515)"
      ]
     },
     "metadata": {},
     "execution_count": 3
    }
   ],
   "source": [
    "now = datetime.now()\n",
    "now"
   ]
  },
  {
   "cell_type": "code",
   "execution_count": 4,
   "metadata": {},
   "outputs": [
    {
     "output_type": "execute_result",
     "data": {
      "text/plain": [
       "datetime.date(1970, 9, 3)"
      ]
     },
     "metadata": {},
     "execution_count": 4
    }
   ],
   "source": [
    "date(1970, 9, 3)"
   ]
  },
  {
   "cell_type": "markdown",
   "metadata": {},
   "source": [
    "Having a custom data type for dates and times is convenient because we can perform operations on them easily. For example, we may want to calculate the difference between two times:"
   ]
  },
  {
   "cell_type": "code",
   "execution_count": 5,
   "metadata": {},
   "outputs": [
    {
     "output_type": "execute_result",
     "data": {
      "text/plain": [
       "51.06301369863014"
      ]
     },
     "metadata": {},
     "execution_count": 5
    }
   ],
   "source": [
    "my_age = now - datetime(1970, 1, 1)\n",
    "my_age.days/365"
   ]
  },
  {
   "cell_type": "markdown",
   "metadata": {},
   "source": [
    "In this section, we will manipulate data collected from ocean-going vessels on the eastern seaboard. Vessel operations are monitored using the Automatic Identification System (AIS), a safety at sea navigation technology which vessels are required to maintain and that uses transponders to transmit very high frequency (VHF) radio signals containing static information including ship name, call sign, and country of origin, as well as dynamic information unique to a particular voyage such as vessel location, heading, and speed. \n",
    "\n",
    "The International Maritime Organization’s (IMO) International Convention for the Safety of Life at Sea requires functioning AIS capabilities on all vessels 300 gross tons or greater and the US Coast Guard requires AIS on nearly all vessels sailing in U.S. waters. The Coast Guard has established a national network of AIS receivers that provides coverage of nearly all U.S. waters. AIS signals are transmitted several times each minute and the network is capable of handling thousands of reports per minute and updates as often as every two seconds. Therefore, a typical voyage in our study might include the transmission of hundreds or thousands of AIS encoded signals. This provides a rich source of spatial data that includes both spatial and temporal information.\n",
    "\n",
    "For our purposes, we will use summarized data that describes the transit of a given vessel through a particular administrative area. The data includes the start and end time of the transit segment, as well as information about the speed of the vessel, how far it travelled, etc."
   ]
  },
  {
   "cell_type": "code",
   "execution_count": 6,
   "metadata": {},
   "outputs": [
    {
     "output_type": "execute_result",
     "data": {
      "text/plain": [
       "   mmsi               name  transit  segment  seg_length  avg_sog  min_sog  \\\n",
       "0     1        Us Govt Ves        1        1         5.1     13.2      9.2   \n",
       "1     1  Dredge Capt Frank        1        1        13.5     18.6     10.4   \n",
       "2     1      Us Gov Vessel        1        1         4.3     16.2     10.3   \n",
       "3     1      Us Gov Vessel        2        1         9.2     15.4     14.5   \n",
       "4     1  Dredge Capt Frank        2        1         9.2     15.4     14.6   \n",
       "\n",
       "   max_sog  pdgt10        st_time       end_time  \n",
       "0     14.5    96.5  2/10/09 16:03  2/10/09 16:27  \n",
       "1     20.6   100.0   4/6/09 14:31   4/6/09 15:20  \n",
       "2     20.5   100.0   4/6/09 14:36   4/6/09 14:55  \n",
       "3     16.1   100.0  4/10/09 17:58  4/10/09 18:34  \n",
       "4     16.2   100.0  4/10/09 17:59  4/10/09 18:35  "
      ],
      "text/html": "<div>\n<style scoped>\n    .dataframe tbody tr th:only-of-type {\n        vertical-align: middle;\n    }\n\n    .dataframe tbody tr th {\n        vertical-align: top;\n    }\n\n    .dataframe thead th {\n        text-align: right;\n    }\n</style>\n<table border=\"1\" class=\"dataframe\">\n  <thead>\n    <tr style=\"text-align: right;\">\n      <th></th>\n      <th>mmsi</th>\n      <th>name</th>\n      <th>transit</th>\n      <th>segment</th>\n      <th>seg_length</th>\n      <th>avg_sog</th>\n      <th>min_sog</th>\n      <th>max_sog</th>\n      <th>pdgt10</th>\n      <th>st_time</th>\n      <th>end_time</th>\n    </tr>\n  </thead>\n  <tbody>\n    <tr>\n      <th>0</th>\n      <td>1</td>\n      <td>Us Govt Ves</td>\n      <td>1</td>\n      <td>1</td>\n      <td>5.1</td>\n      <td>13.2</td>\n      <td>9.2</td>\n      <td>14.5</td>\n      <td>96.5</td>\n      <td>2/10/09 16:03</td>\n      <td>2/10/09 16:27</td>\n    </tr>\n    <tr>\n      <th>1</th>\n      <td>1</td>\n      <td>Dredge Capt Frank</td>\n      <td>1</td>\n      <td>1</td>\n      <td>13.5</td>\n      <td>18.6</td>\n      <td>10.4</td>\n      <td>20.6</td>\n      <td>100.0</td>\n      <td>4/6/09 14:31</td>\n      <td>4/6/09 15:20</td>\n    </tr>\n    <tr>\n      <th>2</th>\n      <td>1</td>\n      <td>Us Gov Vessel</td>\n      <td>1</td>\n      <td>1</td>\n      <td>4.3</td>\n      <td>16.2</td>\n      <td>10.3</td>\n      <td>20.5</td>\n      <td>100.0</td>\n      <td>4/6/09 14:36</td>\n      <td>4/6/09 14:55</td>\n    </tr>\n    <tr>\n      <th>3</th>\n      <td>1</td>\n      <td>Us Gov Vessel</td>\n      <td>2</td>\n      <td>1</td>\n      <td>9.2</td>\n      <td>15.4</td>\n      <td>14.5</td>\n      <td>16.1</td>\n      <td>100.0</td>\n      <td>4/10/09 17:58</td>\n      <td>4/10/09 18:34</td>\n    </tr>\n    <tr>\n      <th>4</th>\n      <td>1</td>\n      <td>Dredge Capt Frank</td>\n      <td>2</td>\n      <td>1</td>\n      <td>9.2</td>\n      <td>15.4</td>\n      <td>14.6</td>\n      <td>16.2</td>\n      <td>100.0</td>\n      <td>4/10/09 17:59</td>\n      <td>4/10/09 18:35</td>\n    </tr>\n  </tbody>\n</table>\n</div>"
     },
     "metadata": {},
     "execution_count": 6
    }
   ],
   "source": [
    "segments = pd.read_csv(\"Data/transit_segments.csv\")\n",
    "segments.head()"
   ]
  },
  {
   "cell_type": "markdown",
   "metadata": {},
   "source": [
    "For example, we might be interested in the distribution of transit lengths, so we can plot them as a histogram:"
   ]
  },
  {
   "cell_type": "code",
   "execution_count": 7,
   "metadata": {},
   "outputs": [
    {
     "output_type": "execute_result",
     "data": {
      "text/plain": [
       "<AxesSubplot:>"
      ]
     },
     "metadata": {},
     "execution_count": 7
    },
    {
     "output_type": "display_data",
     "data": {
      "text/plain": "<Figure size 432x288 with 1 Axes>",
      "image/svg+xml": "<?xml version=\"1.0\" encoding=\"utf-8\" standalone=\"no\"?>\r\n<!DOCTYPE svg PUBLIC \"-//W3C//DTD SVG 1.1//EN\"\r\n  \"http://www.w3.org/Graphics/SVG/1.1/DTD/svg11.dtd\">\r\n<!-- Created with matplotlib (https://matplotlib.org/) -->\r\n<svg height=\"251.985938pt\" version=\"1.1\" viewBox=\"0 0 393.69375 251.985938\" width=\"393.69375pt\" xmlns=\"http://www.w3.org/2000/svg\" xmlns:xlink=\"http://www.w3.org/1999/xlink\">\r\n <metadata>\r\n  <rdf:RDF xmlns:cc=\"http://creativecommons.org/ns#\" xmlns:dc=\"http://purl.org/dc/elements/1.1/\" xmlns:rdf=\"http://www.w3.org/1999/02/22-rdf-syntax-ns#\">\r\n   <cc:Work>\r\n    <dc:type rdf:resource=\"http://purl.org/dc/dcmitype/StillImage\"/>\r\n    <dc:date>2021-01-11T07:30:25.403900</dc:date>\r\n    <dc:format>image/svg+xml</dc:format>\r\n    <dc:creator>\r\n     <cc:Agent>\r\n      <dc:title>Matplotlib v3.3.2, https://matplotlib.org/</dc:title>\r\n     </cc:Agent>\r\n    </dc:creator>\r\n   </cc:Work>\r\n  </rdf:RDF>\r\n </metadata>\r\n <defs>\r\n  <style type=\"text/css\">*{stroke-linecap:butt;stroke-linejoin:round;}</style>\r\n </defs>\r\n <g id=\"figure_1\">\r\n  <g id=\"patch_1\">\r\n   <path d=\"M 0 251.985938 \r\nL 393.69375 251.985938 \r\nL 393.69375 0 \r\nL 0 0 \r\nz\r\n\" style=\"fill:none;\"/>\r\n  </g>\r\n  <g id=\"axes_1\">\r\n   <g id=\"patch_2\">\r\n    <path d=\"M 51.69375 224.64 \r\nL 386.49375 224.64 \r\nL 386.49375 7.2 \r\nL 51.69375 7.2 \r\nz\r\n\" style=\"fill:#ffffff;\"/>\r\n   </g>\r\n   <g id=\"patch_3\">\r\n    <path clip-path=\"url(#pe188fe85e9)\" d=\"M 66.911932 224.64 \r\nL 67.520659 224.64 \r\nL 67.520659 202.190746 \r\nL 66.911932 202.190746 \r\nz\r\n\" style=\"fill:#1f77b4;\"/>\r\n   </g>\r\n   <g id=\"patch_4\">\r\n    <path clip-path=\"url(#pe188fe85e9)\" d=\"M 67.520659 224.64 \r\nL 68.129386 224.64 \r\nL 68.129386 205.90321 \r\nL 67.520659 205.90321 \r\nz\r\n\" style=\"fill:#1f77b4;\"/>\r\n   </g>\r\n   <g id=\"patch_5\">\r\n    <path clip-path=\"url(#pe188fe85e9)\" d=\"M 68.129386 224.64 \r\nL 68.738114 224.64 \r\nL 68.738114 204.132783 \r\nL 68.129386 204.132783 \r\nz\r\n\" style=\"fill:#1f77b4;\"/>\r\n   </g>\r\n   <g id=\"patch_6\">\r\n    <path clip-path=\"url(#pe188fe85e9)\" d=\"M 68.738114 224.64 \r\nL 69.346841 224.64 \r\nL 69.346841 190.873165 \r\nL 68.738114 190.873165 \r\nz\r\n\" style=\"fill:#1f77b4;\"/>\r\n   </g>\r\n   <g id=\"patch_7\">\r\n    <path clip-path=\"url(#pe188fe85e9)\" d=\"M 69.346841 224.64 \r\nL 69.955568 224.64 \r\nL 69.955568 71.327814 \r\nL 69.346841 71.327814 \r\nz\r\n\" style=\"fill:#1f77b4;\"/>\r\n   </g>\r\n   <g id=\"patch_8\">\r\n    <path clip-path=\"url(#pe188fe85e9)\" d=\"M 69.955568 224.64 \r\nL 70.564295 224.64 \r\nL 70.564295 17.554286 \r\nL 69.955568 17.554286 \r\nz\r\n\" style=\"fill:#1f77b4;\"/>\r\n   </g>\r\n   <g id=\"patch_9\">\r\n    <path clip-path=\"url(#pe188fe85e9)\" d=\"M 70.564295 224.64 \r\nL 71.173023 224.64 \r\nL 71.173023 115.030782 \r\nL 70.564295 115.030782 \r\nz\r\n\" style=\"fill:#1f77b4;\"/>\r\n   </g>\r\n   <g id=\"patch_10\">\r\n    <path clip-path=\"url(#pe188fe85e9)\" d=\"M 71.173023 224.64 \r\nL 71.78175 224.64 \r\nL 71.78175 160.295388 \r\nL 71.173023 160.295388 \r\nz\r\n\" style=\"fill:#1f77b4;\"/>\r\n   </g>\r\n   <g id=\"patch_11\">\r\n    <path clip-path=\"url(#pe188fe85e9)\" d=\"M 71.78175 224.64 \r\nL 72.390477 224.64 \r\nL 72.390477 180.462248 \r\nL 71.78175 180.462248 \r\nz\r\n\" style=\"fill:#1f77b4;\"/>\r\n   </g>\r\n   <g id=\"patch_12\">\r\n    <path clip-path=\"url(#pe188fe85e9)\" d=\"M 72.390477 224.64 \r\nL 72.999205 224.64 \r\nL 72.999205 204.736273 \r\nL 72.390477 204.736273 \r\nz\r\n\" style=\"fill:#1f77b4;\"/>\r\n   </g>\r\n   <g id=\"patch_13\">\r\n    <path clip-path=\"url(#pe188fe85e9)\" d=\"M 72.999205 224.64 \r\nL 73.607932 224.64 \r\nL 73.607932 212.887677 \r\nL 72.999205 212.887677 \r\nz\r\n\" style=\"fill:#1f77b4;\"/>\r\n   </g>\r\n   <g id=\"patch_14\">\r\n    <path clip-path=\"url(#pe188fe85e9)\" d=\"M 73.607932 224.64 \r\nL 74.216659 224.64 \r\nL 74.216659 214.583741 \r\nL 73.607932 214.583741 \r\nz\r\n\" style=\"fill:#1f77b4;\"/>\r\n   </g>\r\n   <g id=\"patch_15\">\r\n    <path clip-path=\"url(#pe188fe85e9)\" d=\"M 74.216659 224.64 \r\nL 74.825386 224.64 \r\nL 74.825386 213.674216 \r\nL 74.216659 213.674216 \r\nz\r\n\" style=\"fill:#1f77b4;\"/>\r\n   </g>\r\n   <g id=\"patch_16\">\r\n    <path clip-path=\"url(#pe188fe85e9)\" d=\"M 74.825386 224.64 \r\nL 75.434114 224.64 \r\nL 75.434114 221.579648 \r\nL 74.825386 221.579648 \r\nz\r\n\" style=\"fill:#1f77b4;\"/>\r\n   </g>\r\n   <g id=\"patch_17\">\r\n    <path clip-path=\"url(#pe188fe85e9)\" d=\"M 75.434114 224.64 \r\nL 76.042841 224.64 \r\nL 76.042841 222.257502 \r\nL 75.434114 222.257502 \r\nz\r\n\" style=\"fill:#1f77b4;\"/>\r\n   </g>\r\n   <g id=\"patch_18\">\r\n    <path clip-path=\"url(#pe188fe85e9)\" d=\"M 76.042841 224.64 \r\nL 76.651568 224.64 \r\nL 76.651568 221.985788 \r\nL 76.042841 221.985788 \r\nz\r\n\" style=\"fill:#1f77b4;\"/>\r\n   </g>\r\n   <g id=\"patch_19\">\r\n    <path clip-path=\"url(#pe188fe85e9)\" d=\"M 76.651568 224.64 \r\nL 77.260295 224.64 \r\nL 77.260295 222.514915 \r\nL 76.651568 222.514915 \r\nz\r\n\" style=\"fill:#1f77b4;\"/>\r\n   </g>\r\n   <g id=\"patch_20\">\r\n    <path clip-path=\"url(#pe188fe85e9)\" d=\"M 77.260295 224.64 \r\nL 77.869023 224.64 \r\nL 77.869023 223.184188 \r\nL 77.260295 223.184188 \r\nz\r\n\" style=\"fill:#1f77b4;\"/>\r\n   </g>\r\n   <g id=\"patch_21\">\r\n    <path clip-path=\"url(#pe188fe85e9)\" d=\"M 77.869023 224.64 \r\nL 78.47775 224.64 \r\nL 78.47775 223.470202 \r\nL 77.869023 223.470202 \r\nz\r\n\" style=\"fill:#1f77b4;\"/>\r\n   </g>\r\n   <g id=\"patch_22\">\r\n    <path clip-path=\"url(#pe188fe85e9)\" d=\"M 78.47775 224.64 \r\nL 79.086477 224.64 \r\nL 79.086477 223.699013 \r\nL 78.47775 223.699013 \r\nz\r\n\" style=\"fill:#1f77b4;\"/>\r\n   </g>\r\n   <g id=\"patch_23\">\r\n    <path clip-path=\"url(#pe188fe85e9)\" d=\"M 79.086477 224.64 \r\nL 79.695205 224.64 \r\nL 79.695205 223.876342 \r\nL 79.086477 223.876342 \r\nz\r\n\" style=\"fill:#1f77b4;\"/>\r\n   </g>\r\n   <g id=\"patch_24\">\r\n    <path clip-path=\"url(#pe188fe85e9)\" d=\"M 79.695205 224.64 \r\nL 80.303932 224.64 \r\nL 80.303932 223.902083 \r\nL 79.695205 223.902083 \r\nz\r\n\" style=\"fill:#1f77b4;\"/>\r\n   </g>\r\n   <g id=\"patch_25\">\r\n    <path clip-path=\"url(#pe188fe85e9)\" d=\"M 80.303932 224.64 \r\nL 80.912659 224.64 \r\nL 80.912659 223.721894 \r\nL 80.303932 223.721894 \r\nz\r\n\" style=\"fill:#1f77b4;\"/>\r\n   </g>\r\n   <g id=\"patch_26\">\r\n    <path clip-path=\"url(#pe188fe85e9)\" d=\"M 80.912659 224.64 \r\nL 81.521386 224.64 \r\nL 81.521386 223.919244 \r\nL 80.912659 223.919244 \r\nz\r\n\" style=\"fill:#1f77b4;\"/>\r\n   </g>\r\n   <g id=\"patch_27\">\r\n    <path clip-path=\"url(#pe188fe85e9)\" d=\"M 81.521386 224.64 \r\nL 82.130114 224.64 \r\nL 82.130114 223.950706 \r\nL 81.521386 223.950706 \r\nz\r\n\" style=\"fill:#1f77b4;\"/>\r\n   </g>\r\n   <g id=\"patch_28\">\r\n    <path clip-path=\"url(#pe188fe85e9)\" d=\"M 82.130114 224.64 \r\nL 82.738841 224.64 \r\nL 82.738841 223.899223 \r\nL 82.130114 223.899223 \r\nz\r\n\" style=\"fill:#1f77b4;\"/>\r\n   </g>\r\n   <g id=\"patch_29\">\r\n    <path clip-path=\"url(#pe188fe85e9)\" d=\"M 82.738841 224.64 \r\nL 83.347568 224.64 \r\nL 83.347568 224.022209 \r\nL 82.738841 224.022209 \r\nz\r\n\" style=\"fill:#1f77b4;\"/>\r\n   </g>\r\n   <g id=\"patch_30\">\r\n    <path clip-path=\"url(#pe188fe85e9)\" d=\"M 83.347568 224.64 \r\nL 83.956295 224.64 \r\nL 83.956295 224.128035 \r\nL 83.347568 224.128035 \r\nz\r\n\" style=\"fill:#1f77b4;\"/>\r\n   </g>\r\n   <g id=\"patch_31\">\r\n    <path clip-path=\"url(#pe188fe85e9)\" d=\"M 83.956295 224.64 \r\nL 84.565023 224.64 \r\nL 84.565023 224.302503 \r\nL 83.956295 224.302503 \r\nz\r\n\" style=\"fill:#1f77b4;\"/>\r\n   </g>\r\n   <g id=\"patch_32\">\r\n    <path clip-path=\"url(#pe188fe85e9)\" d=\"M 84.565023 224.64 \r\nL 85.17375 224.64 \r\nL 85.17375 224.353986 \r\nL 84.565023 224.353986 \r\nz\r\n\" style=\"fill:#1f77b4;\"/>\r\n   </g>\r\n   <g id=\"patch_33\">\r\n    <path clip-path=\"url(#pe188fe85e9)\" d=\"M 85.17375 224.64 \r\nL 85.782477 224.64 \r\nL 85.782477 224.408329 \r\nL 85.17375 224.408329 \r\nz\r\n\" style=\"fill:#1f77b4;\"/>\r\n   </g>\r\n   <g id=\"patch_34\">\r\n    <path clip-path=\"url(#pe188fe85e9)\" d=\"M 85.782477 224.64 \r\nL 86.391205 224.64 \r\nL 86.391205 224.44551 \r\nL 85.782477 224.44551 \r\nz\r\n\" style=\"fill:#1f77b4;\"/>\r\n   </g>\r\n   <g id=\"patch_35\">\r\n    <path clip-path=\"url(#pe188fe85e9)\" d=\"M 86.391205 224.64 \r\nL 86.999932 224.64 \r\nL 86.999932 224.479832 \r\nL 86.391205 224.479832 \r\nz\r\n\" style=\"fill:#1f77b4;\"/>\r\n   </g>\r\n   <g id=\"patch_36\">\r\n    <path clip-path=\"url(#pe188fe85e9)\" d=\"M 86.999932 224.64 \r\nL 87.608659 224.64 \r\nL 87.608659 224.488412 \r\nL 86.999932 224.488412 \r\nz\r\n\" style=\"fill:#1f77b4;\"/>\r\n   </g>\r\n   <g id=\"patch_37\">\r\n    <path clip-path=\"url(#pe188fe85e9)\" d=\"M 87.608659 224.64 \r\nL 88.217386 224.64 \r\nL 88.217386 224.456951 \r\nL 87.608659 224.456951 \r\nz\r\n\" style=\"fill:#1f77b4;\"/>\r\n   </g>\r\n   <g id=\"patch_38\">\r\n    <path clip-path=\"url(#pe188fe85e9)\" d=\"M 88.217386 224.64 \r\nL 88.826114 224.64 \r\nL 88.826114 224.491273 \r\nL 88.217386 224.491273 \r\nz\r\n\" style=\"fill:#1f77b4;\"/>\r\n   </g>\r\n   <g id=\"patch_39\">\r\n    <path clip-path=\"url(#pe188fe85e9)\" d=\"M 88.826114 224.64 \r\nL 89.434841 224.64 \r\nL 89.434841 224.548475 \r\nL 88.826114 224.548475 \r\nz\r\n\" style=\"fill:#1f77b4;\"/>\r\n   </g>\r\n   <g id=\"patch_40\">\r\n    <path clip-path=\"url(#pe188fe85e9)\" d=\"M 89.434841 224.64 \r\nL 90.043568 224.64 \r\nL 90.043568 224.514154 \r\nL 89.434841 224.514154 \r\nz\r\n\" style=\"fill:#1f77b4;\"/>\r\n   </g>\r\n   <g id=\"patch_41\">\r\n    <path clip-path=\"url(#pe188fe85e9)\" d=\"M 90.043568 224.64 \r\nL 90.652295 224.64 \r\nL 90.652295 224.522734 \r\nL 90.043568 224.522734 \r\nz\r\n\" style=\"fill:#1f77b4;\"/>\r\n   </g>\r\n   <g id=\"patch_42\">\r\n    <path clip-path=\"url(#pe188fe85e9)\" d=\"M 90.652295 224.64 \r\nL 91.261023 224.64 \r\nL 91.261023 224.557056 \r\nL 90.652295 224.557056 \r\nz\r\n\" style=\"fill:#1f77b4;\"/>\r\n   </g>\r\n   <g id=\"patch_43\">\r\n    <path clip-path=\"url(#pe188fe85e9)\" d=\"M 91.261023 224.64 \r\nL 91.86975 224.64 \r\nL 91.86975 224.565636 \r\nL 91.261023 224.565636 \r\nz\r\n\" style=\"fill:#1f77b4;\"/>\r\n   </g>\r\n   <g id=\"patch_44\">\r\n    <path clip-path=\"url(#pe188fe85e9)\" d=\"M 91.86975 224.64 \r\nL 92.478477 224.64 \r\nL 92.478477 224.559916 \r\nL 91.86975 224.559916 \r\nz\r\n\" style=\"fill:#1f77b4;\"/>\r\n   </g>\r\n   <g id=\"patch_45\">\r\n    <path clip-path=\"url(#pe188fe85e9)\" d=\"M 92.478477 224.64 \r\nL 93.087205 224.64 \r\nL 93.087205 224.568496 \r\nL 92.478477 224.568496 \r\nz\r\n\" style=\"fill:#1f77b4;\"/>\r\n   </g>\r\n   <g id=\"patch_46\">\r\n    <path clip-path=\"url(#pe188fe85e9)\" d=\"M 93.087205 224.64 \r\nL 93.695932 224.64 \r\nL 93.695932 224.588517 \r\nL 93.087205 224.588517 \r\nz\r\n\" style=\"fill:#1f77b4;\"/>\r\n   </g>\r\n   <g id=\"patch_47\">\r\n    <path clip-path=\"url(#pe188fe85e9)\" d=\"M 93.695932 224.64 \r\nL 94.304659 224.64 \r\nL 94.304659 224.562776 \r\nL 93.695932 224.562776 \r\nz\r\n\" style=\"fill:#1f77b4;\"/>\r\n   </g>\r\n   <g id=\"patch_48\">\r\n    <path clip-path=\"url(#pe188fe85e9)\" d=\"M 94.304659 224.64 \r\nL 94.913386 224.64 \r\nL 94.913386 224.574217 \r\nL 94.304659 224.574217 \r\nz\r\n\" style=\"fill:#1f77b4;\"/>\r\n   </g>\r\n   <g id=\"patch_49\">\r\n    <path clip-path=\"url(#pe188fe85e9)\" d=\"M 94.913386 224.64 \r\nL 95.522114 224.64 \r\nL 95.522114 224.599958 \r\nL 94.913386 224.599958 \r\nz\r\n\" style=\"fill:#1f77b4;\"/>\r\n   </g>\r\n   <g id=\"patch_50\">\r\n    <path clip-path=\"url(#pe188fe85e9)\" d=\"M 95.522114 224.64 \r\nL 96.130841 224.64 \r\nL 96.130841 224.594238 \r\nL 95.522114 224.594238 \r\nz\r\n\" style=\"fill:#1f77b4;\"/>\r\n   </g>\r\n   <g id=\"patch_51\">\r\n    <path clip-path=\"url(#pe188fe85e9)\" d=\"M 96.130841 224.64 \r\nL 96.739568 224.64 \r\nL 96.739568 224.571357 \r\nL 96.130841 224.571357 \r\nz\r\n\" style=\"fill:#1f77b4;\"/>\r\n   </g>\r\n   <g id=\"patch_52\">\r\n    <path clip-path=\"url(#pe188fe85e9)\" d=\"M 96.739568 224.64 \r\nL 97.348295 224.64 \r\nL 97.348295 224.591378 \r\nL 96.739568 224.591378 \r\nz\r\n\" style=\"fill:#1f77b4;\"/>\r\n   </g>\r\n   <g id=\"patch_53\">\r\n    <path clip-path=\"url(#pe188fe85e9)\" d=\"M 97.348295 224.64 \r\nL 97.957023 224.64 \r\nL 97.957023 224.597098 \r\nL 97.348295 224.597098 \r\nz\r\n\" style=\"fill:#1f77b4;\"/>\r\n   </g>\r\n   <g id=\"patch_54\">\r\n    <path clip-path=\"url(#pe188fe85e9)\" d=\"M 97.957023 224.64 \r\nL 98.56575 224.64 \r\nL 98.56575 224.597098 \r\nL 97.957023 224.597098 \r\nz\r\n\" style=\"fill:#1f77b4;\"/>\r\n   </g>\r\n   <g id=\"patch_55\">\r\n    <path clip-path=\"url(#pe188fe85e9)\" d=\"M 98.56575 224.64 \r\nL 99.174477 224.64 \r\nL 99.174477 224.614259 \r\nL 98.56575 224.614259 \r\nz\r\n\" style=\"fill:#1f77b4;\"/>\r\n   </g>\r\n   <g id=\"patch_56\">\r\n    <path clip-path=\"url(#pe188fe85e9)\" d=\"M 99.174477 224.64 \r\nL 99.783205 224.64 \r\nL 99.783205 224.611399 \r\nL 99.174477 224.611399 \r\nz\r\n\" style=\"fill:#1f77b4;\"/>\r\n   </g>\r\n   <g id=\"patch_57\">\r\n    <path clip-path=\"url(#pe188fe85e9)\" d=\"M 99.783205 224.64 \r\nL 100.391932 224.64 \r\nL 100.391932 224.599958 \r\nL 99.783205 224.599958 \r\nz\r\n\" style=\"fill:#1f77b4;\"/>\r\n   </g>\r\n   <g id=\"patch_58\">\r\n    <path clip-path=\"url(#pe188fe85e9)\" d=\"M 100.391932 224.64 \r\nL 101.000659 224.64 \r\nL 101.000659 224.605678 \r\nL 100.391932 224.605678 \r\nz\r\n\" style=\"fill:#1f77b4;\"/>\r\n   </g>\r\n   <g id=\"patch_59\">\r\n    <path clip-path=\"url(#pe188fe85e9)\" d=\"M 101.000659 224.64 \r\nL 101.609386 224.64 \r\nL 101.609386 224.617119 \r\nL 101.000659 224.617119 \r\nz\r\n\" style=\"fill:#1f77b4;\"/>\r\n   </g>\r\n   <g id=\"patch_60\">\r\n    <path clip-path=\"url(#pe188fe85e9)\" d=\"M 101.609386 224.64 \r\nL 102.218114 224.64 \r\nL 102.218114 224.625699 \r\nL 101.609386 224.625699 \r\nz\r\n\" style=\"fill:#1f77b4;\"/>\r\n   </g>\r\n   <g id=\"patch_61\">\r\n    <path clip-path=\"url(#pe188fe85e9)\" d=\"M 102.218114 224.64 \r\nL 102.826841 224.64 \r\nL 102.826841 224.625699 \r\nL 102.218114 224.625699 \r\nz\r\n\" style=\"fill:#1f77b4;\"/>\r\n   </g>\r\n   <g id=\"patch_62\">\r\n    <path clip-path=\"url(#pe188fe85e9)\" d=\"M 102.826841 224.64 \r\nL 103.435568 224.64 \r\nL 103.435568 224.622839 \r\nL 102.826841 224.622839 \r\nz\r\n\" style=\"fill:#1f77b4;\"/>\r\n   </g>\r\n   <g id=\"patch_63\">\r\n    <path clip-path=\"url(#pe188fe85e9)\" d=\"M 103.435568 224.64 \r\nL 104.044295 224.64 \r\nL 104.044295 224.614259 \r\nL 103.435568 224.614259 \r\nz\r\n\" style=\"fill:#1f77b4;\"/>\r\n   </g>\r\n   <g id=\"patch_64\">\r\n    <path clip-path=\"url(#pe188fe85e9)\" d=\"M 104.044295 224.64 \r\nL 104.653023 224.64 \r\nL 104.653023 224.622839 \r\nL 104.044295 224.622839 \r\nz\r\n\" style=\"fill:#1f77b4;\"/>\r\n   </g>\r\n   <g id=\"patch_65\">\r\n    <path clip-path=\"url(#pe188fe85e9)\" d=\"M 104.653023 224.64 \r\nL 105.26175 224.64 \r\nL 105.26175 224.617119 \r\nL 104.653023 224.617119 \r\nz\r\n\" style=\"fill:#1f77b4;\"/>\r\n   </g>\r\n   <g id=\"patch_66\">\r\n    <path clip-path=\"url(#pe188fe85e9)\" d=\"M 105.26175 224.64 \r\nL 105.870477 224.64 \r\nL 105.870477 224.622839 \r\nL 105.26175 224.622839 \r\nz\r\n\" style=\"fill:#1f77b4;\"/>\r\n   </g>\r\n   <g id=\"patch_67\">\r\n    <path clip-path=\"url(#pe188fe85e9)\" d=\"M 105.870477 224.64 \r\nL 106.479205 224.64 \r\nL 106.479205 224.625699 \r\nL 105.870477 224.625699 \r\nz\r\n\" style=\"fill:#1f77b4;\"/>\r\n   </g>\r\n   <g id=\"patch_68\">\r\n    <path clip-path=\"url(#pe188fe85e9)\" d=\"M 106.479205 224.64 \r\nL 107.087932 224.64 \r\nL 107.087932 224.628559 \r\nL 106.479205 224.628559 \r\nz\r\n\" style=\"fill:#1f77b4;\"/>\r\n   </g>\r\n   <g id=\"patch_69\">\r\n    <path clip-path=\"url(#pe188fe85e9)\" d=\"M 107.087932 224.64 \r\nL 107.696659 224.64 \r\nL 107.696659 224.625699 \r\nL 107.087932 224.625699 \r\nz\r\n\" style=\"fill:#1f77b4;\"/>\r\n   </g>\r\n   <g id=\"patch_70\">\r\n    <path clip-path=\"url(#pe188fe85e9)\" d=\"M 107.696659 224.64 \r\nL 108.305386 224.64 \r\nL 108.305386 224.625699 \r\nL 107.696659 224.625699 \r\nz\r\n\" style=\"fill:#1f77b4;\"/>\r\n   </g>\r\n   <g id=\"patch_71\">\r\n    <path clip-path=\"url(#pe188fe85e9)\" d=\"M 108.305386 224.64 \r\nL 108.914114 224.64 \r\nL 108.914114 224.614259 \r\nL 108.305386 224.614259 \r\nz\r\n\" style=\"fill:#1f77b4;\"/>\r\n   </g>\r\n   <g id=\"patch_72\">\r\n    <path clip-path=\"url(#pe188fe85e9)\" d=\"M 108.914114 224.64 \r\nL 109.522841 224.64 \r\nL 109.522841 224.591378 \r\nL 108.914114 224.591378 \r\nz\r\n\" style=\"fill:#1f77b4;\"/>\r\n   </g>\r\n   <g id=\"patch_73\">\r\n    <path clip-path=\"url(#pe188fe85e9)\" d=\"M 109.522841 224.64 \r\nL 110.131568 224.64 \r\nL 110.131568 224.599958 \r\nL 109.522841 224.599958 \r\nz\r\n\" style=\"fill:#1f77b4;\"/>\r\n   </g>\r\n   <g id=\"patch_74\">\r\n    <path clip-path=\"url(#pe188fe85e9)\" d=\"M 110.131568 224.64 \r\nL 110.740295 224.64 \r\nL 110.740295 224.614259 \r\nL 110.131568 224.614259 \r\nz\r\n\" style=\"fill:#1f77b4;\"/>\r\n   </g>\r\n   <g id=\"patch_75\">\r\n    <path clip-path=\"url(#pe188fe85e9)\" d=\"M 110.740295 224.64 \r\nL 111.349023 224.64 \r\nL 111.349023 224.617119 \r\nL 110.740295 224.617119 \r\nz\r\n\" style=\"fill:#1f77b4;\"/>\r\n   </g>\r\n   <g id=\"patch_76\">\r\n    <path clip-path=\"url(#pe188fe85e9)\" d=\"M 111.349023 224.64 \r\nL 111.95775 224.64 \r\nL 111.95775 224.63142 \r\nL 111.349023 224.63142 \r\nz\r\n\" style=\"fill:#1f77b4;\"/>\r\n   </g>\r\n   <g id=\"patch_77\">\r\n    <path clip-path=\"url(#pe188fe85e9)\" d=\"M 111.95775 224.64 \r\nL 112.566477 224.64 \r\nL 112.566477 224.628559 \r\nL 111.95775 224.628559 \r\nz\r\n\" style=\"fill:#1f77b4;\"/>\r\n   </g>\r\n   <g id=\"patch_78\">\r\n    <path clip-path=\"url(#pe188fe85e9)\" d=\"M 112.566477 224.64 \r\nL 113.175205 224.64 \r\nL 113.175205 224.63142 \r\nL 112.566477 224.63142 \r\nz\r\n\" style=\"fill:#1f77b4;\"/>\r\n   </g>\r\n   <g id=\"patch_79\">\r\n    <path clip-path=\"url(#pe188fe85e9)\" d=\"M 113.175205 224.64 \r\nL 113.783932 224.64 \r\nL 113.783932 224.628559 \r\nL 113.175205 224.628559 \r\nz\r\n\" style=\"fill:#1f77b4;\"/>\r\n   </g>\r\n   <g id=\"patch_80\">\r\n    <path clip-path=\"url(#pe188fe85e9)\" d=\"M 113.783932 224.64 \r\nL 114.392659 224.64 \r\nL 114.392659 224.622839 \r\nL 113.783932 224.622839 \r\nz\r\n\" style=\"fill:#1f77b4;\"/>\r\n   </g>\r\n   <g id=\"patch_81\">\r\n    <path clip-path=\"url(#pe188fe85e9)\" d=\"M 114.392659 224.64 \r\nL 115.001386 224.64 \r\nL 115.001386 224.622839 \r\nL 114.392659 224.622839 \r\nz\r\n\" style=\"fill:#1f77b4;\"/>\r\n   </g>\r\n   <g id=\"patch_82\">\r\n    <path clip-path=\"url(#pe188fe85e9)\" d=\"M 115.001386 224.64 \r\nL 115.610114 224.64 \r\nL 115.610114 224.628559 \r\nL 115.001386 224.628559 \r\nz\r\n\" style=\"fill:#1f77b4;\"/>\r\n   </g>\r\n   <g id=\"patch_83\">\r\n    <path clip-path=\"url(#pe188fe85e9)\" d=\"M 115.610114 224.64 \r\nL 116.218841 224.64 \r\nL 116.218841 224.628559 \r\nL 115.610114 224.628559 \r\nz\r\n\" style=\"fill:#1f77b4;\"/>\r\n   </g>\r\n   <g id=\"patch_84\">\r\n    <path clip-path=\"url(#pe188fe85e9)\" d=\"M 116.218841 224.64 \r\nL 116.827568 224.64 \r\nL 116.827568 224.611399 \r\nL 116.218841 224.611399 \r\nz\r\n\" style=\"fill:#1f77b4;\"/>\r\n   </g>\r\n   <g id=\"patch_85\">\r\n    <path clip-path=\"url(#pe188fe85e9)\" d=\"M 116.827568 224.64 \r\nL 117.436295 224.64 \r\nL 117.436295 224.63142 \r\nL 116.827568 224.63142 \r\nz\r\n\" style=\"fill:#1f77b4;\"/>\r\n   </g>\r\n   <g id=\"patch_86\">\r\n    <path clip-path=\"url(#pe188fe85e9)\" d=\"M 117.436295 224.64 \r\nL 118.045023 224.64 \r\nL 118.045023 224.63142 \r\nL 117.436295 224.63142 \r\nz\r\n\" style=\"fill:#1f77b4;\"/>\r\n   </g>\r\n   <g id=\"patch_87\">\r\n    <path clip-path=\"url(#pe188fe85e9)\" d=\"M 118.045023 224.64 \r\nL 118.65375 224.64 \r\nL 118.65375 224.614259 \r\nL 118.045023 224.614259 \r\nz\r\n\" style=\"fill:#1f77b4;\"/>\r\n   </g>\r\n   <g id=\"patch_88\">\r\n    <path clip-path=\"url(#pe188fe85e9)\" d=\"M 118.65375 224.64 \r\nL 119.262477 224.64 \r\nL 119.262477 224.614259 \r\nL 118.65375 224.614259 \r\nz\r\n\" style=\"fill:#1f77b4;\"/>\r\n   </g>\r\n   <g id=\"patch_89\">\r\n    <path clip-path=\"url(#pe188fe85e9)\" d=\"M 119.262477 224.64 \r\nL 119.871205 224.64 \r\nL 119.871205 224.622839 \r\nL 119.262477 224.622839 \r\nz\r\n\" style=\"fill:#1f77b4;\"/>\r\n   </g>\r\n   <g id=\"patch_90\">\r\n    <path clip-path=\"url(#pe188fe85e9)\" d=\"M 119.871205 224.64 \r\nL 120.479932 224.64 \r\nL 120.479932 224.628559 \r\nL 119.871205 224.628559 \r\nz\r\n\" style=\"fill:#1f77b4;\"/>\r\n   </g>\r\n   <g id=\"patch_91\">\r\n    <path clip-path=\"url(#pe188fe85e9)\" d=\"M 120.479932 224.64 \r\nL 121.088659 224.64 \r\nL 121.088659 224.625699 \r\nL 120.479932 224.625699 \r\nz\r\n\" style=\"fill:#1f77b4;\"/>\r\n   </g>\r\n   <g id=\"patch_92\">\r\n    <path clip-path=\"url(#pe188fe85e9)\" d=\"M 121.088659 224.64 \r\nL 121.697386 224.64 \r\nL 121.697386 224.622839 \r\nL 121.088659 224.622839 \r\nz\r\n\" style=\"fill:#1f77b4;\"/>\r\n   </g>\r\n   <g id=\"patch_93\">\r\n    <path clip-path=\"url(#pe188fe85e9)\" d=\"M 121.697386 224.64 \r\nL 122.306114 224.64 \r\nL 122.306114 224.628559 \r\nL 121.697386 224.628559 \r\nz\r\n\" style=\"fill:#1f77b4;\"/>\r\n   </g>\r\n   <g id=\"patch_94\">\r\n    <path clip-path=\"url(#pe188fe85e9)\" d=\"M 122.306114 224.64 \r\nL 122.914841 224.64 \r\nL 122.914841 224.622839 \r\nL 122.306114 224.622839 \r\nz\r\n\" style=\"fill:#1f77b4;\"/>\r\n   </g>\r\n   <g id=\"patch_95\">\r\n    <path clip-path=\"url(#pe188fe85e9)\" d=\"M 122.914841 224.64 \r\nL 123.523568 224.64 \r\nL 123.523568 224.628559 \r\nL 122.914841 224.628559 \r\nz\r\n\" style=\"fill:#1f77b4;\"/>\r\n   </g>\r\n   <g id=\"patch_96\">\r\n    <path clip-path=\"url(#pe188fe85e9)\" d=\"M 123.523568 224.64 \r\nL 124.132295 224.64 \r\nL 124.132295 224.63142 \r\nL 123.523568 224.63142 \r\nz\r\n\" style=\"fill:#1f77b4;\"/>\r\n   </g>\r\n   <g id=\"patch_97\">\r\n    <path clip-path=\"url(#pe188fe85e9)\" d=\"M 124.132295 224.64 \r\nL 124.741023 224.64 \r\nL 124.741023 224.63714 \r\nL 124.132295 224.63714 \r\nz\r\n\" style=\"fill:#1f77b4;\"/>\r\n   </g>\r\n   <g id=\"patch_98\">\r\n    <path clip-path=\"url(#pe188fe85e9)\" d=\"M 124.741023 224.64 \r\nL 125.34975 224.64 \r\nL 125.34975 224.625699 \r\nL 124.741023 224.625699 \r\nz\r\n\" style=\"fill:#1f77b4;\"/>\r\n   </g>\r\n   <g id=\"patch_99\">\r\n    <path clip-path=\"url(#pe188fe85e9)\" d=\"M 125.34975 224.64 \r\nL 125.958477 224.64 \r\nL 125.958477 224.63142 \r\nL 125.34975 224.63142 \r\nz\r\n\" style=\"fill:#1f77b4;\"/>\r\n   </g>\r\n   <g id=\"patch_100\">\r\n    <path clip-path=\"url(#pe188fe85e9)\" d=\"M 125.958477 224.64 \r\nL 126.567205 224.64 \r\nL 126.567205 224.63428 \r\nL 125.958477 224.63428 \r\nz\r\n\" style=\"fill:#1f77b4;\"/>\r\n   </g>\r\n   <g id=\"patch_101\">\r\n    <path clip-path=\"url(#pe188fe85e9)\" d=\"M 126.567205 224.64 \r\nL 127.175932 224.64 \r\nL 127.175932 224.63428 \r\nL 126.567205 224.63428 \r\nz\r\n\" style=\"fill:#1f77b4;\"/>\r\n   </g>\r\n   <g id=\"patch_102\">\r\n    <path clip-path=\"url(#pe188fe85e9)\" d=\"M 127.175932 224.64 \r\nL 127.784659 224.64 \r\nL 127.784659 224.63714 \r\nL 127.175932 224.63714 \r\nz\r\n\" style=\"fill:#1f77b4;\"/>\r\n   </g>\r\n   <g id=\"patch_103\">\r\n    <path clip-path=\"url(#pe188fe85e9)\" d=\"M 127.784659 224.64 \r\nL 128.393386 224.64 \r\nL 128.393386 224.628559 \r\nL 127.784659 224.628559 \r\nz\r\n\" style=\"fill:#1f77b4;\"/>\r\n   </g>\r\n   <g id=\"patch_104\">\r\n    <path clip-path=\"url(#pe188fe85e9)\" d=\"M 128.393386 224.64 \r\nL 129.002114 224.64 \r\nL 129.002114 224.628559 \r\nL 128.393386 224.628559 \r\nz\r\n\" style=\"fill:#1f77b4;\"/>\r\n   </g>\r\n   <g id=\"patch_105\">\r\n    <path clip-path=\"url(#pe188fe85e9)\" d=\"M 129.002114 224.64 \r\nL 129.610841 224.64 \r\nL 129.610841 224.63714 \r\nL 129.002114 224.63714 \r\nz\r\n\" style=\"fill:#1f77b4;\"/>\r\n   </g>\r\n   <g id=\"patch_106\">\r\n    <path clip-path=\"url(#pe188fe85e9)\" d=\"M 129.610841 224.64 \r\nL 130.219568 224.64 \r\nL 130.219568 224.63142 \r\nL 129.610841 224.63142 \r\nz\r\n\" style=\"fill:#1f77b4;\"/>\r\n   </g>\r\n   <g id=\"patch_107\">\r\n    <path clip-path=\"url(#pe188fe85e9)\" d=\"M 130.219568 224.64 \r\nL 130.828295 224.64 \r\nL 130.828295 224.622839 \r\nL 130.219568 224.622839 \r\nz\r\n\" style=\"fill:#1f77b4;\"/>\r\n   </g>\r\n   <g id=\"patch_108\">\r\n    <path clip-path=\"url(#pe188fe85e9)\" d=\"M 130.828295 224.64 \r\nL 131.437023 224.64 \r\nL 131.437023 224.63428 \r\nL 130.828295 224.63428 \r\nz\r\n\" style=\"fill:#1f77b4;\"/>\r\n   </g>\r\n   <g id=\"patch_109\">\r\n    <path clip-path=\"url(#pe188fe85e9)\" d=\"M 131.437023 224.64 \r\nL 132.04575 224.64 \r\nL 132.04575 224.63142 \r\nL 131.437023 224.63142 \r\nz\r\n\" style=\"fill:#1f77b4;\"/>\r\n   </g>\r\n   <g id=\"patch_110\">\r\n    <path clip-path=\"url(#pe188fe85e9)\" d=\"M 132.04575 224.64 \r\nL 132.654477 224.64 \r\nL 132.654477 224.63714 \r\nL 132.04575 224.63714 \r\nz\r\n\" style=\"fill:#1f77b4;\"/>\r\n   </g>\r\n   <g id=\"patch_111\">\r\n    <path clip-path=\"url(#pe188fe85e9)\" d=\"M 132.654477 224.64 \r\nL 133.263205 224.64 \r\nL 133.263205 224.63428 \r\nL 132.654477 224.63428 \r\nz\r\n\" style=\"fill:#1f77b4;\"/>\r\n   </g>\r\n   <g id=\"patch_112\">\r\n    <path clip-path=\"url(#pe188fe85e9)\" d=\"M 133.263205 224.64 \r\nL 133.871932 224.64 \r\nL 133.871932 224.63428 \r\nL 133.263205 224.63428 \r\nz\r\n\" style=\"fill:#1f77b4;\"/>\r\n   </g>\r\n   <g id=\"patch_113\">\r\n    <path clip-path=\"url(#pe188fe85e9)\" d=\"M 133.871932 224.64 \r\nL 134.480659 224.64 \r\nL 134.480659 224.64 \r\nL 133.871932 224.64 \r\nz\r\n\" style=\"fill:#1f77b4;\"/>\r\n   </g>\r\n   <g id=\"patch_114\">\r\n    <path clip-path=\"url(#pe188fe85e9)\" d=\"M 134.480659 224.64 \r\nL 135.089386 224.64 \r\nL 135.089386 224.63428 \r\nL 134.480659 224.63428 \r\nz\r\n\" style=\"fill:#1f77b4;\"/>\r\n   </g>\r\n   <g id=\"patch_115\">\r\n    <path clip-path=\"url(#pe188fe85e9)\" d=\"M 135.089386 224.64 \r\nL 135.698114 224.64 \r\nL 135.698114 224.63428 \r\nL 135.089386 224.63428 \r\nz\r\n\" style=\"fill:#1f77b4;\"/>\r\n   </g>\r\n   <g id=\"patch_116\">\r\n    <path clip-path=\"url(#pe188fe85e9)\" d=\"M 135.698114 224.64 \r\nL 136.306841 224.64 \r\nL 136.306841 224.625699 \r\nL 135.698114 224.625699 \r\nz\r\n\" style=\"fill:#1f77b4;\"/>\r\n   </g>\r\n   <g id=\"patch_117\">\r\n    <path clip-path=\"url(#pe188fe85e9)\" d=\"M 136.306841 224.64 \r\nL 136.915568 224.64 \r\nL 136.915568 224.63142 \r\nL 136.306841 224.63142 \r\nz\r\n\" style=\"fill:#1f77b4;\"/>\r\n   </g>\r\n   <g id=\"patch_118\">\r\n    <path clip-path=\"url(#pe188fe85e9)\" d=\"M 136.915568 224.64 \r\nL 137.524295 224.64 \r\nL 137.524295 224.63714 \r\nL 136.915568 224.63714 \r\nz\r\n\" style=\"fill:#1f77b4;\"/>\r\n   </g>\r\n   <g id=\"patch_119\">\r\n    <path clip-path=\"url(#pe188fe85e9)\" d=\"M 137.524295 224.64 \r\nL 138.133023 224.64 \r\nL 138.133023 224.63714 \r\nL 137.524295 224.63714 \r\nz\r\n\" style=\"fill:#1f77b4;\"/>\r\n   </g>\r\n   <g id=\"patch_120\">\r\n    <path clip-path=\"url(#pe188fe85e9)\" d=\"M 138.133023 224.64 \r\nL 138.74175 224.64 \r\nL 138.74175 224.622839 \r\nL 138.133023 224.622839 \r\nz\r\n\" style=\"fill:#1f77b4;\"/>\r\n   </g>\r\n   <g id=\"patch_121\">\r\n    <path clip-path=\"url(#pe188fe85e9)\" d=\"M 138.74175 224.64 \r\nL 139.350477 224.64 \r\nL 139.350477 224.63714 \r\nL 138.74175 224.63714 \r\nz\r\n\" style=\"fill:#1f77b4;\"/>\r\n   </g>\r\n   <g id=\"patch_122\">\r\n    <path clip-path=\"url(#pe188fe85e9)\" d=\"M 139.350477 224.64 \r\nL 139.959205 224.64 \r\nL 139.959205 224.628559 \r\nL 139.350477 224.628559 \r\nz\r\n\" style=\"fill:#1f77b4;\"/>\r\n   </g>\r\n   <g id=\"patch_123\">\r\n    <path clip-path=\"url(#pe188fe85e9)\" d=\"M 139.959205 224.64 \r\nL 140.567932 224.64 \r\nL 140.567932 224.528454 \r\nL 139.959205 224.528454 \r\nz\r\n\" style=\"fill:#1f77b4;\"/>\r\n   </g>\r\n   <g id=\"patch_124\">\r\n    <path clip-path=\"url(#pe188fe85e9)\" d=\"M 140.567932 224.64 \r\nL 141.176659 224.64 \r\nL 141.176659 224.554196 \r\nL 140.567932 224.554196 \r\nz\r\n\" style=\"fill:#1f77b4;\"/>\r\n   </g>\r\n   <g id=\"patch_125\">\r\n    <path clip-path=\"url(#pe188fe85e9)\" d=\"M 141.176659 224.64 \r\nL 141.785386 224.64 \r\nL 141.785386 224.64 \r\nL 141.176659 224.64 \r\nz\r\n\" style=\"fill:#1f77b4;\"/>\r\n   </g>\r\n   <g id=\"patch_126\">\r\n    <path clip-path=\"url(#pe188fe85e9)\" d=\"M 141.785386 224.64 \r\nL 142.394114 224.64 \r\nL 142.394114 224.63714 \r\nL 141.785386 224.63714 \r\nz\r\n\" style=\"fill:#1f77b4;\"/>\r\n   </g>\r\n   <g id=\"patch_127\">\r\n    <path clip-path=\"url(#pe188fe85e9)\" d=\"M 142.394114 224.64 \r\nL 143.002841 224.64 \r\nL 143.002841 224.64 \r\nL 142.394114 224.64 \r\nz\r\n\" style=\"fill:#1f77b4;\"/>\r\n   </g>\r\n   <g id=\"patch_128\">\r\n    <path clip-path=\"url(#pe188fe85e9)\" d=\"M 143.002841 224.64 \r\nL 143.611568 224.64 \r\nL 143.611568 224.628559 \r\nL 143.002841 224.628559 \r\nz\r\n\" style=\"fill:#1f77b4;\"/>\r\n   </g>\r\n   <g id=\"patch_129\">\r\n    <path clip-path=\"url(#pe188fe85e9)\" d=\"M 143.611568 224.64 \r\nL 144.220295 224.64 \r\nL 144.220295 224.63714 \r\nL 143.611568 224.63714 \r\nz\r\n\" style=\"fill:#1f77b4;\"/>\r\n   </g>\r\n   <g id=\"patch_130\">\r\n    <path clip-path=\"url(#pe188fe85e9)\" d=\"M 144.220295 224.64 \r\nL 144.829023 224.64 \r\nL 144.829023 224.628559 \r\nL 144.220295 224.628559 \r\nz\r\n\" style=\"fill:#1f77b4;\"/>\r\n   </g>\r\n   <g id=\"patch_131\">\r\n    <path clip-path=\"url(#pe188fe85e9)\" d=\"M 144.829023 224.64 \r\nL 145.43775 224.64 \r\nL 145.43775 224.63142 \r\nL 144.829023 224.63142 \r\nz\r\n\" style=\"fill:#1f77b4;\"/>\r\n   </g>\r\n   <g id=\"patch_132\">\r\n    <path clip-path=\"url(#pe188fe85e9)\" d=\"M 145.43775 224.64 \r\nL 146.046477 224.64 \r\nL 146.046477 224.63428 \r\nL 145.43775 224.63428 \r\nz\r\n\" style=\"fill:#1f77b4;\"/>\r\n   </g>\r\n   <g id=\"patch_133\">\r\n    <path clip-path=\"url(#pe188fe85e9)\" d=\"M 146.046477 224.64 \r\nL 146.655205 224.64 \r\nL 146.655205 224.63142 \r\nL 146.046477 224.63142 \r\nz\r\n\" style=\"fill:#1f77b4;\"/>\r\n   </g>\r\n   <g id=\"patch_134\">\r\n    <path clip-path=\"url(#pe188fe85e9)\" d=\"M 146.655205 224.64 \r\nL 147.263932 224.64 \r\nL 147.263932 224.63714 \r\nL 146.655205 224.63714 \r\nz\r\n\" style=\"fill:#1f77b4;\"/>\r\n   </g>\r\n   <g id=\"patch_135\">\r\n    <path clip-path=\"url(#pe188fe85e9)\" d=\"M 147.263932 224.64 \r\nL 147.872659 224.64 \r\nL 147.872659 224.63428 \r\nL 147.263932 224.63428 \r\nz\r\n\" style=\"fill:#1f77b4;\"/>\r\n   </g>\r\n   <g id=\"patch_136\">\r\n    <path clip-path=\"url(#pe188fe85e9)\" d=\"M 147.872659 224.64 \r\nL 148.481386 224.64 \r\nL 148.481386 224.63428 \r\nL 147.872659 224.63428 \r\nz\r\n\" style=\"fill:#1f77b4;\"/>\r\n   </g>\r\n   <g id=\"patch_137\">\r\n    <path clip-path=\"url(#pe188fe85e9)\" d=\"M 148.481386 224.64 \r\nL 149.090114 224.64 \r\nL 149.090114 224.625699 \r\nL 148.481386 224.625699 \r\nz\r\n\" style=\"fill:#1f77b4;\"/>\r\n   </g>\r\n   <g id=\"patch_138\">\r\n    <path clip-path=\"url(#pe188fe85e9)\" d=\"M 149.090114 224.64 \r\nL 149.698841 224.64 \r\nL 149.698841 224.63714 \r\nL 149.090114 224.63714 \r\nz\r\n\" style=\"fill:#1f77b4;\"/>\r\n   </g>\r\n   <g id=\"patch_139\">\r\n    <path clip-path=\"url(#pe188fe85e9)\" d=\"M 149.698841 224.64 \r\nL 150.307568 224.64 \r\nL 150.307568 224.63428 \r\nL 149.698841 224.63428 \r\nz\r\n\" style=\"fill:#1f77b4;\"/>\r\n   </g>\r\n   <g id=\"patch_140\">\r\n    <path clip-path=\"url(#pe188fe85e9)\" d=\"M 150.307568 224.64 \r\nL 150.916295 224.64 \r\nL 150.916295 224.64 \r\nL 150.307568 224.64 \r\nz\r\n\" style=\"fill:#1f77b4;\"/>\r\n   </g>\r\n   <g id=\"patch_141\">\r\n    <path clip-path=\"url(#pe188fe85e9)\" d=\"M 150.916295 224.64 \r\nL 151.525023 224.64 \r\nL 151.525023 224.63142 \r\nL 150.916295 224.63142 \r\nz\r\n\" style=\"fill:#1f77b4;\"/>\r\n   </g>\r\n   <g id=\"patch_142\">\r\n    <path clip-path=\"url(#pe188fe85e9)\" d=\"M 151.525023 224.64 \r\nL 152.13375 224.64 \r\nL 152.13375 224.63428 \r\nL 151.525023 224.63428 \r\nz\r\n\" style=\"fill:#1f77b4;\"/>\r\n   </g>\r\n   <g id=\"patch_143\">\r\n    <path clip-path=\"url(#pe188fe85e9)\" d=\"M 152.13375 224.64 \r\nL 152.742477 224.64 \r\nL 152.742477 224.628559 \r\nL 152.13375 224.628559 \r\nz\r\n\" style=\"fill:#1f77b4;\"/>\r\n   </g>\r\n   <g id=\"patch_144\">\r\n    <path clip-path=\"url(#pe188fe85e9)\" d=\"M 152.742477 224.64 \r\nL 153.351205 224.64 \r\nL 153.351205 224.63714 \r\nL 152.742477 224.63714 \r\nz\r\n\" style=\"fill:#1f77b4;\"/>\r\n   </g>\r\n   <g id=\"patch_145\">\r\n    <path clip-path=\"url(#pe188fe85e9)\" d=\"M 153.351205 224.64 \r\nL 153.959932 224.64 \r\nL 153.959932 224.63428 \r\nL 153.351205 224.63428 \r\nz\r\n\" style=\"fill:#1f77b4;\"/>\r\n   </g>\r\n   <g id=\"patch_146\">\r\n    <path clip-path=\"url(#pe188fe85e9)\" d=\"M 153.959932 224.64 \r\nL 154.568659 224.64 \r\nL 154.568659 224.64 \r\nL 153.959932 224.64 \r\nz\r\n\" style=\"fill:#1f77b4;\"/>\r\n   </g>\r\n   <g id=\"patch_147\">\r\n    <path clip-path=\"url(#pe188fe85e9)\" d=\"M 154.568659 224.64 \r\nL 155.177386 224.64 \r\nL 155.177386 224.63142 \r\nL 154.568659 224.63142 \r\nz\r\n\" style=\"fill:#1f77b4;\"/>\r\n   </g>\r\n   <g id=\"patch_148\">\r\n    <path clip-path=\"url(#pe188fe85e9)\" d=\"M 155.177386 224.64 \r\nL 155.786114 224.64 \r\nL 155.786114 224.63714 \r\nL 155.177386 224.63714 \r\nz\r\n\" style=\"fill:#1f77b4;\"/>\r\n   </g>\r\n   <g id=\"patch_149\">\r\n    <path clip-path=\"url(#pe188fe85e9)\" d=\"M 155.786114 224.64 \r\nL 156.394841 224.64 \r\nL 156.394841 224.63428 \r\nL 155.786114 224.63428 \r\nz\r\n\" style=\"fill:#1f77b4;\"/>\r\n   </g>\r\n   <g id=\"patch_150\">\r\n    <path clip-path=\"url(#pe188fe85e9)\" d=\"M 156.394841 224.64 \r\nL 157.003568 224.64 \r\nL 157.003568 224.628559 \r\nL 156.394841 224.628559 \r\nz\r\n\" style=\"fill:#1f77b4;\"/>\r\n   </g>\r\n   <g id=\"patch_151\">\r\n    <path clip-path=\"url(#pe188fe85e9)\" d=\"M 157.003568 224.64 \r\nL 157.612295 224.64 \r\nL 157.612295 224.63714 \r\nL 157.003568 224.63714 \r\nz\r\n\" style=\"fill:#1f77b4;\"/>\r\n   </g>\r\n   <g id=\"patch_152\">\r\n    <path clip-path=\"url(#pe188fe85e9)\" d=\"M 157.612295 224.64 \r\nL 158.221023 224.64 \r\nL 158.221023 224.63428 \r\nL 157.612295 224.63428 \r\nz\r\n\" style=\"fill:#1f77b4;\"/>\r\n   </g>\r\n   <g id=\"patch_153\">\r\n    <path clip-path=\"url(#pe188fe85e9)\" d=\"M 158.221023 224.64 \r\nL 158.82975 224.64 \r\nL 158.82975 224.63714 \r\nL 158.221023 224.63714 \r\nz\r\n\" style=\"fill:#1f77b4;\"/>\r\n   </g>\r\n   <g id=\"patch_154\">\r\n    <path clip-path=\"url(#pe188fe85e9)\" d=\"M 158.82975 224.64 \r\nL 159.438477 224.64 \r\nL 159.438477 224.63428 \r\nL 158.82975 224.63428 \r\nz\r\n\" style=\"fill:#1f77b4;\"/>\r\n   </g>\r\n   <g id=\"patch_155\">\r\n    <path clip-path=\"url(#pe188fe85e9)\" d=\"M 159.438477 224.64 \r\nL 160.047205 224.64 \r\nL 160.047205 224.63428 \r\nL 159.438477 224.63428 \r\nz\r\n\" style=\"fill:#1f77b4;\"/>\r\n   </g>\r\n   <g id=\"patch_156\">\r\n    <path clip-path=\"url(#pe188fe85e9)\" d=\"M 160.047205 224.64 \r\nL 160.655932 224.64 \r\nL 160.655932 224.63428 \r\nL 160.047205 224.63428 \r\nz\r\n\" style=\"fill:#1f77b4;\"/>\r\n   </g>\r\n   <g id=\"patch_157\">\r\n    <path clip-path=\"url(#pe188fe85e9)\" d=\"M 160.655932 224.64 \r\nL 161.264659 224.64 \r\nL 161.264659 224.63714 \r\nL 160.655932 224.63714 \r\nz\r\n\" style=\"fill:#1f77b4;\"/>\r\n   </g>\r\n   <g id=\"patch_158\">\r\n    <path clip-path=\"url(#pe188fe85e9)\" d=\"M 161.264659 224.64 \r\nL 161.873386 224.64 \r\nL 161.873386 224.63714 \r\nL 161.264659 224.63714 \r\nz\r\n\" style=\"fill:#1f77b4;\"/>\r\n   </g>\r\n   <g id=\"patch_159\">\r\n    <path clip-path=\"url(#pe188fe85e9)\" d=\"M 161.873386 224.64 \r\nL 162.482114 224.64 \r\nL 162.482114 224.63714 \r\nL 161.873386 224.63714 \r\nz\r\n\" style=\"fill:#1f77b4;\"/>\r\n   </g>\r\n   <g id=\"patch_160\">\r\n    <path clip-path=\"url(#pe188fe85e9)\" d=\"M 162.482114 224.64 \r\nL 163.090841 224.64 \r\nL 163.090841 224.63714 \r\nL 162.482114 224.63714 \r\nz\r\n\" style=\"fill:#1f77b4;\"/>\r\n   </g>\r\n   <g id=\"patch_161\">\r\n    <path clip-path=\"url(#pe188fe85e9)\" d=\"M 163.090841 224.64 \r\nL 163.699568 224.64 \r\nL 163.699568 224.64 \r\nL 163.090841 224.64 \r\nz\r\n\" style=\"fill:#1f77b4;\"/>\r\n   </g>\r\n   <g id=\"patch_162\">\r\n    <path clip-path=\"url(#pe188fe85e9)\" d=\"M 163.699568 224.64 \r\nL 164.308295 224.64 \r\nL 164.308295 224.64 \r\nL 163.699568 224.64 \r\nz\r\n\" style=\"fill:#1f77b4;\"/>\r\n   </g>\r\n   <g id=\"patch_163\">\r\n    <path clip-path=\"url(#pe188fe85e9)\" d=\"M 164.308295 224.64 \r\nL 164.917023 224.64 \r\nL 164.917023 224.63714 \r\nL 164.308295 224.63714 \r\nz\r\n\" style=\"fill:#1f77b4;\"/>\r\n   </g>\r\n   <g id=\"patch_164\">\r\n    <path clip-path=\"url(#pe188fe85e9)\" d=\"M 164.917023 224.64 \r\nL 165.52575 224.64 \r\nL 165.52575 224.64 \r\nL 164.917023 224.64 \r\nz\r\n\" style=\"fill:#1f77b4;\"/>\r\n   </g>\r\n   <g id=\"patch_165\">\r\n    <path clip-path=\"url(#pe188fe85e9)\" d=\"M 165.52575 224.64 \r\nL 166.134477 224.64 \r\nL 166.134477 224.63142 \r\nL 165.52575 224.63142 \r\nz\r\n\" style=\"fill:#1f77b4;\"/>\r\n   </g>\r\n   <g id=\"patch_166\">\r\n    <path clip-path=\"url(#pe188fe85e9)\" d=\"M 166.134477 224.64 \r\nL 166.743205 224.64 \r\nL 166.743205 224.63428 \r\nL 166.134477 224.63428 \r\nz\r\n\" style=\"fill:#1f77b4;\"/>\r\n   </g>\r\n   <g id=\"patch_167\">\r\n    <path clip-path=\"url(#pe188fe85e9)\" d=\"M 166.743205 224.64 \r\nL 167.351932 224.64 \r\nL 167.351932 224.64 \r\nL 166.743205 224.64 \r\nz\r\n\" style=\"fill:#1f77b4;\"/>\r\n   </g>\r\n   <g id=\"patch_168\">\r\n    <path clip-path=\"url(#pe188fe85e9)\" d=\"M 167.351932 224.64 \r\nL 167.960659 224.64 \r\nL 167.960659 224.63714 \r\nL 167.351932 224.63714 \r\nz\r\n\" style=\"fill:#1f77b4;\"/>\r\n   </g>\r\n   <g id=\"patch_169\">\r\n    <path clip-path=\"url(#pe188fe85e9)\" d=\"M 167.960659 224.64 \r\nL 168.569386 224.64 \r\nL 168.569386 224.63428 \r\nL 167.960659 224.63428 \r\nz\r\n\" style=\"fill:#1f77b4;\"/>\r\n   </g>\r\n   <g id=\"patch_170\">\r\n    <path clip-path=\"url(#pe188fe85e9)\" d=\"M 168.569386 224.64 \r\nL 169.178114 224.64 \r\nL 169.178114 224.63428 \r\nL 168.569386 224.63428 \r\nz\r\n\" style=\"fill:#1f77b4;\"/>\r\n   </g>\r\n   <g id=\"patch_171\">\r\n    <path clip-path=\"url(#pe188fe85e9)\" d=\"M 169.178114 224.64 \r\nL 169.786841 224.64 \r\nL 169.786841 224.63714 \r\nL 169.178114 224.63714 \r\nz\r\n\" style=\"fill:#1f77b4;\"/>\r\n   </g>\r\n   <g id=\"patch_172\">\r\n    <path clip-path=\"url(#pe188fe85e9)\" d=\"M 169.786841 224.64 \r\nL 170.395568 224.64 \r\nL 170.395568 224.63428 \r\nL 169.786841 224.63428 \r\nz\r\n\" style=\"fill:#1f77b4;\"/>\r\n   </g>\r\n   <g id=\"patch_173\">\r\n    <path clip-path=\"url(#pe188fe85e9)\" d=\"M 170.395568 224.64 \r\nL 171.004295 224.64 \r\nL 171.004295 224.63142 \r\nL 170.395568 224.63142 \r\nz\r\n\" style=\"fill:#1f77b4;\"/>\r\n   </g>\r\n   <g id=\"patch_174\">\r\n    <path clip-path=\"url(#pe188fe85e9)\" d=\"M 171.004295 224.64 \r\nL 171.613023 224.64 \r\nL 171.613023 224.63142 \r\nL 171.004295 224.63142 \r\nz\r\n\" style=\"fill:#1f77b4;\"/>\r\n   </g>\r\n   <g id=\"patch_175\">\r\n    <path clip-path=\"url(#pe188fe85e9)\" d=\"M 171.613023 224.64 \r\nL 172.22175 224.64 \r\nL 172.22175 224.64 \r\nL 171.613023 224.64 \r\nz\r\n\" style=\"fill:#1f77b4;\"/>\r\n   </g>\r\n   <g id=\"patch_176\">\r\n    <path clip-path=\"url(#pe188fe85e9)\" d=\"M 172.22175 224.64 \r\nL 172.830477 224.64 \r\nL 172.830477 224.63428 \r\nL 172.22175 224.63428 \r\nz\r\n\" style=\"fill:#1f77b4;\"/>\r\n   </g>\r\n   <g id=\"patch_177\">\r\n    <path clip-path=\"url(#pe188fe85e9)\" d=\"M 172.830477 224.64 \r\nL 173.439205 224.64 \r\nL 173.439205 224.63714 \r\nL 172.830477 224.63714 \r\nz\r\n\" style=\"fill:#1f77b4;\"/>\r\n   </g>\r\n   <g id=\"patch_178\">\r\n    <path clip-path=\"url(#pe188fe85e9)\" d=\"M 173.439205 224.64 \r\nL 174.047932 224.64 \r\nL 174.047932 224.63714 \r\nL 173.439205 224.63714 \r\nz\r\n\" style=\"fill:#1f77b4;\"/>\r\n   </g>\r\n   <g id=\"patch_179\">\r\n    <path clip-path=\"url(#pe188fe85e9)\" d=\"M 174.047932 224.64 \r\nL 174.656659 224.64 \r\nL 174.656659 224.64 \r\nL 174.047932 224.64 \r\nz\r\n\" style=\"fill:#1f77b4;\"/>\r\n   </g>\r\n   <g id=\"patch_180\">\r\n    <path clip-path=\"url(#pe188fe85e9)\" d=\"M 174.656659 224.64 \r\nL 175.265386 224.64 \r\nL 175.265386 224.63714 \r\nL 174.656659 224.63714 \r\nz\r\n\" style=\"fill:#1f77b4;\"/>\r\n   </g>\r\n   <g id=\"patch_181\">\r\n    <path clip-path=\"url(#pe188fe85e9)\" d=\"M 175.265386 224.64 \r\nL 175.874114 224.64 \r\nL 175.874114 224.63428 \r\nL 175.265386 224.63428 \r\nz\r\n\" style=\"fill:#1f77b4;\"/>\r\n   </g>\r\n   <g id=\"patch_182\">\r\n    <path clip-path=\"url(#pe188fe85e9)\" d=\"M 175.874114 224.64 \r\nL 176.482841 224.64 \r\nL 176.482841 224.63714 \r\nL 175.874114 224.63714 \r\nz\r\n\" style=\"fill:#1f77b4;\"/>\r\n   </g>\r\n   <g id=\"patch_183\">\r\n    <path clip-path=\"url(#pe188fe85e9)\" d=\"M 176.482841 224.64 \r\nL 177.091568 224.64 \r\nL 177.091568 224.63714 \r\nL 176.482841 224.63714 \r\nz\r\n\" style=\"fill:#1f77b4;\"/>\r\n   </g>\r\n   <g id=\"patch_184\">\r\n    <path clip-path=\"url(#pe188fe85e9)\" d=\"M 177.091568 224.64 \r\nL 177.700295 224.64 \r\nL 177.700295 224.64 \r\nL 177.091568 224.64 \r\nz\r\n\" style=\"fill:#1f77b4;\"/>\r\n   </g>\r\n   <g id=\"patch_185\">\r\n    <path clip-path=\"url(#pe188fe85e9)\" d=\"M 177.700295 224.64 \r\nL 178.309023 224.64 \r\nL 178.309023 224.63714 \r\nL 177.700295 224.63714 \r\nz\r\n\" style=\"fill:#1f77b4;\"/>\r\n   </g>\r\n   <g id=\"patch_186\">\r\n    <path clip-path=\"url(#pe188fe85e9)\" d=\"M 178.309023 224.64 \r\nL 178.91775 224.64 \r\nL 178.91775 224.63428 \r\nL 178.309023 224.63428 \r\nz\r\n\" style=\"fill:#1f77b4;\"/>\r\n   </g>\r\n   <g id=\"patch_187\">\r\n    <path clip-path=\"url(#pe188fe85e9)\" d=\"M 178.91775 224.64 \r\nL 179.526477 224.64 \r\nL 179.526477 224.63428 \r\nL 178.91775 224.63428 \r\nz\r\n\" style=\"fill:#1f77b4;\"/>\r\n   </g>\r\n   <g id=\"patch_188\">\r\n    <path clip-path=\"url(#pe188fe85e9)\" d=\"M 179.526477 224.64 \r\nL 180.135205 224.64 \r\nL 180.135205 224.64 \r\nL 179.526477 224.64 \r\nz\r\n\" style=\"fill:#1f77b4;\"/>\r\n   </g>\r\n   <g id=\"patch_189\">\r\n    <path clip-path=\"url(#pe188fe85e9)\" d=\"M 180.135205 224.64 \r\nL 180.743932 224.64 \r\nL 180.743932 224.63714 \r\nL 180.135205 224.63714 \r\nz\r\n\" style=\"fill:#1f77b4;\"/>\r\n   </g>\r\n   <g id=\"patch_190\">\r\n    <path clip-path=\"url(#pe188fe85e9)\" d=\"M 180.743932 224.64 \r\nL 181.352659 224.64 \r\nL 181.352659 224.628559 \r\nL 180.743932 224.628559 \r\nz\r\n\" style=\"fill:#1f77b4;\"/>\r\n   </g>\r\n   <g id=\"patch_191\">\r\n    <path clip-path=\"url(#pe188fe85e9)\" d=\"M 181.352659 224.64 \r\nL 181.961386 224.64 \r\nL 181.961386 224.63428 \r\nL 181.352659 224.63428 \r\nz\r\n\" style=\"fill:#1f77b4;\"/>\r\n   </g>\r\n   <g id=\"patch_192\">\r\n    <path clip-path=\"url(#pe188fe85e9)\" d=\"M 181.961386 224.64 \r\nL 182.570114 224.64 \r\nL 182.570114 224.628559 \r\nL 181.961386 224.628559 \r\nz\r\n\" style=\"fill:#1f77b4;\"/>\r\n   </g>\r\n   <g id=\"patch_193\">\r\n    <path clip-path=\"url(#pe188fe85e9)\" d=\"M 182.570114 224.64 \r\nL 183.178841 224.64 \r\nL 183.178841 224.628559 \r\nL 182.570114 224.628559 \r\nz\r\n\" style=\"fill:#1f77b4;\"/>\r\n   </g>\r\n   <g id=\"patch_194\">\r\n    <path clip-path=\"url(#pe188fe85e9)\" d=\"M 183.178841 224.64 \r\nL 183.787568 224.64 \r\nL 183.787568 224.63142 \r\nL 183.178841 224.63142 \r\nz\r\n\" style=\"fill:#1f77b4;\"/>\r\n   </g>\r\n   <g id=\"patch_195\">\r\n    <path clip-path=\"url(#pe188fe85e9)\" d=\"M 183.787568 224.64 \r\nL 184.396295 224.64 \r\nL 184.396295 224.63142 \r\nL 183.787568 224.63142 \r\nz\r\n\" style=\"fill:#1f77b4;\"/>\r\n   </g>\r\n   <g id=\"patch_196\">\r\n    <path clip-path=\"url(#pe188fe85e9)\" d=\"M 184.396295 224.64 \r\nL 185.005023 224.64 \r\nL 185.005023 224.63142 \r\nL 184.396295 224.63142 \r\nz\r\n\" style=\"fill:#1f77b4;\"/>\r\n   </g>\r\n   <g id=\"patch_197\">\r\n    <path clip-path=\"url(#pe188fe85e9)\" d=\"M 185.005023 224.64 \r\nL 185.61375 224.64 \r\nL 185.61375 224.63428 \r\nL 185.005023 224.63428 \r\nz\r\n\" style=\"fill:#1f77b4;\"/>\r\n   </g>\r\n   <g id=\"patch_198\">\r\n    <path clip-path=\"url(#pe188fe85e9)\" d=\"M 185.61375 224.64 \r\nL 186.222477 224.64 \r\nL 186.222477 224.63428 \r\nL 185.61375 224.63428 \r\nz\r\n\" style=\"fill:#1f77b4;\"/>\r\n   </g>\r\n   <g id=\"patch_199\">\r\n    <path clip-path=\"url(#pe188fe85e9)\" d=\"M 186.222477 224.64 \r\nL 186.831205 224.64 \r\nL 186.831205 224.63714 \r\nL 186.222477 224.63714 \r\nz\r\n\" style=\"fill:#1f77b4;\"/>\r\n   </g>\r\n   <g id=\"patch_200\">\r\n    <path clip-path=\"url(#pe188fe85e9)\" d=\"M 186.831205 224.64 \r\nL 187.439932 224.64 \r\nL 187.439932 224.63428 \r\nL 186.831205 224.63428 \r\nz\r\n\" style=\"fill:#1f77b4;\"/>\r\n   </g>\r\n   <g id=\"patch_201\">\r\n    <path clip-path=\"url(#pe188fe85e9)\" d=\"M 187.439932 224.64 \r\nL 188.048659 224.64 \r\nL 188.048659 224.619979 \r\nL 187.439932 224.619979 \r\nz\r\n\" style=\"fill:#1f77b4;\"/>\r\n   </g>\r\n   <g id=\"patch_202\">\r\n    <path clip-path=\"url(#pe188fe85e9)\" d=\"M 188.048659 224.64 \r\nL 188.657386 224.64 \r\nL 188.657386 224.63714 \r\nL 188.048659 224.63714 \r\nz\r\n\" style=\"fill:#1f77b4;\"/>\r\n   </g>\r\n   <g id=\"patch_203\">\r\n    <path clip-path=\"url(#pe188fe85e9)\" d=\"M 188.657386 224.64 \r\nL 189.266114 224.64 \r\nL 189.266114 224.63714 \r\nL 188.657386 224.63714 \r\nz\r\n\" style=\"fill:#1f77b4;\"/>\r\n   </g>\r\n   <g id=\"patch_204\">\r\n    <path clip-path=\"url(#pe188fe85e9)\" d=\"M 189.266114 224.64 \r\nL 189.874841 224.64 \r\nL 189.874841 224.63428 \r\nL 189.266114 224.63428 \r\nz\r\n\" style=\"fill:#1f77b4;\"/>\r\n   </g>\r\n   <g id=\"patch_205\">\r\n    <path clip-path=\"url(#pe188fe85e9)\" d=\"M 189.874841 224.64 \r\nL 190.483568 224.64 \r\nL 190.483568 224.63142 \r\nL 189.874841 224.63142 \r\nz\r\n\" style=\"fill:#1f77b4;\"/>\r\n   </g>\r\n   <g id=\"patch_206\">\r\n    <path clip-path=\"url(#pe188fe85e9)\" d=\"M 190.483568 224.64 \r\nL 191.092295 224.64 \r\nL 191.092295 224.64 \r\nL 190.483568 224.64 \r\nz\r\n\" style=\"fill:#1f77b4;\"/>\r\n   </g>\r\n   <g id=\"patch_207\">\r\n    <path clip-path=\"url(#pe188fe85e9)\" d=\"M 191.092295 224.64 \r\nL 191.701023 224.64 \r\nL 191.701023 224.63428 \r\nL 191.092295 224.63428 \r\nz\r\n\" style=\"fill:#1f77b4;\"/>\r\n   </g>\r\n   <g id=\"patch_208\">\r\n    <path clip-path=\"url(#pe188fe85e9)\" d=\"M 191.701023 224.64 \r\nL 192.30975 224.64 \r\nL 192.30975 224.63714 \r\nL 191.701023 224.63714 \r\nz\r\n\" style=\"fill:#1f77b4;\"/>\r\n   </g>\r\n   <g id=\"patch_209\">\r\n    <path clip-path=\"url(#pe188fe85e9)\" d=\"M 192.30975 224.64 \r\nL 192.918477 224.64 \r\nL 192.918477 224.64 \r\nL 192.30975 224.64 \r\nz\r\n\" style=\"fill:#1f77b4;\"/>\r\n   </g>\r\n   <g id=\"patch_210\">\r\n    <path clip-path=\"url(#pe188fe85e9)\" d=\"M 192.918477 224.64 \r\nL 193.527205 224.64 \r\nL 193.527205 224.63428 \r\nL 192.918477 224.63428 \r\nz\r\n\" style=\"fill:#1f77b4;\"/>\r\n   </g>\r\n   <g id=\"patch_211\">\r\n    <path clip-path=\"url(#pe188fe85e9)\" d=\"M 193.527205 224.64 \r\nL 194.135932 224.64 \r\nL 194.135932 224.63142 \r\nL 193.527205 224.63142 \r\nz\r\n\" style=\"fill:#1f77b4;\"/>\r\n   </g>\r\n   <g id=\"patch_212\">\r\n    <path clip-path=\"url(#pe188fe85e9)\" d=\"M 194.135932 224.64 \r\nL 194.744659 224.64 \r\nL 194.744659 224.64 \r\nL 194.135932 224.64 \r\nz\r\n\" style=\"fill:#1f77b4;\"/>\r\n   </g>\r\n   <g id=\"patch_213\">\r\n    <path clip-path=\"url(#pe188fe85e9)\" d=\"M 194.744659 224.64 \r\nL 195.353386 224.64 \r\nL 195.353386 224.63714 \r\nL 194.744659 224.63714 \r\nz\r\n\" style=\"fill:#1f77b4;\"/>\r\n   </g>\r\n   <g id=\"patch_214\">\r\n    <path clip-path=\"url(#pe188fe85e9)\" d=\"M 195.353386 224.64 \r\nL 195.962114 224.64 \r\nL 195.962114 224.63714 \r\nL 195.353386 224.63714 \r\nz\r\n\" style=\"fill:#1f77b4;\"/>\r\n   </g>\r\n   <g id=\"patch_215\">\r\n    <path clip-path=\"url(#pe188fe85e9)\" d=\"M 195.962114 224.64 \r\nL 196.570841 224.64 \r\nL 196.570841 224.63714 \r\nL 195.962114 224.63714 \r\nz\r\n\" style=\"fill:#1f77b4;\"/>\r\n   </g>\r\n   <g id=\"patch_216\">\r\n    <path clip-path=\"url(#pe188fe85e9)\" d=\"M 196.570841 224.64 \r\nL 197.179568 224.64 \r\nL 197.179568 224.64 \r\nL 196.570841 224.64 \r\nz\r\n\" style=\"fill:#1f77b4;\"/>\r\n   </g>\r\n   <g id=\"patch_217\">\r\n    <path clip-path=\"url(#pe188fe85e9)\" d=\"M 197.179568 224.64 \r\nL 197.788295 224.64 \r\nL 197.788295 224.63714 \r\nL 197.179568 224.63714 \r\nz\r\n\" style=\"fill:#1f77b4;\"/>\r\n   </g>\r\n   <g id=\"patch_218\">\r\n    <path clip-path=\"url(#pe188fe85e9)\" d=\"M 197.788295 224.64 \r\nL 198.397023 224.64 \r\nL 198.397023 224.64 \r\nL 197.788295 224.64 \r\nz\r\n\" style=\"fill:#1f77b4;\"/>\r\n   </g>\r\n   <g id=\"patch_219\">\r\n    <path clip-path=\"url(#pe188fe85e9)\" d=\"M 198.397023 224.64 \r\nL 199.00575 224.64 \r\nL 199.00575 224.63714 \r\nL 198.397023 224.63714 \r\nz\r\n\" style=\"fill:#1f77b4;\"/>\r\n   </g>\r\n   <g id=\"patch_220\">\r\n    <path clip-path=\"url(#pe188fe85e9)\" d=\"M 199.00575 224.64 \r\nL 199.614477 224.64 \r\nL 199.614477 224.64 \r\nL 199.00575 224.64 \r\nz\r\n\" style=\"fill:#1f77b4;\"/>\r\n   </g>\r\n   <g id=\"patch_221\">\r\n    <path clip-path=\"url(#pe188fe85e9)\" d=\"M 199.614477 224.64 \r\nL 200.223205 224.64 \r\nL 200.223205 224.64 \r\nL 199.614477 224.64 \r\nz\r\n\" style=\"fill:#1f77b4;\"/>\r\n   </g>\r\n   <g id=\"patch_222\">\r\n    <path clip-path=\"url(#pe188fe85e9)\" d=\"M 200.223205 224.64 \r\nL 200.831932 224.64 \r\nL 200.831932 224.63714 \r\nL 200.223205 224.63714 \r\nz\r\n\" style=\"fill:#1f77b4;\"/>\r\n   </g>\r\n   <g id=\"patch_223\">\r\n    <path clip-path=\"url(#pe188fe85e9)\" d=\"M 200.831932 224.64 \r\nL 201.440659 224.64 \r\nL 201.440659 224.64 \r\nL 200.831932 224.64 \r\nz\r\n\" style=\"fill:#1f77b4;\"/>\r\n   </g>\r\n   <g id=\"patch_224\">\r\n    <path clip-path=\"url(#pe188fe85e9)\" d=\"M 201.440659 224.64 \r\nL 202.049386 224.64 \r\nL 202.049386 224.63714 \r\nL 201.440659 224.63714 \r\nz\r\n\" style=\"fill:#1f77b4;\"/>\r\n   </g>\r\n   <g id=\"patch_225\">\r\n    <path clip-path=\"url(#pe188fe85e9)\" d=\"M 202.049386 224.64 \r\nL 202.658114 224.64 \r\nL 202.658114 224.63428 \r\nL 202.049386 224.63428 \r\nz\r\n\" style=\"fill:#1f77b4;\"/>\r\n   </g>\r\n   <g id=\"patch_226\">\r\n    <path clip-path=\"url(#pe188fe85e9)\" d=\"M 202.658114 224.64 \r\nL 203.266841 224.64 \r\nL 203.266841 224.63142 \r\nL 202.658114 224.63142 \r\nz\r\n\" style=\"fill:#1f77b4;\"/>\r\n   </g>\r\n   <g id=\"patch_227\">\r\n    <path clip-path=\"url(#pe188fe85e9)\" d=\"M 203.266841 224.64 \r\nL 203.875568 224.64 \r\nL 203.875568 224.63428 \r\nL 203.266841 224.63428 \r\nz\r\n\" style=\"fill:#1f77b4;\"/>\r\n   </g>\r\n   <g id=\"patch_228\">\r\n    <path clip-path=\"url(#pe188fe85e9)\" d=\"M 203.875568 224.64 \r\nL 204.484295 224.64 \r\nL 204.484295 224.64 \r\nL 203.875568 224.64 \r\nz\r\n\" style=\"fill:#1f77b4;\"/>\r\n   </g>\r\n   <g id=\"patch_229\">\r\n    <path clip-path=\"url(#pe188fe85e9)\" d=\"M 204.484295 224.64 \r\nL 205.093023 224.64 \r\nL 205.093023 224.63428 \r\nL 204.484295 224.63428 \r\nz\r\n\" style=\"fill:#1f77b4;\"/>\r\n   </g>\r\n   <g id=\"patch_230\">\r\n    <path clip-path=\"url(#pe188fe85e9)\" d=\"M 205.093023 224.64 \r\nL 205.70175 224.64 \r\nL 205.70175 224.63428 \r\nL 205.093023 224.63428 \r\nz\r\n\" style=\"fill:#1f77b4;\"/>\r\n   </g>\r\n   <g id=\"patch_231\">\r\n    <path clip-path=\"url(#pe188fe85e9)\" d=\"M 205.70175 224.64 \r\nL 206.310477 224.64 \r\nL 206.310477 224.64 \r\nL 205.70175 224.64 \r\nz\r\n\" style=\"fill:#1f77b4;\"/>\r\n   </g>\r\n   <g id=\"patch_232\">\r\n    <path clip-path=\"url(#pe188fe85e9)\" d=\"M 206.310477 224.64 \r\nL 206.919205 224.64 \r\nL 206.919205 224.628559 \r\nL 206.310477 224.628559 \r\nz\r\n\" style=\"fill:#1f77b4;\"/>\r\n   </g>\r\n   <g id=\"patch_233\">\r\n    <path clip-path=\"url(#pe188fe85e9)\" d=\"M 206.919205 224.64 \r\nL 207.527932 224.64 \r\nL 207.527932 224.63714 \r\nL 206.919205 224.63714 \r\nz\r\n\" style=\"fill:#1f77b4;\"/>\r\n   </g>\r\n   <g id=\"patch_234\">\r\n    <path clip-path=\"url(#pe188fe85e9)\" d=\"M 207.527932 224.64 \r\nL 208.136659 224.64 \r\nL 208.136659 224.64 \r\nL 207.527932 224.64 \r\nz\r\n\" style=\"fill:#1f77b4;\"/>\r\n   </g>\r\n   <g id=\"patch_235\">\r\n    <path clip-path=\"url(#pe188fe85e9)\" d=\"M 208.136659 224.64 \r\nL 208.745386 224.64 \r\nL 208.745386 224.628559 \r\nL 208.136659 224.628559 \r\nz\r\n\" style=\"fill:#1f77b4;\"/>\r\n   </g>\r\n   <g id=\"patch_236\">\r\n    <path clip-path=\"url(#pe188fe85e9)\" d=\"M 208.745386 224.64 \r\nL 209.354114 224.64 \r\nL 209.354114 224.64 \r\nL 208.745386 224.64 \r\nz\r\n\" style=\"fill:#1f77b4;\"/>\r\n   </g>\r\n   <g id=\"patch_237\">\r\n    <path clip-path=\"url(#pe188fe85e9)\" d=\"M 209.354114 224.64 \r\nL 209.962841 224.64 \r\nL 209.962841 224.63428 \r\nL 209.354114 224.63428 \r\nz\r\n\" style=\"fill:#1f77b4;\"/>\r\n   </g>\r\n   <g id=\"patch_238\">\r\n    <path clip-path=\"url(#pe188fe85e9)\" d=\"M 209.962841 224.64 \r\nL 210.571568 224.64 \r\nL 210.571568 224.63714 \r\nL 209.962841 224.63714 \r\nz\r\n\" style=\"fill:#1f77b4;\"/>\r\n   </g>\r\n   <g id=\"patch_239\">\r\n    <path clip-path=\"url(#pe188fe85e9)\" d=\"M 210.571568 224.64 \r\nL 211.180295 224.64 \r\nL 211.180295 224.64 \r\nL 210.571568 224.64 \r\nz\r\n\" style=\"fill:#1f77b4;\"/>\r\n   </g>\r\n   <g id=\"patch_240\">\r\n    <path clip-path=\"url(#pe188fe85e9)\" d=\"M 211.180295 224.64 \r\nL 211.789023 224.64 \r\nL 211.789023 224.63428 \r\nL 211.180295 224.63428 \r\nz\r\n\" style=\"fill:#1f77b4;\"/>\r\n   </g>\r\n   <g id=\"patch_241\">\r\n    <path clip-path=\"url(#pe188fe85e9)\" d=\"M 211.789023 224.64 \r\nL 212.39775 224.64 \r\nL 212.39775 224.64 \r\nL 211.789023 224.64 \r\nz\r\n\" style=\"fill:#1f77b4;\"/>\r\n   </g>\r\n   <g id=\"patch_242\">\r\n    <path clip-path=\"url(#pe188fe85e9)\" d=\"M 212.39775 224.64 \r\nL 213.006477 224.64 \r\nL 213.006477 224.64 \r\nL 212.39775 224.64 \r\nz\r\n\" style=\"fill:#1f77b4;\"/>\r\n   </g>\r\n   <g id=\"patch_243\">\r\n    <path clip-path=\"url(#pe188fe85e9)\" d=\"M 213.006477 224.64 \r\nL 213.615205 224.64 \r\nL 213.615205 224.63714 \r\nL 213.006477 224.63714 \r\nz\r\n\" style=\"fill:#1f77b4;\"/>\r\n   </g>\r\n   <g id=\"patch_244\">\r\n    <path clip-path=\"url(#pe188fe85e9)\" d=\"M 213.615205 224.64 \r\nL 214.223932 224.64 \r\nL 214.223932 224.628559 \r\nL 213.615205 224.628559 \r\nz\r\n\" style=\"fill:#1f77b4;\"/>\r\n   </g>\r\n   <g id=\"patch_245\">\r\n    <path clip-path=\"url(#pe188fe85e9)\" d=\"M 214.223932 224.64 \r\nL 214.832659 224.64 \r\nL 214.832659 224.63714 \r\nL 214.223932 224.63714 \r\nz\r\n\" style=\"fill:#1f77b4;\"/>\r\n   </g>\r\n   <g id=\"patch_246\">\r\n    <path clip-path=\"url(#pe188fe85e9)\" d=\"M 214.832659 224.64 \r\nL 215.441386 224.64 \r\nL 215.441386 224.64 \r\nL 214.832659 224.64 \r\nz\r\n\" style=\"fill:#1f77b4;\"/>\r\n   </g>\r\n   <g id=\"patch_247\">\r\n    <path clip-path=\"url(#pe188fe85e9)\" d=\"M 215.441386 224.64 \r\nL 216.050114 224.64 \r\nL 216.050114 224.63714 \r\nL 215.441386 224.63714 \r\nz\r\n\" style=\"fill:#1f77b4;\"/>\r\n   </g>\r\n   <g id=\"patch_248\">\r\n    <path clip-path=\"url(#pe188fe85e9)\" d=\"M 216.050114 224.64 \r\nL 216.658841 224.64 \r\nL 216.658841 224.63714 \r\nL 216.050114 224.63714 \r\nz\r\n\" style=\"fill:#1f77b4;\"/>\r\n   </g>\r\n   <g id=\"patch_249\">\r\n    <path clip-path=\"url(#pe188fe85e9)\" d=\"M 216.658841 224.64 \r\nL 217.267568 224.64 \r\nL 217.267568 224.64 \r\nL 216.658841 224.64 \r\nz\r\n\" style=\"fill:#1f77b4;\"/>\r\n   </g>\r\n   <g id=\"patch_250\">\r\n    <path clip-path=\"url(#pe188fe85e9)\" d=\"M 217.267568 224.64 \r\nL 217.876295 224.64 \r\nL 217.876295 224.64 \r\nL 217.267568 224.64 \r\nz\r\n\" style=\"fill:#1f77b4;\"/>\r\n   </g>\r\n   <g id=\"patch_251\">\r\n    <path clip-path=\"url(#pe188fe85e9)\" d=\"M 217.876295 224.64 \r\nL 218.485023 224.64 \r\nL 218.485023 224.63714 \r\nL 217.876295 224.63714 \r\nz\r\n\" style=\"fill:#1f77b4;\"/>\r\n   </g>\r\n   <g id=\"patch_252\">\r\n    <path clip-path=\"url(#pe188fe85e9)\" d=\"M 218.485023 224.64 \r\nL 219.09375 224.64 \r\nL 219.09375 224.64 \r\nL 218.485023 224.64 \r\nz\r\n\" style=\"fill:#1f77b4;\"/>\r\n   </g>\r\n   <g id=\"patch_253\">\r\n    <path clip-path=\"url(#pe188fe85e9)\" d=\"M 219.09375 224.64 \r\nL 219.702477 224.64 \r\nL 219.702477 224.63714 \r\nL 219.09375 224.63714 \r\nz\r\n\" style=\"fill:#1f77b4;\"/>\r\n   </g>\r\n   <g id=\"patch_254\">\r\n    <path clip-path=\"url(#pe188fe85e9)\" d=\"M 219.702477 224.64 \r\nL 220.311205 224.64 \r\nL 220.311205 224.64 \r\nL 219.702477 224.64 \r\nz\r\n\" style=\"fill:#1f77b4;\"/>\r\n   </g>\r\n   <g id=\"patch_255\">\r\n    <path clip-path=\"url(#pe188fe85e9)\" d=\"M 220.311205 224.64 \r\nL 220.919932 224.64 \r\nL 220.919932 224.64 \r\nL 220.311205 224.64 \r\nz\r\n\" style=\"fill:#1f77b4;\"/>\r\n   </g>\r\n   <g id=\"patch_256\">\r\n    <path clip-path=\"url(#pe188fe85e9)\" d=\"M 220.919932 224.64 \r\nL 221.528659 224.64 \r\nL 221.528659 224.64 \r\nL 220.919932 224.64 \r\nz\r\n\" style=\"fill:#1f77b4;\"/>\r\n   </g>\r\n   <g id=\"patch_257\">\r\n    <path clip-path=\"url(#pe188fe85e9)\" d=\"M 221.528659 224.64 \r\nL 222.137386 224.64 \r\nL 222.137386 224.64 \r\nL 221.528659 224.64 \r\nz\r\n\" style=\"fill:#1f77b4;\"/>\r\n   </g>\r\n   <g id=\"patch_258\">\r\n    <path clip-path=\"url(#pe188fe85e9)\" d=\"M 222.137386 224.64 \r\nL 222.746114 224.64 \r\nL 222.746114 224.64 \r\nL 222.137386 224.64 \r\nz\r\n\" style=\"fill:#1f77b4;\"/>\r\n   </g>\r\n   <g id=\"patch_259\">\r\n    <path clip-path=\"url(#pe188fe85e9)\" d=\"M 222.746114 224.64 \r\nL 223.354841 224.64 \r\nL 223.354841 224.64 \r\nL 222.746114 224.64 \r\nz\r\n\" style=\"fill:#1f77b4;\"/>\r\n   </g>\r\n   <g id=\"patch_260\">\r\n    <path clip-path=\"url(#pe188fe85e9)\" d=\"M 223.354841 224.64 \r\nL 223.963568 224.64 \r\nL 223.963568 224.63714 \r\nL 223.354841 224.63714 \r\nz\r\n\" style=\"fill:#1f77b4;\"/>\r\n   </g>\r\n   <g id=\"patch_261\">\r\n    <path clip-path=\"url(#pe188fe85e9)\" d=\"M 223.963568 224.64 \r\nL 224.572295 224.64 \r\nL 224.572295 224.64 \r\nL 223.963568 224.64 \r\nz\r\n\" style=\"fill:#1f77b4;\"/>\r\n   </g>\r\n   <g id=\"patch_262\">\r\n    <path clip-path=\"url(#pe188fe85e9)\" d=\"M 224.572295 224.64 \r\nL 225.181023 224.64 \r\nL 225.181023 224.64 \r\nL 224.572295 224.64 \r\nz\r\n\" style=\"fill:#1f77b4;\"/>\r\n   </g>\r\n   <g id=\"patch_263\">\r\n    <path clip-path=\"url(#pe188fe85e9)\" d=\"M 225.181023 224.64 \r\nL 225.78975 224.64 \r\nL 225.78975 224.64 \r\nL 225.181023 224.64 \r\nz\r\n\" style=\"fill:#1f77b4;\"/>\r\n   </g>\r\n   <g id=\"patch_264\">\r\n    <path clip-path=\"url(#pe188fe85e9)\" d=\"M 225.78975 224.64 \r\nL 226.398477 224.64 \r\nL 226.398477 224.64 \r\nL 225.78975 224.64 \r\nz\r\n\" style=\"fill:#1f77b4;\"/>\r\n   </g>\r\n   <g id=\"patch_265\">\r\n    <path clip-path=\"url(#pe188fe85e9)\" d=\"M 226.398477 224.64 \r\nL 227.007205 224.64 \r\nL 227.007205 224.64 \r\nL 226.398477 224.64 \r\nz\r\n\" style=\"fill:#1f77b4;\"/>\r\n   </g>\r\n   <g id=\"patch_266\">\r\n    <path clip-path=\"url(#pe188fe85e9)\" d=\"M 227.007205 224.64 \r\nL 227.615932 224.64 \r\nL 227.615932 224.64 \r\nL 227.007205 224.64 \r\nz\r\n\" style=\"fill:#1f77b4;\"/>\r\n   </g>\r\n   <g id=\"patch_267\">\r\n    <path clip-path=\"url(#pe188fe85e9)\" d=\"M 227.615932 224.64 \r\nL 228.224659 224.64 \r\nL 228.224659 224.64 \r\nL 227.615932 224.64 \r\nz\r\n\" style=\"fill:#1f77b4;\"/>\r\n   </g>\r\n   <g id=\"patch_268\">\r\n    <path clip-path=\"url(#pe188fe85e9)\" d=\"M 228.224659 224.64 \r\nL 228.833386 224.64 \r\nL 228.833386 224.64 \r\nL 228.224659 224.64 \r\nz\r\n\" style=\"fill:#1f77b4;\"/>\r\n   </g>\r\n   <g id=\"patch_269\">\r\n    <path clip-path=\"url(#pe188fe85e9)\" d=\"M 228.833386 224.64 \r\nL 229.442114 224.64 \r\nL 229.442114 224.63714 \r\nL 228.833386 224.63714 \r\nz\r\n\" style=\"fill:#1f77b4;\"/>\r\n   </g>\r\n   <g id=\"patch_270\">\r\n    <path clip-path=\"url(#pe188fe85e9)\" d=\"M 229.442114 224.64 \r\nL 230.050841 224.64 \r\nL 230.050841 224.64 \r\nL 229.442114 224.64 \r\nz\r\n\" style=\"fill:#1f77b4;\"/>\r\n   </g>\r\n   <g id=\"patch_271\">\r\n    <path clip-path=\"url(#pe188fe85e9)\" d=\"M 230.050841 224.64 \r\nL 230.659568 224.64 \r\nL 230.659568 224.63714 \r\nL 230.050841 224.63714 \r\nz\r\n\" style=\"fill:#1f77b4;\"/>\r\n   </g>\r\n   <g id=\"patch_272\">\r\n    <path clip-path=\"url(#pe188fe85e9)\" d=\"M 230.659568 224.64 \r\nL 231.268295 224.64 \r\nL 231.268295 224.64 \r\nL 230.659568 224.64 \r\nz\r\n\" style=\"fill:#1f77b4;\"/>\r\n   </g>\r\n   <g id=\"patch_273\">\r\n    <path clip-path=\"url(#pe188fe85e9)\" d=\"M 231.268295 224.64 \r\nL 231.877023 224.64 \r\nL 231.877023 224.64 \r\nL 231.268295 224.64 \r\nz\r\n\" style=\"fill:#1f77b4;\"/>\r\n   </g>\r\n   <g id=\"patch_274\">\r\n    <path clip-path=\"url(#pe188fe85e9)\" d=\"M 231.877023 224.64 \r\nL 232.48575 224.64 \r\nL 232.48575 224.63714 \r\nL 231.877023 224.63714 \r\nz\r\n\" style=\"fill:#1f77b4;\"/>\r\n   </g>\r\n   <g id=\"patch_275\">\r\n    <path clip-path=\"url(#pe188fe85e9)\" d=\"M 232.48575 224.64 \r\nL 233.094477 224.64 \r\nL 233.094477 224.64 \r\nL 232.48575 224.64 \r\nz\r\n\" style=\"fill:#1f77b4;\"/>\r\n   </g>\r\n   <g id=\"patch_276\">\r\n    <path clip-path=\"url(#pe188fe85e9)\" d=\"M 233.094477 224.64 \r\nL 233.703205 224.64 \r\nL 233.703205 224.63714 \r\nL 233.094477 224.63714 \r\nz\r\n\" style=\"fill:#1f77b4;\"/>\r\n   </g>\r\n   <g id=\"patch_277\">\r\n    <path clip-path=\"url(#pe188fe85e9)\" d=\"M 233.703205 224.64 \r\nL 234.311932 224.64 \r\nL 234.311932 224.64 \r\nL 233.703205 224.64 \r\nz\r\n\" style=\"fill:#1f77b4;\"/>\r\n   </g>\r\n   <g id=\"patch_278\">\r\n    <path clip-path=\"url(#pe188fe85e9)\" d=\"M 234.311932 224.64 \r\nL 234.920659 224.64 \r\nL 234.920659 224.64 \r\nL 234.311932 224.64 \r\nz\r\n\" style=\"fill:#1f77b4;\"/>\r\n   </g>\r\n   <g id=\"patch_279\">\r\n    <path clip-path=\"url(#pe188fe85e9)\" d=\"M 234.920659 224.64 \r\nL 235.529386 224.64 \r\nL 235.529386 224.64 \r\nL 234.920659 224.64 \r\nz\r\n\" style=\"fill:#1f77b4;\"/>\r\n   </g>\r\n   <g id=\"patch_280\">\r\n    <path clip-path=\"url(#pe188fe85e9)\" d=\"M 235.529386 224.64 \r\nL 236.138114 224.64 \r\nL 236.138114 224.64 \r\nL 235.529386 224.64 \r\nz\r\n\" style=\"fill:#1f77b4;\"/>\r\n   </g>\r\n   <g id=\"patch_281\">\r\n    <path clip-path=\"url(#pe188fe85e9)\" d=\"M 236.138114 224.64 \r\nL 236.746841 224.64 \r\nL 236.746841 224.64 \r\nL 236.138114 224.64 \r\nz\r\n\" style=\"fill:#1f77b4;\"/>\r\n   </g>\r\n   <g id=\"patch_282\">\r\n    <path clip-path=\"url(#pe188fe85e9)\" d=\"M 236.746841 224.64 \r\nL 237.355568 224.64 \r\nL 237.355568 224.63714 \r\nL 236.746841 224.63714 \r\nz\r\n\" style=\"fill:#1f77b4;\"/>\r\n   </g>\r\n   <g id=\"patch_283\">\r\n    <path clip-path=\"url(#pe188fe85e9)\" d=\"M 237.355568 224.64 \r\nL 237.964295 224.64 \r\nL 237.964295 224.64 \r\nL 237.355568 224.64 \r\nz\r\n\" style=\"fill:#1f77b4;\"/>\r\n   </g>\r\n   <g id=\"patch_284\">\r\n    <path clip-path=\"url(#pe188fe85e9)\" d=\"M 237.964295 224.64 \r\nL 238.573023 224.64 \r\nL 238.573023 224.63714 \r\nL 237.964295 224.63714 \r\nz\r\n\" style=\"fill:#1f77b4;\"/>\r\n   </g>\r\n   <g id=\"patch_285\">\r\n    <path clip-path=\"url(#pe188fe85e9)\" d=\"M 238.573023 224.64 \r\nL 239.18175 224.64 \r\nL 239.18175 224.64 \r\nL 238.573023 224.64 \r\nz\r\n\" style=\"fill:#1f77b4;\"/>\r\n   </g>\r\n   <g id=\"patch_286\">\r\n    <path clip-path=\"url(#pe188fe85e9)\" d=\"M 239.18175 224.64 \r\nL 239.790477 224.64 \r\nL 239.790477 224.64 \r\nL 239.18175 224.64 \r\nz\r\n\" style=\"fill:#1f77b4;\"/>\r\n   </g>\r\n   <g id=\"patch_287\">\r\n    <path clip-path=\"url(#pe188fe85e9)\" d=\"M 239.790477 224.64 \r\nL 240.399205 224.64 \r\nL 240.399205 224.63428 \r\nL 239.790477 224.63428 \r\nz\r\n\" style=\"fill:#1f77b4;\"/>\r\n   </g>\r\n   <g id=\"patch_288\">\r\n    <path clip-path=\"url(#pe188fe85e9)\" d=\"M 240.399205 224.64 \r\nL 241.007932 224.64 \r\nL 241.007932 224.64 \r\nL 240.399205 224.64 \r\nz\r\n\" style=\"fill:#1f77b4;\"/>\r\n   </g>\r\n   <g id=\"patch_289\">\r\n    <path clip-path=\"url(#pe188fe85e9)\" d=\"M 241.007932 224.64 \r\nL 241.616659 224.64 \r\nL 241.616659 224.63714 \r\nL 241.007932 224.63714 \r\nz\r\n\" style=\"fill:#1f77b4;\"/>\r\n   </g>\r\n   <g id=\"patch_290\">\r\n    <path clip-path=\"url(#pe188fe85e9)\" d=\"M 241.616659 224.64 \r\nL 242.225386 224.64 \r\nL 242.225386 224.64 \r\nL 241.616659 224.64 \r\nz\r\n\" style=\"fill:#1f77b4;\"/>\r\n   </g>\r\n   <g id=\"patch_291\">\r\n    <path clip-path=\"url(#pe188fe85e9)\" d=\"M 242.225386 224.64 \r\nL 242.834114 224.64 \r\nL 242.834114 224.63714 \r\nL 242.225386 224.63714 \r\nz\r\n\" style=\"fill:#1f77b4;\"/>\r\n   </g>\r\n   <g id=\"patch_292\">\r\n    <path clip-path=\"url(#pe188fe85e9)\" d=\"M 242.834114 224.64 \r\nL 243.442841 224.64 \r\nL 243.442841 224.63714 \r\nL 242.834114 224.63714 \r\nz\r\n\" style=\"fill:#1f77b4;\"/>\r\n   </g>\r\n   <g id=\"patch_293\">\r\n    <path clip-path=\"url(#pe188fe85e9)\" d=\"M 243.442841 224.64 \r\nL 244.051568 224.64 \r\nL 244.051568 224.64 \r\nL 243.442841 224.64 \r\nz\r\n\" style=\"fill:#1f77b4;\"/>\r\n   </g>\r\n   <g id=\"patch_294\">\r\n    <path clip-path=\"url(#pe188fe85e9)\" d=\"M 244.051568 224.64 \r\nL 244.660295 224.64 \r\nL 244.660295 224.64 \r\nL 244.051568 224.64 \r\nz\r\n\" style=\"fill:#1f77b4;\"/>\r\n   </g>\r\n   <g id=\"patch_295\">\r\n    <path clip-path=\"url(#pe188fe85e9)\" d=\"M 244.660295 224.64 \r\nL 245.269023 224.64 \r\nL 245.269023 224.64 \r\nL 244.660295 224.64 \r\nz\r\n\" style=\"fill:#1f77b4;\"/>\r\n   </g>\r\n   <g id=\"patch_296\">\r\n    <path clip-path=\"url(#pe188fe85e9)\" d=\"M 245.269023 224.64 \r\nL 245.87775 224.64 \r\nL 245.87775 224.64 \r\nL 245.269023 224.64 \r\nz\r\n\" style=\"fill:#1f77b4;\"/>\r\n   </g>\r\n   <g id=\"patch_297\">\r\n    <path clip-path=\"url(#pe188fe85e9)\" d=\"M 245.87775 224.64 \r\nL 246.486477 224.64 \r\nL 246.486477 224.64 \r\nL 245.87775 224.64 \r\nz\r\n\" style=\"fill:#1f77b4;\"/>\r\n   </g>\r\n   <g id=\"patch_298\">\r\n    <path clip-path=\"url(#pe188fe85e9)\" d=\"M 246.486477 224.64 \r\nL 247.095205 224.64 \r\nL 247.095205 224.64 \r\nL 246.486477 224.64 \r\nz\r\n\" style=\"fill:#1f77b4;\"/>\r\n   </g>\r\n   <g id=\"patch_299\">\r\n    <path clip-path=\"url(#pe188fe85e9)\" d=\"M 247.095205 224.64 \r\nL 247.703932 224.64 \r\nL 247.703932 224.64 \r\nL 247.095205 224.64 \r\nz\r\n\" style=\"fill:#1f77b4;\"/>\r\n   </g>\r\n   <g id=\"patch_300\">\r\n    <path clip-path=\"url(#pe188fe85e9)\" d=\"M 247.703932 224.64 \r\nL 248.312659 224.64 \r\nL 248.312659 224.64 \r\nL 247.703932 224.64 \r\nz\r\n\" style=\"fill:#1f77b4;\"/>\r\n   </g>\r\n   <g id=\"patch_301\">\r\n    <path clip-path=\"url(#pe188fe85e9)\" d=\"M 248.312659 224.64 \r\nL 248.921386 224.64 \r\nL 248.921386 224.63714 \r\nL 248.312659 224.63714 \r\nz\r\n\" style=\"fill:#1f77b4;\"/>\r\n   </g>\r\n   <g id=\"patch_302\">\r\n    <path clip-path=\"url(#pe188fe85e9)\" d=\"M 248.921386 224.64 \r\nL 249.530114 224.64 \r\nL 249.530114 224.64 \r\nL 248.921386 224.64 \r\nz\r\n\" style=\"fill:#1f77b4;\"/>\r\n   </g>\r\n   <g id=\"patch_303\">\r\n    <path clip-path=\"url(#pe188fe85e9)\" d=\"M 249.530114 224.64 \r\nL 250.138841 224.64 \r\nL 250.138841 224.64 \r\nL 249.530114 224.64 \r\nz\r\n\" style=\"fill:#1f77b4;\"/>\r\n   </g>\r\n   <g id=\"patch_304\">\r\n    <path clip-path=\"url(#pe188fe85e9)\" d=\"M 250.138841 224.64 \r\nL 250.747568 224.64 \r\nL 250.747568 224.64 \r\nL 250.138841 224.64 \r\nz\r\n\" style=\"fill:#1f77b4;\"/>\r\n   </g>\r\n   <g id=\"patch_305\">\r\n    <path clip-path=\"url(#pe188fe85e9)\" d=\"M 250.747568 224.64 \r\nL 251.356295 224.64 \r\nL 251.356295 224.64 \r\nL 250.747568 224.64 \r\nz\r\n\" style=\"fill:#1f77b4;\"/>\r\n   </g>\r\n   <g id=\"patch_306\">\r\n    <path clip-path=\"url(#pe188fe85e9)\" d=\"M 251.356295 224.64 \r\nL 251.965023 224.64 \r\nL 251.965023 224.64 \r\nL 251.356295 224.64 \r\nz\r\n\" style=\"fill:#1f77b4;\"/>\r\n   </g>\r\n   <g id=\"patch_307\">\r\n    <path clip-path=\"url(#pe188fe85e9)\" d=\"M 251.965023 224.64 \r\nL 252.57375 224.64 \r\nL 252.57375 224.63714 \r\nL 251.965023 224.63714 \r\nz\r\n\" style=\"fill:#1f77b4;\"/>\r\n   </g>\r\n   <g id=\"patch_308\">\r\n    <path clip-path=\"url(#pe188fe85e9)\" d=\"M 252.57375 224.64 \r\nL 253.182477 224.64 \r\nL 253.182477 224.63714 \r\nL 252.57375 224.63714 \r\nz\r\n\" style=\"fill:#1f77b4;\"/>\r\n   </g>\r\n   <g id=\"patch_309\">\r\n    <path clip-path=\"url(#pe188fe85e9)\" d=\"M 253.182477 224.64 \r\nL 253.791205 224.64 \r\nL 253.791205 224.63714 \r\nL 253.182477 224.63714 \r\nz\r\n\" style=\"fill:#1f77b4;\"/>\r\n   </g>\r\n   <g id=\"patch_310\">\r\n    <path clip-path=\"url(#pe188fe85e9)\" d=\"M 253.791205 224.64 \r\nL 254.399932 224.64 \r\nL 254.399932 224.63714 \r\nL 253.791205 224.63714 \r\nz\r\n\" style=\"fill:#1f77b4;\"/>\r\n   </g>\r\n   <g id=\"patch_311\">\r\n    <path clip-path=\"url(#pe188fe85e9)\" d=\"M 254.399932 224.64 \r\nL 255.008659 224.64 \r\nL 255.008659 224.64 \r\nL 254.399932 224.64 \r\nz\r\n\" style=\"fill:#1f77b4;\"/>\r\n   </g>\r\n   <g id=\"patch_312\">\r\n    <path clip-path=\"url(#pe188fe85e9)\" d=\"M 255.008659 224.64 \r\nL 255.617386 224.64 \r\nL 255.617386 224.64 \r\nL 255.008659 224.64 \r\nz\r\n\" style=\"fill:#1f77b4;\"/>\r\n   </g>\r\n   <g id=\"patch_313\">\r\n    <path clip-path=\"url(#pe188fe85e9)\" d=\"M 255.617386 224.64 \r\nL 256.226114 224.64 \r\nL 256.226114 224.64 \r\nL 255.617386 224.64 \r\nz\r\n\" style=\"fill:#1f77b4;\"/>\r\n   </g>\r\n   <g id=\"patch_314\">\r\n    <path clip-path=\"url(#pe188fe85e9)\" d=\"M 256.226114 224.64 \r\nL 256.834841 224.64 \r\nL 256.834841 224.64 \r\nL 256.226114 224.64 \r\nz\r\n\" style=\"fill:#1f77b4;\"/>\r\n   </g>\r\n   <g id=\"patch_315\">\r\n    <path clip-path=\"url(#pe188fe85e9)\" d=\"M 256.834841 224.64 \r\nL 257.443568 224.64 \r\nL 257.443568 224.64 \r\nL 256.834841 224.64 \r\nz\r\n\" style=\"fill:#1f77b4;\"/>\r\n   </g>\r\n   <g id=\"patch_316\">\r\n    <path clip-path=\"url(#pe188fe85e9)\" d=\"M 257.443568 224.64 \r\nL 258.052295 224.64 \r\nL 258.052295 224.64 \r\nL 257.443568 224.64 \r\nz\r\n\" style=\"fill:#1f77b4;\"/>\r\n   </g>\r\n   <g id=\"patch_317\">\r\n    <path clip-path=\"url(#pe188fe85e9)\" d=\"M 258.052295 224.64 \r\nL 258.661023 224.64 \r\nL 258.661023 224.64 \r\nL 258.052295 224.64 \r\nz\r\n\" style=\"fill:#1f77b4;\"/>\r\n   </g>\r\n   <g id=\"patch_318\">\r\n    <path clip-path=\"url(#pe188fe85e9)\" d=\"M 258.661023 224.64 \r\nL 259.26975 224.64 \r\nL 259.26975 224.64 \r\nL 258.661023 224.64 \r\nz\r\n\" style=\"fill:#1f77b4;\"/>\r\n   </g>\r\n   <g id=\"patch_319\">\r\n    <path clip-path=\"url(#pe188fe85e9)\" d=\"M 259.26975 224.64 \r\nL 259.878477 224.64 \r\nL 259.878477 224.64 \r\nL 259.26975 224.64 \r\nz\r\n\" style=\"fill:#1f77b4;\"/>\r\n   </g>\r\n   <g id=\"patch_320\">\r\n    <path clip-path=\"url(#pe188fe85e9)\" d=\"M 259.878477 224.64 \r\nL 260.487205 224.64 \r\nL 260.487205 224.64 \r\nL 259.878477 224.64 \r\nz\r\n\" style=\"fill:#1f77b4;\"/>\r\n   </g>\r\n   <g id=\"patch_321\">\r\n    <path clip-path=\"url(#pe188fe85e9)\" d=\"M 260.487205 224.64 \r\nL 261.095932 224.64 \r\nL 261.095932 224.64 \r\nL 260.487205 224.64 \r\nz\r\n\" style=\"fill:#1f77b4;\"/>\r\n   </g>\r\n   <g id=\"patch_322\">\r\n    <path clip-path=\"url(#pe188fe85e9)\" d=\"M 261.095932 224.64 \r\nL 261.704659 224.64 \r\nL 261.704659 224.63714 \r\nL 261.095932 224.63714 \r\nz\r\n\" style=\"fill:#1f77b4;\"/>\r\n   </g>\r\n   <g id=\"patch_323\">\r\n    <path clip-path=\"url(#pe188fe85e9)\" d=\"M 261.704659 224.64 \r\nL 262.313386 224.64 \r\nL 262.313386 224.63714 \r\nL 261.704659 224.63714 \r\nz\r\n\" style=\"fill:#1f77b4;\"/>\r\n   </g>\r\n   <g id=\"patch_324\">\r\n    <path clip-path=\"url(#pe188fe85e9)\" d=\"M 262.313386 224.64 \r\nL 262.922114 224.64 \r\nL 262.922114 224.64 \r\nL 262.313386 224.64 \r\nz\r\n\" style=\"fill:#1f77b4;\"/>\r\n   </g>\r\n   <g id=\"patch_325\">\r\n    <path clip-path=\"url(#pe188fe85e9)\" d=\"M 262.922114 224.64 \r\nL 263.530841 224.64 \r\nL 263.530841 224.64 \r\nL 262.922114 224.64 \r\nz\r\n\" style=\"fill:#1f77b4;\"/>\r\n   </g>\r\n   <g id=\"patch_326\">\r\n    <path clip-path=\"url(#pe188fe85e9)\" d=\"M 263.530841 224.64 \r\nL 264.139568 224.64 \r\nL 264.139568 224.64 \r\nL 263.530841 224.64 \r\nz\r\n\" style=\"fill:#1f77b4;\"/>\r\n   </g>\r\n   <g id=\"patch_327\">\r\n    <path clip-path=\"url(#pe188fe85e9)\" d=\"M 264.139568 224.64 \r\nL 264.748295 224.64 \r\nL 264.748295 224.64 \r\nL 264.139568 224.64 \r\nz\r\n\" style=\"fill:#1f77b4;\"/>\r\n   </g>\r\n   <g id=\"patch_328\">\r\n    <path clip-path=\"url(#pe188fe85e9)\" d=\"M 264.748295 224.64 \r\nL 265.357023 224.64 \r\nL 265.357023 224.64 \r\nL 264.748295 224.64 \r\nz\r\n\" style=\"fill:#1f77b4;\"/>\r\n   </g>\r\n   <g id=\"patch_329\">\r\n    <path clip-path=\"url(#pe188fe85e9)\" d=\"M 265.357023 224.64 \r\nL 265.96575 224.64 \r\nL 265.96575 224.64 \r\nL 265.357023 224.64 \r\nz\r\n\" style=\"fill:#1f77b4;\"/>\r\n   </g>\r\n   <g id=\"patch_330\">\r\n    <path clip-path=\"url(#pe188fe85e9)\" d=\"M 265.96575 224.64 \r\nL 266.574477 224.64 \r\nL 266.574477 224.63714 \r\nL 265.96575 224.63714 \r\nz\r\n\" style=\"fill:#1f77b4;\"/>\r\n   </g>\r\n   <g id=\"patch_331\">\r\n    <path clip-path=\"url(#pe188fe85e9)\" d=\"M 266.574477 224.64 \r\nL 267.183205 224.64 \r\nL 267.183205 224.63714 \r\nL 266.574477 224.63714 \r\nz\r\n\" style=\"fill:#1f77b4;\"/>\r\n   </g>\r\n   <g id=\"patch_332\">\r\n    <path clip-path=\"url(#pe188fe85e9)\" d=\"M 267.183205 224.64 \r\nL 267.791932 224.64 \r\nL 267.791932 224.64 \r\nL 267.183205 224.64 \r\nz\r\n\" style=\"fill:#1f77b4;\"/>\r\n   </g>\r\n   <g id=\"patch_333\">\r\n    <path clip-path=\"url(#pe188fe85e9)\" d=\"M 267.791932 224.64 \r\nL 268.400659 224.64 \r\nL 268.400659 224.64 \r\nL 267.791932 224.64 \r\nz\r\n\" style=\"fill:#1f77b4;\"/>\r\n   </g>\r\n   <g id=\"patch_334\">\r\n    <path clip-path=\"url(#pe188fe85e9)\" d=\"M 268.400659 224.64 \r\nL 269.009386 224.64 \r\nL 269.009386 224.64 \r\nL 268.400659 224.64 \r\nz\r\n\" style=\"fill:#1f77b4;\"/>\r\n   </g>\r\n   <g id=\"patch_335\">\r\n    <path clip-path=\"url(#pe188fe85e9)\" d=\"M 269.009386 224.64 \r\nL 269.618114 224.64 \r\nL 269.618114 224.64 \r\nL 269.009386 224.64 \r\nz\r\n\" style=\"fill:#1f77b4;\"/>\r\n   </g>\r\n   <g id=\"patch_336\">\r\n    <path clip-path=\"url(#pe188fe85e9)\" d=\"M 269.618114 224.64 \r\nL 270.226841 224.64 \r\nL 270.226841 224.63714 \r\nL 269.618114 224.63714 \r\nz\r\n\" style=\"fill:#1f77b4;\"/>\r\n   </g>\r\n   <g id=\"patch_337\">\r\n    <path clip-path=\"url(#pe188fe85e9)\" d=\"M 270.226841 224.64 \r\nL 270.835568 224.64 \r\nL 270.835568 224.64 \r\nL 270.226841 224.64 \r\nz\r\n\" style=\"fill:#1f77b4;\"/>\r\n   </g>\r\n   <g id=\"patch_338\">\r\n    <path clip-path=\"url(#pe188fe85e9)\" d=\"M 270.835568 224.64 \r\nL 271.444295 224.64 \r\nL 271.444295 224.64 \r\nL 270.835568 224.64 \r\nz\r\n\" style=\"fill:#1f77b4;\"/>\r\n   </g>\r\n   <g id=\"patch_339\">\r\n    <path clip-path=\"url(#pe188fe85e9)\" d=\"M 271.444295 224.64 \r\nL 272.053023 224.64 \r\nL 272.053023 224.64 \r\nL 271.444295 224.64 \r\nz\r\n\" style=\"fill:#1f77b4;\"/>\r\n   </g>\r\n   <g id=\"patch_340\">\r\n    <path clip-path=\"url(#pe188fe85e9)\" d=\"M 272.053023 224.64 \r\nL 272.66175 224.64 \r\nL 272.66175 224.64 \r\nL 272.053023 224.64 \r\nz\r\n\" style=\"fill:#1f77b4;\"/>\r\n   </g>\r\n   <g id=\"patch_341\">\r\n    <path clip-path=\"url(#pe188fe85e9)\" d=\"M 272.66175 224.64 \r\nL 273.270477 224.64 \r\nL 273.270477 224.64 \r\nL 272.66175 224.64 \r\nz\r\n\" style=\"fill:#1f77b4;\"/>\r\n   </g>\r\n   <g id=\"patch_342\">\r\n    <path clip-path=\"url(#pe188fe85e9)\" d=\"M 273.270477 224.64 \r\nL 273.879205 224.64 \r\nL 273.879205 224.64 \r\nL 273.270477 224.64 \r\nz\r\n\" style=\"fill:#1f77b4;\"/>\r\n   </g>\r\n   <g id=\"patch_343\">\r\n    <path clip-path=\"url(#pe188fe85e9)\" d=\"M 273.879205 224.64 \r\nL 274.487932 224.64 \r\nL 274.487932 224.64 \r\nL 273.879205 224.64 \r\nz\r\n\" style=\"fill:#1f77b4;\"/>\r\n   </g>\r\n   <g id=\"patch_344\">\r\n    <path clip-path=\"url(#pe188fe85e9)\" d=\"M 274.487932 224.64 \r\nL 275.096659 224.64 \r\nL 275.096659 224.64 \r\nL 274.487932 224.64 \r\nz\r\n\" style=\"fill:#1f77b4;\"/>\r\n   </g>\r\n   <g id=\"patch_345\">\r\n    <path clip-path=\"url(#pe188fe85e9)\" d=\"M 275.096659 224.64 \r\nL 275.705386 224.64 \r\nL 275.705386 224.64 \r\nL 275.096659 224.64 \r\nz\r\n\" style=\"fill:#1f77b4;\"/>\r\n   </g>\r\n   <g id=\"patch_346\">\r\n    <path clip-path=\"url(#pe188fe85e9)\" d=\"M 275.705386 224.64 \r\nL 276.314114 224.64 \r\nL 276.314114 224.64 \r\nL 275.705386 224.64 \r\nz\r\n\" style=\"fill:#1f77b4;\"/>\r\n   </g>\r\n   <g id=\"patch_347\">\r\n    <path clip-path=\"url(#pe188fe85e9)\" d=\"M 276.314114 224.64 \r\nL 276.922841 224.64 \r\nL 276.922841 224.64 \r\nL 276.314114 224.64 \r\nz\r\n\" style=\"fill:#1f77b4;\"/>\r\n   </g>\r\n   <g id=\"patch_348\">\r\n    <path clip-path=\"url(#pe188fe85e9)\" d=\"M 276.922841 224.64 \r\nL 277.531568 224.64 \r\nL 277.531568 224.63714 \r\nL 276.922841 224.63714 \r\nz\r\n\" style=\"fill:#1f77b4;\"/>\r\n   </g>\r\n   <g id=\"patch_349\">\r\n    <path clip-path=\"url(#pe188fe85e9)\" d=\"M 277.531568 224.64 \r\nL 278.140295 224.64 \r\nL 278.140295 224.64 \r\nL 277.531568 224.64 \r\nz\r\n\" style=\"fill:#1f77b4;\"/>\r\n   </g>\r\n   <g id=\"patch_350\">\r\n    <path clip-path=\"url(#pe188fe85e9)\" d=\"M 278.140295 224.64 \r\nL 278.749023 224.64 \r\nL 278.749023 224.63714 \r\nL 278.140295 224.63714 \r\nz\r\n\" style=\"fill:#1f77b4;\"/>\r\n   </g>\r\n   <g id=\"patch_351\">\r\n    <path clip-path=\"url(#pe188fe85e9)\" d=\"M 278.749023 224.64 \r\nL 279.35775 224.64 \r\nL 279.35775 224.64 \r\nL 278.749023 224.64 \r\nz\r\n\" style=\"fill:#1f77b4;\"/>\r\n   </g>\r\n   <g id=\"patch_352\">\r\n    <path clip-path=\"url(#pe188fe85e9)\" d=\"M 279.35775 224.64 \r\nL 279.966477 224.64 \r\nL 279.966477 224.64 \r\nL 279.35775 224.64 \r\nz\r\n\" style=\"fill:#1f77b4;\"/>\r\n   </g>\r\n   <g id=\"patch_353\">\r\n    <path clip-path=\"url(#pe188fe85e9)\" d=\"M 279.966477 224.64 \r\nL 280.575205 224.64 \r\nL 280.575205 224.63714 \r\nL 279.966477 224.63714 \r\nz\r\n\" style=\"fill:#1f77b4;\"/>\r\n   </g>\r\n   <g id=\"patch_354\">\r\n    <path clip-path=\"url(#pe188fe85e9)\" d=\"M 280.575205 224.64 \r\nL 281.183932 224.64 \r\nL 281.183932 224.64 \r\nL 280.575205 224.64 \r\nz\r\n\" style=\"fill:#1f77b4;\"/>\r\n   </g>\r\n   <g id=\"patch_355\">\r\n    <path clip-path=\"url(#pe188fe85e9)\" d=\"M 281.183932 224.64 \r\nL 281.792659 224.64 \r\nL 281.792659 224.63714 \r\nL 281.183932 224.63714 \r\nz\r\n\" style=\"fill:#1f77b4;\"/>\r\n   </g>\r\n   <g id=\"patch_356\">\r\n    <path clip-path=\"url(#pe188fe85e9)\" d=\"M 281.792659 224.64 \r\nL 282.401386 224.64 \r\nL 282.401386 224.64 \r\nL 281.792659 224.64 \r\nz\r\n\" style=\"fill:#1f77b4;\"/>\r\n   </g>\r\n   <g id=\"patch_357\">\r\n    <path clip-path=\"url(#pe188fe85e9)\" d=\"M 282.401386 224.64 \r\nL 283.010114 224.64 \r\nL 283.010114 224.64 \r\nL 282.401386 224.64 \r\nz\r\n\" style=\"fill:#1f77b4;\"/>\r\n   </g>\r\n   <g id=\"patch_358\">\r\n    <path clip-path=\"url(#pe188fe85e9)\" d=\"M 283.010114 224.64 \r\nL 283.618841 224.64 \r\nL 283.618841 224.64 \r\nL 283.010114 224.64 \r\nz\r\n\" style=\"fill:#1f77b4;\"/>\r\n   </g>\r\n   <g id=\"patch_359\">\r\n    <path clip-path=\"url(#pe188fe85e9)\" d=\"M 283.618841 224.64 \r\nL 284.227568 224.64 \r\nL 284.227568 224.63714 \r\nL 283.618841 224.63714 \r\nz\r\n\" style=\"fill:#1f77b4;\"/>\r\n   </g>\r\n   <g id=\"patch_360\">\r\n    <path clip-path=\"url(#pe188fe85e9)\" d=\"M 284.227568 224.64 \r\nL 284.836295 224.64 \r\nL 284.836295 224.64 \r\nL 284.227568 224.64 \r\nz\r\n\" style=\"fill:#1f77b4;\"/>\r\n   </g>\r\n   <g id=\"patch_361\">\r\n    <path clip-path=\"url(#pe188fe85e9)\" d=\"M 284.836295 224.64 \r\nL 285.445023 224.64 \r\nL 285.445023 224.64 \r\nL 284.836295 224.64 \r\nz\r\n\" style=\"fill:#1f77b4;\"/>\r\n   </g>\r\n   <g id=\"patch_362\">\r\n    <path clip-path=\"url(#pe188fe85e9)\" d=\"M 285.445023 224.64 \r\nL 286.05375 224.64 \r\nL 286.05375 224.63714 \r\nL 285.445023 224.63714 \r\nz\r\n\" style=\"fill:#1f77b4;\"/>\r\n   </g>\r\n   <g id=\"patch_363\">\r\n    <path clip-path=\"url(#pe188fe85e9)\" d=\"M 286.05375 224.64 \r\nL 286.662477 224.64 \r\nL 286.662477 224.63714 \r\nL 286.05375 224.63714 \r\nz\r\n\" style=\"fill:#1f77b4;\"/>\r\n   </g>\r\n   <g id=\"patch_364\">\r\n    <path clip-path=\"url(#pe188fe85e9)\" d=\"M 286.662477 224.64 \r\nL 287.271205 224.64 \r\nL 287.271205 224.63714 \r\nL 286.662477 224.63714 \r\nz\r\n\" style=\"fill:#1f77b4;\"/>\r\n   </g>\r\n   <g id=\"patch_365\">\r\n    <path clip-path=\"url(#pe188fe85e9)\" d=\"M 287.271205 224.64 \r\nL 287.879932 224.64 \r\nL 287.879932 224.64 \r\nL 287.271205 224.64 \r\nz\r\n\" style=\"fill:#1f77b4;\"/>\r\n   </g>\r\n   <g id=\"patch_366\">\r\n    <path clip-path=\"url(#pe188fe85e9)\" d=\"M 287.879932 224.64 \r\nL 288.488659 224.64 \r\nL 288.488659 224.64 \r\nL 287.879932 224.64 \r\nz\r\n\" style=\"fill:#1f77b4;\"/>\r\n   </g>\r\n   <g id=\"patch_367\">\r\n    <path clip-path=\"url(#pe188fe85e9)\" d=\"M 288.488659 224.64 \r\nL 289.097386 224.64 \r\nL 289.097386 224.64 \r\nL 288.488659 224.64 \r\nz\r\n\" style=\"fill:#1f77b4;\"/>\r\n   </g>\r\n   <g id=\"patch_368\">\r\n    <path clip-path=\"url(#pe188fe85e9)\" d=\"M 289.097386 224.64 \r\nL 289.706114 224.64 \r\nL 289.706114 224.64 \r\nL 289.097386 224.64 \r\nz\r\n\" style=\"fill:#1f77b4;\"/>\r\n   </g>\r\n   <g id=\"patch_369\">\r\n    <path clip-path=\"url(#pe188fe85e9)\" d=\"M 289.706114 224.64 \r\nL 290.314841 224.64 \r\nL 290.314841 224.64 \r\nL 289.706114 224.64 \r\nz\r\n\" style=\"fill:#1f77b4;\"/>\r\n   </g>\r\n   <g id=\"patch_370\">\r\n    <path clip-path=\"url(#pe188fe85e9)\" d=\"M 290.314841 224.64 \r\nL 290.923568 224.64 \r\nL 290.923568 224.63714 \r\nL 290.314841 224.63714 \r\nz\r\n\" style=\"fill:#1f77b4;\"/>\r\n   </g>\r\n   <g id=\"patch_371\">\r\n    <path clip-path=\"url(#pe188fe85e9)\" d=\"M 290.923568 224.64 \r\nL 291.532295 224.64 \r\nL 291.532295 224.63714 \r\nL 290.923568 224.63714 \r\nz\r\n\" style=\"fill:#1f77b4;\"/>\r\n   </g>\r\n   <g id=\"patch_372\">\r\n    <path clip-path=\"url(#pe188fe85e9)\" d=\"M 291.532295 224.64 \r\nL 292.141023 224.64 \r\nL 292.141023 224.63714 \r\nL 291.532295 224.63714 \r\nz\r\n\" style=\"fill:#1f77b4;\"/>\r\n   </g>\r\n   <g id=\"patch_373\">\r\n    <path clip-path=\"url(#pe188fe85e9)\" d=\"M 292.141023 224.64 \r\nL 292.74975 224.64 \r\nL 292.74975 224.64 \r\nL 292.141023 224.64 \r\nz\r\n\" style=\"fill:#1f77b4;\"/>\r\n   </g>\r\n   <g id=\"patch_374\">\r\n    <path clip-path=\"url(#pe188fe85e9)\" d=\"M 292.74975 224.64 \r\nL 293.358477 224.64 \r\nL 293.358477 224.64 \r\nL 292.74975 224.64 \r\nz\r\n\" style=\"fill:#1f77b4;\"/>\r\n   </g>\r\n   <g id=\"patch_375\">\r\n    <path clip-path=\"url(#pe188fe85e9)\" d=\"M 293.358477 224.64 \r\nL 293.967205 224.64 \r\nL 293.967205 224.63714 \r\nL 293.358477 224.63714 \r\nz\r\n\" style=\"fill:#1f77b4;\"/>\r\n   </g>\r\n   <g id=\"patch_376\">\r\n    <path clip-path=\"url(#pe188fe85e9)\" d=\"M 293.967205 224.64 \r\nL 294.575932 224.64 \r\nL 294.575932 224.64 \r\nL 293.967205 224.64 \r\nz\r\n\" style=\"fill:#1f77b4;\"/>\r\n   </g>\r\n   <g id=\"patch_377\">\r\n    <path clip-path=\"url(#pe188fe85e9)\" d=\"M 294.575932 224.64 \r\nL 295.184659 224.64 \r\nL 295.184659 224.64 \r\nL 294.575932 224.64 \r\nz\r\n\" style=\"fill:#1f77b4;\"/>\r\n   </g>\r\n   <g id=\"patch_378\">\r\n    <path clip-path=\"url(#pe188fe85e9)\" d=\"M 295.184659 224.64 \r\nL 295.793386 224.64 \r\nL 295.793386 224.63714 \r\nL 295.184659 224.63714 \r\nz\r\n\" style=\"fill:#1f77b4;\"/>\r\n   </g>\r\n   <g id=\"patch_379\">\r\n    <path clip-path=\"url(#pe188fe85e9)\" d=\"M 295.793386 224.64 \r\nL 296.402114 224.64 \r\nL 296.402114 224.64 \r\nL 295.793386 224.64 \r\nz\r\n\" style=\"fill:#1f77b4;\"/>\r\n   </g>\r\n   <g id=\"patch_380\">\r\n    <path clip-path=\"url(#pe188fe85e9)\" d=\"M 296.402114 224.64 \r\nL 297.010841 224.64 \r\nL 297.010841 224.64 \r\nL 296.402114 224.64 \r\nz\r\n\" style=\"fill:#1f77b4;\"/>\r\n   </g>\r\n   <g id=\"patch_381\">\r\n    <path clip-path=\"url(#pe188fe85e9)\" d=\"M 297.010841 224.64 \r\nL 297.619568 224.64 \r\nL 297.619568 224.64 \r\nL 297.010841 224.64 \r\nz\r\n\" style=\"fill:#1f77b4;\"/>\r\n   </g>\r\n   <g id=\"patch_382\">\r\n    <path clip-path=\"url(#pe188fe85e9)\" d=\"M 297.619568 224.64 \r\nL 298.228295 224.64 \r\nL 298.228295 224.64 \r\nL 297.619568 224.64 \r\nz\r\n\" style=\"fill:#1f77b4;\"/>\r\n   </g>\r\n   <g id=\"patch_383\">\r\n    <path clip-path=\"url(#pe188fe85e9)\" d=\"M 298.228295 224.64 \r\nL 298.837023 224.64 \r\nL 298.837023 224.64 \r\nL 298.228295 224.64 \r\nz\r\n\" style=\"fill:#1f77b4;\"/>\r\n   </g>\r\n   <g id=\"patch_384\">\r\n    <path clip-path=\"url(#pe188fe85e9)\" d=\"M 298.837023 224.64 \r\nL 299.44575 224.64 \r\nL 299.44575 224.64 \r\nL 298.837023 224.64 \r\nz\r\n\" style=\"fill:#1f77b4;\"/>\r\n   </g>\r\n   <g id=\"patch_385\">\r\n    <path clip-path=\"url(#pe188fe85e9)\" d=\"M 299.44575 224.64 \r\nL 300.054477 224.64 \r\nL 300.054477 224.64 \r\nL 299.44575 224.64 \r\nz\r\n\" style=\"fill:#1f77b4;\"/>\r\n   </g>\r\n   <g id=\"patch_386\">\r\n    <path clip-path=\"url(#pe188fe85e9)\" d=\"M 300.054477 224.64 \r\nL 300.663205 224.64 \r\nL 300.663205 224.63714 \r\nL 300.054477 224.63714 \r\nz\r\n\" style=\"fill:#1f77b4;\"/>\r\n   </g>\r\n   <g id=\"patch_387\">\r\n    <path clip-path=\"url(#pe188fe85e9)\" d=\"M 300.663205 224.64 \r\nL 301.271932 224.64 \r\nL 301.271932 224.64 \r\nL 300.663205 224.64 \r\nz\r\n\" style=\"fill:#1f77b4;\"/>\r\n   </g>\r\n   <g id=\"patch_388\">\r\n    <path clip-path=\"url(#pe188fe85e9)\" d=\"M 301.271932 224.64 \r\nL 301.880659 224.64 \r\nL 301.880659 224.64 \r\nL 301.271932 224.64 \r\nz\r\n\" style=\"fill:#1f77b4;\"/>\r\n   </g>\r\n   <g id=\"patch_389\">\r\n    <path clip-path=\"url(#pe188fe85e9)\" d=\"M 301.880659 224.64 \r\nL 302.489386 224.64 \r\nL 302.489386 224.64 \r\nL 301.880659 224.64 \r\nz\r\n\" style=\"fill:#1f77b4;\"/>\r\n   </g>\r\n   <g id=\"patch_390\">\r\n    <path clip-path=\"url(#pe188fe85e9)\" d=\"M 302.489386 224.64 \r\nL 303.098114 224.64 \r\nL 303.098114 224.64 \r\nL 302.489386 224.64 \r\nz\r\n\" style=\"fill:#1f77b4;\"/>\r\n   </g>\r\n   <g id=\"patch_391\">\r\n    <path clip-path=\"url(#pe188fe85e9)\" d=\"M 303.098114 224.64 \r\nL 303.706841 224.64 \r\nL 303.706841 224.64 \r\nL 303.098114 224.64 \r\nz\r\n\" style=\"fill:#1f77b4;\"/>\r\n   </g>\r\n   <g id=\"patch_392\">\r\n    <path clip-path=\"url(#pe188fe85e9)\" d=\"M 303.706841 224.64 \r\nL 304.315568 224.64 \r\nL 304.315568 224.64 \r\nL 303.706841 224.64 \r\nz\r\n\" style=\"fill:#1f77b4;\"/>\r\n   </g>\r\n   <g id=\"patch_393\">\r\n    <path clip-path=\"url(#pe188fe85e9)\" d=\"M 304.315568 224.64 \r\nL 304.924295 224.64 \r\nL 304.924295 224.64 \r\nL 304.315568 224.64 \r\nz\r\n\" style=\"fill:#1f77b4;\"/>\r\n   </g>\r\n   <g id=\"patch_394\">\r\n    <path clip-path=\"url(#pe188fe85e9)\" d=\"M 304.924295 224.64 \r\nL 305.533023 224.64 \r\nL 305.533023 224.64 \r\nL 304.924295 224.64 \r\nz\r\n\" style=\"fill:#1f77b4;\"/>\r\n   </g>\r\n   <g id=\"patch_395\">\r\n    <path clip-path=\"url(#pe188fe85e9)\" d=\"M 305.533023 224.64 \r\nL 306.14175 224.64 \r\nL 306.14175 224.64 \r\nL 305.533023 224.64 \r\nz\r\n\" style=\"fill:#1f77b4;\"/>\r\n   </g>\r\n   <g id=\"patch_396\">\r\n    <path clip-path=\"url(#pe188fe85e9)\" d=\"M 306.14175 224.64 \r\nL 306.750477 224.64 \r\nL 306.750477 224.64 \r\nL 306.14175 224.64 \r\nz\r\n\" style=\"fill:#1f77b4;\"/>\r\n   </g>\r\n   <g id=\"patch_397\">\r\n    <path clip-path=\"url(#pe188fe85e9)\" d=\"M 306.750477 224.64 \r\nL 307.359205 224.64 \r\nL 307.359205 224.63714 \r\nL 306.750477 224.63714 \r\nz\r\n\" style=\"fill:#1f77b4;\"/>\r\n   </g>\r\n   <g id=\"patch_398\">\r\n    <path clip-path=\"url(#pe188fe85e9)\" d=\"M 307.359205 224.64 \r\nL 307.967932 224.64 \r\nL 307.967932 224.63714 \r\nL 307.359205 224.63714 \r\nz\r\n\" style=\"fill:#1f77b4;\"/>\r\n   </g>\r\n   <g id=\"patch_399\">\r\n    <path clip-path=\"url(#pe188fe85e9)\" d=\"M 307.967932 224.64 \r\nL 308.576659 224.64 \r\nL 308.576659 224.63714 \r\nL 307.967932 224.63714 \r\nz\r\n\" style=\"fill:#1f77b4;\"/>\r\n   </g>\r\n   <g id=\"patch_400\">\r\n    <path clip-path=\"url(#pe188fe85e9)\" d=\"M 308.576659 224.64 \r\nL 309.185386 224.64 \r\nL 309.185386 224.64 \r\nL 308.576659 224.64 \r\nz\r\n\" style=\"fill:#1f77b4;\"/>\r\n   </g>\r\n   <g id=\"patch_401\">\r\n    <path clip-path=\"url(#pe188fe85e9)\" d=\"M 309.185386 224.64 \r\nL 309.794114 224.64 \r\nL 309.794114 224.64 \r\nL 309.185386 224.64 \r\nz\r\n\" style=\"fill:#1f77b4;\"/>\r\n   </g>\r\n   <g id=\"patch_402\">\r\n    <path clip-path=\"url(#pe188fe85e9)\" d=\"M 309.794114 224.64 \r\nL 310.402841 224.64 \r\nL 310.402841 224.63714 \r\nL 309.794114 224.63714 \r\nz\r\n\" style=\"fill:#1f77b4;\"/>\r\n   </g>\r\n   <g id=\"patch_403\">\r\n    <path clip-path=\"url(#pe188fe85e9)\" d=\"M 310.402841 224.64 \r\nL 311.011568 224.64 \r\nL 311.011568 224.64 \r\nL 310.402841 224.64 \r\nz\r\n\" style=\"fill:#1f77b4;\"/>\r\n   </g>\r\n   <g id=\"patch_404\">\r\n    <path clip-path=\"url(#pe188fe85e9)\" d=\"M 311.011568 224.64 \r\nL 311.620295 224.64 \r\nL 311.620295 224.64 \r\nL 311.011568 224.64 \r\nz\r\n\" style=\"fill:#1f77b4;\"/>\r\n   </g>\r\n   <g id=\"patch_405\">\r\n    <path clip-path=\"url(#pe188fe85e9)\" d=\"M 311.620295 224.64 \r\nL 312.229023 224.64 \r\nL 312.229023 224.64 \r\nL 311.620295 224.64 \r\nz\r\n\" style=\"fill:#1f77b4;\"/>\r\n   </g>\r\n   <g id=\"patch_406\">\r\n    <path clip-path=\"url(#pe188fe85e9)\" d=\"M 312.229023 224.64 \r\nL 312.83775 224.64 \r\nL 312.83775 224.63714 \r\nL 312.229023 224.63714 \r\nz\r\n\" style=\"fill:#1f77b4;\"/>\r\n   </g>\r\n   <g id=\"patch_407\">\r\n    <path clip-path=\"url(#pe188fe85e9)\" d=\"M 312.83775 224.64 \r\nL 313.446477 224.64 \r\nL 313.446477 224.64 \r\nL 312.83775 224.64 \r\nz\r\n\" style=\"fill:#1f77b4;\"/>\r\n   </g>\r\n   <g id=\"patch_408\">\r\n    <path clip-path=\"url(#pe188fe85e9)\" d=\"M 313.446477 224.64 \r\nL 314.055205 224.64 \r\nL 314.055205 224.64 \r\nL 313.446477 224.64 \r\nz\r\n\" style=\"fill:#1f77b4;\"/>\r\n   </g>\r\n   <g id=\"patch_409\">\r\n    <path clip-path=\"url(#pe188fe85e9)\" d=\"M 314.055205 224.64 \r\nL 314.663932 224.64 \r\nL 314.663932 224.64 \r\nL 314.055205 224.64 \r\nz\r\n\" style=\"fill:#1f77b4;\"/>\r\n   </g>\r\n   <g id=\"patch_410\">\r\n    <path clip-path=\"url(#pe188fe85e9)\" d=\"M 314.663932 224.64 \r\nL 315.272659 224.64 \r\nL 315.272659 224.64 \r\nL 314.663932 224.64 \r\nz\r\n\" style=\"fill:#1f77b4;\"/>\r\n   </g>\r\n   <g id=\"patch_411\">\r\n    <path clip-path=\"url(#pe188fe85e9)\" d=\"M 315.272659 224.64 \r\nL 315.881386 224.64 \r\nL 315.881386 224.64 \r\nL 315.272659 224.64 \r\nz\r\n\" style=\"fill:#1f77b4;\"/>\r\n   </g>\r\n   <g id=\"patch_412\">\r\n    <path clip-path=\"url(#pe188fe85e9)\" d=\"M 315.881386 224.64 \r\nL 316.490114 224.64 \r\nL 316.490114 224.64 \r\nL 315.881386 224.64 \r\nz\r\n\" style=\"fill:#1f77b4;\"/>\r\n   </g>\r\n   <g id=\"patch_413\">\r\n    <path clip-path=\"url(#pe188fe85e9)\" d=\"M 316.490114 224.64 \r\nL 317.098841 224.64 \r\nL 317.098841 224.64 \r\nL 316.490114 224.64 \r\nz\r\n\" style=\"fill:#1f77b4;\"/>\r\n   </g>\r\n   <g id=\"patch_414\">\r\n    <path clip-path=\"url(#pe188fe85e9)\" d=\"M 317.098841 224.64 \r\nL 317.707568 224.64 \r\nL 317.707568 224.64 \r\nL 317.098841 224.64 \r\nz\r\n\" style=\"fill:#1f77b4;\"/>\r\n   </g>\r\n   <g id=\"patch_415\">\r\n    <path clip-path=\"url(#pe188fe85e9)\" d=\"M 317.707568 224.64 \r\nL 318.316295 224.64 \r\nL 318.316295 224.64 \r\nL 317.707568 224.64 \r\nz\r\n\" style=\"fill:#1f77b4;\"/>\r\n   </g>\r\n   <g id=\"patch_416\">\r\n    <path clip-path=\"url(#pe188fe85e9)\" d=\"M 318.316295 224.64 \r\nL 318.925023 224.64 \r\nL 318.925023 224.63714 \r\nL 318.316295 224.63714 \r\nz\r\n\" style=\"fill:#1f77b4;\"/>\r\n   </g>\r\n   <g id=\"patch_417\">\r\n    <path clip-path=\"url(#pe188fe85e9)\" d=\"M 318.925023 224.64 \r\nL 319.53375 224.64 \r\nL 319.53375 224.64 \r\nL 318.925023 224.64 \r\nz\r\n\" style=\"fill:#1f77b4;\"/>\r\n   </g>\r\n   <g id=\"patch_418\">\r\n    <path clip-path=\"url(#pe188fe85e9)\" d=\"M 319.53375 224.64 \r\nL 320.142477 224.64 \r\nL 320.142477 224.64 \r\nL 319.53375 224.64 \r\nz\r\n\" style=\"fill:#1f77b4;\"/>\r\n   </g>\r\n   <g id=\"patch_419\">\r\n    <path clip-path=\"url(#pe188fe85e9)\" d=\"M 320.142477 224.64 \r\nL 320.751205 224.64 \r\nL 320.751205 224.64 \r\nL 320.142477 224.64 \r\nz\r\n\" style=\"fill:#1f77b4;\"/>\r\n   </g>\r\n   <g id=\"patch_420\">\r\n    <path clip-path=\"url(#pe188fe85e9)\" d=\"M 320.751205 224.64 \r\nL 321.359932 224.64 \r\nL 321.359932 224.64 \r\nL 320.751205 224.64 \r\nz\r\n\" style=\"fill:#1f77b4;\"/>\r\n   </g>\r\n   <g id=\"patch_421\">\r\n    <path clip-path=\"url(#pe188fe85e9)\" d=\"M 321.359932 224.64 \r\nL 321.968659 224.64 \r\nL 321.968659 224.64 \r\nL 321.359932 224.64 \r\nz\r\n\" style=\"fill:#1f77b4;\"/>\r\n   </g>\r\n   <g id=\"patch_422\">\r\n    <path clip-path=\"url(#pe188fe85e9)\" d=\"M 321.968659 224.64 \r\nL 322.577386 224.64 \r\nL 322.577386 224.64 \r\nL 321.968659 224.64 \r\nz\r\n\" style=\"fill:#1f77b4;\"/>\r\n   </g>\r\n   <g id=\"patch_423\">\r\n    <path clip-path=\"url(#pe188fe85e9)\" d=\"M 322.577386 224.64 \r\nL 323.186114 224.64 \r\nL 323.186114 224.64 \r\nL 322.577386 224.64 \r\nz\r\n\" style=\"fill:#1f77b4;\"/>\r\n   </g>\r\n   <g id=\"patch_424\">\r\n    <path clip-path=\"url(#pe188fe85e9)\" d=\"M 323.186114 224.64 \r\nL 323.794841 224.64 \r\nL 323.794841 224.64 \r\nL 323.186114 224.64 \r\nz\r\n\" style=\"fill:#1f77b4;\"/>\r\n   </g>\r\n   <g id=\"patch_425\">\r\n    <path clip-path=\"url(#pe188fe85e9)\" d=\"M 323.794841 224.64 \r\nL 324.403568 224.64 \r\nL 324.403568 224.64 \r\nL 323.794841 224.64 \r\nz\r\n\" style=\"fill:#1f77b4;\"/>\r\n   </g>\r\n   <g id=\"patch_426\">\r\n    <path clip-path=\"url(#pe188fe85e9)\" d=\"M 324.403568 224.64 \r\nL 325.012295 224.64 \r\nL 325.012295 224.64 \r\nL 324.403568 224.64 \r\nz\r\n\" style=\"fill:#1f77b4;\"/>\r\n   </g>\r\n   <g id=\"patch_427\">\r\n    <path clip-path=\"url(#pe188fe85e9)\" d=\"M 325.012295 224.64 \r\nL 325.621023 224.64 \r\nL 325.621023 224.64 \r\nL 325.012295 224.64 \r\nz\r\n\" style=\"fill:#1f77b4;\"/>\r\n   </g>\r\n   <g id=\"patch_428\">\r\n    <path clip-path=\"url(#pe188fe85e9)\" d=\"M 325.621023 224.64 \r\nL 326.22975 224.64 \r\nL 326.22975 224.64 \r\nL 325.621023 224.64 \r\nz\r\n\" style=\"fill:#1f77b4;\"/>\r\n   </g>\r\n   <g id=\"patch_429\">\r\n    <path clip-path=\"url(#pe188fe85e9)\" d=\"M 326.22975 224.64 \r\nL 326.838477 224.64 \r\nL 326.838477 224.64 \r\nL 326.22975 224.64 \r\nz\r\n\" style=\"fill:#1f77b4;\"/>\r\n   </g>\r\n   <g id=\"patch_430\">\r\n    <path clip-path=\"url(#pe188fe85e9)\" d=\"M 326.838477 224.64 \r\nL 327.447205 224.64 \r\nL 327.447205 224.64 \r\nL 326.838477 224.64 \r\nz\r\n\" style=\"fill:#1f77b4;\"/>\r\n   </g>\r\n   <g id=\"patch_431\">\r\n    <path clip-path=\"url(#pe188fe85e9)\" d=\"M 327.447205 224.64 \r\nL 328.055932 224.64 \r\nL 328.055932 224.64 \r\nL 327.447205 224.64 \r\nz\r\n\" style=\"fill:#1f77b4;\"/>\r\n   </g>\r\n   <g id=\"patch_432\">\r\n    <path clip-path=\"url(#pe188fe85e9)\" d=\"M 328.055932 224.64 \r\nL 328.664659 224.64 \r\nL 328.664659 224.64 \r\nL 328.055932 224.64 \r\nz\r\n\" style=\"fill:#1f77b4;\"/>\r\n   </g>\r\n   <g id=\"patch_433\">\r\n    <path clip-path=\"url(#pe188fe85e9)\" d=\"M 328.664659 224.64 \r\nL 329.273386 224.64 \r\nL 329.273386 224.64 \r\nL 328.664659 224.64 \r\nz\r\n\" style=\"fill:#1f77b4;\"/>\r\n   </g>\r\n   <g id=\"patch_434\">\r\n    <path clip-path=\"url(#pe188fe85e9)\" d=\"M 329.273386 224.64 \r\nL 329.882114 224.64 \r\nL 329.882114 224.64 \r\nL 329.273386 224.64 \r\nz\r\n\" style=\"fill:#1f77b4;\"/>\r\n   </g>\r\n   <g id=\"patch_435\">\r\n    <path clip-path=\"url(#pe188fe85e9)\" d=\"M 329.882114 224.64 \r\nL 330.490841 224.64 \r\nL 330.490841 224.64 \r\nL 329.882114 224.64 \r\nz\r\n\" style=\"fill:#1f77b4;\"/>\r\n   </g>\r\n   <g id=\"patch_436\">\r\n    <path clip-path=\"url(#pe188fe85e9)\" d=\"M 330.490841 224.64 \r\nL 331.099568 224.64 \r\nL 331.099568 224.64 \r\nL 330.490841 224.64 \r\nz\r\n\" style=\"fill:#1f77b4;\"/>\r\n   </g>\r\n   <g id=\"patch_437\">\r\n    <path clip-path=\"url(#pe188fe85e9)\" d=\"M 331.099568 224.64 \r\nL 331.708295 224.64 \r\nL 331.708295 224.64 \r\nL 331.099568 224.64 \r\nz\r\n\" style=\"fill:#1f77b4;\"/>\r\n   </g>\r\n   <g id=\"patch_438\">\r\n    <path clip-path=\"url(#pe188fe85e9)\" d=\"M 331.708295 224.64 \r\nL 332.317023 224.64 \r\nL 332.317023 224.64 \r\nL 331.708295 224.64 \r\nz\r\n\" style=\"fill:#1f77b4;\"/>\r\n   </g>\r\n   <g id=\"patch_439\">\r\n    <path clip-path=\"url(#pe188fe85e9)\" d=\"M 332.317023 224.64 \r\nL 332.92575 224.64 \r\nL 332.92575 224.63714 \r\nL 332.317023 224.63714 \r\nz\r\n\" style=\"fill:#1f77b4;\"/>\r\n   </g>\r\n   <g id=\"patch_440\">\r\n    <path clip-path=\"url(#pe188fe85e9)\" d=\"M 332.92575 224.64 \r\nL 333.534477 224.64 \r\nL 333.534477 224.63714 \r\nL 332.92575 224.63714 \r\nz\r\n\" style=\"fill:#1f77b4;\"/>\r\n   </g>\r\n   <g id=\"patch_441\">\r\n    <path clip-path=\"url(#pe188fe85e9)\" d=\"M 333.534477 224.64 \r\nL 334.143205 224.64 \r\nL 334.143205 224.64 \r\nL 333.534477 224.64 \r\nz\r\n\" style=\"fill:#1f77b4;\"/>\r\n   </g>\r\n   <g id=\"patch_442\">\r\n    <path clip-path=\"url(#pe188fe85e9)\" d=\"M 334.143205 224.64 \r\nL 334.751932 224.64 \r\nL 334.751932 224.64 \r\nL 334.143205 224.64 \r\nz\r\n\" style=\"fill:#1f77b4;\"/>\r\n   </g>\r\n   <g id=\"patch_443\">\r\n    <path clip-path=\"url(#pe188fe85e9)\" d=\"M 334.751932 224.64 \r\nL 335.360659 224.64 \r\nL 335.360659 224.64 \r\nL 334.751932 224.64 \r\nz\r\n\" style=\"fill:#1f77b4;\"/>\r\n   </g>\r\n   <g id=\"patch_444\">\r\n    <path clip-path=\"url(#pe188fe85e9)\" d=\"M 335.360659 224.64 \r\nL 335.969386 224.64 \r\nL 335.969386 224.64 \r\nL 335.360659 224.64 \r\nz\r\n\" style=\"fill:#1f77b4;\"/>\r\n   </g>\r\n   <g id=\"patch_445\">\r\n    <path clip-path=\"url(#pe188fe85e9)\" d=\"M 335.969386 224.64 \r\nL 336.578114 224.64 \r\nL 336.578114 224.64 \r\nL 335.969386 224.64 \r\nz\r\n\" style=\"fill:#1f77b4;\"/>\r\n   </g>\r\n   <g id=\"patch_446\">\r\n    <path clip-path=\"url(#pe188fe85e9)\" d=\"M 336.578114 224.64 \r\nL 337.186841 224.64 \r\nL 337.186841 224.64 \r\nL 336.578114 224.64 \r\nz\r\n\" style=\"fill:#1f77b4;\"/>\r\n   </g>\r\n   <g id=\"patch_447\">\r\n    <path clip-path=\"url(#pe188fe85e9)\" d=\"M 337.186841 224.64 \r\nL 337.795568 224.64 \r\nL 337.795568 224.64 \r\nL 337.186841 224.64 \r\nz\r\n\" style=\"fill:#1f77b4;\"/>\r\n   </g>\r\n   <g id=\"patch_448\">\r\n    <path clip-path=\"url(#pe188fe85e9)\" d=\"M 337.795568 224.64 \r\nL 338.404295 224.64 \r\nL 338.404295 224.63714 \r\nL 337.795568 224.63714 \r\nz\r\n\" style=\"fill:#1f77b4;\"/>\r\n   </g>\r\n   <g id=\"patch_449\">\r\n    <path clip-path=\"url(#pe188fe85e9)\" d=\"M 338.404295 224.64 \r\nL 339.013023 224.64 \r\nL 339.013023 224.64 \r\nL 338.404295 224.64 \r\nz\r\n\" style=\"fill:#1f77b4;\"/>\r\n   </g>\r\n   <g id=\"patch_450\">\r\n    <path clip-path=\"url(#pe188fe85e9)\" d=\"M 339.013023 224.64 \r\nL 339.62175 224.64 \r\nL 339.62175 224.64 \r\nL 339.013023 224.64 \r\nz\r\n\" style=\"fill:#1f77b4;\"/>\r\n   </g>\r\n   <g id=\"patch_451\">\r\n    <path clip-path=\"url(#pe188fe85e9)\" d=\"M 339.62175 224.64 \r\nL 340.230477 224.64 \r\nL 340.230477 224.64 \r\nL 339.62175 224.64 \r\nz\r\n\" style=\"fill:#1f77b4;\"/>\r\n   </g>\r\n   <g id=\"patch_452\">\r\n    <path clip-path=\"url(#pe188fe85e9)\" d=\"M 340.230477 224.64 \r\nL 340.839205 224.64 \r\nL 340.839205 224.63714 \r\nL 340.230477 224.63714 \r\nz\r\n\" style=\"fill:#1f77b4;\"/>\r\n   </g>\r\n   <g id=\"patch_453\">\r\n    <path clip-path=\"url(#pe188fe85e9)\" d=\"M 340.839205 224.64 \r\nL 341.447932 224.64 \r\nL 341.447932 224.64 \r\nL 340.839205 224.64 \r\nz\r\n\" style=\"fill:#1f77b4;\"/>\r\n   </g>\r\n   <g id=\"patch_454\">\r\n    <path clip-path=\"url(#pe188fe85e9)\" d=\"M 341.447932 224.64 \r\nL 342.056659 224.64 \r\nL 342.056659 224.64 \r\nL 341.447932 224.64 \r\nz\r\n\" style=\"fill:#1f77b4;\"/>\r\n   </g>\r\n   <g id=\"patch_455\">\r\n    <path clip-path=\"url(#pe188fe85e9)\" d=\"M 342.056659 224.64 \r\nL 342.665386 224.64 \r\nL 342.665386 224.64 \r\nL 342.056659 224.64 \r\nz\r\n\" style=\"fill:#1f77b4;\"/>\r\n   </g>\r\n   <g id=\"patch_456\">\r\n    <path clip-path=\"url(#pe188fe85e9)\" d=\"M 342.665386 224.64 \r\nL 343.274114 224.64 \r\nL 343.274114 224.64 \r\nL 342.665386 224.64 \r\nz\r\n\" style=\"fill:#1f77b4;\"/>\r\n   </g>\r\n   <g id=\"patch_457\">\r\n    <path clip-path=\"url(#pe188fe85e9)\" d=\"M 343.274114 224.64 \r\nL 343.882841 224.64 \r\nL 343.882841 224.64 \r\nL 343.274114 224.64 \r\nz\r\n\" style=\"fill:#1f77b4;\"/>\r\n   </g>\r\n   <g id=\"patch_458\">\r\n    <path clip-path=\"url(#pe188fe85e9)\" d=\"M 343.882841 224.64 \r\nL 344.491568 224.64 \r\nL 344.491568 224.64 \r\nL 343.882841 224.64 \r\nz\r\n\" style=\"fill:#1f77b4;\"/>\r\n   </g>\r\n   <g id=\"patch_459\">\r\n    <path clip-path=\"url(#pe188fe85e9)\" d=\"M 344.491568 224.64 \r\nL 345.100295 224.64 \r\nL 345.100295 224.64 \r\nL 344.491568 224.64 \r\nz\r\n\" style=\"fill:#1f77b4;\"/>\r\n   </g>\r\n   <g id=\"patch_460\">\r\n    <path clip-path=\"url(#pe188fe85e9)\" d=\"M 345.100295 224.64 \r\nL 345.709023 224.64 \r\nL 345.709023 224.64 \r\nL 345.100295 224.64 \r\nz\r\n\" style=\"fill:#1f77b4;\"/>\r\n   </g>\r\n   <g id=\"patch_461\">\r\n    <path clip-path=\"url(#pe188fe85e9)\" d=\"M 345.709023 224.64 \r\nL 346.31775 224.64 \r\nL 346.31775 224.64 \r\nL 345.709023 224.64 \r\nz\r\n\" style=\"fill:#1f77b4;\"/>\r\n   </g>\r\n   <g id=\"patch_462\">\r\n    <path clip-path=\"url(#pe188fe85e9)\" d=\"M 346.31775 224.64 \r\nL 346.926477 224.64 \r\nL 346.926477 224.64 \r\nL 346.31775 224.64 \r\nz\r\n\" style=\"fill:#1f77b4;\"/>\r\n   </g>\r\n   <g id=\"patch_463\">\r\n    <path clip-path=\"url(#pe188fe85e9)\" d=\"M 346.926477 224.64 \r\nL 347.535205 224.64 \r\nL 347.535205 224.64 \r\nL 346.926477 224.64 \r\nz\r\n\" style=\"fill:#1f77b4;\"/>\r\n   </g>\r\n   <g id=\"patch_464\">\r\n    <path clip-path=\"url(#pe188fe85e9)\" d=\"M 347.535205 224.64 \r\nL 348.143932 224.64 \r\nL 348.143932 224.64 \r\nL 347.535205 224.64 \r\nz\r\n\" style=\"fill:#1f77b4;\"/>\r\n   </g>\r\n   <g id=\"patch_465\">\r\n    <path clip-path=\"url(#pe188fe85e9)\" d=\"M 348.143932 224.64 \r\nL 348.752659 224.64 \r\nL 348.752659 224.64 \r\nL 348.143932 224.64 \r\nz\r\n\" style=\"fill:#1f77b4;\"/>\r\n   </g>\r\n   <g id=\"patch_466\">\r\n    <path clip-path=\"url(#pe188fe85e9)\" d=\"M 348.752659 224.64 \r\nL 349.361386 224.64 \r\nL 349.361386 224.64 \r\nL 348.752659 224.64 \r\nz\r\n\" style=\"fill:#1f77b4;\"/>\r\n   </g>\r\n   <g id=\"patch_467\">\r\n    <path clip-path=\"url(#pe188fe85e9)\" d=\"M 349.361386 224.64 \r\nL 349.970114 224.64 \r\nL 349.970114 224.64 \r\nL 349.361386 224.64 \r\nz\r\n\" style=\"fill:#1f77b4;\"/>\r\n   </g>\r\n   <g id=\"patch_468\">\r\n    <path clip-path=\"url(#pe188fe85e9)\" d=\"M 349.970114 224.64 \r\nL 350.578841 224.64 \r\nL 350.578841 224.64 \r\nL 349.970114 224.64 \r\nz\r\n\" style=\"fill:#1f77b4;\"/>\r\n   </g>\r\n   <g id=\"patch_469\">\r\n    <path clip-path=\"url(#pe188fe85e9)\" d=\"M 350.578841 224.64 \r\nL 351.187568 224.64 \r\nL 351.187568 224.64 \r\nL 350.578841 224.64 \r\nz\r\n\" style=\"fill:#1f77b4;\"/>\r\n   </g>\r\n   <g id=\"patch_470\">\r\n    <path clip-path=\"url(#pe188fe85e9)\" d=\"M 351.187568 224.64 \r\nL 351.796295 224.64 \r\nL 351.796295 224.64 \r\nL 351.187568 224.64 \r\nz\r\n\" style=\"fill:#1f77b4;\"/>\r\n   </g>\r\n   <g id=\"patch_471\">\r\n    <path clip-path=\"url(#pe188fe85e9)\" d=\"M 351.796295 224.64 \r\nL 352.405023 224.64 \r\nL 352.405023 224.64 \r\nL 351.796295 224.64 \r\nz\r\n\" style=\"fill:#1f77b4;\"/>\r\n   </g>\r\n   <g id=\"patch_472\">\r\n    <path clip-path=\"url(#pe188fe85e9)\" d=\"M 352.405023 224.64 \r\nL 353.01375 224.64 \r\nL 353.01375 224.64 \r\nL 352.405023 224.64 \r\nz\r\n\" style=\"fill:#1f77b4;\"/>\r\n   </g>\r\n   <g id=\"patch_473\">\r\n    <path clip-path=\"url(#pe188fe85e9)\" d=\"M 353.01375 224.64 \r\nL 353.622477 224.64 \r\nL 353.622477 224.64 \r\nL 353.01375 224.64 \r\nz\r\n\" style=\"fill:#1f77b4;\"/>\r\n   </g>\r\n   <g id=\"patch_474\">\r\n    <path clip-path=\"url(#pe188fe85e9)\" d=\"M 353.622477 224.64 \r\nL 354.231205 224.64 \r\nL 354.231205 224.64 \r\nL 353.622477 224.64 \r\nz\r\n\" style=\"fill:#1f77b4;\"/>\r\n   </g>\r\n   <g id=\"patch_475\">\r\n    <path clip-path=\"url(#pe188fe85e9)\" d=\"M 354.231205 224.64 \r\nL 354.839932 224.64 \r\nL 354.839932 224.64 \r\nL 354.231205 224.64 \r\nz\r\n\" style=\"fill:#1f77b4;\"/>\r\n   </g>\r\n   <g id=\"patch_476\">\r\n    <path clip-path=\"url(#pe188fe85e9)\" d=\"M 354.839932 224.64 \r\nL 355.448659 224.64 \r\nL 355.448659 224.64 \r\nL 354.839932 224.64 \r\nz\r\n\" style=\"fill:#1f77b4;\"/>\r\n   </g>\r\n   <g id=\"patch_477\">\r\n    <path clip-path=\"url(#pe188fe85e9)\" d=\"M 355.448659 224.64 \r\nL 356.057386 224.64 \r\nL 356.057386 224.64 \r\nL 355.448659 224.64 \r\nz\r\n\" style=\"fill:#1f77b4;\"/>\r\n   </g>\r\n   <g id=\"patch_478\">\r\n    <path clip-path=\"url(#pe188fe85e9)\" d=\"M 356.057386 224.64 \r\nL 356.666114 224.64 \r\nL 356.666114 224.64 \r\nL 356.057386 224.64 \r\nz\r\n\" style=\"fill:#1f77b4;\"/>\r\n   </g>\r\n   <g id=\"patch_479\">\r\n    <path clip-path=\"url(#pe188fe85e9)\" d=\"M 356.666114 224.64 \r\nL 357.274841 224.64 \r\nL 357.274841 224.64 \r\nL 356.666114 224.64 \r\nz\r\n\" style=\"fill:#1f77b4;\"/>\r\n   </g>\r\n   <g id=\"patch_480\">\r\n    <path clip-path=\"url(#pe188fe85e9)\" d=\"M 357.274841 224.64 \r\nL 357.883568 224.64 \r\nL 357.883568 224.64 \r\nL 357.274841 224.64 \r\nz\r\n\" style=\"fill:#1f77b4;\"/>\r\n   </g>\r\n   <g id=\"patch_481\">\r\n    <path clip-path=\"url(#pe188fe85e9)\" d=\"M 357.883568 224.64 \r\nL 358.492295 224.64 \r\nL 358.492295 224.64 \r\nL 357.883568 224.64 \r\nz\r\n\" style=\"fill:#1f77b4;\"/>\r\n   </g>\r\n   <g id=\"patch_482\">\r\n    <path clip-path=\"url(#pe188fe85e9)\" d=\"M 358.492295 224.64 \r\nL 359.101023 224.64 \r\nL 359.101023 224.64 \r\nL 358.492295 224.64 \r\nz\r\n\" style=\"fill:#1f77b4;\"/>\r\n   </g>\r\n   <g id=\"patch_483\">\r\n    <path clip-path=\"url(#pe188fe85e9)\" d=\"M 359.101023 224.64 \r\nL 359.70975 224.64 \r\nL 359.70975 224.64 \r\nL 359.101023 224.64 \r\nz\r\n\" style=\"fill:#1f77b4;\"/>\r\n   </g>\r\n   <g id=\"patch_484\">\r\n    <path clip-path=\"url(#pe188fe85e9)\" d=\"M 359.70975 224.64 \r\nL 360.318477 224.64 \r\nL 360.318477 224.64 \r\nL 359.70975 224.64 \r\nz\r\n\" style=\"fill:#1f77b4;\"/>\r\n   </g>\r\n   <g id=\"patch_485\">\r\n    <path clip-path=\"url(#pe188fe85e9)\" d=\"M 360.318477 224.64 \r\nL 360.927205 224.64 \r\nL 360.927205 224.64 \r\nL 360.318477 224.64 \r\nz\r\n\" style=\"fill:#1f77b4;\"/>\r\n   </g>\r\n   <g id=\"patch_486\">\r\n    <path clip-path=\"url(#pe188fe85e9)\" d=\"M 360.927205 224.64 \r\nL 361.535932 224.64 \r\nL 361.535932 224.64 \r\nL 360.927205 224.64 \r\nz\r\n\" style=\"fill:#1f77b4;\"/>\r\n   </g>\r\n   <g id=\"patch_487\">\r\n    <path clip-path=\"url(#pe188fe85e9)\" d=\"M 361.535932 224.64 \r\nL 362.144659 224.64 \r\nL 362.144659 224.64 \r\nL 361.535932 224.64 \r\nz\r\n\" style=\"fill:#1f77b4;\"/>\r\n   </g>\r\n   <g id=\"patch_488\">\r\n    <path clip-path=\"url(#pe188fe85e9)\" d=\"M 362.144659 224.64 \r\nL 362.753386 224.64 \r\nL 362.753386 224.64 \r\nL 362.144659 224.64 \r\nz\r\n\" style=\"fill:#1f77b4;\"/>\r\n   </g>\r\n   <g id=\"patch_489\">\r\n    <path clip-path=\"url(#pe188fe85e9)\" d=\"M 362.753386 224.64 \r\nL 363.362114 224.64 \r\nL 363.362114 224.64 \r\nL 362.753386 224.64 \r\nz\r\n\" style=\"fill:#1f77b4;\"/>\r\n   </g>\r\n   <g id=\"patch_490\">\r\n    <path clip-path=\"url(#pe188fe85e9)\" d=\"M 363.362114 224.64 \r\nL 363.970841 224.64 \r\nL 363.970841 224.64 \r\nL 363.362114 224.64 \r\nz\r\n\" style=\"fill:#1f77b4;\"/>\r\n   </g>\r\n   <g id=\"patch_491\">\r\n    <path clip-path=\"url(#pe188fe85e9)\" d=\"M 363.970841 224.64 \r\nL 364.579568 224.64 \r\nL 364.579568 224.64 \r\nL 363.970841 224.64 \r\nz\r\n\" style=\"fill:#1f77b4;\"/>\r\n   </g>\r\n   <g id=\"patch_492\">\r\n    <path clip-path=\"url(#pe188fe85e9)\" d=\"M 364.579568 224.64 \r\nL 365.188295 224.64 \r\nL 365.188295 224.64 \r\nL 364.579568 224.64 \r\nz\r\n\" style=\"fill:#1f77b4;\"/>\r\n   </g>\r\n   <g id=\"patch_493\">\r\n    <path clip-path=\"url(#pe188fe85e9)\" d=\"M 365.188295 224.64 \r\nL 365.797023 224.64 \r\nL 365.797023 224.64 \r\nL 365.188295 224.64 \r\nz\r\n\" style=\"fill:#1f77b4;\"/>\r\n   </g>\r\n   <g id=\"patch_494\">\r\n    <path clip-path=\"url(#pe188fe85e9)\" d=\"M 365.797023 224.64 \r\nL 366.40575 224.64 \r\nL 366.40575 224.64 \r\nL 365.797023 224.64 \r\nz\r\n\" style=\"fill:#1f77b4;\"/>\r\n   </g>\r\n   <g id=\"patch_495\">\r\n    <path clip-path=\"url(#pe188fe85e9)\" d=\"M 366.40575 224.64 \r\nL 367.014477 224.64 \r\nL 367.014477 224.64 \r\nL 366.40575 224.64 \r\nz\r\n\" style=\"fill:#1f77b4;\"/>\r\n   </g>\r\n   <g id=\"patch_496\">\r\n    <path clip-path=\"url(#pe188fe85e9)\" d=\"M 367.014477 224.64 \r\nL 367.623205 224.64 \r\nL 367.623205 224.64 \r\nL 367.014477 224.64 \r\nz\r\n\" style=\"fill:#1f77b4;\"/>\r\n   </g>\r\n   <g id=\"patch_497\">\r\n    <path clip-path=\"url(#pe188fe85e9)\" d=\"M 367.623205 224.64 \r\nL 368.231932 224.64 \r\nL 368.231932 224.64 \r\nL 367.623205 224.64 \r\nz\r\n\" style=\"fill:#1f77b4;\"/>\r\n   </g>\r\n   <g id=\"patch_498\">\r\n    <path clip-path=\"url(#pe188fe85e9)\" d=\"M 368.231932 224.64 \r\nL 368.840659 224.64 \r\nL 368.840659 224.64 \r\nL 368.231932 224.64 \r\nz\r\n\" style=\"fill:#1f77b4;\"/>\r\n   </g>\r\n   <g id=\"patch_499\">\r\n    <path clip-path=\"url(#pe188fe85e9)\" d=\"M 368.840659 224.64 \r\nL 369.449386 224.64 \r\nL 369.449386 224.64 \r\nL 368.840659 224.64 \r\nz\r\n\" style=\"fill:#1f77b4;\"/>\r\n   </g>\r\n   <g id=\"patch_500\">\r\n    <path clip-path=\"url(#pe188fe85e9)\" d=\"M 369.449386 224.64 \r\nL 370.058114 224.64 \r\nL 370.058114 224.64 \r\nL 369.449386 224.64 \r\nz\r\n\" style=\"fill:#1f77b4;\"/>\r\n   </g>\r\n   <g id=\"patch_501\">\r\n    <path clip-path=\"url(#pe188fe85e9)\" d=\"M 370.058114 224.64 \r\nL 370.666841 224.64 \r\nL 370.666841 224.64 \r\nL 370.058114 224.64 \r\nz\r\n\" style=\"fill:#1f77b4;\"/>\r\n   </g>\r\n   <g id=\"patch_502\">\r\n    <path clip-path=\"url(#pe188fe85e9)\" d=\"M 370.666841 224.64 \r\nL 371.275568 224.64 \r\nL 371.275568 224.63714 \r\nL 370.666841 224.63714 \r\nz\r\n\" style=\"fill:#1f77b4;\"/>\r\n   </g>\r\n   <g id=\"matplotlib.axis_1\">\r\n    <g id=\"xtick_1\">\r\n     <g id=\"line2d_1\">\r\n      <path clip-path=\"url(#pe188fe85e9)\" d=\"M 66.750122 224.64 \r\nL 66.750122 7.2 \r\n\" style=\"fill:none;stroke:#b0b0b0;stroke-linecap:square;\"/>\r\n     </g>\r\n     <g id=\"line2d_2\">\r\n      <defs>\r\n       <path d=\"M 0 0 \r\nL 0 6 \r\n\" id=\"mece336b810\" style=\"stroke:#000000;stroke-width:1.25;\"/>\r\n      </defs>\r\n      <g>\r\n       <use style=\"stroke:#000000;stroke-width:1.25;\" x=\"66.750122\" xlink:href=\"#mece336b810\" y=\"224.64\"/>\r\n      </g>\r\n     </g>\r\n     <g id=\"text_1\">\r\n      <!-- 0 -->\r\n      <g transform=\"translate(63.250747 242.498281)scale(0.11 -0.11)\">\r\n       <defs>\r\n        <path d=\"M 31.78125 66.40625 \r\nQ 24.171875 66.40625 20.328125 58.90625 \r\nQ 16.5 51.421875 16.5 36.375 \r\nQ 16.5 21.390625 20.328125 13.890625 \r\nQ 24.171875 6.390625 31.78125 6.390625 \r\nQ 39.453125 6.390625 43.28125 13.890625 \r\nQ 47.125 21.390625 47.125 36.375 \r\nQ 47.125 51.421875 43.28125 58.90625 \r\nQ 39.453125 66.40625 31.78125 66.40625 \r\nz\r\nM 31.78125 74.21875 \r\nQ 44.046875 74.21875 50.515625 64.515625 \r\nQ 56.984375 54.828125 56.984375 36.375 \r\nQ 56.984375 17.96875 50.515625 8.265625 \r\nQ 44.046875 -1.421875 31.78125 -1.421875 \r\nQ 19.53125 -1.421875 13.0625 8.265625 \r\nQ 6.59375 17.96875 6.59375 36.375 \r\nQ 6.59375 54.828125 13.0625 64.515625 \r\nQ 19.53125 74.21875 31.78125 74.21875 \r\nz\r\n\" id=\"DejaVuSans-48\"/>\r\n       </defs>\r\n       <use xlink:href=\"#DejaVuSans-48\"/>\r\n      </g>\r\n     </g>\r\n    </g>\r\n    <g id=\"xtick_2\">\r\n     <g id=\"line2d_3\">\r\n      <path clip-path=\"url(#pe188fe85e9)\" d=\"M 107.202493 224.64 \r\nL 107.202493 7.2 \r\n\" style=\"fill:none;stroke:#b0b0b0;stroke-linecap:square;\"/>\r\n     </g>\r\n     <g id=\"line2d_4\">\r\n      <g>\r\n       <use style=\"stroke:#000000;stroke-width:1.25;\" x=\"107.202493\" xlink:href=\"#mece336b810\" y=\"224.64\"/>\r\n      </g>\r\n     </g>\r\n     <g id=\"text_2\">\r\n      <!-- 250 -->\r\n      <g transform=\"translate(96.704368 242.498281)scale(0.11 -0.11)\">\r\n       <defs>\r\n        <path d=\"M 19.1875 8.296875 \r\nL 53.609375 8.296875 \r\nL 53.609375 0 \r\nL 7.328125 0 \r\nL 7.328125 8.296875 \r\nQ 12.9375 14.109375 22.625 23.890625 \r\nQ 32.328125 33.6875 34.8125 36.53125 \r\nQ 39.546875 41.84375 41.421875 45.53125 \r\nQ 43.3125 49.21875 43.3125 52.78125 \r\nQ 43.3125 58.59375 39.234375 62.25 \r\nQ 35.15625 65.921875 28.609375 65.921875 \r\nQ 23.96875 65.921875 18.8125 64.3125 \r\nQ 13.671875 62.703125 7.8125 59.421875 \r\nL 7.8125 69.390625 \r\nQ 13.765625 71.78125 18.9375 73 \r\nQ 24.125 74.21875 28.421875 74.21875 \r\nQ 39.75 74.21875 46.484375 68.546875 \r\nQ 53.21875 62.890625 53.21875 53.421875 \r\nQ 53.21875 48.921875 51.53125 44.890625 \r\nQ 49.859375 40.875 45.40625 35.40625 \r\nQ 44.1875 33.984375 37.640625 27.21875 \r\nQ 31.109375 20.453125 19.1875 8.296875 \r\nz\r\n\" id=\"DejaVuSans-50\"/>\r\n        <path d=\"M 10.796875 72.90625 \r\nL 49.515625 72.90625 \r\nL 49.515625 64.59375 \r\nL 19.828125 64.59375 \r\nL 19.828125 46.734375 \r\nQ 21.96875 47.46875 24.109375 47.828125 \r\nQ 26.265625 48.1875 28.421875 48.1875 \r\nQ 40.625 48.1875 47.75 41.5 \r\nQ 54.890625 34.8125 54.890625 23.390625 \r\nQ 54.890625 11.625 47.5625 5.09375 \r\nQ 40.234375 -1.421875 26.90625 -1.421875 \r\nQ 22.3125 -1.421875 17.546875 -0.640625 \r\nQ 12.796875 0.140625 7.71875 1.703125 \r\nL 7.71875 11.625 \r\nQ 12.109375 9.234375 16.796875 8.0625 \r\nQ 21.484375 6.890625 26.703125 6.890625 \r\nQ 35.15625 6.890625 40.078125 11.328125 \r\nQ 45.015625 15.765625 45.015625 23.390625 \r\nQ 45.015625 31 40.078125 35.4375 \r\nQ 35.15625 39.890625 26.703125 39.890625 \r\nQ 22.75 39.890625 18.8125 39.015625 \r\nQ 14.890625 38.140625 10.796875 36.28125 \r\nz\r\n\" id=\"DejaVuSans-53\"/>\r\n       </defs>\r\n       <use xlink:href=\"#DejaVuSans-50\"/>\r\n       <use x=\"63.623047\" xlink:href=\"#DejaVuSans-53\"/>\r\n       <use x=\"127.246094\" xlink:href=\"#DejaVuSans-48\"/>\r\n      </g>\r\n     </g>\r\n    </g>\r\n    <g id=\"xtick_3\">\r\n     <g id=\"line2d_5\">\r\n      <path clip-path=\"url(#pe188fe85e9)\" d=\"M 147.654864 224.64 \r\nL 147.654864 7.2 \r\n\" style=\"fill:none;stroke:#b0b0b0;stroke-linecap:square;\"/>\r\n     </g>\r\n     <g id=\"line2d_6\">\r\n      <g>\r\n       <use style=\"stroke:#000000;stroke-width:1.25;\" x=\"147.654864\" xlink:href=\"#mece336b810\" y=\"224.64\"/>\r\n      </g>\r\n     </g>\r\n     <g id=\"text_3\">\r\n      <!-- 500 -->\r\n      <g transform=\"translate(137.156739 242.498281)scale(0.11 -0.11)\">\r\n       <use xlink:href=\"#DejaVuSans-53\"/>\r\n       <use x=\"63.623047\" xlink:href=\"#DejaVuSans-48\"/>\r\n       <use x=\"127.246094\" xlink:href=\"#DejaVuSans-48\"/>\r\n      </g>\r\n     </g>\r\n    </g>\r\n    <g id=\"xtick_4\">\r\n     <g id=\"line2d_7\">\r\n      <path clip-path=\"url(#pe188fe85e9)\" d=\"M 188.107234 224.64 \r\nL 188.107234 7.2 \r\n\" style=\"fill:none;stroke:#b0b0b0;stroke-linecap:square;\"/>\r\n     </g>\r\n     <g id=\"line2d_8\">\r\n      <g>\r\n       <use style=\"stroke:#000000;stroke-width:1.25;\" x=\"188.107234\" xlink:href=\"#mece336b810\" y=\"224.64\"/>\r\n      </g>\r\n     </g>\r\n     <g id=\"text_4\">\r\n      <!-- 750 -->\r\n      <g transform=\"translate(177.609109 242.498281)scale(0.11 -0.11)\">\r\n       <defs>\r\n        <path d=\"M 8.203125 72.90625 \r\nL 55.078125 72.90625 \r\nL 55.078125 68.703125 \r\nL 28.609375 0 \r\nL 18.3125 0 \r\nL 43.21875 64.59375 \r\nL 8.203125 64.59375 \r\nz\r\n\" id=\"DejaVuSans-55\"/>\r\n       </defs>\r\n       <use xlink:href=\"#DejaVuSans-55\"/>\r\n       <use x=\"63.623047\" xlink:href=\"#DejaVuSans-53\"/>\r\n       <use x=\"127.246094\" xlink:href=\"#DejaVuSans-48\"/>\r\n      </g>\r\n     </g>\r\n    </g>\r\n    <g id=\"xtick_5\">\r\n     <g id=\"line2d_9\">\r\n      <path clip-path=\"url(#pe188fe85e9)\" d=\"M 228.559605 224.64 \r\nL 228.559605 7.2 \r\n\" style=\"fill:none;stroke:#b0b0b0;stroke-linecap:square;\"/>\r\n     </g>\r\n     <g id=\"line2d_10\">\r\n      <g>\r\n       <use style=\"stroke:#000000;stroke-width:1.25;\" x=\"228.559605\" xlink:href=\"#mece336b810\" y=\"224.64\"/>\r\n      </g>\r\n     </g>\r\n     <g id=\"text_5\">\r\n      <!-- 1000 -->\r\n      <g transform=\"translate(214.562105 242.498281)scale(0.11 -0.11)\">\r\n       <defs>\r\n        <path d=\"M 12.40625 8.296875 \r\nL 28.515625 8.296875 \r\nL 28.515625 63.921875 \r\nL 10.984375 60.40625 \r\nL 10.984375 69.390625 \r\nL 28.421875 72.90625 \r\nL 38.28125 72.90625 \r\nL 38.28125 8.296875 \r\nL 54.390625 8.296875 \r\nL 54.390625 0 \r\nL 12.40625 0 \r\nz\r\n\" id=\"DejaVuSans-49\"/>\r\n       </defs>\r\n       <use xlink:href=\"#DejaVuSans-49\"/>\r\n       <use x=\"63.623047\" xlink:href=\"#DejaVuSans-48\"/>\r\n       <use x=\"127.246094\" xlink:href=\"#DejaVuSans-48\"/>\r\n       <use x=\"190.869141\" xlink:href=\"#DejaVuSans-48\"/>\r\n      </g>\r\n     </g>\r\n    </g>\r\n    <g id=\"xtick_6\">\r\n     <g id=\"line2d_11\">\r\n      <path clip-path=\"url(#pe188fe85e9)\" d=\"M 269.011975 224.64 \r\nL 269.011975 7.2 \r\n\" style=\"fill:none;stroke:#b0b0b0;stroke-linecap:square;\"/>\r\n     </g>\r\n     <g id=\"line2d_12\">\r\n      <g>\r\n       <use style=\"stroke:#000000;stroke-width:1.25;\" x=\"269.011975\" xlink:href=\"#mece336b810\" y=\"224.64\"/>\r\n      </g>\r\n     </g>\r\n     <g id=\"text_6\">\r\n      <!-- 1250 -->\r\n      <g transform=\"translate(255.014475 242.498281)scale(0.11 -0.11)\">\r\n       <use xlink:href=\"#DejaVuSans-49\"/>\r\n       <use x=\"63.623047\" xlink:href=\"#DejaVuSans-50\"/>\r\n       <use x=\"127.246094\" xlink:href=\"#DejaVuSans-53\"/>\r\n       <use x=\"190.869141\" xlink:href=\"#DejaVuSans-48\"/>\r\n      </g>\r\n     </g>\r\n    </g>\r\n    <g id=\"xtick_7\">\r\n     <g id=\"line2d_13\">\r\n      <path clip-path=\"url(#pe188fe85e9)\" d=\"M 309.464346 224.64 \r\nL 309.464346 7.2 \r\n\" style=\"fill:none;stroke:#b0b0b0;stroke-linecap:square;\"/>\r\n     </g>\r\n     <g id=\"line2d_14\">\r\n      <g>\r\n       <use style=\"stroke:#000000;stroke-width:1.25;\" x=\"309.464346\" xlink:href=\"#mece336b810\" y=\"224.64\"/>\r\n      </g>\r\n     </g>\r\n     <g id=\"text_7\">\r\n      <!-- 1500 -->\r\n      <g transform=\"translate(295.466846 242.498281)scale(0.11 -0.11)\">\r\n       <use xlink:href=\"#DejaVuSans-49\"/>\r\n       <use x=\"63.623047\" xlink:href=\"#DejaVuSans-53\"/>\r\n       <use x=\"127.246094\" xlink:href=\"#DejaVuSans-48\"/>\r\n       <use x=\"190.869141\" xlink:href=\"#DejaVuSans-48\"/>\r\n      </g>\r\n     </g>\r\n    </g>\r\n    <g id=\"xtick_8\">\r\n     <g id=\"line2d_15\">\r\n      <path clip-path=\"url(#pe188fe85e9)\" d=\"M 349.916717 224.64 \r\nL 349.916717 7.2 \r\n\" style=\"fill:none;stroke:#b0b0b0;stroke-linecap:square;\"/>\r\n     </g>\r\n     <g id=\"line2d_16\">\r\n      <g>\r\n       <use style=\"stroke:#000000;stroke-width:1.25;\" x=\"349.916717\" xlink:href=\"#mece336b810\" y=\"224.64\"/>\r\n      </g>\r\n     </g>\r\n     <g id=\"text_8\">\r\n      <!-- 1750 -->\r\n      <g transform=\"translate(335.919217 242.498281)scale(0.11 -0.11)\">\r\n       <use xlink:href=\"#DejaVuSans-49\"/>\r\n       <use x=\"63.623047\" xlink:href=\"#DejaVuSans-55\"/>\r\n       <use x=\"127.246094\" xlink:href=\"#DejaVuSans-53\"/>\r\n       <use x=\"190.869141\" xlink:href=\"#DejaVuSans-48\"/>\r\n      </g>\r\n     </g>\r\n    </g>\r\n   </g>\r\n   <g id=\"matplotlib.axis_2\">\r\n    <g id=\"ytick_1\">\r\n     <g id=\"line2d_17\">\r\n      <path clip-path=\"url(#pe188fe85e9)\" d=\"M 51.69375 224.64 \r\nL 386.49375 224.64 \r\n\" style=\"fill:none;stroke:#b0b0b0;stroke-linecap:square;\"/>\r\n     </g>\r\n     <g id=\"line2d_18\">\r\n      <defs>\r\n       <path d=\"M 0 0 \r\nL -6 0 \r\n\" id=\"mf77baa38e6\" style=\"stroke:#000000;stroke-width:1.25;\"/>\r\n      </defs>\r\n      <g>\r\n       <use style=\"stroke:#000000;stroke-width:1.25;\" x=\"51.69375\" xlink:href=\"#mf77baa38e6\" y=\"224.64\"/>\r\n      </g>\r\n     </g>\r\n     <g id=\"text_9\">\r\n      <!-- 0 -->\r\n      <g transform=\"translate(35.195 228.819141)scale(0.11 -0.11)\">\r\n       <use xlink:href=\"#DejaVuSans-48\"/>\r\n      </g>\r\n     </g>\r\n    </g>\r\n    <g id=\"ytick_2\">\r\n     <g id=\"line2d_19\">\r\n      <path clip-path=\"url(#pe188fe85e9)\" d=\"M 51.69375 196.038581 \r\nL 386.49375 196.038581 \r\n\" style=\"fill:none;stroke:#b0b0b0;stroke-linecap:square;\"/>\r\n     </g>\r\n     <g id=\"line2d_20\">\r\n      <g>\r\n       <use style=\"stroke:#000000;stroke-width:1.25;\" x=\"51.69375\" xlink:href=\"#mf77baa38e6\" y=\"196.038581\"/>\r\n      </g>\r\n     </g>\r\n     <g id=\"text_10\">\r\n      <!-- 10000 -->\r\n      <g transform=\"translate(7.2 200.217722)scale(0.11 -0.11)\">\r\n       <use xlink:href=\"#DejaVuSans-49\"/>\r\n       <use x=\"63.623047\" xlink:href=\"#DejaVuSans-48\"/>\r\n       <use x=\"127.246094\" xlink:href=\"#DejaVuSans-48\"/>\r\n       <use x=\"190.869141\" xlink:href=\"#DejaVuSans-48\"/>\r\n       <use x=\"254.492188\" xlink:href=\"#DejaVuSans-48\"/>\r\n      </g>\r\n     </g>\r\n    </g>\r\n    <g id=\"ytick_3\">\r\n     <g id=\"line2d_21\">\r\n      <path clip-path=\"url(#pe188fe85e9)\" d=\"M 51.69375 167.437162 \r\nL 386.49375 167.437162 \r\n\" style=\"fill:none;stroke:#b0b0b0;stroke-linecap:square;\"/>\r\n     </g>\r\n     <g id=\"line2d_22\">\r\n      <g>\r\n       <use style=\"stroke:#000000;stroke-width:1.25;\" x=\"51.69375\" xlink:href=\"#mf77baa38e6\" y=\"167.437162\"/>\r\n      </g>\r\n     </g>\r\n     <g id=\"text_11\">\r\n      <!-- 20000 -->\r\n      <g transform=\"translate(7.2 171.616303)scale(0.11 -0.11)\">\r\n       <use xlink:href=\"#DejaVuSans-50\"/>\r\n       <use x=\"63.623047\" xlink:href=\"#DejaVuSans-48\"/>\r\n       <use x=\"127.246094\" xlink:href=\"#DejaVuSans-48\"/>\r\n       <use x=\"190.869141\" xlink:href=\"#DejaVuSans-48\"/>\r\n       <use x=\"254.492188\" xlink:href=\"#DejaVuSans-48\"/>\r\n      </g>\r\n     </g>\r\n    </g>\r\n    <g id=\"ytick_4\">\r\n     <g id=\"line2d_23\">\r\n      <path clip-path=\"url(#pe188fe85e9)\" d=\"M 51.69375 138.835743 \r\nL 386.49375 138.835743 \r\n\" style=\"fill:none;stroke:#b0b0b0;stroke-linecap:square;\"/>\r\n     </g>\r\n     <g id=\"line2d_24\">\r\n      <g>\r\n       <use style=\"stroke:#000000;stroke-width:1.25;\" x=\"51.69375\" xlink:href=\"#mf77baa38e6\" y=\"138.835743\"/>\r\n      </g>\r\n     </g>\r\n     <g id=\"text_12\">\r\n      <!-- 30000 -->\r\n      <g transform=\"translate(7.2 143.014884)scale(0.11 -0.11)\">\r\n       <defs>\r\n        <path d=\"M 40.578125 39.3125 \r\nQ 47.65625 37.796875 51.625 33 \r\nQ 55.609375 28.21875 55.609375 21.1875 \r\nQ 55.609375 10.40625 48.1875 4.484375 \r\nQ 40.765625 -1.421875 27.09375 -1.421875 \r\nQ 22.515625 -1.421875 17.65625 -0.515625 \r\nQ 12.796875 0.390625 7.625 2.203125 \r\nL 7.625 11.71875 \r\nQ 11.71875 9.328125 16.59375 8.109375 \r\nQ 21.484375 6.890625 26.8125 6.890625 \r\nQ 36.078125 6.890625 40.9375 10.546875 \r\nQ 45.796875 14.203125 45.796875 21.1875 \r\nQ 45.796875 27.640625 41.28125 31.265625 \r\nQ 36.765625 34.90625 28.71875 34.90625 \r\nL 20.21875 34.90625 \r\nL 20.21875 43.015625 \r\nL 29.109375 43.015625 \r\nQ 36.375 43.015625 40.234375 45.921875 \r\nQ 44.09375 48.828125 44.09375 54.296875 \r\nQ 44.09375 59.90625 40.109375 62.90625 \r\nQ 36.140625 65.921875 28.71875 65.921875 \r\nQ 24.65625 65.921875 20.015625 65.03125 \r\nQ 15.375 64.15625 9.8125 62.3125 \r\nL 9.8125 71.09375 \r\nQ 15.4375 72.65625 20.34375 73.4375 \r\nQ 25.25 74.21875 29.59375 74.21875 \r\nQ 40.828125 74.21875 47.359375 69.109375 \r\nQ 53.90625 64.015625 53.90625 55.328125 \r\nQ 53.90625 49.265625 50.4375 45.09375 \r\nQ 46.96875 40.921875 40.578125 39.3125 \r\nz\r\n\" id=\"DejaVuSans-51\"/>\r\n       </defs>\r\n       <use xlink:href=\"#DejaVuSans-51\"/>\r\n       <use x=\"63.623047\" xlink:href=\"#DejaVuSans-48\"/>\r\n       <use x=\"127.246094\" xlink:href=\"#DejaVuSans-48\"/>\r\n       <use x=\"190.869141\" xlink:href=\"#DejaVuSans-48\"/>\r\n       <use x=\"254.492188\" xlink:href=\"#DejaVuSans-48\"/>\r\n      </g>\r\n     </g>\r\n    </g>\r\n    <g id=\"ytick_5\">\r\n     <g id=\"line2d_25\">\r\n      <path clip-path=\"url(#pe188fe85e9)\" d=\"M 51.69375 110.234324 \r\nL 386.49375 110.234324 \r\n\" style=\"fill:none;stroke:#b0b0b0;stroke-linecap:square;\"/>\r\n     </g>\r\n     <g id=\"line2d_26\">\r\n      <g>\r\n       <use style=\"stroke:#000000;stroke-width:1.25;\" x=\"51.69375\" xlink:href=\"#mf77baa38e6\" y=\"110.234324\"/>\r\n      </g>\r\n     </g>\r\n     <g id=\"text_13\">\r\n      <!-- 40000 -->\r\n      <g transform=\"translate(7.2 114.413465)scale(0.11 -0.11)\">\r\n       <defs>\r\n        <path d=\"M 37.796875 64.3125 \r\nL 12.890625 25.390625 \r\nL 37.796875 25.390625 \r\nz\r\nM 35.203125 72.90625 \r\nL 47.609375 72.90625 \r\nL 47.609375 25.390625 \r\nL 58.015625 25.390625 \r\nL 58.015625 17.1875 \r\nL 47.609375 17.1875 \r\nL 47.609375 0 \r\nL 37.796875 0 \r\nL 37.796875 17.1875 \r\nL 4.890625 17.1875 \r\nL 4.890625 26.703125 \r\nz\r\n\" id=\"DejaVuSans-52\"/>\r\n       </defs>\r\n       <use xlink:href=\"#DejaVuSans-52\"/>\r\n       <use x=\"63.623047\" xlink:href=\"#DejaVuSans-48\"/>\r\n       <use x=\"127.246094\" xlink:href=\"#DejaVuSans-48\"/>\r\n       <use x=\"190.869141\" xlink:href=\"#DejaVuSans-48\"/>\r\n       <use x=\"254.492188\" xlink:href=\"#DejaVuSans-48\"/>\r\n      </g>\r\n     </g>\r\n    </g>\r\n    <g id=\"ytick_6\">\r\n     <g id=\"line2d_27\">\r\n      <path clip-path=\"url(#pe188fe85e9)\" d=\"M 51.69375 81.632905 \r\nL 386.49375 81.632905 \r\n\" style=\"fill:none;stroke:#b0b0b0;stroke-linecap:square;\"/>\r\n     </g>\r\n     <g id=\"line2d_28\">\r\n      <g>\r\n       <use style=\"stroke:#000000;stroke-width:1.25;\" x=\"51.69375\" xlink:href=\"#mf77baa38e6\" y=\"81.632905\"/>\r\n      </g>\r\n     </g>\r\n     <g id=\"text_14\">\r\n      <!-- 50000 -->\r\n      <g transform=\"translate(7.2 85.812046)scale(0.11 -0.11)\">\r\n       <use xlink:href=\"#DejaVuSans-53\"/>\r\n       <use x=\"63.623047\" xlink:href=\"#DejaVuSans-48\"/>\r\n       <use x=\"127.246094\" xlink:href=\"#DejaVuSans-48\"/>\r\n       <use x=\"190.869141\" xlink:href=\"#DejaVuSans-48\"/>\r\n       <use x=\"254.492188\" xlink:href=\"#DejaVuSans-48\"/>\r\n      </g>\r\n     </g>\r\n    </g>\r\n    <g id=\"ytick_7\">\r\n     <g id=\"line2d_29\">\r\n      <path clip-path=\"url(#pe188fe85e9)\" d=\"M 51.69375 53.031486 \r\nL 386.49375 53.031486 \r\n\" style=\"fill:none;stroke:#b0b0b0;stroke-linecap:square;\"/>\r\n     </g>\r\n     <g id=\"line2d_30\">\r\n      <g>\r\n       <use style=\"stroke:#000000;stroke-width:1.25;\" x=\"51.69375\" xlink:href=\"#mf77baa38e6\" y=\"53.031486\"/>\r\n      </g>\r\n     </g>\r\n     <g id=\"text_15\">\r\n      <!-- 60000 -->\r\n      <g transform=\"translate(7.2 57.210626)scale(0.11 -0.11)\">\r\n       <defs>\r\n        <path d=\"M 33.015625 40.375 \r\nQ 26.375 40.375 22.484375 35.828125 \r\nQ 18.609375 31.296875 18.609375 23.390625 \r\nQ 18.609375 15.53125 22.484375 10.953125 \r\nQ 26.375 6.390625 33.015625 6.390625 \r\nQ 39.65625 6.390625 43.53125 10.953125 \r\nQ 47.40625 15.53125 47.40625 23.390625 \r\nQ 47.40625 31.296875 43.53125 35.828125 \r\nQ 39.65625 40.375 33.015625 40.375 \r\nz\r\nM 52.59375 71.296875 \r\nL 52.59375 62.3125 \r\nQ 48.875 64.0625 45.09375 64.984375 \r\nQ 41.3125 65.921875 37.59375 65.921875 \r\nQ 27.828125 65.921875 22.671875 59.328125 \r\nQ 17.53125 52.734375 16.796875 39.40625 \r\nQ 19.671875 43.65625 24.015625 45.921875 \r\nQ 28.375 48.1875 33.59375 48.1875 \r\nQ 44.578125 48.1875 50.953125 41.515625 \r\nQ 57.328125 34.859375 57.328125 23.390625 \r\nQ 57.328125 12.15625 50.6875 5.359375 \r\nQ 44.046875 -1.421875 33.015625 -1.421875 \r\nQ 20.359375 -1.421875 13.671875 8.265625 \r\nQ 6.984375 17.96875 6.984375 36.375 \r\nQ 6.984375 53.65625 15.1875 63.9375 \r\nQ 23.390625 74.21875 37.203125 74.21875 \r\nQ 40.921875 74.21875 44.703125 73.484375 \r\nQ 48.484375 72.75 52.59375 71.296875 \r\nz\r\n\" id=\"DejaVuSans-54\"/>\r\n       </defs>\r\n       <use xlink:href=\"#DejaVuSans-54\"/>\r\n       <use x=\"63.623047\" xlink:href=\"#DejaVuSans-48\"/>\r\n       <use x=\"127.246094\" xlink:href=\"#DejaVuSans-48\"/>\r\n       <use x=\"190.869141\" xlink:href=\"#DejaVuSans-48\"/>\r\n       <use x=\"254.492188\" xlink:href=\"#DejaVuSans-48\"/>\r\n      </g>\r\n     </g>\r\n    </g>\r\n    <g id=\"ytick_8\">\r\n     <g id=\"line2d_31\">\r\n      <path clip-path=\"url(#pe188fe85e9)\" d=\"M 51.69375 24.430067 \r\nL 386.49375 24.430067 \r\n\" style=\"fill:none;stroke:#b0b0b0;stroke-linecap:square;\"/>\r\n     </g>\r\n     <g id=\"line2d_32\">\r\n      <g>\r\n       <use style=\"stroke:#000000;stroke-width:1.25;\" x=\"51.69375\" xlink:href=\"#mf77baa38e6\" y=\"24.430067\"/>\r\n      </g>\r\n     </g>\r\n     <g id=\"text_16\">\r\n      <!-- 70000 -->\r\n      <g transform=\"translate(7.2 28.609207)scale(0.11 -0.11)\">\r\n       <use xlink:href=\"#DejaVuSans-55\"/>\r\n       <use x=\"63.623047\" xlink:href=\"#DejaVuSans-48\"/>\r\n       <use x=\"127.246094\" xlink:href=\"#DejaVuSans-48\"/>\r\n       <use x=\"190.869141\" xlink:href=\"#DejaVuSans-48\"/>\r\n       <use x=\"254.492188\" xlink:href=\"#DejaVuSans-48\"/>\r\n      </g>\r\n     </g>\r\n    </g>\r\n   </g>\r\n   <g id=\"patch_503\">\r\n    <path d=\"M 51.69375 224.64 \r\nL 51.69375 7.2 \r\n\" style=\"fill:none;stroke:#000000;stroke-linecap:square;stroke-linejoin:miter;stroke-width:1.25;\"/>\r\n   </g>\r\n   <g id=\"patch_504\">\r\n    <path d=\"M 386.49375 224.64 \r\nL 386.49375 7.2 \r\n\" style=\"fill:none;stroke:#000000;stroke-linecap:square;stroke-linejoin:miter;stroke-width:1.25;\"/>\r\n   </g>\r\n   <g id=\"patch_505\">\r\n    <path d=\"M 51.69375 224.64 \r\nL 386.49375 224.64 \r\n\" style=\"fill:none;stroke:#000000;stroke-linecap:square;stroke-linejoin:miter;stroke-width:1.25;\"/>\r\n   </g>\r\n   <g id=\"patch_506\">\r\n    <path d=\"M 51.69375 7.2 \r\nL 386.49375 7.2 \r\n\" style=\"fill:none;stroke:#000000;stroke-linecap:square;stroke-linejoin:miter;stroke-width:1.25;\"/>\r\n   </g>\r\n  </g>\r\n </g>\r\n <defs>\r\n  <clipPath id=\"pe188fe85e9\">\r\n   <rect height=\"217.44\" width=\"334.8\" x=\"51.69375\" y=\"7.2\"/>\r\n  </clipPath>\r\n </defs>\r\n</svg>\r\n",
      "image/png": "[encoded data removed]"
     },
     "metadata": {
      "needs_background": "light"
     }
    }
   ],
   "source": [
    "segments.seg_length.hist(bins=500)"
   ]
  },
  {
   "cell_type": "markdown",
   "metadata": {},
   "source": [
    "Though most of the transits appear to be short, there are a few longer distances that make the plot difficult to read. This is where a transformation is useful:"
   ]
  },
  {
   "cell_type": "code",
   "execution_count": 8,
   "metadata": {},
   "outputs": [
    {
     "output_type": "execute_result",
     "data": {
      "text/plain": [
       "<AxesSubplot:>"
      ]
     },
     "metadata": {},
     "execution_count": 8
    },
    {
     "output_type": "display_data",
     "data": {
      "text/plain": "<Figure size 432x288 with 1 Axes>",
      "image/svg+xml": "<?xml version=\"1.0\" encoding=\"utf-8\" standalone=\"no\"?>\r\n<!DOCTYPE svg PUBLIC \"-//W3C//DTD SVG 1.1//EN\"\r\n  \"http://www.w3.org/Graphics/SVG/1.1/DTD/svg11.dtd\">\r\n<!-- Created with matplotlib (https://matplotlib.org/) -->\r\n<svg height=\"251.985937pt\" version=\"1.1\" viewBox=\"0 0 386.695 251.985937\" width=\"386.695pt\" xmlns=\"http://www.w3.org/2000/svg\" xmlns:xlink=\"http://www.w3.org/1999/xlink\">\r\n <metadata>\r\n  <rdf:RDF xmlns:cc=\"http://creativecommons.org/ns#\" xmlns:dc=\"http://purl.org/dc/elements/1.1/\" xmlns:rdf=\"http://www.w3.org/1999/02/22-rdf-syntax-ns#\">\r\n   <cc:Work>\r\n    <dc:type rdf:resource=\"http://purl.org/dc/dcmitype/StillImage\"/>\r\n    <dc:date>2021-01-11T07:30:27.823673</dc:date>\r\n    <dc:format>image/svg+xml</dc:format>\r\n    <dc:creator>\r\n     <cc:Agent>\r\n      <dc:title>Matplotlib v3.3.2, https://matplotlib.org/</dc:title>\r\n     </cc:Agent>\r\n    </dc:creator>\r\n   </cc:Work>\r\n  </rdf:RDF>\r\n </metadata>\r\n <defs>\r\n  <style type=\"text/css\">*{stroke-linecap:butt;stroke-linejoin:round;}</style>\r\n </defs>\r\n <g id=\"figure_1\">\r\n  <g id=\"patch_1\">\r\n   <path d=\"M 0 251.985937 \r\nL 386.695 251.985937 \r\nL 386.695 0 \r\nL 0 0 \r\nz\r\n\" style=\"fill:none;\"/>\r\n  </g>\r\n  <g id=\"axes_1\">\r\n   <g id=\"patch_2\">\r\n    <path d=\"M 44.695 224.64 \r\nL 379.495 224.64 \r\nL 379.495 7.2 \r\nL 44.695 7.2 \r\nz\r\n\" style=\"fill:#ffffff;\"/>\r\n   </g>\r\n   <g id=\"patch_3\">\r\n    <path clip-path=\"url(#pb408dbf1fc)\" d=\"M 59.913182 224.64 \r\nL 60.521909 224.64 \r\nL 60.521909 219.784532 \r\nL 59.913182 219.784532 \r\nz\r\n\" style=\"fill:#1f77b4;\"/>\r\n   </g>\r\n   <g id=\"patch_4\">\r\n    <path clip-path=\"url(#pb408dbf1fc)\" d=\"M 60.521909 224.64 \r\nL 61.130636 224.64 \r\nL 61.130636 224.64 \r\nL 60.521909 224.64 \r\nz\r\n\" style=\"fill:#1f77b4;\"/>\r\n   </g>\r\n   <g id=\"patch_5\">\r\n    <path clip-path=\"url(#pb408dbf1fc)\" d=\"M 61.130636 224.64 \r\nL 61.739364 224.64 \r\nL 61.739364 224.64 \r\nL 61.130636 224.64 \r\nz\r\n\" style=\"fill:#1f77b4;\"/>\r\n   </g>\r\n   <g id=\"patch_6\">\r\n    <path clip-path=\"url(#pb408dbf1fc)\" d=\"M 61.739364 224.64 \r\nL 62.348091 224.64 \r\nL 62.348091 224.64 \r\nL 61.739364 224.64 \r\nz\r\n\" style=\"fill:#1f77b4;\"/>\r\n   </g>\r\n   <g id=\"patch_7\">\r\n    <path clip-path=\"url(#pb408dbf1fc)\" d=\"M 62.348091 224.64 \r\nL 62.956818 224.64 \r\nL 62.956818 224.64 \r\nL 62.348091 224.64 \r\nz\r\n\" style=\"fill:#1f77b4;\"/>\r\n   </g>\r\n   <g id=\"patch_8\">\r\n    <path clip-path=\"url(#pb408dbf1fc)\" d=\"M 62.956818 224.64 \r\nL 63.565545 224.64 \r\nL 63.565545 224.64 \r\nL 62.956818 224.64 \r\nz\r\n\" style=\"fill:#1f77b4;\"/>\r\n   </g>\r\n   <g id=\"patch_9\">\r\n    <path clip-path=\"url(#pb408dbf1fc)\" d=\"M 63.565545 224.64 \r\nL 64.174273 224.64 \r\nL 64.174273 216.142931 \r\nL 63.565545 216.142931 \r\nz\r\n\" style=\"fill:#1f77b4;\"/>\r\n   </g>\r\n   <g id=\"patch_10\">\r\n    <path clip-path=\"url(#pb408dbf1fc)\" d=\"M 64.174273 224.64 \r\nL 64.783 224.64 \r\nL 64.783 224.64 \r\nL 64.174273 224.64 \r\nz\r\n\" style=\"fill:#1f77b4;\"/>\r\n   </g>\r\n   <g id=\"patch_11\">\r\n    <path clip-path=\"url(#pb408dbf1fc)\" d=\"M 64.783 224.64 \r\nL 65.391727 224.64 \r\nL 65.391727 224.64 \r\nL 64.783 224.64 \r\nz\r\n\" style=\"fill:#1f77b4;\"/>\r\n   </g>\r\n   <g id=\"patch_12\">\r\n    <path clip-path=\"url(#pb408dbf1fc)\" d=\"M 65.391727 224.64 \r\nL 66.000455 224.64 \r\nL 66.000455 224.64 \r\nL 65.391727 224.64 \r\nz\r\n\" style=\"fill:#1f77b4;\"/>\r\n   </g>\r\n   <g id=\"patch_13\">\r\n    <path clip-path=\"url(#pb408dbf1fc)\" d=\"M 66.000455 224.64 \r\nL 66.609182 224.64 \r\nL 66.609182 224.64 \r\nL 66.000455 224.64 \r\nz\r\n\" style=\"fill:#1f77b4;\"/>\r\n   </g>\r\n   <g id=\"patch_14\">\r\n    <path clip-path=\"url(#pb408dbf1fc)\" d=\"M 66.609182 224.64 \r\nL 67.217909 224.64 \r\nL 67.217909 224.64 \r\nL 66.609182 224.64 \r\nz\r\n\" style=\"fill:#1f77b4;\"/>\r\n   </g>\r\n   <g id=\"patch_15\">\r\n    <path clip-path=\"url(#pb408dbf1fc)\" d=\"M 67.217909 224.64 \r\nL 67.826636 224.64 \r\nL 67.826636 215.833946 \r\nL 67.217909 215.833946 \r\nz\r\n\" style=\"fill:#1f77b4;\"/>\r\n   </g>\r\n   <g id=\"patch_16\">\r\n    <path clip-path=\"url(#pb408dbf1fc)\" d=\"M 67.826636 224.64 \r\nL 68.435364 224.64 \r\nL 68.435364 224.64 \r\nL 67.826636 224.64 \r\nz\r\n\" style=\"fill:#1f77b4;\"/>\r\n   </g>\r\n   <g id=\"patch_17\">\r\n    <path clip-path=\"url(#pb408dbf1fc)\" d=\"M 68.435364 224.64 \r\nL 69.044091 224.64 \r\nL 69.044091 224.64 \r\nL 68.435364 224.64 \r\nz\r\n\" style=\"fill:#1f77b4;\"/>\r\n   </g>\r\n   <g id=\"patch_18\">\r\n    <path clip-path=\"url(#pb408dbf1fc)\" d=\"M 69.044091 224.64 \r\nL 69.652818 224.64 \r\nL 69.652818 224.64 \r\nL 69.044091 224.64 \r\nz\r\n\" style=\"fill:#1f77b4;\"/>\r\n   </g>\r\n   <g id=\"patch_19\">\r\n    <path clip-path=\"url(#pb408dbf1fc)\" d=\"M 69.652818 224.64 \r\nL 70.261545 224.64 \r\nL 70.261545 224.64 \r\nL 69.652818 224.64 \r\nz\r\n\" style=\"fill:#1f77b4;\"/>\r\n   </g>\r\n   <g id=\"patch_20\">\r\n    <path clip-path=\"url(#pb408dbf1fc)\" d=\"M 70.261545 224.64 \r\nL 70.870273 224.64 \r\nL 70.870273 216.672618 \r\nL 70.261545 216.672618 \r\nz\r\n\" style=\"fill:#1f77b4;\"/>\r\n   </g>\r\n   <g id=\"patch_21\">\r\n    <path clip-path=\"url(#pb408dbf1fc)\" d=\"M 70.870273 224.64 \r\nL 71.479 224.64 \r\nL 71.479 224.64 \r\nL 70.870273 224.64 \r\nz\r\n\" style=\"fill:#1f77b4;\"/>\r\n   </g>\r\n   <g id=\"patch_22\">\r\n    <path clip-path=\"url(#pb408dbf1fc)\" d=\"M 71.479 224.64 \r\nL 72.087727 224.64 \r\nL 72.087727 224.64 \r\nL 71.479 224.64 \r\nz\r\n\" style=\"fill:#1f77b4;\"/>\r\n   </g>\r\n   <g id=\"patch_23\">\r\n    <path clip-path=\"url(#pb408dbf1fc)\" d=\"M 72.087727 224.64 \r\nL 72.696455 224.64 \r\nL 72.696455 224.64 \r\nL 72.087727 224.64 \r\nz\r\n\" style=\"fill:#1f77b4;\"/>\r\n   </g>\r\n   <g id=\"patch_24\">\r\n    <path clip-path=\"url(#pb408dbf1fc)\" d=\"M 72.696455 224.64 \r\nL 73.305182 224.64 \r\nL 73.305182 224.64 \r\nL 72.696455 224.64 \r\nz\r\n\" style=\"fill:#1f77b4;\"/>\r\n   </g>\r\n   <g id=\"patch_25\">\r\n    <path clip-path=\"url(#pb408dbf1fc)\" d=\"M 73.305182 224.64 \r\nL 73.913909 224.64 \r\nL 73.913909 217.709923 \r\nL 73.305182 217.709923 \r\nz\r\n\" style=\"fill:#1f77b4;\"/>\r\n   </g>\r\n   <g id=\"patch_26\">\r\n    <path clip-path=\"url(#pb408dbf1fc)\" d=\"M 73.913909 224.64 \r\nL 74.522636 224.64 \r\nL 74.522636 224.64 \r\nL 73.913909 224.64 \r\nz\r\n\" style=\"fill:#1f77b4;\"/>\r\n   </g>\r\n   <g id=\"patch_27\">\r\n    <path clip-path=\"url(#pb408dbf1fc)\" d=\"M 74.522636 224.64 \r\nL 75.131364 224.64 \r\nL 75.131364 224.64 \r\nL 74.522636 224.64 \r\nz\r\n\" style=\"fill:#1f77b4;\"/>\r\n   </g>\r\n   <g id=\"patch_28\">\r\n    <path clip-path=\"url(#pb408dbf1fc)\" d=\"M 75.131364 224.64 \r\nL 75.740091 224.64 \r\nL 75.740091 224.64 \r\nL 75.131364 224.64 \r\nz\r\n\" style=\"fill:#1f77b4;\"/>\r\n   </g>\r\n   <g id=\"patch_29\">\r\n    <path clip-path=\"url(#pb408dbf1fc)\" d=\"M 75.740091 224.64 \r\nL 76.348818 224.64 \r\nL 76.348818 217.930626 \r\nL 75.740091 217.930626 \r\nz\r\n\" style=\"fill:#1f77b4;\"/>\r\n   </g>\r\n   <g id=\"patch_30\">\r\n    <path clip-path=\"url(#pb408dbf1fc)\" d=\"M 76.348818 224.64 \r\nL 76.957545 224.64 \r\nL 76.957545 224.64 \r\nL 76.348818 224.64 \r\nz\r\n\" style=\"fill:#1f77b4;\"/>\r\n   </g>\r\n   <g id=\"patch_31\">\r\n    <path clip-path=\"url(#pb408dbf1fc)\" d=\"M 76.957545 224.64 \r\nL 77.566273 224.64 \r\nL 77.566273 224.64 \r\nL 76.957545 224.64 \r\nz\r\n\" style=\"fill:#1f77b4;\"/>\r\n   </g>\r\n   <g id=\"patch_32\">\r\n    <path clip-path=\"url(#pb408dbf1fc)\" d=\"M 77.566273 224.64 \r\nL 78.175 224.64 \r\nL 78.175 224.64 \r\nL 77.566273 224.64 \r\nz\r\n\" style=\"fill:#1f77b4;\"/>\r\n   </g>\r\n   <g id=\"patch_33\">\r\n    <path clip-path=\"url(#pb408dbf1fc)\" d=\"M 78.175 224.64 \r\nL 78.783727 224.64 \r\nL 78.783727 224.64 \r\nL 78.175 224.64 \r\nz\r\n\" style=\"fill:#1f77b4;\"/>\r\n   </g>\r\n   <g id=\"patch_34\">\r\n    <path clip-path=\"url(#pb408dbf1fc)\" d=\"M 78.783727 224.64 \r\nL 79.392455 224.64 \r\nL 79.392455 218.681016 \r\nL 78.783727 218.681016 \r\nz\r\n\" style=\"fill:#1f77b4;\"/>\r\n   </g>\r\n   <g id=\"patch_35\">\r\n    <path clip-path=\"url(#pb408dbf1fc)\" d=\"M 79.392455 224.64 \r\nL 80.001182 224.64 \r\nL 80.001182 224.64 \r\nL 79.392455 224.64 \r\nz\r\n\" style=\"fill:#1f77b4;\"/>\r\n   </g>\r\n   <g id=\"patch_36\">\r\n    <path clip-path=\"url(#pb408dbf1fc)\" d=\"M 80.001182 224.64 \r\nL 80.609909 224.64 \r\nL 80.609909 224.64 \r\nL 80.001182 224.64 \r\nz\r\n\" style=\"fill:#1f77b4;\"/>\r\n   </g>\r\n   <g id=\"patch_37\">\r\n    <path clip-path=\"url(#pb408dbf1fc)\" d=\"M 80.609909 224.64 \r\nL 81.218636 224.64 \r\nL 81.218636 224.64 \r\nL 80.609909 224.64 \r\nz\r\n\" style=\"fill:#1f77b4;\"/>\r\n   </g>\r\n   <g id=\"patch_38\">\r\n    <path clip-path=\"url(#pb408dbf1fc)\" d=\"M 81.218636 224.64 \r\nL 81.827364 224.64 \r\nL 81.827364 219.365196 \r\nL 81.218636 219.365196 \r\nz\r\n\" style=\"fill:#1f77b4;\"/>\r\n   </g>\r\n   <g id=\"patch_39\">\r\n    <path clip-path=\"url(#pb408dbf1fc)\" d=\"M 81.827364 224.64 \r\nL 82.436091 224.64 \r\nL 82.436091 224.64 \r\nL 81.827364 224.64 \r\nz\r\n\" style=\"fill:#1f77b4;\"/>\r\n   </g>\r\n   <g id=\"patch_40\">\r\n    <path clip-path=\"url(#pb408dbf1fc)\" d=\"M 82.436091 224.64 \r\nL 83.044818 224.64 \r\nL 83.044818 224.64 \r\nL 82.436091 224.64 \r\nz\r\n\" style=\"fill:#1f77b4;\"/>\r\n   </g>\r\n   <g id=\"patch_41\">\r\n    <path clip-path=\"url(#pb408dbf1fc)\" d=\"M 83.044818 224.64 \r\nL 83.653545 224.64 \r\nL 83.653545 219.387266 \r\nL 83.044818 219.387266 \r\nz\r\n\" style=\"fill:#1f77b4;\"/>\r\n   </g>\r\n   <g id=\"patch_42\">\r\n    <path clip-path=\"url(#pb408dbf1fc)\" d=\"M 83.653545 224.64 \r\nL 84.262273 224.64 \r\nL 84.262273 224.64 \r\nL 83.653545 224.64 \r\nz\r\n\" style=\"fill:#1f77b4;\"/>\r\n   </g>\r\n   <g id=\"patch_43\">\r\n    <path clip-path=\"url(#pb408dbf1fc)\" d=\"M 84.262273 224.64 \r\nL 84.871 224.64 \r\nL 84.871 224.64 \r\nL 84.262273 224.64 \r\nz\r\n\" style=\"fill:#1f77b4;\"/>\r\n   </g>\r\n   <g id=\"patch_44\">\r\n    <path clip-path=\"url(#pb408dbf1fc)\" d=\"M 84.871 224.64 \r\nL 85.479727 224.64 \r\nL 85.479727 224.64 \r\nL 84.871 224.64 \r\nz\r\n\" style=\"fill:#1f77b4;\"/>\r\n   </g>\r\n   <g id=\"patch_45\">\r\n    <path clip-path=\"url(#pb408dbf1fc)\" d=\"M 85.479727 224.64 \r\nL 86.088455 224.64 \r\nL 86.088455 219.894883 \r\nL 85.479727 219.894883 \r\nz\r\n\" style=\"fill:#1f77b4;\"/>\r\n   </g>\r\n   <g id=\"patch_46\">\r\n    <path clip-path=\"url(#pb408dbf1fc)\" d=\"M 86.088455 224.64 \r\nL 86.697182 224.64 \r\nL 86.697182 224.64 \r\nL 86.088455 224.64 \r\nz\r\n\" style=\"fill:#1f77b4;\"/>\r\n   </g>\r\n   <g id=\"patch_47\">\r\n    <path clip-path=\"url(#pb408dbf1fc)\" d=\"M 86.697182 224.64 \r\nL 87.305909 224.64 \r\nL 87.305909 224.64 \r\nL 86.697182 224.64 \r\nz\r\n\" style=\"fill:#1f77b4;\"/>\r\n   </g>\r\n   <g id=\"patch_48\">\r\n    <path clip-path=\"url(#pb408dbf1fc)\" d=\"M 87.305909 224.64 \r\nL 87.914636 224.64 \r\nL 87.914636 220.093516 \r\nL 87.305909 220.093516 \r\nz\r\n\" style=\"fill:#1f77b4;\"/>\r\n   </g>\r\n   <g id=\"patch_49\">\r\n    <path clip-path=\"url(#pb408dbf1fc)\" d=\"M 87.914636 224.64 \r\nL 88.523364 224.64 \r\nL 88.523364 224.64 \r\nL 87.914636 224.64 \r\nz\r\n\" style=\"fill:#1f77b4;\"/>\r\n   </g>\r\n   <g id=\"patch_50\">\r\n    <path clip-path=\"url(#pb408dbf1fc)\" d=\"M 88.523364 224.64 \r\nL 89.132091 224.64 \r\nL 89.132091 224.64 \r\nL 88.523364 224.64 \r\nz\r\n\" style=\"fill:#1f77b4;\"/>\r\n   </g>\r\n   <g id=\"patch_51\">\r\n    <path clip-path=\"url(#pb408dbf1fc)\" d=\"M 89.132091 224.64 \r\nL 89.740818 224.64 \r\nL 89.740818 224.64 \r\nL 89.132091 224.64 \r\nz\r\n\" style=\"fill:#1f77b4;\"/>\r\n   </g>\r\n   <g id=\"patch_52\">\r\n    <path clip-path=\"url(#pb408dbf1fc)\" d=\"M 89.740818 224.64 \r\nL 90.349545 224.64 \r\nL 90.349545 220.424571 \r\nL 89.740818 220.424571 \r\nz\r\n\" style=\"fill:#1f77b4;\"/>\r\n   </g>\r\n   <g id=\"patch_53\">\r\n    <path clip-path=\"url(#pb408dbf1fc)\" d=\"M 90.349545 224.64 \r\nL 90.958273 224.64 \r\nL 90.958273 224.64 \r\nL 90.349545 224.64 \r\nz\r\n\" style=\"fill:#1f77b4;\"/>\r\n   </g>\r\n   <g id=\"patch_54\">\r\n    <path clip-path=\"url(#pb408dbf1fc)\" d=\"M 90.958273 224.64 \r\nL 91.567 224.64 \r\nL 91.567 224.64 \r\nL 90.958273 224.64 \r\nz\r\n\" style=\"fill:#1f77b4;\"/>\r\n   </g>\r\n   <g id=\"patch_55\">\r\n    <path clip-path=\"url(#pb408dbf1fc)\" d=\"M 91.567 224.64 \r\nL 92.175727 224.64 \r\nL 92.175727 220.733555 \r\nL 91.567 220.733555 \r\nz\r\n\" style=\"fill:#1f77b4;\"/>\r\n   </g>\r\n   <g id=\"patch_56\">\r\n    <path clip-path=\"url(#pb408dbf1fc)\" d=\"M 92.175727 224.64 \r\nL 92.784455 224.64 \r\nL 92.784455 224.64 \r\nL 92.175727 224.64 \r\nz\r\n\" style=\"fill:#1f77b4;\"/>\r\n   </g>\r\n   <g id=\"patch_57\">\r\n    <path clip-path=\"url(#pb408dbf1fc)\" d=\"M 92.784455 224.64 \r\nL 93.393182 224.64 \r\nL 93.393182 224.64 \r\nL 92.784455 224.64 \r\nz\r\n\" style=\"fill:#1f77b4;\"/>\r\n   </g>\r\n   <g id=\"patch_58\">\r\n    <path clip-path=\"url(#pb408dbf1fc)\" d=\"M 93.393182 224.64 \r\nL 94.001909 224.64 \r\nL 94.001909 220.027305 \r\nL 93.393182 220.027305 \r\nz\r\n\" style=\"fill:#1f77b4;\"/>\r\n   </g>\r\n   <g id=\"patch_59\">\r\n    <path clip-path=\"url(#pb408dbf1fc)\" d=\"M 94.001909 224.64 \r\nL 94.610636 224.64 \r\nL 94.610636 224.64 \r\nL 94.001909 224.64 \r\nz\r\n\" style=\"fill:#1f77b4;\"/>\r\n   </g>\r\n   <g id=\"patch_60\">\r\n    <path clip-path=\"url(#pb408dbf1fc)\" d=\"M 94.610636 224.64 \r\nL 95.219364 224.64 \r\nL 95.219364 224.64 \r\nL 94.610636 224.64 \r\nz\r\n\" style=\"fill:#1f77b4;\"/>\r\n   </g>\r\n   <g id=\"patch_61\">\r\n    <path clip-path=\"url(#pb408dbf1fc)\" d=\"M 95.219364 224.64 \r\nL 95.828091 224.64 \r\nL 95.828091 220.468711 \r\nL 95.219364 220.468711 \r\nz\r\n\" style=\"fill:#1f77b4;\"/>\r\n   </g>\r\n   <g id=\"patch_62\">\r\n    <path clip-path=\"url(#pb408dbf1fc)\" d=\"M 95.828091 224.64 \r\nL 96.436818 224.64 \r\nL 96.436818 224.64 \r\nL 95.828091 224.64 \r\nz\r\n\" style=\"fill:#1f77b4;\"/>\r\n   </g>\r\n   <g id=\"patch_63\">\r\n    <path clip-path=\"url(#pb408dbf1fc)\" d=\"M 96.436818 224.64 \r\nL 97.045545 224.64 \r\nL 97.045545 220.998399 \r\nL 96.436818 220.998399 \r\nz\r\n\" style=\"fill:#1f77b4;\"/>\r\n   </g>\r\n   <g id=\"patch_64\">\r\n    <path clip-path=\"url(#pb408dbf1fc)\" d=\"M 97.045545 224.64 \r\nL 97.654273 224.64 \r\nL 97.654273 224.64 \r\nL 97.045545 224.64 \r\nz\r\n\" style=\"fill:#1f77b4;\"/>\r\n   </g>\r\n   <g id=\"patch_65\">\r\n    <path clip-path=\"url(#pb408dbf1fc)\" d=\"M 97.654273 224.64 \r\nL 98.263 224.64 \r\nL 98.263 224.64 \r\nL 97.654273 224.64 \r\nz\r\n\" style=\"fill:#1f77b4;\"/>\r\n   </g>\r\n   <g id=\"patch_66\">\r\n    <path clip-path=\"url(#pb408dbf1fc)\" d=\"M 98.263 224.64 \r\nL 98.871727 224.64 \r\nL 98.871727 220.292149 \r\nL 98.263 220.292149 \r\nz\r\n\" style=\"fill:#1f77b4;\"/>\r\n   </g>\r\n   <g id=\"patch_67\">\r\n    <path clip-path=\"url(#pb408dbf1fc)\" d=\"M 98.871727 224.64 \r\nL 99.480455 224.64 \r\nL 99.480455 224.64 \r\nL 98.871727 224.64 \r\nz\r\n\" style=\"fill:#1f77b4;\"/>\r\n   </g>\r\n   <g id=\"patch_68\">\r\n    <path clip-path=\"url(#pb408dbf1fc)\" d=\"M 99.480455 224.64 \r\nL 100.089182 224.64 \r\nL 100.089182 220.225938 \r\nL 99.480455 220.225938 \r\nz\r\n\" style=\"fill:#1f77b4;\"/>\r\n   </g>\r\n   <g id=\"patch_69\">\r\n    <path clip-path=\"url(#pb408dbf1fc)\" d=\"M 100.089182 224.64 \r\nL 100.697909 224.64 \r\nL 100.697909 224.64 \r\nL 100.089182 224.64 \r\nz\r\n\" style=\"fill:#1f77b4;\"/>\r\n   </g>\r\n   <g id=\"patch_70\">\r\n    <path clip-path=\"url(#pb408dbf1fc)\" d=\"M 100.697909 224.64 \r\nL 101.306636 224.64 \r\nL 101.306636 224.64 \r\nL 100.697909 224.64 \r\nz\r\n\" style=\"fill:#1f77b4;\"/>\r\n   </g>\r\n   <g id=\"patch_71\">\r\n    <path clip-path=\"url(#pb408dbf1fc)\" d=\"M 101.306636 224.64 \r\nL 101.915364 224.64 \r\nL 101.915364 220.976329 \r\nL 101.306636 220.976329 \r\nz\r\n\" style=\"fill:#1f77b4;\"/>\r\n   </g>\r\n   <g id=\"patch_72\">\r\n    <path clip-path=\"url(#pb408dbf1fc)\" d=\"M 101.915364 224.64 \r\nL 102.524091 224.64 \r\nL 102.524091 224.64 \r\nL 101.915364 224.64 \r\nz\r\n\" style=\"fill:#1f77b4;\"/>\r\n   </g>\r\n   <g id=\"patch_73\">\r\n    <path clip-path=\"url(#pb408dbf1fc)\" d=\"M 102.524091 224.64 \r\nL 103.132818 224.64 \r\nL 103.132818 221.174961 \r\nL 102.524091 221.174961 \r\nz\r\n\" style=\"fill:#1f77b4;\"/>\r\n   </g>\r\n   <g id=\"patch_74\">\r\n    <path clip-path=\"url(#pb408dbf1fc)\" d=\"M 103.132818 224.64 \r\nL 103.741545 224.64 \r\nL 103.741545 224.64 \r\nL 103.132818 224.64 \r\nz\r\n\" style=\"fill:#1f77b4;\"/>\r\n   </g>\r\n   <g id=\"patch_75\">\r\n    <path clip-path=\"url(#pb408dbf1fc)\" d=\"M 103.741545 224.64 \r\nL 104.350273 224.64 \r\nL 104.350273 220.777696 \r\nL 103.741545 220.777696 \r\nz\r\n\" style=\"fill:#1f77b4;\"/>\r\n   </g>\r\n   <g id=\"patch_76\">\r\n    <path clip-path=\"url(#pb408dbf1fc)\" d=\"M 104.350273 224.64 \r\nL 104.959 224.64 \r\nL 104.959 224.64 \r\nL 104.350273 224.64 \r\nz\r\n\" style=\"fill:#1f77b4;\"/>\r\n   </g>\r\n   <g id=\"patch_77\">\r\n    <path clip-path=\"url(#pb408dbf1fc)\" d=\"M 104.959 224.64 \r\nL 105.567727 224.64 \r\nL 105.567727 224.64 \r\nL 104.959 224.64 \r\nz\r\n\" style=\"fill:#1f77b4;\"/>\r\n   </g>\r\n   <g id=\"patch_78\">\r\n    <path clip-path=\"url(#pb408dbf1fc)\" d=\"M 105.567727 224.64 \r\nL 106.176455 224.64 \r\nL 106.176455 220.799766 \r\nL 105.567727 220.799766 \r\nz\r\n\" style=\"fill:#1f77b4;\"/>\r\n   </g>\r\n   <g id=\"patch_79\">\r\n    <path clip-path=\"url(#pb408dbf1fc)\" d=\"M 106.176455 224.64 \r\nL 106.785182 224.64 \r\nL 106.785182 224.64 \r\nL 106.176455 224.64 \r\nz\r\n\" style=\"fill:#1f77b4;\"/>\r\n   </g>\r\n   <g id=\"patch_80\">\r\n    <path clip-path=\"url(#pb408dbf1fc)\" d=\"M 106.785182 224.64 \r\nL 107.393909 224.64 \r\nL 107.393909 221.351524 \r\nL 106.785182 221.351524 \r\nz\r\n\" style=\"fill:#1f77b4;\"/>\r\n   </g>\r\n   <g id=\"patch_81\">\r\n    <path clip-path=\"url(#pb408dbf1fc)\" d=\"M 107.393909 224.64 \r\nL 108.002636 224.64 \r\nL 108.002636 224.64 \r\nL 107.393909 224.64 \r\nz\r\n\" style=\"fill:#1f77b4;\"/>\r\n   </g>\r\n   <g id=\"patch_82\">\r\n    <path clip-path=\"url(#pb408dbf1fc)\" d=\"M 108.002636 224.64 \r\nL 108.611364 224.64 \r\nL 108.611364 221.417735 \r\nL 108.002636 221.417735 \r\nz\r\n\" style=\"fill:#1f77b4;\"/>\r\n   </g>\r\n   <g id=\"patch_83\">\r\n    <path clip-path=\"url(#pb408dbf1fc)\" d=\"M 108.611364 224.64 \r\nL 109.220091 224.64 \r\nL 109.220091 224.64 \r\nL 108.611364 224.64 \r\nz\r\n\" style=\"fill:#1f77b4;\"/>\r\n   </g>\r\n   <g id=\"patch_84\">\r\n    <path clip-path=\"url(#pb408dbf1fc)\" d=\"M 109.220091 224.64 \r\nL 109.828818 224.64 \r\nL 109.828818 221.04254 \r\nL 109.220091 221.04254 \r\nz\r\n\" style=\"fill:#1f77b4;\"/>\r\n   </g>\r\n   <g id=\"patch_85\">\r\n    <path clip-path=\"url(#pb408dbf1fc)\" d=\"M 109.828818 224.64 \r\nL 110.437545 224.64 \r\nL 110.437545 224.64 \r\nL 109.828818 224.64 \r\nz\r\n\" style=\"fill:#1f77b4;\"/>\r\n   </g>\r\n   <g id=\"patch_86\">\r\n    <path clip-path=\"url(#pb408dbf1fc)\" d=\"M 110.437545 224.64 \r\nL 111.046273 224.64 \r\nL 111.046273 221.483946 \r\nL 110.437545 221.483946 \r\nz\r\n\" style=\"fill:#1f77b4;\"/>\r\n   </g>\r\n   <g id=\"patch_87\">\r\n    <path clip-path=\"url(#pb408dbf1fc)\" d=\"M 111.046273 224.64 \r\nL 111.655 224.64 \r\nL 111.655 221.373594 \r\nL 111.046273 221.373594 \r\nz\r\n\" style=\"fill:#1f77b4;\"/>\r\n   </g>\r\n   <g id=\"patch_88\">\r\n    <path clip-path=\"url(#pb408dbf1fc)\" d=\"M 111.655 224.64 \r\nL 112.263727 224.64 \r\nL 112.263727 224.64 \r\nL 111.655 224.64 \r\nz\r\n\" style=\"fill:#1f77b4;\"/>\r\n   </g>\r\n   <g id=\"patch_89\">\r\n    <path clip-path=\"url(#pb408dbf1fc)\" d=\"M 112.263727 224.64 \r\nL 112.872455 224.64 \r\nL 112.872455 221.285313 \r\nL 112.263727 221.285313 \r\nz\r\n\" style=\"fill:#1f77b4;\"/>\r\n   </g>\r\n   <g id=\"patch_90\">\r\n    <path clip-path=\"url(#pb408dbf1fc)\" d=\"M 112.872455 224.64 \r\nL 113.481182 224.64 \r\nL 113.481182 224.64 \r\nL 112.872455 224.64 \r\nz\r\n\" style=\"fill:#1f77b4;\"/>\r\n   </g>\r\n   <g id=\"patch_91\">\r\n    <path clip-path=\"url(#pb408dbf1fc)\" d=\"M 113.481182 224.64 \r\nL 114.089909 224.64 \r\nL 114.089909 221.06461 \r\nL 113.481182 221.06461 \r\nz\r\n\" style=\"fill:#1f77b4;\"/>\r\n   </g>\r\n   <g id=\"patch_92\">\r\n    <path clip-path=\"url(#pb408dbf1fc)\" d=\"M 114.089909 224.64 \r\nL 114.698636 224.64 \r\nL 114.698636 224.64 \r\nL 114.089909 224.64 \r\nz\r\n\" style=\"fill:#1f77b4;\"/>\r\n   </g>\r\n   <g id=\"patch_93\">\r\n    <path clip-path=\"url(#pb408dbf1fc)\" d=\"M 114.698636 224.64 \r\nL 115.307364 224.64 \r\nL 115.307364 220.998399 \r\nL 114.698636 220.998399 \r\nz\r\n\" style=\"fill:#1f77b4;\"/>\r\n   </g>\r\n   <g id=\"patch_94\">\r\n    <path clip-path=\"url(#pb408dbf1fc)\" d=\"M 115.307364 224.64 \r\nL 115.916091 224.64 \r\nL 115.916091 220.998399 \r\nL 115.307364 220.998399 \r\nz\r\n\" style=\"fill:#1f77b4;\"/>\r\n   </g>\r\n   <g id=\"patch_95\">\r\n    <path clip-path=\"url(#pb408dbf1fc)\" d=\"M 115.916091 224.64 \r\nL 116.524818 224.64 \r\nL 116.524818 224.64 \r\nL 115.916091 224.64 \r\nz\r\n\" style=\"fill:#1f77b4;\"/>\r\n   </g>\r\n   <g id=\"patch_96\">\r\n    <path clip-path=\"url(#pb408dbf1fc)\" d=\"M 116.524818 224.64 \r\nL 117.133545 224.64 \r\nL 117.133545 220.689415 \r\nL 116.524818 220.689415 \r\nz\r\n\" style=\"fill:#1f77b4;\"/>\r\n   </g>\r\n   <g id=\"patch_97\">\r\n    <path clip-path=\"url(#pb408dbf1fc)\" d=\"M 117.133545 224.64 \r\nL 117.742273 224.64 \r\nL 117.742273 224.64 \r\nL 117.133545 224.64 \r\nz\r\n\" style=\"fill:#1f77b4;\"/>\r\n   </g>\r\n   <g id=\"patch_98\">\r\n    <path clip-path=\"url(#pb408dbf1fc)\" d=\"M 117.742273 224.64 \r\nL 118.351 224.64 \r\nL 118.351 220.689415 \r\nL 117.742273 220.689415 \r\nz\r\n\" style=\"fill:#1f77b4;\"/>\r\n   </g>\r\n   <g id=\"patch_99\">\r\n    <path clip-path=\"url(#pb408dbf1fc)\" d=\"M 118.351 224.64 \r\nL 118.959727 224.64 \r\nL 118.959727 220.314219 \r\nL 118.351 220.314219 \r\nz\r\n\" style=\"fill:#1f77b4;\"/>\r\n   </g>\r\n   <g id=\"patch_100\">\r\n    <path clip-path=\"url(#pb408dbf1fc)\" d=\"M 118.959727 224.64 \r\nL 119.568455 224.64 \r\nL 119.568455 224.64 \r\nL 118.959727 224.64 \r\nz\r\n\" style=\"fill:#1f77b4;\"/>\r\n   </g>\r\n   <g id=\"patch_101\">\r\n    <path clip-path=\"url(#pb408dbf1fc)\" d=\"M 119.568455 224.64 \r\nL 120.177182 224.64 \r\nL 120.177182 220.512852 \r\nL 119.568455 220.512852 \r\nz\r\n\" style=\"fill:#1f77b4;\"/>\r\n   </g>\r\n   <g id=\"patch_102\">\r\n    <path clip-path=\"url(#pb408dbf1fc)\" d=\"M 120.177182 224.64 \r\nL 120.785909 224.64 \r\nL 120.785909 220.314219 \r\nL 120.177182 220.314219 \r\nz\r\n\" style=\"fill:#1f77b4;\"/>\r\n   </g>\r\n   <g id=\"patch_103\">\r\n    <path clip-path=\"url(#pb408dbf1fc)\" d=\"M 120.785909 224.64 \r\nL 121.394636 224.64 \r\nL 121.394636 224.64 \r\nL 120.785909 224.64 \r\nz\r\n\" style=\"fill:#1f77b4;\"/>\r\n   </g>\r\n   <g id=\"patch_104\">\r\n    <path clip-path=\"url(#pb408dbf1fc)\" d=\"M 121.394636 224.64 \r\nL 122.003364 224.64 \r\nL 122.003364 220.601133 \r\nL 121.394636 220.601133 \r\nz\r\n\" style=\"fill:#1f77b4;\"/>\r\n   </g>\r\n   <g id=\"patch_105\">\r\n    <path clip-path=\"url(#pb408dbf1fc)\" d=\"M 122.003364 224.64 \r\nL 122.612091 224.64 \r\nL 122.612091 220.556993 \r\nL 122.003364 220.556993 \r\nz\r\n\" style=\"fill:#1f77b4;\"/>\r\n   </g>\r\n   <g id=\"patch_106\">\r\n    <path clip-path=\"url(#pb408dbf1fc)\" d=\"M 122.612091 224.64 \r\nL 123.220818 224.64 \r\nL 123.220818 224.64 \r\nL 122.612091 224.64 \r\nz\r\n\" style=\"fill:#1f77b4;\"/>\r\n   </g>\r\n   <g id=\"patch_107\">\r\n    <path clip-path=\"url(#pb408dbf1fc)\" d=\"M 123.220818 224.64 \r\nL 123.829545 224.64 \r\nL 123.829545 220.733555 \r\nL 123.220818 220.733555 \r\nz\r\n\" style=\"fill:#1f77b4;\"/>\r\n   </g>\r\n   <g id=\"patch_108\">\r\n    <path clip-path=\"url(#pb408dbf1fc)\" d=\"M 123.829545 224.64 \r\nL 124.438273 224.64 \r\nL 124.438273 220.910118 \r\nL 123.829545 220.910118 \r\nz\r\n\" style=\"fill:#1f77b4;\"/>\r\n   </g>\r\n   <g id=\"patch_109\">\r\n    <path clip-path=\"url(#pb408dbf1fc)\" d=\"M 124.438273 224.64 \r\nL 125.047 224.64 \r\nL 125.047 220.645274 \r\nL 124.438273 220.645274 \r\nz\r\n\" style=\"fill:#1f77b4;\"/>\r\n   </g>\r\n   <g id=\"patch_110\">\r\n    <path clip-path=\"url(#pb408dbf1fc)\" d=\"M 125.047 224.64 \r\nL 125.655727 224.64 \r\nL 125.655727 224.64 \r\nL 125.047 224.64 \r\nz\r\n\" style=\"fill:#1f77b4;\"/>\r\n   </g>\r\n   <g id=\"patch_111\">\r\n    <path clip-path=\"url(#pb408dbf1fc)\" d=\"M 125.655727 224.64 \r\nL 126.264455 224.64 \r\nL 126.264455 221.307383 \r\nL 125.655727 221.307383 \r\nz\r\n\" style=\"fill:#1f77b4;\"/>\r\n   </g>\r\n   <g id=\"patch_112\">\r\n    <path clip-path=\"url(#pb408dbf1fc)\" d=\"M 126.264455 224.64 \r\nL 126.873182 224.64 \r\nL 126.873182 220.711485 \r\nL 126.264455 220.711485 \r\nz\r\n\" style=\"fill:#1f77b4;\"/>\r\n   </g>\r\n   <g id=\"patch_113\">\r\n    <path clip-path=\"url(#pb408dbf1fc)\" d=\"M 126.873182 224.64 \r\nL 127.481909 224.64 \r\nL 127.481909 221.219102 \r\nL 126.873182 221.219102 \r\nz\r\n\" style=\"fill:#1f77b4;\"/>\r\n   </g>\r\n   <g id=\"patch_114\">\r\n    <path clip-path=\"url(#pb408dbf1fc)\" d=\"M 127.481909 224.64 \r\nL 128.090636 224.64 \r\nL 128.090636 220.799766 \r\nL 127.481909 220.799766 \r\nz\r\n\" style=\"fill:#1f77b4;\"/>\r\n   </g>\r\n   <g id=\"patch_115\">\r\n    <path clip-path=\"url(#pb408dbf1fc)\" d=\"M 128.090636 224.64 \r\nL 128.699364 224.64 \r\nL 128.699364 224.64 \r\nL 128.090636 224.64 \r\nz\r\n\" style=\"fill:#1f77b4;\"/>\r\n   </g>\r\n   <g id=\"patch_116\">\r\n    <path clip-path=\"url(#pb408dbf1fc)\" d=\"M 128.699364 224.64 \r\nL 129.308091 224.64 \r\nL 129.308091 221.263243 \r\nL 128.699364 221.263243 \r\nz\r\n\" style=\"fill:#1f77b4;\"/>\r\n   </g>\r\n   <g id=\"patch_117\">\r\n    <path clip-path=\"url(#pb408dbf1fc)\" d=\"M 129.308091 224.64 \r\nL 129.916818 224.64 \r\nL 129.916818 221.06461 \r\nL 129.308091 221.06461 \r\nz\r\n\" style=\"fill:#1f77b4;\"/>\r\n   </g>\r\n   <g id=\"patch_118\">\r\n    <path clip-path=\"url(#pb408dbf1fc)\" d=\"M 129.916818 224.64 \r\nL 130.525545 224.64 \r\nL 130.525545 221.174961 \r\nL 129.916818 221.174961 \r\nz\r\n\" style=\"fill:#1f77b4;\"/>\r\n   </g>\r\n   <g id=\"patch_119\">\r\n    <path clip-path=\"url(#pb408dbf1fc)\" d=\"M 130.525545 224.64 \r\nL 131.134273 224.64 \r\nL 131.134273 220.667344 \r\nL 130.525545 220.667344 \r\nz\r\n\" style=\"fill:#1f77b4;\"/>\r\n   </g>\r\n   <g id=\"patch_120\">\r\n    <path clip-path=\"url(#pb408dbf1fc)\" d=\"M 131.134273 224.64 \r\nL 131.743 224.64 \r\nL 131.743 220.954258 \r\nL 131.134273 220.954258 \r\nz\r\n\" style=\"fill:#1f77b4;\"/>\r\n   </g>\r\n   <g id=\"patch_121\">\r\n    <path clip-path=\"url(#pb408dbf1fc)\" d=\"M 131.743 224.64 \r\nL 132.351727 224.64 \r\nL 132.351727 221.130821 \r\nL 131.743 221.130821 \r\nz\r\n\" style=\"fill:#1f77b4;\"/>\r\n   </g>\r\n   <g id=\"patch_122\">\r\n    <path clip-path=\"url(#pb408dbf1fc)\" d=\"M 132.351727 224.64 \r\nL 132.960455 224.64 \r\nL 132.960455 220.865977 \r\nL 132.351727 220.865977 \r\nz\r\n\" style=\"fill:#1f77b4;\"/>\r\n   </g>\r\n   <g id=\"patch_123\">\r\n    <path clip-path=\"url(#pb408dbf1fc)\" d=\"M 132.960455 224.64 \r\nL 133.569182 224.64 \r\nL 133.569182 221.461875 \r\nL 132.960455 221.461875 \r\nz\r\n\" style=\"fill:#1f77b4;\"/>\r\n   </g>\r\n   <g id=\"patch_124\">\r\n    <path clip-path=\"url(#pb408dbf1fc)\" d=\"M 133.569182 224.64 \r\nL 134.177909 224.64 \r\nL 134.177909 224.64 \r\nL 133.569182 224.64 \r\nz\r\n\" style=\"fill:#1f77b4;\"/>\r\n   </g>\r\n   <g id=\"patch_125\">\r\n    <path clip-path=\"url(#pb408dbf1fc)\" d=\"M 134.177909 224.64 \r\nL 134.786636 224.64 \r\nL 134.786636 221.285313 \r\nL 134.177909 221.285313 \r\nz\r\n\" style=\"fill:#1f77b4;\"/>\r\n   </g>\r\n   <g id=\"patch_126\">\r\n    <path clip-path=\"url(#pb408dbf1fc)\" d=\"M 134.786636 224.64 \r\nL 135.395364 224.64 \r\nL 135.395364 221.06461 \r\nL 134.786636 221.06461 \r\nz\r\n\" style=\"fill:#1f77b4;\"/>\r\n   </g>\r\n   <g id=\"patch_127\">\r\n    <path clip-path=\"url(#pb408dbf1fc)\" d=\"M 135.395364 224.64 \r\nL 136.004091 224.64 \r\nL 136.004091 220.579063 \r\nL 135.395364 220.579063 \r\nz\r\n\" style=\"fill:#1f77b4;\"/>\r\n   </g>\r\n   <g id=\"patch_128\">\r\n    <path clip-path=\"url(#pb408dbf1fc)\" d=\"M 136.004091 224.64 \r\nL 136.612818 224.64 \r\nL 136.612818 220.910118 \r\nL 136.004091 220.910118 \r\nz\r\n\" style=\"fill:#1f77b4;\"/>\r\n   </g>\r\n   <g id=\"patch_129\">\r\n    <path clip-path=\"url(#pb408dbf1fc)\" d=\"M 136.612818 224.64 \r\nL 137.221545 224.64 \r\nL 137.221545 219.894883 \r\nL 136.612818 219.894883 \r\nz\r\n\" style=\"fill:#1f77b4;\"/>\r\n   </g>\r\n   <g id=\"patch_130\">\r\n    <path clip-path=\"url(#pb408dbf1fc)\" d=\"M 137.221545 224.64 \r\nL 137.830273 224.64 \r\nL 137.830273 220.424571 \r\nL 137.221545 220.424571 \r\nz\r\n\" style=\"fill:#1f77b4;\"/>\r\n   </g>\r\n   <g id=\"patch_131\">\r\n    <path clip-path=\"url(#pb408dbf1fc)\" d=\"M 137.830273 224.64 \r\nL 138.439 224.64 \r\nL 138.439 219.784532 \r\nL 137.830273 219.784532 \r\nz\r\n\" style=\"fill:#1f77b4;\"/>\r\n   </g>\r\n   <g id=\"patch_132\">\r\n    <path clip-path=\"url(#pb408dbf1fc)\" d=\"M 138.439 224.64 \r\nL 139.047727 224.64 \r\nL 139.047727 217.378868 \r\nL 138.439 217.378868 \r\nz\r\n\" style=\"fill:#1f77b4;\"/>\r\n   </g>\r\n   <g id=\"patch_133\">\r\n    <path clip-path=\"url(#pb408dbf1fc)\" d=\"M 139.047727 224.64 \r\nL 139.656455 224.64 \r\nL 139.656455 220.424571 \r\nL 139.047727 220.424571 \r\nz\r\n\" style=\"fill:#1f77b4;\"/>\r\n   </g>\r\n   <g id=\"patch_134\">\r\n    <path clip-path=\"url(#pb408dbf1fc)\" d=\"M 139.656455 224.64 \r\nL 140.265182 224.64 \r\nL 140.265182 220.623204 \r\nL 139.656455 220.623204 \r\nz\r\n\" style=\"fill:#1f77b4;\"/>\r\n   </g>\r\n   <g id=\"patch_135\">\r\n    <path clip-path=\"url(#pb408dbf1fc)\" d=\"M 140.265182 224.64 \r\nL 140.873909 224.64 \r\nL 140.873909 220.534922 \r\nL 140.265182 220.534922 \r\nz\r\n\" style=\"fill:#1f77b4;\"/>\r\n   </g>\r\n   <g id=\"patch_136\">\r\n    <path clip-path=\"url(#pb408dbf1fc)\" d=\"M 140.873909 224.64 \r\nL 141.482636 224.64 \r\nL 141.482636 220.843907 \r\nL 140.873909 220.843907 \r\nz\r\n\" style=\"fill:#1f77b4;\"/>\r\n   </g>\r\n   <g id=\"patch_137\">\r\n    <path clip-path=\"url(#pb408dbf1fc)\" d=\"M 141.482636 224.64 \r\nL 142.091364 224.64 \r\nL 142.091364 220.248008 \r\nL 141.482636 220.248008 \r\nz\r\n\" style=\"fill:#1f77b4;\"/>\r\n   </g>\r\n   <g id=\"patch_138\">\r\n    <path clip-path=\"url(#pb408dbf1fc)\" d=\"M 142.091364 224.64 \r\nL 142.700091 224.64 \r\nL 142.700091 220.512852 \r\nL 142.091364 220.512852 \r\nz\r\n\" style=\"fill:#1f77b4;\"/>\r\n   </g>\r\n   <g id=\"patch_139\">\r\n    <path clip-path=\"url(#pb408dbf1fc)\" d=\"M 142.700091 224.64 \r\nL 143.308818 224.64 \r\nL 143.308818 220.843907 \r\nL 142.700091 220.843907 \r\nz\r\n\" style=\"fill:#1f77b4;\"/>\r\n   </g>\r\n   <g id=\"patch_140\">\r\n    <path clip-path=\"url(#pb408dbf1fc)\" d=\"M 143.308818 224.64 \r\nL 143.917545 224.64 \r\nL 143.917545 217.731993 \r\nL 143.308818 217.731993 \r\nz\r\n\" style=\"fill:#1f77b4;\"/>\r\n   </g>\r\n   <g id=\"patch_141\">\r\n    <path clip-path=\"url(#pb408dbf1fc)\" d=\"M 143.917545 224.64 \r\nL 144.526273 224.64 \r\nL 144.526273 220.777696 \r\nL 143.917545 220.777696 \r\nz\r\n\" style=\"fill:#1f77b4;\"/>\r\n   </g>\r\n   <g id=\"patch_142\">\r\n    <path clip-path=\"url(#pb408dbf1fc)\" d=\"M 144.526273 224.64 \r\nL 145.135 224.64 \r\nL 145.135 221.263243 \r\nL 144.526273 221.263243 \r\nz\r\n\" style=\"fill:#1f77b4;\"/>\r\n   </g>\r\n   <g id=\"patch_143\">\r\n    <path clip-path=\"url(#pb408dbf1fc)\" d=\"M 145.135 224.64 \r\nL 145.743727 224.64 \r\nL 145.743727 221.174961 \r\nL 145.135 221.174961 \r\nz\r\n\" style=\"fill:#1f77b4;\"/>\r\n   </g>\r\n   <g id=\"patch_144\">\r\n    <path clip-path=\"url(#pb408dbf1fc)\" d=\"M 145.743727 224.64 \r\nL 146.352455 224.64 \r\nL 146.352455 216.606407 \r\nL 145.743727 216.606407 \r\nz\r\n\" style=\"fill:#1f77b4;\"/>\r\n   </g>\r\n   <g id=\"patch_145\">\r\n    <path clip-path=\"url(#pb408dbf1fc)\" d=\"M 146.352455 224.64 \r\nL 146.961182 224.64 \r\nL 146.961182 220.314219 \r\nL 146.352455 220.314219 \r\nz\r\n\" style=\"fill:#1f77b4;\"/>\r\n   </g>\r\n   <g id=\"patch_146\">\r\n    <path clip-path=\"url(#pb408dbf1fc)\" d=\"M 146.961182 224.64 \r\nL 147.569909 224.64 \r\nL 147.569909 221.020469 \r\nL 146.961182 221.020469 \r\nz\r\n\" style=\"fill:#1f77b4;\"/>\r\n   </g>\r\n   <g id=\"patch_147\">\r\n    <path clip-path=\"url(#pb408dbf1fc)\" d=\"M 147.569909 224.64 \r\nL 148.178636 224.64 \r\nL 148.178636 217.621642 \r\nL 147.569909 217.621642 \r\nz\r\n\" style=\"fill:#1f77b4;\"/>\r\n   </g>\r\n   <g id=\"patch_148\">\r\n    <path clip-path=\"url(#pb408dbf1fc)\" d=\"M 148.178636 224.64 \r\nL 148.787364 224.64 \r\nL 148.787364 220.490782 \r\nL 148.178636 220.490782 \r\nz\r\n\" style=\"fill:#1f77b4;\"/>\r\n   </g>\r\n   <g id=\"patch_149\">\r\n    <path clip-path=\"url(#pb408dbf1fc)\" d=\"M 148.787364 224.64 \r\nL 149.396091 224.64 \r\nL 149.396091 220.733555 \r\nL 148.787364 220.733555 \r\nz\r\n\" style=\"fill:#1f77b4;\"/>\r\n   </g>\r\n   <g id=\"patch_150\">\r\n    <path clip-path=\"url(#pb408dbf1fc)\" d=\"M 149.396091 224.64 \r\nL 150.004818 224.64 \r\nL 150.004818 217.136095 \r\nL 149.396091 217.136095 \r\nz\r\n\" style=\"fill:#1f77b4;\"/>\r\n   </g>\r\n   <g id=\"patch_151\">\r\n    <path clip-path=\"url(#pb408dbf1fc)\" d=\"M 150.004818 224.64 \r\nL 150.613545 224.64 \r\nL 150.613545 220.071446 \r\nL 150.004818 220.071446 \r\nz\r\n\" style=\"fill:#1f77b4;\"/>\r\n   </g>\r\n   <g id=\"patch_152\">\r\n    <path clip-path=\"url(#pb408dbf1fc)\" d=\"M 150.613545 224.64 \r\nL 151.222273 224.64 \r\nL 151.222273 216.319493 \r\nL 150.613545 216.319493 \r\nz\r\n\" style=\"fill:#1f77b4;\"/>\r\n   </g>\r\n   <g id=\"patch_153\">\r\n    <path clip-path=\"url(#pb408dbf1fc)\" d=\"M 151.222273 224.64 \r\nL 151.831 224.64 \r\nL 151.831 220.623204 \r\nL 151.222273 220.623204 \r\nz\r\n\" style=\"fill:#1f77b4;\"/>\r\n   </g>\r\n   <g id=\"patch_154\">\r\n    <path clip-path=\"url(#pb408dbf1fc)\" d=\"M 151.831 224.64 \r\nL 152.439727 224.64 \r\nL 152.439727 220.954258 \r\nL 151.831 220.954258 \r\nz\r\n\" style=\"fill:#1f77b4;\"/>\r\n   </g>\r\n   <g id=\"patch_155\">\r\n    <path clip-path=\"url(#pb408dbf1fc)\" d=\"M 152.439727 224.64 \r\nL 153.048455 224.64 \r\nL 153.048455 217.334728 \r\nL 152.439727 217.334728 \r\nz\r\n\" style=\"fill:#1f77b4;\"/>\r\n   </g>\r\n   <g id=\"patch_156\">\r\n    <path clip-path=\"url(#pb408dbf1fc)\" d=\"M 153.048455 224.64 \r\nL 153.657182 224.64 \r\nL 153.657182 219.939024 \r\nL 153.048455 219.939024 \r\nz\r\n\" style=\"fill:#1f77b4;\"/>\r\n   </g>\r\n   <g id=\"patch_157\">\r\n    <path clip-path=\"url(#pb408dbf1fc)\" d=\"M 153.657182 224.64 \r\nL 154.265909 224.64 \r\nL 154.265909 216.032579 \r\nL 153.657182 216.032579 \r\nz\r\n\" style=\"fill:#1f77b4;\"/>\r\n   </g>\r\n   <g id=\"patch_158\">\r\n    <path clip-path=\"url(#pb408dbf1fc)\" d=\"M 154.265909 224.64 \r\nL 154.874636 224.64 \r\nL 154.874636 217.091954 \r\nL 154.265909 217.091954 \r\nz\r\n\" style=\"fill:#1f77b4;\"/>\r\n   </g>\r\n   <g id=\"patch_159\">\r\n    <path clip-path=\"url(#pb408dbf1fc)\" d=\"M 154.874636 224.64 \r\nL 155.483364 224.64 \r\nL 155.483364 220.38043 \r\nL 154.874636 220.38043 \r\nz\r\n\" style=\"fill:#1f77b4;\"/>\r\n   </g>\r\n   <g id=\"patch_160\">\r\n    <path clip-path=\"url(#pb408dbf1fc)\" d=\"M 155.483364 224.64 \r\nL 156.092091 224.64 \r\nL 156.092091 216.451915 \r\nL 155.483364 216.451915 \r\nz\r\n\" style=\"fill:#1f77b4;\"/>\r\n   </g>\r\n   <g id=\"patch_161\">\r\n    <path clip-path=\"url(#pb408dbf1fc)\" d=\"M 156.092091 224.64 \r\nL 156.700818 224.64 \r\nL 156.700818 221.174961 \r\nL 156.092091 221.174961 \r\nz\r\n\" style=\"fill:#1f77b4;\"/>\r\n   </g>\r\n   <g id=\"patch_162\">\r\n    <path clip-path=\"url(#pb408dbf1fc)\" d=\"M 156.700818 224.64 \r\nL 157.309545 224.64 \r\nL 157.309545 216.341564 \r\nL 156.700818 216.341564 \r\nz\r\n\" style=\"fill:#1f77b4;\"/>\r\n   </g>\r\n   <g id=\"patch_163\">\r\n    <path clip-path=\"url(#pb408dbf1fc)\" d=\"M 157.309545 224.64 \r\nL 157.918273 224.64 \r\nL 157.918273 216.120861 \r\nL 157.309545 216.120861 \r\nz\r\n\" style=\"fill:#1f77b4;\"/>\r\n   </g>\r\n   <g id=\"patch_164\">\r\n    <path clip-path=\"url(#pb408dbf1fc)\" d=\"M 157.918273 224.64 \r\nL 158.527 224.64 \r\nL 158.527 215.591173 \r\nL 157.918273 215.591173 \r\nz\r\n\" style=\"fill:#1f77b4;\"/>\r\n   </g>\r\n   <g id=\"patch_165\">\r\n    <path clip-path=\"url(#pb408dbf1fc)\" d=\"M 158.527 224.64 \r\nL 159.135727 224.64 \r\nL 159.135727 220.225938 \r\nL 158.527 220.225938 \r\nz\r\n\" style=\"fill:#1f77b4;\"/>\r\n   </g>\r\n   <g id=\"patch_166\">\r\n    <path clip-path=\"url(#pb408dbf1fc)\" d=\"M 159.135727 224.64 \r\nL 159.744455 224.64 \r\nL 159.744455 214.774572 \r\nL 159.135727 214.774572 \r\nz\r\n\" style=\"fill:#1f77b4;\"/>\r\n   </g>\r\n   <g id=\"patch_167\">\r\n    <path clip-path=\"url(#pb408dbf1fc)\" d=\"M 159.744455 224.64 \r\nL 160.353182 224.64 \r\nL 160.353182 214.090392 \r\nL 159.744455 214.090392 \r\nz\r\n\" style=\"fill:#1f77b4;\"/>\r\n   </g>\r\n   <g id=\"patch_168\">\r\n    <path clip-path=\"url(#pb408dbf1fc)\" d=\"M 160.353182 224.64 \r\nL 160.961909 224.64 \r\nL 160.961909 212.280627 \r\nL 160.353182 212.280627 \r\nz\r\n\" style=\"fill:#1f77b4;\"/>\r\n   </g>\r\n   <g id=\"patch_169\">\r\n    <path clip-path=\"url(#pb408dbf1fc)\" d=\"M 160.961909 224.64 \r\nL 161.570636 224.64 \r\nL 161.570636 211.81715 \r\nL 160.961909 211.81715 \r\nz\r\n\" style=\"fill:#1f77b4;\"/>\r\n   </g>\r\n   <g id=\"patch_170\">\r\n    <path clip-path=\"url(#pb408dbf1fc)\" d=\"M 161.570636 224.64 \r\nL 162.179364 224.64 \r\nL 162.179364 217.48922 \r\nL 161.570636 217.48922 \r\nz\r\n\" style=\"fill:#1f77b4;\"/>\r\n   </g>\r\n   <g id=\"patch_171\">\r\n    <path clip-path=\"url(#pb408dbf1fc)\" d=\"M 162.179364 224.64 \r\nL 162.788091 224.64 \r\nL 162.788091 210.183947 \r\nL 162.179364 210.183947 \r\nz\r\n\" style=\"fill:#1f77b4;\"/>\r\n   </g>\r\n   <g id=\"patch_172\">\r\n    <path clip-path=\"url(#pb408dbf1fc)\" d=\"M 162.788091 224.64 \r\nL 163.396818 224.64 \r\nL 163.396818 211.883361 \r\nL 162.788091 211.883361 \r\nz\r\n\" style=\"fill:#1f77b4;\"/>\r\n   </g>\r\n   <g id=\"patch_173\">\r\n    <path clip-path=\"url(#pb408dbf1fc)\" d=\"M 163.396818 224.64 \r\nL 164.005545 224.64 \r\nL 164.005545 213.273791 \r\nL 163.396818 213.273791 \r\nz\r\n\" style=\"fill:#1f77b4;\"/>\r\n   </g>\r\n   <g id=\"patch_174\">\r\n    <path clip-path=\"url(#pb408dbf1fc)\" d=\"M 164.005545 224.64 \r\nL 164.614273 224.64 \r\nL 164.614273 212.832384 \r\nL 164.005545 212.832384 \r\nz\r\n\" style=\"fill:#1f77b4;\"/>\r\n   </g>\r\n   <g id=\"patch_175\">\r\n    <path clip-path=\"url(#pb408dbf1fc)\" d=\"M 164.614273 224.64 \r\nL 165.223 224.64 \r\nL 165.223 213.295861 \r\nL 164.614273 213.295861 \r\nz\r\n\" style=\"fill:#1f77b4;\"/>\r\n   </g>\r\n   <g id=\"patch_176\">\r\n    <path clip-path=\"url(#pb408dbf1fc)\" d=\"M 165.223 224.64 \r\nL 165.831727 224.64 \r\nL 165.831727 211.905431 \r\nL 165.223 211.905431 \r\nz\r\n\" style=\"fill:#1f77b4;\"/>\r\n   </g>\r\n   <g id=\"patch_177\">\r\n    <path clip-path=\"url(#pb408dbf1fc)\" d=\"M 165.831727 224.64 \r\nL 166.440455 224.64 \r\nL 166.440455 212.324767 \r\nL 165.831727 212.324767 \r\nz\r\n\" style=\"fill:#1f77b4;\"/>\r\n   </g>\r\n   <g id=\"patch_178\">\r\n    <path clip-path=\"url(#pb408dbf1fc)\" d=\"M 166.440455 224.64 \r\nL 167.049182 224.64 \r\nL 167.049182 205.681604 \r\nL 166.440455 205.681604 \r\nz\r\n\" style=\"fill:#1f77b4;\"/>\r\n   </g>\r\n   <g id=\"patch_179\">\r\n    <path clip-path=\"url(#pb408dbf1fc)\" d=\"M 167.049182 224.64 \r\nL 167.657909 224.64 \r\nL 167.657909 212.302697 \r\nL 167.049182 212.302697 \r\nz\r\n\" style=\"fill:#1f77b4;\"/>\r\n   </g>\r\n   <g id=\"patch_180\">\r\n    <path clip-path=\"url(#pb408dbf1fc)\" d=\"M 167.657909 224.64 \r\nL 168.266636 224.64 \r\nL 168.266636 211.728869 \r\nL 167.657909 211.728869 \r\nz\r\n\" style=\"fill:#1f77b4;\"/>\r\n   </g>\r\n   <g id=\"patch_181\">\r\n    <path clip-path=\"url(#pb408dbf1fc)\" d=\"M 168.266636 224.64 \r\nL 168.875364 224.64 \r\nL 168.875364 211.861291 \r\nL 168.266636 211.861291 \r\nz\r\n\" style=\"fill:#1f77b4;\"/>\r\n   </g>\r\n   <g id=\"patch_182\">\r\n    <path clip-path=\"url(#pb408dbf1fc)\" d=\"M 168.875364 224.64 \r\nL 169.484091 224.64 \r\nL 169.484091 211.419885 \r\nL 168.875364 211.419885 \r\nz\r\n\" style=\"fill:#1f77b4;\"/>\r\n   </g>\r\n   <g id=\"patch_183\">\r\n    <path clip-path=\"url(#pb408dbf1fc)\" d=\"M 169.484091 224.64 \r\nL 170.092818 224.64 \r\nL 170.092818 201.598597 \r\nL 169.484091 201.598597 \r\nz\r\n\" style=\"fill:#1f77b4;\"/>\r\n   </g>\r\n   <g id=\"patch_184\">\r\n    <path clip-path=\"url(#pb408dbf1fc)\" d=\"M 170.092818 224.64 \r\nL 170.701545 224.64 \r\nL 170.701545 208.131408 \r\nL 170.092818 208.131408 \r\nz\r\n\" style=\"fill:#1f77b4;\"/>\r\n   </g>\r\n   <g id=\"patch_185\">\r\n    <path clip-path=\"url(#pb408dbf1fc)\" d=\"M 170.701545 224.64 \r\nL 171.310273 224.64 \r\nL 171.310273 207.866565 \r\nL 170.701545 207.866565 \r\nz\r\n\" style=\"fill:#1f77b4;\"/>\r\n   </g>\r\n   <g id=\"patch_186\">\r\n    <path clip-path=\"url(#pb408dbf1fc)\" d=\"M 171.310273 224.64 \r\nL 171.919 224.64 \r\nL 171.919 197.361097 \r\nL 171.310273 197.361097 \r\nz\r\n\" style=\"fill:#1f77b4;\"/>\r\n   </g>\r\n   <g id=\"patch_187\">\r\n    <path clip-path=\"url(#pb408dbf1fc)\" d=\"M 171.919 224.64 \r\nL 172.527727 224.64 \r\nL 172.527727 205.637463 \r\nL 171.919 205.637463 \r\nz\r\n\" style=\"fill:#1f77b4;\"/>\r\n   </g>\r\n   <g id=\"patch_188\">\r\n    <path clip-path=\"url(#pb408dbf1fc)\" d=\"M 172.527727 224.64 \r\nL 173.136455 224.64 \r\nL 173.136455 193.322231 \r\nL 172.527727 193.322231 \r\nz\r\n\" style=\"fill:#1f77b4;\"/>\r\n   </g>\r\n   <g id=\"patch_189\">\r\n    <path clip-path=\"url(#pb408dbf1fc)\" d=\"M 173.136455 224.64 \r\nL 173.745182 224.64 \r\nL 173.745182 202.613831 \r\nL 173.136455 202.613831 \r\nz\r\n\" style=\"fill:#1f77b4;\"/>\r\n   </g>\r\n   <g id=\"patch_190\">\r\n    <path clip-path=\"url(#pb408dbf1fc)\" d=\"M 173.745182 224.64 \r\nL 174.353909 224.64 \r\nL 174.353909 187.56188 \r\nL 173.745182 187.56188 \r\nz\r\n\" style=\"fill:#1f77b4;\"/>\r\n   </g>\r\n   <g id=\"patch_191\">\r\n    <path clip-path=\"url(#pb408dbf1fc)\" d=\"M 174.353909 224.64 \r\nL 174.962636 224.64 \r\nL 174.962636 197.405238 \r\nL 174.353909 197.405238 \r\nz\r\n\" style=\"fill:#1f77b4;\"/>\r\n   </g>\r\n   <g id=\"patch_192\">\r\n    <path clip-path=\"url(#pb408dbf1fc)\" d=\"M 174.962636 224.64 \r\nL 175.571364 224.64 \r\nL 175.571364 177.56403 \r\nL 174.962636 177.56403 \r\nz\r\n\" style=\"fill:#1f77b4;\"/>\r\n   </g>\r\n   <g id=\"patch_193\">\r\n    <path clip-path=\"url(#pb408dbf1fc)\" d=\"M 175.571364 224.64 \r\nL 176.180091 224.64 \r\nL 176.180091 165.601922 \r\nL 175.571364 165.601922 \r\nz\r\n\" style=\"fill:#1f77b4;\"/>\r\n   </g>\r\n   <g id=\"patch_194\">\r\n    <path clip-path=\"url(#pb408dbf1fc)\" d=\"M 176.180091 224.64 \r\nL 176.788818 224.64 \r\nL 176.788818 169.486296 \r\nL 176.180091 169.486296 \r\nz\r\n\" style=\"fill:#1f77b4;\"/>\r\n   </g>\r\n   <g id=\"patch_195\">\r\n    <path clip-path=\"url(#pb408dbf1fc)\" d=\"M 176.788818 224.64 \r\nL 177.397545 224.64 \r\nL 177.397545 109.896461 \r\nL 176.788818 109.896461 \r\nz\r\n\" style=\"fill:#1f77b4;\"/>\r\n   </g>\r\n   <g id=\"patch_196\">\r\n    <path clip-path=\"url(#pb408dbf1fc)\" d=\"M 177.397545 224.64 \r\nL 178.006273 224.64 \r\nL 178.006273 71.736896 \r\nL 177.397545 71.736896 \r\nz\r\n\" style=\"fill:#1f77b4;\"/>\r\n   </g>\r\n   <g id=\"patch_197\">\r\n    <path clip-path=\"url(#pb408dbf1fc)\" d=\"M 178.006273 224.64 \r\nL 178.615 224.64 \r\nL 178.615 95.219705 \r\nL 178.006273 95.219705 \r\nz\r\n\" style=\"fill:#1f77b4;\"/>\r\n   </g>\r\n   <g id=\"patch_198\">\r\n    <path clip-path=\"url(#pb408dbf1fc)\" d=\"M 178.615 224.64 \r\nL 179.223727 224.64 \r\nL 179.223727 104.908571 \r\nL 178.615 104.908571 \r\nz\r\n\" style=\"fill:#1f77b4;\"/>\r\n   </g>\r\n   <g id=\"patch_199\">\r\n    <path clip-path=\"url(#pb408dbf1fc)\" d=\"M 179.223727 224.64 \r\nL 179.832455 224.64 \r\nL 179.832455 58.693343 \r\nL 179.223727 58.693343 \r\nz\r\n\" style=\"fill:#1f77b4;\"/>\r\n   </g>\r\n   <g id=\"patch_200\">\r\n    <path clip-path=\"url(#pb408dbf1fc)\" d=\"M 179.832455 224.64 \r\nL 180.441182 224.64 \r\nL 180.441182 22.277332 \r\nL 179.832455 22.277332 \r\nz\r\n\" style=\"fill:#1f77b4;\"/>\r\n   </g>\r\n   <g id=\"patch_201\">\r\n    <path clip-path=\"url(#pb408dbf1fc)\" d=\"M 180.441182 224.64 \r\nL 181.049909 224.64 \r\nL 181.049909 17.554286 \r\nL 180.441182 17.554286 \r\nz\r\n\" style=\"fill:#1f77b4;\"/>\r\n   </g>\r\n   <g id=\"patch_202\">\r\n    <path clip-path=\"url(#pb408dbf1fc)\" d=\"M 181.049909 224.64 \r\nL 181.658636 224.64 \r\nL 181.658636 51.233578 \r\nL 181.049909 51.233578 \r\nz\r\n\" style=\"fill:#1f77b4;\"/>\r\n   </g>\r\n   <g id=\"patch_203\">\r\n    <path clip-path=\"url(#pb408dbf1fc)\" d=\"M 181.658636 224.64 \r\nL 182.267364 224.64 \r\nL 182.267364 85.332206 \r\nL 181.658636 85.332206 \r\nz\r\n\" style=\"fill:#1f77b4;\"/>\r\n   </g>\r\n   <g id=\"patch_204\">\r\n    <path clip-path=\"url(#pb408dbf1fc)\" d=\"M 182.267364 224.64 \r\nL 182.876091 224.64 \r\nL 182.876091 84.074199 \r\nL 182.267364 84.074199 \r\nz\r\n\" style=\"fill:#1f77b4;\"/>\r\n   </g>\r\n   <g id=\"patch_205\">\r\n    <path clip-path=\"url(#pb408dbf1fc)\" d=\"M 182.876091 224.64 \r\nL 183.484818 224.64 \r\nL 183.484818 88.664823 \r\nL 182.876091 88.664823 \r\nz\r\n\" style=\"fill:#1f77b4;\"/>\r\n   </g>\r\n   <g id=\"patch_206\">\r\n    <path clip-path=\"url(#pb408dbf1fc)\" d=\"M 183.484818 224.64 \r\nL 184.093545 224.64 \r\nL 184.093545 103.098805 \r\nL 183.484818 103.098805 \r\nz\r\n\" style=\"fill:#1f77b4;\"/>\r\n   </g>\r\n   <g id=\"patch_207\">\r\n    <path clip-path=\"url(#pb408dbf1fc)\" d=\"M 184.093545 224.64 \r\nL 184.702273 224.64 \r\nL 184.702273 38.057603 \r\nL 184.093545 38.057603 \r\nz\r\n\" style=\"fill:#1f77b4;\"/>\r\n   </g>\r\n   <g id=\"patch_208\">\r\n    <path clip-path=\"url(#pb408dbf1fc)\" d=\"M 184.702273 224.64 \r\nL 185.311 224.64 \r\nL 185.311 93.343729 \r\nL 184.702273 93.343729 \r\nz\r\n\" style=\"fill:#1f77b4;\"/>\r\n   </g>\r\n   <g id=\"patch_209\">\r\n    <path clip-path=\"url(#pb408dbf1fc)\" d=\"M 185.311 224.64 \r\nL 185.919727 224.64 \r\nL 185.919727 113.207007 \r\nL 185.311 113.207007 \r\nz\r\n\" style=\"fill:#1f77b4;\"/>\r\n   </g>\r\n   <g id=\"patch_210\">\r\n    <path clip-path=\"url(#pb408dbf1fc)\" d=\"M 185.919727 224.64 \r\nL 186.528455 224.64 \r\nL 186.528455 101.884938 \r\nL 185.919727 101.884938 \r\nz\r\n\" style=\"fill:#1f77b4;\"/>\r\n   </g>\r\n   <g id=\"patch_211\">\r\n    <path clip-path=\"url(#pb408dbf1fc)\" d=\"M 186.528455 224.64 \r\nL 187.137182 224.64 \r\nL 187.137182 144.436495 \r\nL 186.528455 144.436495 \r\nz\r\n\" style=\"fill:#1f77b4;\"/>\r\n   </g>\r\n   <g id=\"patch_212\">\r\n    <path clip-path=\"url(#pb408dbf1fc)\" d=\"M 187.137182 224.64 \r\nL 187.745909 224.64 \r\nL 187.745909 137.197434 \r\nL 187.137182 137.197434 \r\nz\r\n\" style=\"fill:#1f77b4;\"/>\r\n   </g>\r\n   <g id=\"patch_213\">\r\n    <path clip-path=\"url(#pb408dbf1fc)\" d=\"M 187.745909 224.64 \r\nL 188.354636 224.64 \r\nL 188.354636 170.347039 \r\nL 187.745909 170.347039 \r\nz\r\n\" style=\"fill:#1f77b4;\"/>\r\n   </g>\r\n   <g id=\"patch_214\">\r\n    <path clip-path=\"url(#pb408dbf1fc)\" d=\"M 188.354636 224.64 \r\nL 188.963364 224.64 \r\nL 188.963364 153.154267 \r\nL 188.354636 153.154267 \r\nz\r\n\" style=\"fill:#1f77b4;\"/>\r\n   </g>\r\n   <g id=\"patch_215\">\r\n    <path clip-path=\"url(#pb408dbf1fc)\" d=\"M 188.963364 224.64 \r\nL 189.572091 224.64 \r\nL 189.572091 150.858955 \r\nL 188.963364 150.858955 \r\nz\r\n\" style=\"fill:#1f77b4;\"/>\r\n   </g>\r\n   <g id=\"patch_216\">\r\n    <path clip-path=\"url(#pb408dbf1fc)\" d=\"M 189.572091 224.64 \r\nL 190.180818 224.64 \r\nL 190.180818 149.75544 \r\nL 189.572091 149.75544 \r\nz\r\n\" style=\"fill:#1f77b4;\"/>\r\n   </g>\r\n   <g id=\"patch_217\">\r\n    <path clip-path=\"url(#pb408dbf1fc)\" d=\"M 190.180818 224.64 \r\nL 190.789545 224.64 \r\nL 190.789545 168.051726 \r\nL 190.180818 168.051726 \r\nz\r\n\" style=\"fill:#1f77b4;\"/>\r\n   </g>\r\n   <g id=\"patch_218\">\r\n    <path clip-path=\"url(#pb408dbf1fc)\" d=\"M 190.789545 224.64 \r\nL 191.398273 224.64 \r\nL 191.398273 133.599973 \r\nL 190.789545 133.599973 \r\nz\r\n\" style=\"fill:#1f77b4;\"/>\r\n   </g>\r\n   <g id=\"patch_219\">\r\n    <path clip-path=\"url(#pb408dbf1fc)\" d=\"M 191.398273 224.64 \r\nL 192.007 224.64 \r\nL 192.007 82.74998 \r\nL 191.398273 82.74998 \r\nz\r\n\" style=\"fill:#1f77b4;\"/>\r\n   </g>\r\n   <g id=\"patch_220\">\r\n    <path clip-path=\"url(#pb408dbf1fc)\" d=\"M 192.007 224.64 \r\nL 192.615727 224.64 \r\nL 192.615727 108.351539 \r\nL 192.007 108.351539 \r\nz\r\n\" style=\"fill:#1f77b4;\"/>\r\n   </g>\r\n   <g id=\"patch_221\">\r\n    <path clip-path=\"url(#pb408dbf1fc)\" d=\"M 192.615727 224.64 \r\nL 193.224455 224.64 \r\nL 193.224455 137.947824 \r\nL 192.615727 137.947824 \r\nz\r\n\" style=\"fill:#1f77b4;\"/>\r\n   </g>\r\n   <g id=\"patch_222\">\r\n    <path clip-path=\"url(#pb408dbf1fc)\" d=\"M 193.224455 224.64 \r\nL 193.833182 224.64 \r\nL 193.833182 147.018721 \r\nL 193.224455 147.018721 \r\nz\r\n\" style=\"fill:#1f77b4;\"/>\r\n   </g>\r\n   <g id=\"patch_223\">\r\n    <path clip-path=\"url(#pb408dbf1fc)\" d=\"M 193.833182 224.64 \r\nL 194.441909 224.64 \r\nL 194.441909 134.173801 \r\nL 193.833182 134.173801 \r\nz\r\n\" style=\"fill:#1f77b4;\"/>\r\n   </g>\r\n   <g id=\"patch_224\">\r\n    <path clip-path=\"url(#pb408dbf1fc)\" d=\"M 194.441909 224.64 \r\nL 195.050636 224.64 \r\nL 195.050636 165.623992 \r\nL 194.441909 165.623992 \r\nz\r\n\" style=\"fill:#1f77b4;\"/>\r\n   </g>\r\n   <g id=\"patch_225\">\r\n    <path clip-path=\"url(#pb408dbf1fc)\" d=\"M 195.050636 224.64 \r\nL 195.659364 224.64 \r\nL 195.659364 178.248209 \r\nL 195.050636 178.248209 \r\nz\r\n\" style=\"fill:#1f77b4;\"/>\r\n   </g>\r\n   <g id=\"patch_226\">\r\n    <path clip-path=\"url(#pb408dbf1fc)\" d=\"M 195.659364 224.64 \r\nL 196.268091 224.64 \r\nL 196.268091 166.484734 \r\nL 195.659364 166.484734 \r\nz\r\n\" style=\"fill:#1f77b4;\"/>\r\n   </g>\r\n   <g id=\"patch_227\">\r\n    <path clip-path=\"url(#pb408dbf1fc)\" d=\"M 196.268091 224.64 \r\nL 196.876818 224.64 \r\nL 196.876818 175.312858 \r\nL 196.268091 175.312858 \r\nz\r\n\" style=\"fill:#1f77b4;\"/>\r\n   </g>\r\n   <g id=\"patch_228\">\r\n    <path clip-path=\"url(#pb408dbf1fc)\" d=\"M 196.876818 224.64 \r\nL 197.485545 224.64 \r\nL 197.485545 162.092743 \r\nL 196.876818 162.092743 \r\nz\r\n\" style=\"fill:#1f77b4;\"/>\r\n   </g>\r\n   <g id=\"patch_229\">\r\n    <path clip-path=\"url(#pb408dbf1fc)\" d=\"M 197.485545 224.64 \r\nL 198.094273 224.64 \r\nL 198.094273 178.623405 \r\nL 197.485545 178.623405 \r\nz\r\n\" style=\"fill:#1f77b4;\"/>\r\n   </g>\r\n   <g id=\"patch_230\">\r\n    <path clip-path=\"url(#pb408dbf1fc)\" d=\"M 198.094273 224.64 \r\nL 198.703 224.64 \r\nL 198.703 166.705437 \r\nL 198.094273 166.705437 \r\nz\r\n\" style=\"fill:#1f77b4;\"/>\r\n   </g>\r\n   <g id=\"patch_231\">\r\n    <path clip-path=\"url(#pb408dbf1fc)\" d=\"M 198.703 224.64 \r\nL 199.311727 224.64 \r\nL 199.311727 171.009148 \r\nL 198.703 171.009148 \r\nz\r\n\" style=\"fill:#1f77b4;\"/>\r\n   </g>\r\n   <g id=\"patch_232\">\r\n    <path clip-path=\"url(#pb408dbf1fc)\" d=\"M 199.311727 224.64 \r\nL 199.920455 224.64 \r\nL 199.920455 186.789419 \r\nL 199.311727 186.789419 \r\nz\r\n\" style=\"fill:#1f77b4;\"/>\r\n   </g>\r\n   <g id=\"patch_233\">\r\n    <path clip-path=\"url(#pb408dbf1fc)\" d=\"M 199.920455 224.64 \r\nL 200.529182 224.64 \r\nL 200.529182 181.514615 \r\nL 199.920455 181.514615 \r\nz\r\n\" style=\"fill:#1f77b4;\"/>\r\n   </g>\r\n   <g id=\"patch_234\">\r\n    <path clip-path=\"url(#pb408dbf1fc)\" d=\"M 200.529182 224.64 \r\nL 201.137909 224.64 \r\nL 201.137909 176.107389 \r\nL 200.529182 176.107389 \r\nz\r\n\" style=\"fill:#1f77b4;\"/>\r\n   </g>\r\n   <g id=\"patch_235\">\r\n    <path clip-path=\"url(#pb408dbf1fc)\" d=\"M 201.137909 224.64 \r\nL 201.746636 224.64 \r\nL 201.746636 180.984928 \r\nL 201.137909 180.984928 \r\nz\r\n\" style=\"fill:#1f77b4;\"/>\r\n   </g>\r\n   <g id=\"patch_236\">\r\n    <path clip-path=\"url(#pb408dbf1fc)\" d=\"M 201.746636 224.64 \r\nL 202.355364 224.64 \r\nL 202.355364 183.214029 \r\nL 201.746636 183.214029 \r\nz\r\n\" style=\"fill:#1f77b4;\"/>\r\n   </g>\r\n   <g id=\"patch_237\">\r\n    <path clip-path=\"url(#pb408dbf1fc)\" d=\"M 202.355364 224.64 \r\nL 202.964091 224.64 \r\nL 202.964091 185.067935 \r\nL 202.355364 185.067935 \r\nz\r\n\" style=\"fill:#1f77b4;\"/>\r\n   </g>\r\n   <g id=\"patch_238\">\r\n    <path clip-path=\"url(#pb408dbf1fc)\" d=\"M 202.964091 224.64 \r\nL 203.572818 224.64 \r\nL 203.572818 184.494107 \r\nL 202.964091 184.494107 \r\nz\r\n\" style=\"fill:#1f77b4;\"/>\r\n   </g>\r\n   <g id=\"patch_239\">\r\n    <path clip-path=\"url(#pb408dbf1fc)\" d=\"M 203.572818 224.64 \r\nL 204.181545 224.64 \r\nL 204.181545 197.824574 \r\nL 203.572818 197.824574 \r\nz\r\n\" style=\"fill:#1f77b4;\"/>\r\n   </g>\r\n   <g id=\"patch_240\">\r\n    <path clip-path=\"url(#pb408dbf1fc)\" d=\"M 204.181545 224.64 \r\nL 204.790273 224.64 \r\nL 204.790273 198.133558 \r\nL 204.181545 198.133558 \r\nz\r\n\" style=\"fill:#1f77b4;\"/>\r\n   </g>\r\n   <g id=\"patch_241\">\r\n    <path clip-path=\"url(#pb408dbf1fc)\" d=\"M 204.790273 224.64 \r\nL 205.399 224.64 \r\nL 205.399 205.39469 \r\nL 204.790273 205.39469 \r\nz\r\n\" style=\"fill:#1f77b4;\"/>\r\n   </g>\r\n   <g id=\"patch_242\">\r\n    <path clip-path=\"url(#pb408dbf1fc)\" d=\"M 205.399 224.64 \r\nL 206.007727 224.64 \r\nL 206.007727 203.915979 \r\nL 205.399 203.915979 \r\nz\r\n\" style=\"fill:#1f77b4;\"/>\r\n   </g>\r\n   <g id=\"patch_243\">\r\n    <path clip-path=\"url(#pb408dbf1fc)\" d=\"M 206.007727 224.64 \r\nL 206.616455 224.64 \r\nL 206.616455 207.381018 \r\nL 206.007727 207.381018 \r\nz\r\n\" style=\"fill:#1f77b4;\"/>\r\n   </g>\r\n   <g id=\"patch_244\">\r\n    <path clip-path=\"url(#pb408dbf1fc)\" d=\"M 206.616455 224.64 \r\nL 207.225182 224.64 \r\nL 207.225182 206.343713 \r\nL 206.616455 206.343713 \r\nz\r\n\" style=\"fill:#1f77b4;\"/>\r\n   </g>\r\n   <g id=\"patch_245\">\r\n    <path clip-path=\"url(#pb408dbf1fc)\" d=\"M 207.225182 224.64 \r\nL 207.833909 224.64 \r\nL 207.833909 207.932776 \r\nL 207.225182 207.932776 \r\nz\r\n\" style=\"fill:#1f77b4;\"/>\r\n   </g>\r\n   <g id=\"patch_246\">\r\n    <path clip-path=\"url(#pb408dbf1fc)\" d=\"M 207.833909 224.64 \r\nL 208.442636 224.64 \r\nL 208.442636 208.92594 \r\nL 207.833909 208.92594 \r\nz\r\n\" style=\"fill:#1f77b4;\"/>\r\n   </g>\r\n   <g id=\"patch_247\">\r\n    <path clip-path=\"url(#pb408dbf1fc)\" d=\"M 208.442636 224.64 \r\nL 209.051364 224.64 \r\nL 209.051364 210.117736 \r\nL 208.442636 210.117736 \r\nz\r\n\" style=\"fill:#1f77b4;\"/>\r\n   </g>\r\n   <g id=\"patch_248\">\r\n    <path clip-path=\"url(#pb408dbf1fc)\" d=\"M 209.051364 224.64 \r\nL 209.660091 224.64 \r\nL 209.660091 211.044689 \r\nL 209.051364 211.044689 \r\nz\r\n\" style=\"fill:#1f77b4;\"/>\r\n   </g>\r\n   <g id=\"patch_249\">\r\n    <path clip-path=\"url(#pb408dbf1fc)\" d=\"M 209.660091 224.64 \r\nL 210.268818 224.64 \r\nL 210.268818 209.279065 \r\nL 209.660091 209.279065 \r\nz\r\n\" style=\"fill:#1f77b4;\"/>\r\n   </g>\r\n   <g id=\"patch_250\">\r\n    <path clip-path=\"url(#pb408dbf1fc)\" d=\"M 210.268818 224.64 \r\nL 210.877545 224.64 \r\nL 210.877545 210.537072 \r\nL 210.268818 210.537072 \r\nz\r\n\" style=\"fill:#1f77b4;\"/>\r\n   </g>\r\n   <g id=\"patch_251\">\r\n    <path clip-path=\"url(#pb408dbf1fc)\" d=\"M 210.877545 224.64 \r\nL 211.486273 224.64 \r\nL 211.486273 208.992151 \r\nL 210.877545 208.992151 \r\nz\r\n\" style=\"fill:#1f77b4;\"/>\r\n   </g>\r\n   <g id=\"patch_252\">\r\n    <path clip-path=\"url(#pb408dbf1fc)\" d=\"M 211.486273 224.64 \r\nL 212.095 224.64 \r\nL 212.095 212.54547 \r\nL 211.486273 212.54547 \r\nz\r\n\" style=\"fill:#1f77b4;\"/>\r\n   </g>\r\n   <g id=\"patch_253\">\r\n    <path clip-path=\"url(#pb408dbf1fc)\" d=\"M 212.095 224.64 \r\nL 212.703727 224.64 \r\nL 212.703727 212.633752 \r\nL 212.095 212.633752 \r\nz\r\n\" style=\"fill:#1f77b4;\"/>\r\n   </g>\r\n   <g id=\"patch_254\">\r\n    <path clip-path=\"url(#pb408dbf1fc)\" d=\"M 212.703727 224.64 \r\nL 213.312455 224.64 \r\nL 213.312455 212.126134 \r\nL 212.703727 212.126134 \r\nz\r\n\" style=\"fill:#1f77b4;\"/>\r\n   </g>\r\n   <g id=\"patch_255\">\r\n    <path clip-path=\"url(#pb408dbf1fc)\" d=\"M 213.312455 224.64 \r\nL 213.921182 224.64 \r\nL 213.921182 212.170275 \r\nL 213.312455 212.170275 \r\nz\r\n\" style=\"fill:#1f77b4;\"/>\r\n   </g>\r\n   <g id=\"patch_256\">\r\n    <path clip-path=\"url(#pb408dbf1fc)\" d=\"M 213.921182 224.64 \r\nL 214.529909 224.64 \r\nL 214.529909 208.24176 \r\nL 213.921182 208.24176 \r\nz\r\n\" style=\"fill:#1f77b4;\"/>\r\n   </g>\r\n   <g id=\"patch_257\">\r\n    <path clip-path=\"url(#pb408dbf1fc)\" d=\"M 214.529909 224.64 \r\nL 215.138636 224.64 \r\nL 215.138636 201.09098 \r\nL 214.529909 201.09098 \r\nz\r\n\" style=\"fill:#1f77b4;\"/>\r\n   </g>\r\n   <g id=\"patch_258\">\r\n    <path clip-path=\"url(#pb408dbf1fc)\" d=\"M 215.138636 224.64 \r\nL 215.747364 224.64 \r\nL 215.747364 205.836096 \r\nL 215.138636 205.836096 \r\nz\r\n\" style=\"fill:#1f77b4;\"/>\r\n   </g>\r\n   <g id=\"patch_259\">\r\n    <path clip-path=\"url(#pb408dbf1fc)\" d=\"M 215.747364 224.64 \r\nL 216.356091 224.64 \r\nL 216.356091 199.744691 \r\nL 215.747364 199.744691 \r\nz\r\n\" style=\"fill:#1f77b4;\"/>\r\n   </g>\r\n   <g id=\"patch_260\">\r\n    <path clip-path=\"url(#pb408dbf1fc)\" d=\"M 216.356091 224.64 \r\nL 216.964818 224.64 \r\nL 216.964818 212.898595 \r\nL 216.356091 212.898595 \r\nz\r\n\" style=\"fill:#1f77b4;\"/>\r\n   </g>\r\n   <g id=\"patch_261\">\r\n    <path clip-path=\"url(#pb408dbf1fc)\" d=\"M 216.964818 224.64 \r\nL 217.573545 224.64 \r\nL 217.573545 218.372032 \r\nL 216.964818 218.372032 \r\nz\r\n\" style=\"fill:#1f77b4;\"/>\r\n   </g>\r\n   <g id=\"patch_262\">\r\n    <path clip-path=\"url(#pb408dbf1fc)\" d=\"M 217.573545 224.64 \r\nL 218.182273 224.64 \r\nL 218.182273 218.305821 \r\nL 217.573545 218.305821 \r\nz\r\n\" style=\"fill:#1f77b4;\"/>\r\n   </g>\r\n   <g id=\"patch_263\">\r\n    <path clip-path=\"url(#pb408dbf1fc)\" d=\"M 218.182273 224.64 \r\nL 218.791 224.64 \r\nL 218.791 218.857579 \r\nL 218.182273 218.857579 \r\nz\r\n\" style=\"fill:#1f77b4;\"/>\r\n   </g>\r\n   <g id=\"patch_264\">\r\n    <path clip-path=\"url(#pb408dbf1fc)\" d=\"M 218.791 224.64 \r\nL 219.399727 224.64 \r\nL 219.399727 220.225938 \r\nL 218.791 220.225938 \r\nz\r\n\" style=\"fill:#1f77b4;\"/>\r\n   </g>\r\n   <g id=\"patch_265\">\r\n    <path clip-path=\"url(#pb408dbf1fc)\" d=\"M 219.399727 224.64 \r\nL 220.008455 224.64 \r\nL 220.008455 219.916954 \r\nL 219.399727 219.916954 \r\nz\r\n\" style=\"fill:#1f77b4;\"/>\r\n   </g>\r\n   <g id=\"patch_266\">\r\n    <path clip-path=\"url(#pb408dbf1fc)\" d=\"M 220.008455 224.64 \r\nL 220.617182 224.64 \r\nL 220.617182 220.490782 \r\nL 220.008455 220.490782 \r\nz\r\n\" style=\"fill:#1f77b4;\"/>\r\n   </g>\r\n   <g id=\"patch_267\">\r\n    <path clip-path=\"url(#pb408dbf1fc)\" d=\"M 220.617182 224.64 \r\nL 221.225909 224.64 \r\nL 221.225909 220.248008 \r\nL 220.617182 220.248008 \r\nz\r\n\" style=\"fill:#1f77b4;\"/>\r\n   </g>\r\n   <g id=\"patch_268\">\r\n    <path clip-path=\"url(#pb408dbf1fc)\" d=\"M 221.225909 224.64 \r\nL 221.834636 224.64 \r\nL 221.834636 219.563829 \r\nL 221.225909 219.563829 \r\nz\r\n\" style=\"fill:#1f77b4;\"/>\r\n   </g>\r\n   <g id=\"patch_269\">\r\n    <path clip-path=\"url(#pb408dbf1fc)\" d=\"M 221.834636 224.64 \r\nL 222.443364 224.64 \r\nL 222.443364 221.263243 \r\nL 221.834636 221.263243 \r\nz\r\n\" style=\"fill:#1f77b4;\"/>\r\n   </g>\r\n   <g id=\"patch_270\">\r\n    <path clip-path=\"url(#pb408dbf1fc)\" d=\"M 222.443364 224.64 \r\nL 223.052091 224.64 \r\nL 223.052091 220.424571 \r\nL 222.443364 220.424571 \r\nz\r\n\" style=\"fill:#1f77b4;\"/>\r\n   </g>\r\n   <g id=\"patch_271\">\r\n    <path clip-path=\"url(#pb408dbf1fc)\" d=\"M 223.052091 224.64 \r\nL 223.660818 224.64 \r\nL 223.660818 220.865977 \r\nL 223.052091 220.865977 \r\nz\r\n\" style=\"fill:#1f77b4;\"/>\r\n   </g>\r\n   <g id=\"patch_272\">\r\n    <path clip-path=\"url(#pb408dbf1fc)\" d=\"M 223.660818 224.64 \r\nL 224.269545 224.64 \r\nL 224.269545 220.049376 \r\nL 223.660818 220.049376 \r\nz\r\n\" style=\"fill:#1f77b4;\"/>\r\n   </g>\r\n   <g id=\"patch_273\">\r\n    <path clip-path=\"url(#pb408dbf1fc)\" d=\"M 224.269545 224.64 \r\nL 224.878273 224.64 \r\nL 224.878273 219.916954 \r\nL 224.269545 219.916954 \r\nz\r\n\" style=\"fill:#1f77b4;\"/>\r\n   </g>\r\n   <g id=\"patch_274\">\r\n    <path clip-path=\"url(#pb408dbf1fc)\" d=\"M 224.878273 224.64 \r\nL 225.487 224.64 \r\nL 225.487 219.078282 \r\nL 224.878273 219.078282 \r\nz\r\n\" style=\"fill:#1f77b4;\"/>\r\n   </g>\r\n   <g id=\"patch_275\">\r\n    <path clip-path=\"url(#pb408dbf1fc)\" d=\"M 225.487 224.64 \r\nL 226.095727 224.64 \r\nL 226.095727 219.806602 \r\nL 225.487 219.806602 \r\nz\r\n\" style=\"fill:#1f77b4;\"/>\r\n   </g>\r\n   <g id=\"patch_276\">\r\n    <path clip-path=\"url(#pb408dbf1fc)\" d=\"M 226.095727 224.64 \r\nL 226.704455 224.64 \r\nL 226.704455 220.270079 \r\nL 226.095727 220.270079 \r\nz\r\n\" style=\"fill:#1f77b4;\"/>\r\n   </g>\r\n   <g id=\"patch_277\">\r\n    <path clip-path=\"url(#pb408dbf1fc)\" d=\"M 226.704455 224.64 \r\nL 227.313182 224.64 \r\nL 227.313182 220.601133 \r\nL 226.704455 220.601133 \r\nz\r\n\" style=\"fill:#1f77b4;\"/>\r\n   </g>\r\n   <g id=\"patch_278\">\r\n    <path clip-path=\"url(#pb408dbf1fc)\" d=\"M 227.313182 224.64 \r\nL 227.921909 224.64 \r\nL 227.921909 220.777696 \r\nL 227.313182 220.777696 \r\nz\r\n\" style=\"fill:#1f77b4;\"/>\r\n   </g>\r\n   <g id=\"patch_279\">\r\n    <path clip-path=\"url(#pb408dbf1fc)\" d=\"M 227.921909 224.64 \r\nL 228.530636 224.64 \r\nL 228.530636 220.843907 \r\nL 227.921909 220.843907 \r\nz\r\n\" style=\"fill:#1f77b4;\"/>\r\n   </g>\r\n   <g id=\"patch_280\">\r\n    <path clip-path=\"url(#pb408dbf1fc)\" d=\"M 228.530636 224.64 \r\nL 229.139364 224.64 \r\nL 229.139364 221.241172 \r\nL 228.530636 221.241172 \r\nz\r\n\" style=\"fill:#1f77b4;\"/>\r\n   </g>\r\n   <g id=\"patch_281\">\r\n    <path clip-path=\"url(#pb408dbf1fc)\" d=\"M 229.139364 224.64 \r\nL 229.748091 224.64 \r\nL 229.748091 221.682579 \r\nL 229.139364 221.682579 \r\nz\r\n\" style=\"fill:#1f77b4;\"/>\r\n   </g>\r\n   <g id=\"patch_282\">\r\n    <path clip-path=\"url(#pb408dbf1fc)\" d=\"M 229.748091 224.64 \r\nL 230.356818 224.64 \r\nL 230.356818 221.726719 \r\nL 229.748091 221.726719 \r\nz\r\n\" style=\"fill:#1f77b4;\"/>\r\n   </g>\r\n   <g id=\"patch_283\">\r\n    <path clip-path=\"url(#pb408dbf1fc)\" d=\"M 230.356818 224.64 \r\nL 230.965545 224.64 \r\nL 230.965545 221.903282 \r\nL 230.356818 221.903282 \r\nz\r\n\" style=\"fill:#1f77b4;\"/>\r\n   </g>\r\n   <g id=\"patch_284\">\r\n    <path clip-path=\"url(#pb408dbf1fc)\" d=\"M 230.965545 224.64 \r\nL 231.574273 224.64 \r\nL 231.574273 221.991563 \r\nL 230.965545 221.991563 \r\nz\r\n\" style=\"fill:#1f77b4;\"/>\r\n   </g>\r\n   <g id=\"patch_285\">\r\n    <path clip-path=\"url(#pb408dbf1fc)\" d=\"M 231.574273 224.64 \r\nL 232.183 224.64 \r\nL 232.183 222.057774 \r\nL 231.574273 222.057774 \r\nz\r\n\" style=\"fill:#1f77b4;\"/>\r\n   </g>\r\n   <g id=\"patch_286\">\r\n    <path clip-path=\"url(#pb408dbf1fc)\" d=\"M 232.183 224.64 \r\nL 232.791727 224.64 \r\nL 232.791727 222.256407 \r\nL 232.183 222.256407 \r\nz\r\n\" style=\"fill:#1f77b4;\"/>\r\n   </g>\r\n   <g id=\"patch_287\">\r\n    <path clip-path=\"url(#pb408dbf1fc)\" d=\"M 232.791727 224.64 \r\nL 233.400455 224.64 \r\nL 233.400455 222.675742 \r\nL 232.791727 222.675742 \r\nz\r\n\" style=\"fill:#1f77b4;\"/>\r\n   </g>\r\n   <g id=\"patch_288\">\r\n    <path clip-path=\"url(#pb408dbf1fc)\" d=\"M 233.400455 224.64 \r\nL 234.009182 224.64 \r\nL 234.009182 222.609532 \r\nL 233.400455 222.609532 \r\nz\r\n\" style=\"fill:#1f77b4;\"/>\r\n   </g>\r\n   <g id=\"patch_289\">\r\n    <path clip-path=\"url(#pb408dbf1fc)\" d=\"M 234.009182 224.64 \r\nL 234.617909 224.64 \r\nL 234.617909 222.52125 \r\nL 234.009182 222.52125 \r\nz\r\n\" style=\"fill:#1f77b4;\"/>\r\n   </g>\r\n   <g id=\"patch_290\">\r\n    <path clip-path=\"url(#pb408dbf1fc)\" d=\"M 234.617909 224.64 \r\nL 235.226636 224.64 \r\nL 235.226636 222.101914 \r\nL 234.617909 222.101914 \r\nz\r\n\" style=\"fill:#1f77b4;\"/>\r\n   </g>\r\n   <g id=\"patch_291\">\r\n    <path clip-path=\"url(#pb408dbf1fc)\" d=\"M 235.226636 224.64 \r\nL 235.835364 224.64 \r\nL 235.835364 222.631602 \r\nL 235.226636 222.631602 \r\nz\r\n\" style=\"fill:#1f77b4;\"/>\r\n   </g>\r\n   <g id=\"patch_292\">\r\n    <path clip-path=\"url(#pb408dbf1fc)\" d=\"M 235.835364 224.64 \r\nL 236.444091 224.64 \r\nL 236.444091 223.117149 \r\nL 235.835364 223.117149 \r\nz\r\n\" style=\"fill:#1f77b4;\"/>\r\n   </g>\r\n   <g id=\"patch_293\">\r\n    <path clip-path=\"url(#pb408dbf1fc)\" d=\"M 236.444091 224.64 \r\nL 237.052818 224.64 \r\nL 237.052818 222.896446 \r\nL 236.444091 222.896446 \r\nz\r\n\" style=\"fill:#1f77b4;\"/>\r\n   </g>\r\n   <g id=\"patch_294\">\r\n    <path clip-path=\"url(#pb408dbf1fc)\" d=\"M 237.052818 224.64 \r\nL 237.661545 224.64 \r\nL 237.661545 222.764024 \r\nL 237.052818 222.764024 \r\nz\r\n\" style=\"fill:#1f77b4;\"/>\r\n   </g>\r\n   <g id=\"patch_295\">\r\n    <path clip-path=\"url(#pb408dbf1fc)\" d=\"M 237.661545 224.64 \r\nL 238.270273 224.64 \r\nL 238.270273 222.609532 \r\nL 237.661545 222.609532 \r\nz\r\n\" style=\"fill:#1f77b4;\"/>\r\n   </g>\r\n   <g id=\"patch_296\">\r\n    <path clip-path=\"url(#pb408dbf1fc)\" d=\"M 238.270273 224.64 \r\nL 238.879 224.64 \r\nL 238.879 222.808164 \r\nL 238.270273 222.808164 \r\nz\r\n\" style=\"fill:#1f77b4;\"/>\r\n   </g>\r\n   <g id=\"patch_297\">\r\n    <path clip-path=\"url(#pb408dbf1fc)\" d=\"M 238.879 224.64 \r\nL 239.487727 224.64 \r\nL 239.487727 222.256407 \r\nL 238.879 222.256407 \r\nz\r\n\" style=\"fill:#1f77b4;\"/>\r\n   </g>\r\n   <g id=\"patch_298\">\r\n    <path clip-path=\"url(#pb408dbf1fc)\" d=\"M 239.487727 224.64 \r\nL 240.096455 224.64 \r\nL 240.096455 222.49918 \r\nL 239.487727 222.49918 \r\nz\r\n\" style=\"fill:#1f77b4;\"/>\r\n   </g>\r\n   <g id=\"patch_299\">\r\n    <path clip-path=\"url(#pb408dbf1fc)\" d=\"M 240.096455 224.64 \r\nL 240.705182 224.64 \r\nL 240.705182 221.77086 \r\nL 240.096455 221.77086 \r\nz\r\n\" style=\"fill:#1f77b4;\"/>\r\n   </g>\r\n   <g id=\"patch_300\">\r\n    <path clip-path=\"url(#pb408dbf1fc)\" d=\"M 240.705182 224.64 \r\nL 241.313909 224.64 \r\nL 241.313909 222.455039 \r\nL 240.705182 222.455039 \r\nz\r\n\" style=\"fill:#1f77b4;\"/>\r\n   </g>\r\n   <g id=\"patch_301\">\r\n    <path clip-path=\"url(#pb408dbf1fc)\" d=\"M 241.313909 224.64 \r\nL 241.922636 224.64 \r\nL 241.922636 222.962656 \r\nL 241.313909 222.962656 \r\nz\r\n\" style=\"fill:#1f77b4;\"/>\r\n   </g>\r\n   <g id=\"patch_302\">\r\n    <path clip-path=\"url(#pb408dbf1fc)\" d=\"M 241.922636 224.64 \r\nL 242.531364 224.64 \r\nL 242.531364 222.653672 \r\nL 241.922636 222.653672 \r\nz\r\n\" style=\"fill:#1f77b4;\"/>\r\n   </g>\r\n   <g id=\"patch_303\">\r\n    <path clip-path=\"url(#pb408dbf1fc)\" d=\"M 242.531364 224.64 \r\nL 243.140091 224.64 \r\nL 243.140091 222.565391 \r\nL 242.531364 222.565391 \r\nz\r\n\" style=\"fill:#1f77b4;\"/>\r\n   </g>\r\n   <g id=\"patch_304\">\r\n    <path clip-path=\"url(#pb408dbf1fc)\" d=\"M 243.140091 224.64 \r\nL 243.748818 224.64 \r\nL 243.748818 222.808164 \r\nL 243.140091 222.808164 \r\nz\r\n\" style=\"fill:#1f77b4;\"/>\r\n   </g>\r\n   <g id=\"patch_305\">\r\n    <path clip-path=\"url(#pb408dbf1fc)\" d=\"M 243.748818 224.64 \r\nL 244.357545 224.64 \r\nL 244.357545 222.719883 \r\nL 243.748818 222.719883 \r\nz\r\n\" style=\"fill:#1f77b4;\"/>\r\n   </g>\r\n   <g id=\"patch_306\">\r\n    <path clip-path=\"url(#pb408dbf1fc)\" d=\"M 244.357545 224.64 \r\nL 244.966273 224.64 \r\nL 244.966273 222.278477 \r\nL 244.357545 222.278477 \r\nz\r\n\" style=\"fill:#1f77b4;\"/>\r\n   </g>\r\n   <g id=\"patch_307\">\r\n    <path clip-path=\"url(#pb408dbf1fc)\" d=\"M 244.966273 224.64 \r\nL 245.575 224.64 \r\nL 245.575 222.256407 \r\nL 244.966273 222.256407 \r\nz\r\n\" style=\"fill:#1f77b4;\"/>\r\n   </g>\r\n   <g id=\"patch_308\">\r\n    <path clip-path=\"url(#pb408dbf1fc)\" d=\"M 245.575 224.64 \r\nL 246.183727 224.64 \r\nL 246.183727 222.653672 \r\nL 245.575 222.653672 \r\nz\r\n\" style=\"fill:#1f77b4;\"/>\r\n   </g>\r\n   <g id=\"patch_309\">\r\n    <path clip-path=\"url(#pb408dbf1fc)\" d=\"M 246.183727 224.64 \r\nL 246.792455 224.64 \r\nL 246.792455 222.874375 \r\nL 246.183727 222.874375 \r\nz\r\n\" style=\"fill:#1f77b4;\"/>\r\n   </g>\r\n   <g id=\"patch_310\">\r\n    <path clip-path=\"url(#pb408dbf1fc)\" d=\"M 246.792455 224.64 \r\nL 247.401182 224.64 \r\nL 247.401182 222.830235 \r\nL 246.792455 222.830235 \r\nz\r\n\" style=\"fill:#1f77b4;\"/>\r\n   </g>\r\n   <g id=\"patch_311\">\r\n    <path clip-path=\"url(#pb408dbf1fc)\" d=\"M 247.401182 224.64 \r\nL 248.009909 224.64 \r\nL 248.009909 223.315781 \r\nL 247.401182 223.315781 \r\nz\r\n\" style=\"fill:#1f77b4;\"/>\r\n   </g>\r\n   <g id=\"patch_312\">\r\n    <path clip-path=\"url(#pb408dbf1fc)\" d=\"M 248.009909 224.64 \r\nL 248.618636 224.64 \r\nL 248.618636 223.028867 \r\nL 248.009909 223.028867 \r\nz\r\n\" style=\"fill:#1f77b4;\"/>\r\n   </g>\r\n   <g id=\"patch_313\">\r\n    <path clip-path=\"url(#pb408dbf1fc)\" d=\"M 248.618636 224.64 \r\nL 249.227364 224.64 \r\nL 249.227364 223.558555 \r\nL 248.618636 223.558555 \r\nz\r\n\" style=\"fill:#1f77b4;\"/>\r\n   </g>\r\n   <g id=\"patch_314\">\r\n    <path clip-path=\"url(#pb408dbf1fc)\" d=\"M 249.227364 224.64 \r\nL 249.836091 224.64 \r\nL 249.836091 223.624766 \r\nL 249.227364 223.624766 \r\nz\r\n\" style=\"fill:#1f77b4;\"/>\r\n   </g>\r\n   <g id=\"patch_315\">\r\n    <path clip-path=\"url(#pb408dbf1fc)\" d=\"M 249.836091 224.64 \r\nL 250.444818 224.64 \r\nL 250.444818 223.381992 \r\nL 249.836091 223.381992 \r\nz\r\n\" style=\"fill:#1f77b4;\"/>\r\n   </g>\r\n   <g id=\"patch_316\">\r\n    <path clip-path=\"url(#pb408dbf1fc)\" d=\"M 250.444818 224.64 \r\nL 251.053545 224.64 \r\nL 251.053545 223.91168 \r\nL 250.444818 223.91168 \r\nz\r\n\" style=\"fill:#1f77b4;\"/>\r\n   </g>\r\n   <g id=\"patch_317\">\r\n    <path clip-path=\"url(#pb408dbf1fc)\" d=\"M 251.053545 224.64 \r\nL 251.662273 224.64 \r\nL 251.662273 223.845469 \r\nL 251.053545 223.845469 \r\nz\r\n\" style=\"fill:#1f77b4;\"/>\r\n   </g>\r\n   <g id=\"patch_318\">\r\n    <path clip-path=\"url(#pb408dbf1fc)\" d=\"M 251.662273 224.64 \r\nL 252.271 224.64 \r\nL 252.271 223.823399 \r\nL 251.662273 223.823399 \r\nz\r\n\" style=\"fill:#1f77b4;\"/>\r\n   </g>\r\n   <g id=\"patch_319\">\r\n    <path clip-path=\"url(#pb408dbf1fc)\" d=\"M 252.271 224.64 \r\nL 252.879727 224.64 \r\nL 252.879727 223.845469 \r\nL 252.271 223.845469 \r\nz\r\n\" style=\"fill:#1f77b4;\"/>\r\n   </g>\r\n   <g id=\"patch_320\">\r\n    <path clip-path=\"url(#pb408dbf1fc)\" d=\"M 252.879727 224.64 \r\nL 253.488455 224.64 \r\nL 253.488455 223.867539 \r\nL 252.879727 223.867539 \r\nz\r\n\" style=\"fill:#1f77b4;\"/>\r\n   </g>\r\n   <g id=\"patch_321\">\r\n    <path clip-path=\"url(#pb408dbf1fc)\" d=\"M 253.488455 224.64 \r\nL 254.097182 224.64 \r\nL 254.097182 224.066172 \r\nL 253.488455 224.066172 \r\nz\r\n\" style=\"fill:#1f77b4;\"/>\r\n   </g>\r\n   <g id=\"patch_322\">\r\n    <path clip-path=\"url(#pb408dbf1fc)\" d=\"M 254.097182 224.64 \r\nL 254.705909 224.64 \r\nL 254.705909 224.044102 \r\nL 254.097182 224.044102 \r\nz\r\n\" style=\"fill:#1f77b4;\"/>\r\n   </g>\r\n   <g id=\"patch_323\">\r\n    <path clip-path=\"url(#pb408dbf1fc)\" d=\"M 254.705909 224.64 \r\nL 255.314636 224.64 \r\nL 255.314636 223.889609 \r\nL 254.705909 223.889609 \r\nz\r\n\" style=\"fill:#1f77b4;\"/>\r\n   </g>\r\n   <g id=\"patch_324\">\r\n    <path clip-path=\"url(#pb408dbf1fc)\" d=\"M 255.314636 224.64 \r\nL 255.923364 224.64 \r\nL 255.923364 224.110313 \r\nL 255.314636 224.110313 \r\nz\r\n\" style=\"fill:#1f77b4;\"/>\r\n   </g>\r\n   <g id=\"patch_325\">\r\n    <path clip-path=\"url(#pb408dbf1fc)\" d=\"M 255.923364 224.64 \r\nL 256.532091 224.64 \r\nL 256.532091 223.93375 \r\nL 255.923364 223.93375 \r\nz\r\n\" style=\"fill:#1f77b4;\"/>\r\n   </g>\r\n   <g id=\"patch_326\">\r\n    <path clip-path=\"url(#pb408dbf1fc)\" d=\"M 256.532091 224.64 \r\nL 257.140818 224.64 \r\nL 257.140818 223.91168 \r\nL 256.532091 223.91168 \r\nz\r\n\" style=\"fill:#1f77b4;\"/>\r\n   </g>\r\n   <g id=\"patch_327\">\r\n    <path clip-path=\"url(#pb408dbf1fc)\" d=\"M 257.140818 224.64 \r\nL 257.749545 224.64 \r\nL 257.749545 224.044102 \r\nL 257.140818 224.044102 \r\nz\r\n\" style=\"fill:#1f77b4;\"/>\r\n   </g>\r\n   <g id=\"patch_328\">\r\n    <path clip-path=\"url(#pb408dbf1fc)\" d=\"M 257.749545 224.64 \r\nL 258.358273 224.64 \r\nL 258.358273 224.044102 \r\nL 257.749545 224.044102 \r\nz\r\n\" style=\"fill:#1f77b4;\"/>\r\n   </g>\r\n   <g id=\"patch_329\">\r\n    <path clip-path=\"url(#pb408dbf1fc)\" d=\"M 258.358273 224.64 \r\nL 258.967 224.64 \r\nL 258.967 224.176523 \r\nL 258.358273 224.176523 \r\nz\r\n\" style=\"fill:#1f77b4;\"/>\r\n   </g>\r\n   <g id=\"patch_330\">\r\n    <path clip-path=\"url(#pb408dbf1fc)\" d=\"M 258.967 224.64 \r\nL 259.575727 224.64 \r\nL 259.575727 224.242734 \r\nL 258.967 224.242734 \r\nz\r\n\" style=\"fill:#1f77b4;\"/>\r\n   </g>\r\n   <g id=\"patch_331\">\r\n    <path clip-path=\"url(#pb408dbf1fc)\" d=\"M 259.575727 224.64 \r\nL 260.184455 224.64 \r\nL 260.184455 224.132383 \r\nL 259.575727 224.132383 \r\nz\r\n\" style=\"fill:#1f77b4;\"/>\r\n   </g>\r\n   <g id=\"patch_332\">\r\n    <path clip-path=\"url(#pb408dbf1fc)\" d=\"M 260.184455 224.64 \r\nL 260.793182 224.64 \r\nL 260.793182 223.867539 \r\nL 260.184455 223.867539 \r\nz\r\n\" style=\"fill:#1f77b4;\"/>\r\n   </g>\r\n   <g id=\"patch_333\">\r\n    <path clip-path=\"url(#pb408dbf1fc)\" d=\"M 260.793182 224.64 \r\nL 261.401909 224.64 \r\nL 261.401909 224.308945 \r\nL 260.793182 224.308945 \r\nz\r\n\" style=\"fill:#1f77b4;\"/>\r\n   </g>\r\n   <g id=\"patch_334\">\r\n    <path clip-path=\"url(#pb408dbf1fc)\" d=\"M 261.401909 224.64 \r\nL 262.010636 224.64 \r\nL 262.010636 224.242734 \r\nL 261.401909 224.242734 \r\nz\r\n\" style=\"fill:#1f77b4;\"/>\r\n   </g>\r\n   <g id=\"patch_335\">\r\n    <path clip-path=\"url(#pb408dbf1fc)\" d=\"M 262.010636 224.64 \r\nL 262.619364 224.64 \r\nL 262.619364 224.286875 \r\nL 262.010636 224.286875 \r\nz\r\n\" style=\"fill:#1f77b4;\"/>\r\n   </g>\r\n   <g id=\"patch_336\">\r\n    <path clip-path=\"url(#pb408dbf1fc)\" d=\"M 262.619364 224.64 \r\nL 263.228091 224.64 \r\nL 263.228091 224.264805 \r\nL 262.619364 224.264805 \r\nz\r\n\" style=\"fill:#1f77b4;\"/>\r\n   </g>\r\n   <g id=\"patch_337\">\r\n    <path clip-path=\"url(#pb408dbf1fc)\" d=\"M 263.228091 224.64 \r\nL 263.836818 224.64 \r\nL 263.836818 224.375156 \r\nL 263.228091 224.375156 \r\nz\r\n\" style=\"fill:#1f77b4;\"/>\r\n   </g>\r\n   <g id=\"patch_338\">\r\n    <path clip-path=\"url(#pb408dbf1fc)\" d=\"M 263.836818 224.64 \r\nL 264.445545 224.64 \r\nL 264.445545 224.132383 \r\nL 263.836818 224.132383 \r\nz\r\n\" style=\"fill:#1f77b4;\"/>\r\n   </g>\r\n   <g id=\"patch_339\">\r\n    <path clip-path=\"url(#pb408dbf1fc)\" d=\"M 264.445545 224.64 \r\nL 265.054273 224.64 \r\nL 265.054273 224.264805 \r\nL 264.445545 224.264805 \r\nz\r\n\" style=\"fill:#1f77b4;\"/>\r\n   </g>\r\n   <g id=\"patch_340\">\r\n    <path clip-path=\"url(#pb408dbf1fc)\" d=\"M 265.054273 224.64 \r\nL 265.663 224.64 \r\nL 265.663 224.353086 \r\nL 265.054273 224.353086 \r\nz\r\n\" style=\"fill:#1f77b4;\"/>\r\n   </g>\r\n   <g id=\"patch_341\">\r\n    <path clip-path=\"url(#pb408dbf1fc)\" d=\"M 265.663 224.64 \r\nL 266.271727 224.64 \r\nL 266.271727 224.353086 \r\nL 265.663 224.353086 \r\nz\r\n\" style=\"fill:#1f77b4;\"/>\r\n   </g>\r\n   <g id=\"patch_342\">\r\n    <path clip-path=\"url(#pb408dbf1fc)\" d=\"M 266.271727 224.64 \r\nL 266.880455 224.64 \r\nL 266.880455 224.286875 \r\nL 266.271727 224.286875 \r\nz\r\n\" style=\"fill:#1f77b4;\"/>\r\n   </g>\r\n   <g id=\"patch_343\">\r\n    <path clip-path=\"url(#pb408dbf1fc)\" d=\"M 266.880455 224.64 \r\nL 267.489182 224.64 \r\nL 267.489182 224.176523 \r\nL 266.880455 224.176523 \r\nz\r\n\" style=\"fill:#1f77b4;\"/>\r\n   </g>\r\n   <g id=\"patch_344\">\r\n    <path clip-path=\"url(#pb408dbf1fc)\" d=\"M 267.489182 224.64 \r\nL 268.097909 224.64 \r\nL 268.097909 224.308945 \r\nL 267.489182 224.308945 \r\nz\r\n\" style=\"fill:#1f77b4;\"/>\r\n   </g>\r\n   <g id=\"patch_345\">\r\n    <path clip-path=\"url(#pb408dbf1fc)\" d=\"M 268.097909 224.64 \r\nL 268.706636 224.64 \r\nL 268.706636 224.419297 \r\nL 268.097909 224.419297 \r\nz\r\n\" style=\"fill:#1f77b4;\"/>\r\n   </g>\r\n   <g id=\"patch_346\">\r\n    <path clip-path=\"url(#pb408dbf1fc)\" d=\"M 268.706636 224.64 \r\nL 269.315364 224.64 \r\nL 269.315364 224.353086 \r\nL 268.706636 224.353086 \r\nz\r\n\" style=\"fill:#1f77b4;\"/>\r\n   </g>\r\n   <g id=\"patch_347\">\r\n    <path clip-path=\"url(#pb408dbf1fc)\" d=\"M 269.315364 224.64 \r\nL 269.924091 224.64 \r\nL 269.924091 224.441367 \r\nL 269.315364 224.441367 \r\nz\r\n\" style=\"fill:#1f77b4;\"/>\r\n   </g>\r\n   <g id=\"patch_348\">\r\n    <path clip-path=\"url(#pb408dbf1fc)\" d=\"M 269.924091 224.64 \r\nL 270.532818 224.64 \r\nL 270.532818 224.286875 \r\nL 269.924091 224.286875 \r\nz\r\n\" style=\"fill:#1f77b4;\"/>\r\n   </g>\r\n   <g id=\"patch_349\">\r\n    <path clip-path=\"url(#pb408dbf1fc)\" d=\"M 270.532818 224.64 \r\nL 271.141545 224.64 \r\nL 271.141545 224.242734 \r\nL 270.532818 224.242734 \r\nz\r\n\" style=\"fill:#1f77b4;\"/>\r\n   </g>\r\n   <g id=\"patch_350\">\r\n    <path clip-path=\"url(#pb408dbf1fc)\" d=\"M 271.141545 224.64 \r\nL 271.750273 224.64 \r\nL 271.750273 224.441367 \r\nL 271.141545 224.441367 \r\nz\r\n\" style=\"fill:#1f77b4;\"/>\r\n   </g>\r\n   <g id=\"patch_351\">\r\n    <path clip-path=\"url(#pb408dbf1fc)\" d=\"M 271.750273 224.64 \r\nL 272.359 224.64 \r\nL 272.359 224.375156 \r\nL 271.750273 224.375156 \r\nz\r\n\" style=\"fill:#1f77b4;\"/>\r\n   </g>\r\n   <g id=\"patch_352\">\r\n    <path clip-path=\"url(#pb408dbf1fc)\" d=\"M 272.359 224.64 \r\nL 272.967727 224.64 \r\nL 272.967727 224.375156 \r\nL 272.359 224.375156 \r\nz\r\n\" style=\"fill:#1f77b4;\"/>\r\n   </g>\r\n   <g id=\"patch_353\">\r\n    <path clip-path=\"url(#pb408dbf1fc)\" d=\"M 272.967727 224.64 \r\nL 273.576455 224.64 \r\nL 273.576455 224.463438 \r\nL 272.967727 224.463438 \r\nz\r\n\" style=\"fill:#1f77b4;\"/>\r\n   </g>\r\n   <g id=\"patch_354\">\r\n    <path clip-path=\"url(#pb408dbf1fc)\" d=\"M 273.576455 224.64 \r\nL 274.185182 224.64 \r\nL 274.185182 224.441367 \r\nL 273.576455 224.441367 \r\nz\r\n\" style=\"fill:#1f77b4;\"/>\r\n   </g>\r\n   <g id=\"patch_355\">\r\n    <path clip-path=\"url(#pb408dbf1fc)\" d=\"M 274.185182 224.64 \r\nL 274.793909 224.64 \r\nL 274.793909 224.485508 \r\nL 274.185182 224.485508 \r\nz\r\n\" style=\"fill:#1f77b4;\"/>\r\n   </g>\r\n   <g id=\"patch_356\">\r\n    <path clip-path=\"url(#pb408dbf1fc)\" d=\"M 274.793909 224.64 \r\nL 275.402636 224.64 \r\nL 275.402636 224.397227 \r\nL 274.793909 224.397227 \r\nz\r\n\" style=\"fill:#1f77b4;\"/>\r\n   </g>\r\n   <g id=\"patch_357\">\r\n    <path clip-path=\"url(#pb408dbf1fc)\" d=\"M 275.402636 224.64 \r\nL 276.011364 224.64 \r\nL 276.011364 224.397227 \r\nL 275.402636 224.397227 \r\nz\r\n\" style=\"fill:#1f77b4;\"/>\r\n   </g>\r\n   <g id=\"patch_358\">\r\n    <path clip-path=\"url(#pb408dbf1fc)\" d=\"M 276.011364 224.64 \r\nL 276.620091 224.64 \r\nL 276.620091 224.529648 \r\nL 276.011364 224.529648 \r\nz\r\n\" style=\"fill:#1f77b4;\"/>\r\n   </g>\r\n   <g id=\"patch_359\">\r\n    <path clip-path=\"url(#pb408dbf1fc)\" d=\"M 276.620091 224.64 \r\nL 277.228818 224.64 \r\nL 277.228818 224.463438 \r\nL 276.620091 224.463438 \r\nz\r\n\" style=\"fill:#1f77b4;\"/>\r\n   </g>\r\n   <g id=\"patch_360\">\r\n    <path clip-path=\"url(#pb408dbf1fc)\" d=\"M 277.228818 224.64 \r\nL 277.837545 224.64 \r\nL 277.837545 224.573789 \r\nL 277.228818 224.573789 \r\nz\r\n\" style=\"fill:#1f77b4;\"/>\r\n   </g>\r\n   <g id=\"patch_361\">\r\n    <path clip-path=\"url(#pb408dbf1fc)\" d=\"M 277.837545 224.64 \r\nL 278.446273 224.64 \r\nL 278.446273 224.507578 \r\nL 277.837545 224.507578 \r\nz\r\n\" style=\"fill:#1f77b4;\"/>\r\n   </g>\r\n   <g id=\"patch_362\">\r\n    <path clip-path=\"url(#pb408dbf1fc)\" d=\"M 278.446273 224.64 \r\nL 279.055 224.64 \r\nL 279.055 224.507578 \r\nL 278.446273 224.507578 \r\nz\r\n\" style=\"fill:#1f77b4;\"/>\r\n   </g>\r\n   <g id=\"patch_363\">\r\n    <path clip-path=\"url(#pb408dbf1fc)\" d=\"M 279.055 224.64 \r\nL 279.663727 224.64 \r\nL 279.663727 224.463438 \r\nL 279.055 224.463438 \r\nz\r\n\" style=\"fill:#1f77b4;\"/>\r\n   </g>\r\n   <g id=\"patch_364\">\r\n    <path clip-path=\"url(#pb408dbf1fc)\" d=\"M 279.663727 224.64 \r\nL 280.272455 224.64 \r\nL 280.272455 224.529648 \r\nL 279.663727 224.529648 \r\nz\r\n\" style=\"fill:#1f77b4;\"/>\r\n   </g>\r\n   <g id=\"patch_365\">\r\n    <path clip-path=\"url(#pb408dbf1fc)\" d=\"M 280.272455 224.64 \r\nL 280.881182 224.64 \r\nL 280.881182 224.419297 \r\nL 280.272455 224.419297 \r\nz\r\n\" style=\"fill:#1f77b4;\"/>\r\n   </g>\r\n   <g id=\"patch_366\">\r\n    <path clip-path=\"url(#pb408dbf1fc)\" d=\"M 280.881182 224.64 \r\nL 281.489909 224.64 \r\nL 281.489909 224.573789 \r\nL 280.881182 224.573789 \r\nz\r\n\" style=\"fill:#1f77b4;\"/>\r\n   </g>\r\n   <g id=\"patch_367\">\r\n    <path clip-path=\"url(#pb408dbf1fc)\" d=\"M 281.489909 224.64 \r\nL 282.098636 224.64 \r\nL 282.098636 224.529648 \r\nL 281.489909 224.529648 \r\nz\r\n\" style=\"fill:#1f77b4;\"/>\r\n   </g>\r\n   <g id=\"patch_368\">\r\n    <path clip-path=\"url(#pb408dbf1fc)\" d=\"M 282.098636 224.64 \r\nL 282.707364 224.64 \r\nL 282.707364 224.551719 \r\nL 282.098636 224.551719 \r\nz\r\n\" style=\"fill:#1f77b4;\"/>\r\n   </g>\r\n   <g id=\"patch_369\">\r\n    <path clip-path=\"url(#pb408dbf1fc)\" d=\"M 282.707364 224.64 \r\nL 283.316091 224.64 \r\nL 283.316091 224.529648 \r\nL 282.707364 224.529648 \r\nz\r\n\" style=\"fill:#1f77b4;\"/>\r\n   </g>\r\n   <g id=\"patch_370\">\r\n    <path clip-path=\"url(#pb408dbf1fc)\" d=\"M 283.316091 224.64 \r\nL 283.924818 224.64 \r\nL 283.924818 224.529648 \r\nL 283.316091 224.529648 \r\nz\r\n\" style=\"fill:#1f77b4;\"/>\r\n   </g>\r\n   <g id=\"patch_371\">\r\n    <path clip-path=\"url(#pb408dbf1fc)\" d=\"M 283.924818 224.64 \r\nL 284.533545 224.64 \r\nL 284.533545 224.419297 \r\nL 283.924818 224.419297 \r\nz\r\n\" style=\"fill:#1f77b4;\"/>\r\n   </g>\r\n   <g id=\"patch_372\">\r\n    <path clip-path=\"url(#pb408dbf1fc)\" d=\"M 284.533545 224.64 \r\nL 285.142273 224.64 \r\nL 285.142273 224.110313 \r\nL 284.533545 224.110313 \r\nz\r\n\" style=\"fill:#1f77b4;\"/>\r\n   </g>\r\n   <g id=\"patch_373\">\r\n    <path clip-path=\"url(#pb408dbf1fc)\" d=\"M 285.142273 224.64 \r\nL 285.751 224.64 \r\nL 285.751 224.419297 \r\nL 285.142273 224.419297 \r\nz\r\n\" style=\"fill:#1f77b4;\"/>\r\n   </g>\r\n   <g id=\"patch_374\">\r\n    <path clip-path=\"url(#pb408dbf1fc)\" d=\"M 285.751 224.64 \r\nL 286.359727 224.64 \r\nL 286.359727 224.485508 \r\nL 285.751 224.485508 \r\nz\r\n\" style=\"fill:#1f77b4;\"/>\r\n   </g>\r\n   <g id=\"patch_375\">\r\n    <path clip-path=\"url(#pb408dbf1fc)\" d=\"M 286.359727 224.64 \r\nL 286.968455 224.64 \r\nL 286.968455 224.485508 \r\nL 286.359727 224.485508 \r\nz\r\n\" style=\"fill:#1f77b4;\"/>\r\n   </g>\r\n   <g id=\"patch_376\">\r\n    <path clip-path=\"url(#pb408dbf1fc)\" d=\"M 286.968455 224.64 \r\nL 287.577182 224.64 \r\nL 287.577182 224.573789 \r\nL 286.968455 224.573789 \r\nz\r\n\" style=\"fill:#1f77b4;\"/>\r\n   </g>\r\n   <g id=\"patch_377\">\r\n    <path clip-path=\"url(#pb408dbf1fc)\" d=\"M 287.577182 224.64 \r\nL 288.185909 224.64 \r\nL 288.185909 224.529648 \r\nL 287.577182 224.529648 \r\nz\r\n\" style=\"fill:#1f77b4;\"/>\r\n   </g>\r\n   <g id=\"patch_378\">\r\n    <path clip-path=\"url(#pb408dbf1fc)\" d=\"M 288.185909 224.64 \r\nL 288.794636 224.64 \r\nL 288.794636 224.529648 \r\nL 288.185909 224.529648 \r\nz\r\n\" style=\"fill:#1f77b4;\"/>\r\n   </g>\r\n   <g id=\"patch_379\">\r\n    <path clip-path=\"url(#pb408dbf1fc)\" d=\"M 288.794636 224.64 \r\nL 289.403364 224.64 \r\nL 289.403364 224.507578 \r\nL 288.794636 224.507578 \r\nz\r\n\" style=\"fill:#1f77b4;\"/>\r\n   </g>\r\n   <g id=\"patch_380\">\r\n    <path clip-path=\"url(#pb408dbf1fc)\" d=\"M 289.403364 224.64 \r\nL 290.012091 224.64 \r\nL 290.012091 224.507578 \r\nL 289.403364 224.507578 \r\nz\r\n\" style=\"fill:#1f77b4;\"/>\r\n   </g>\r\n   <g id=\"patch_381\">\r\n    <path clip-path=\"url(#pb408dbf1fc)\" d=\"M 290.012091 224.64 \r\nL 290.620818 224.64 \r\nL 290.620818 224.485508 \r\nL 290.012091 224.485508 \r\nz\r\n\" style=\"fill:#1f77b4;\"/>\r\n   </g>\r\n   <g id=\"patch_382\">\r\n    <path clip-path=\"url(#pb408dbf1fc)\" d=\"M 290.620818 224.64 \r\nL 291.229545 224.64 \r\nL 291.229545 224.441367 \r\nL 290.620818 224.441367 \r\nz\r\n\" style=\"fill:#1f77b4;\"/>\r\n   </g>\r\n   <g id=\"patch_383\">\r\n    <path clip-path=\"url(#pb408dbf1fc)\" d=\"M 291.229545 224.64 \r\nL 291.838273 224.64 \r\nL 291.838273 224.551719 \r\nL 291.229545 224.551719 \r\nz\r\n\" style=\"fill:#1f77b4;\"/>\r\n   </g>\r\n   <g id=\"patch_384\">\r\n    <path clip-path=\"url(#pb408dbf1fc)\" d=\"M 291.838273 224.64 \r\nL 292.447 224.64 \r\nL 292.447 224.551719 \r\nL 291.838273 224.551719 \r\nz\r\n\" style=\"fill:#1f77b4;\"/>\r\n   </g>\r\n   <g id=\"patch_385\">\r\n    <path clip-path=\"url(#pb408dbf1fc)\" d=\"M 292.447 224.64 \r\nL 293.055727 224.64 \r\nL 293.055727 224.353086 \r\nL 292.447 224.353086 \r\nz\r\n\" style=\"fill:#1f77b4;\"/>\r\n   </g>\r\n   <g id=\"patch_386\">\r\n    <path clip-path=\"url(#pb408dbf1fc)\" d=\"M 293.055727 224.64 \r\nL 293.664455 224.64 \r\nL 293.664455 224.397227 \r\nL 293.055727 224.397227 \r\nz\r\n\" style=\"fill:#1f77b4;\"/>\r\n   </g>\r\n   <g id=\"patch_387\">\r\n    <path clip-path=\"url(#pb408dbf1fc)\" d=\"M 293.664455 224.64 \r\nL 294.273182 224.64 \r\nL 294.273182 224.551719 \r\nL 293.664455 224.551719 \r\nz\r\n\" style=\"fill:#1f77b4;\"/>\r\n   </g>\r\n   <g id=\"patch_388\">\r\n    <path clip-path=\"url(#pb408dbf1fc)\" d=\"M 294.273182 224.64 \r\nL 294.881909 224.64 \r\nL 294.881909 224.463438 \r\nL 294.273182 224.463438 \r\nz\r\n\" style=\"fill:#1f77b4;\"/>\r\n   </g>\r\n   <g id=\"patch_389\">\r\n    <path clip-path=\"url(#pb408dbf1fc)\" d=\"M 294.881909 224.64 \r\nL 295.490636 224.64 \r\nL 295.490636 224.507578 \r\nL 294.881909 224.507578 \r\nz\r\n\" style=\"fill:#1f77b4;\"/>\r\n   </g>\r\n   <g id=\"patch_390\">\r\n    <path clip-path=\"url(#pb408dbf1fc)\" d=\"M 295.490636 224.64 \r\nL 296.099364 224.64 \r\nL 296.099364 224.441367 \r\nL 295.490636 224.441367 \r\nz\r\n\" style=\"fill:#1f77b4;\"/>\r\n   </g>\r\n   <g id=\"patch_391\">\r\n    <path clip-path=\"url(#pb408dbf1fc)\" d=\"M 296.099364 224.64 \r\nL 296.708091 224.64 \r\nL 296.708091 224.573789 \r\nL 296.099364 224.573789 \r\nz\r\n\" style=\"fill:#1f77b4;\"/>\r\n   </g>\r\n   <g id=\"patch_392\">\r\n    <path clip-path=\"url(#pb408dbf1fc)\" d=\"M 296.708091 224.64 \r\nL 297.316818 224.64 \r\nL 297.316818 224.573789 \r\nL 296.708091 224.573789 \r\nz\r\n\" style=\"fill:#1f77b4;\"/>\r\n   </g>\r\n   <g id=\"patch_393\">\r\n    <path clip-path=\"url(#pb408dbf1fc)\" d=\"M 297.316818 224.64 \r\nL 297.925545 224.64 \r\nL 297.925545 224.485508 \r\nL 297.316818 224.485508 \r\nz\r\n\" style=\"fill:#1f77b4;\"/>\r\n   </g>\r\n   <g id=\"patch_394\">\r\n    <path clip-path=\"url(#pb408dbf1fc)\" d=\"M 297.925545 224.64 \r\nL 298.534273 224.64 \r\nL 298.534273 224.573789 \r\nL 297.925545 224.573789 \r\nz\r\n\" style=\"fill:#1f77b4;\"/>\r\n   </g>\r\n   <g id=\"patch_395\">\r\n    <path clip-path=\"url(#pb408dbf1fc)\" d=\"M 298.534273 224.64 \r\nL 299.143 224.64 \r\nL 299.143 224.573789 \r\nL 298.534273 224.573789 \r\nz\r\n\" style=\"fill:#1f77b4;\"/>\r\n   </g>\r\n   <g id=\"patch_396\">\r\n    <path clip-path=\"url(#pb408dbf1fc)\" d=\"M 299.143 224.64 \r\nL 299.751727 224.64 \r\nL 299.751727 224.551719 \r\nL 299.143 224.551719 \r\nz\r\n\" style=\"fill:#1f77b4;\"/>\r\n   </g>\r\n   <g id=\"patch_397\">\r\n    <path clip-path=\"url(#pb408dbf1fc)\" d=\"M 299.751727 224.64 \r\nL 300.360455 224.64 \r\nL 300.360455 224.551719 \r\nL 299.751727 224.551719 \r\nz\r\n\" style=\"fill:#1f77b4;\"/>\r\n   </g>\r\n   <g id=\"patch_398\">\r\n    <path clip-path=\"url(#pb408dbf1fc)\" d=\"M 300.360455 224.64 \r\nL 300.969182 224.64 \r\nL 300.969182 224.551719 \r\nL 300.360455 224.551719 \r\nz\r\n\" style=\"fill:#1f77b4;\"/>\r\n   </g>\r\n   <g id=\"patch_399\">\r\n    <path clip-path=\"url(#pb408dbf1fc)\" d=\"M 300.969182 224.64 \r\nL 301.577909 224.64 \r\nL 301.577909 224.485508 \r\nL 300.969182 224.485508 \r\nz\r\n\" style=\"fill:#1f77b4;\"/>\r\n   </g>\r\n   <g id=\"patch_400\">\r\n    <path clip-path=\"url(#pb408dbf1fc)\" d=\"M 301.577909 224.64 \r\nL 302.186636 224.64 \r\nL 302.186636 224.551719 \r\nL 301.577909 224.551719 \r\nz\r\n\" style=\"fill:#1f77b4;\"/>\r\n   </g>\r\n   <g id=\"patch_401\">\r\n    <path clip-path=\"url(#pb408dbf1fc)\" d=\"M 302.186636 224.64 \r\nL 302.795364 224.64 \r\nL 302.795364 224.573789 \r\nL 302.186636 224.573789 \r\nz\r\n\" style=\"fill:#1f77b4;\"/>\r\n   </g>\r\n   <g id=\"patch_402\">\r\n    <path clip-path=\"url(#pb408dbf1fc)\" d=\"M 302.795364 224.64 \r\nL 303.404091 224.64 \r\nL 303.404091 224.595859 \r\nL 302.795364 224.595859 \r\nz\r\n\" style=\"fill:#1f77b4;\"/>\r\n   </g>\r\n   <g id=\"patch_403\">\r\n    <path clip-path=\"url(#pb408dbf1fc)\" d=\"M 303.404091 224.64 \r\nL 304.012818 224.64 \r\nL 304.012818 224.595859 \r\nL 303.404091 224.595859 \r\nz\r\n\" style=\"fill:#1f77b4;\"/>\r\n   </g>\r\n   <g id=\"patch_404\">\r\n    <path clip-path=\"url(#pb408dbf1fc)\" d=\"M 304.012818 224.64 \r\nL 304.621545 224.64 \r\nL 304.621545 224.485508 \r\nL 304.012818 224.485508 \r\nz\r\n\" style=\"fill:#1f77b4;\"/>\r\n   </g>\r\n   <g id=\"patch_405\">\r\n    <path clip-path=\"url(#pb408dbf1fc)\" d=\"M 304.621545 224.64 \r\nL 305.230273 224.64 \r\nL 305.230273 224.551719 \r\nL 304.621545 224.551719 \r\nz\r\n\" style=\"fill:#1f77b4;\"/>\r\n   </g>\r\n   <g id=\"patch_406\">\r\n    <path clip-path=\"url(#pb408dbf1fc)\" d=\"M 305.230273 224.64 \r\nL 305.839 224.64 \r\nL 305.839 224.595859 \r\nL 305.230273 224.595859 \r\nz\r\n\" style=\"fill:#1f77b4;\"/>\r\n   </g>\r\n   <g id=\"patch_407\">\r\n    <path clip-path=\"url(#pb408dbf1fc)\" d=\"M 305.839 224.64 \r\nL 306.447727 224.64 \r\nL 306.447727 224.485508 \r\nL 305.839 224.485508 \r\nz\r\n\" style=\"fill:#1f77b4;\"/>\r\n   </g>\r\n   <g id=\"patch_408\">\r\n    <path clip-path=\"url(#pb408dbf1fc)\" d=\"M 306.447727 224.64 \r\nL 307.056455 224.64 \r\nL 307.056455 223.735117 \r\nL 306.447727 223.735117 \r\nz\r\n\" style=\"fill:#1f77b4;\"/>\r\n   </g>\r\n   <g id=\"patch_409\">\r\n    <path clip-path=\"url(#pb408dbf1fc)\" d=\"M 307.056455 224.64 \r\nL 307.665182 224.64 \r\nL 307.665182 223.95582 \r\nL 307.056455 223.95582 \r\nz\r\n\" style=\"fill:#1f77b4;\"/>\r\n   </g>\r\n   <g id=\"patch_410\">\r\n    <path clip-path=\"url(#pb408dbf1fc)\" d=\"M 307.665182 224.64 \r\nL 308.273909 224.64 \r\nL 308.273909 224.61793 \r\nL 307.665182 224.61793 \r\nz\r\n\" style=\"fill:#1f77b4;\"/>\r\n   </g>\r\n   <g id=\"patch_411\">\r\n    <path clip-path=\"url(#pb408dbf1fc)\" d=\"M 308.273909 224.64 \r\nL 308.882636 224.64 \r\nL 308.882636 224.529648 \r\nL 308.273909 224.529648 \r\nz\r\n\" style=\"fill:#1f77b4;\"/>\r\n   </g>\r\n   <g id=\"patch_412\">\r\n    <path clip-path=\"url(#pb408dbf1fc)\" d=\"M 308.882636 224.64 \r\nL 309.491364 224.64 \r\nL 309.491364 224.551719 \r\nL 308.882636 224.551719 \r\nz\r\n\" style=\"fill:#1f77b4;\"/>\r\n   </g>\r\n   <g id=\"patch_413\">\r\n    <path clip-path=\"url(#pb408dbf1fc)\" d=\"M 309.491364 224.64 \r\nL 310.100091 224.64 \r\nL 310.100091 224.485508 \r\nL 309.491364 224.485508 \r\nz\r\n\" style=\"fill:#1f77b4;\"/>\r\n   </g>\r\n   <g id=\"patch_414\">\r\n    <path clip-path=\"url(#pb408dbf1fc)\" d=\"M 310.100091 224.64 \r\nL 310.708818 224.64 \r\nL 310.708818 224.595859 \r\nL 310.100091 224.595859 \r\nz\r\n\" style=\"fill:#1f77b4;\"/>\r\n   </g>\r\n   <g id=\"patch_415\">\r\n    <path clip-path=\"url(#pb408dbf1fc)\" d=\"M 310.708818 224.64 \r\nL 311.317545 224.64 \r\nL 311.317545 224.529648 \r\nL 310.708818 224.529648 \r\nz\r\n\" style=\"fill:#1f77b4;\"/>\r\n   </g>\r\n   <g id=\"patch_416\">\r\n    <path clip-path=\"url(#pb408dbf1fc)\" d=\"M 311.317545 224.64 \r\nL 311.926273 224.64 \r\nL 311.926273 224.485508 \r\nL 311.317545 224.485508 \r\nz\r\n\" style=\"fill:#1f77b4;\"/>\r\n   </g>\r\n   <g id=\"patch_417\">\r\n    <path clip-path=\"url(#pb408dbf1fc)\" d=\"M 311.926273 224.64 \r\nL 312.535 224.64 \r\nL 312.535 224.595859 \r\nL 311.926273 224.595859 \r\nz\r\n\" style=\"fill:#1f77b4;\"/>\r\n   </g>\r\n   <g id=\"patch_418\">\r\n    <path clip-path=\"url(#pb408dbf1fc)\" d=\"M 312.535 224.64 \r\nL 313.143727 224.64 \r\nL 313.143727 224.485508 \r\nL 312.535 224.485508 \r\nz\r\n\" style=\"fill:#1f77b4;\"/>\r\n   </g>\r\n   <g id=\"patch_419\">\r\n    <path clip-path=\"url(#pb408dbf1fc)\" d=\"M 313.143727 224.64 \r\nL 313.752455 224.64 \r\nL 313.752455 224.573789 \r\nL 313.143727 224.573789 \r\nz\r\n\" style=\"fill:#1f77b4;\"/>\r\n   </g>\r\n   <g id=\"patch_420\">\r\n    <path clip-path=\"url(#pb408dbf1fc)\" d=\"M 313.752455 224.64 \r\nL 314.361182 224.64 \r\nL 314.361182 224.573789 \r\nL 313.752455 224.573789 \r\nz\r\n\" style=\"fill:#1f77b4;\"/>\r\n   </g>\r\n   <g id=\"patch_421\">\r\n    <path clip-path=\"url(#pb408dbf1fc)\" d=\"M 314.361182 224.64 \r\nL 314.969909 224.64 \r\nL 314.969909 224.551719 \r\nL 314.361182 224.551719 \r\nz\r\n\" style=\"fill:#1f77b4;\"/>\r\n   </g>\r\n   <g id=\"patch_422\">\r\n    <path clip-path=\"url(#pb408dbf1fc)\" d=\"M 314.969909 224.64 \r\nL 315.578636 224.64 \r\nL 315.578636 224.529648 \r\nL 314.969909 224.529648 \r\nz\r\n\" style=\"fill:#1f77b4;\"/>\r\n   </g>\r\n   <g id=\"patch_423\">\r\n    <path clip-path=\"url(#pb408dbf1fc)\" d=\"M 315.578636 224.64 \r\nL 316.187364 224.64 \r\nL 316.187364 224.551719 \r\nL 315.578636 224.551719 \r\nz\r\n\" style=\"fill:#1f77b4;\"/>\r\n   </g>\r\n   <g id=\"patch_424\">\r\n    <path clip-path=\"url(#pb408dbf1fc)\" d=\"M 316.187364 224.64 \r\nL 316.796091 224.64 \r\nL 316.796091 224.551719 \r\nL 316.187364 224.551719 \r\nz\r\n\" style=\"fill:#1f77b4;\"/>\r\n   </g>\r\n   <g id=\"patch_425\">\r\n    <path clip-path=\"url(#pb408dbf1fc)\" d=\"M 316.796091 224.64 \r\nL 317.404818 224.64 \r\nL 317.404818 224.573789 \r\nL 316.796091 224.573789 \r\nz\r\n\" style=\"fill:#1f77b4;\"/>\r\n   </g>\r\n   <g id=\"patch_426\">\r\n    <path clip-path=\"url(#pb408dbf1fc)\" d=\"M 317.404818 224.64 \r\nL 318.013545 224.64 \r\nL 318.013545 224.61793 \r\nL 317.404818 224.61793 \r\nz\r\n\" style=\"fill:#1f77b4;\"/>\r\n   </g>\r\n   <g id=\"patch_427\">\r\n    <path clip-path=\"url(#pb408dbf1fc)\" d=\"M 318.013545 224.64 \r\nL 318.622273 224.64 \r\nL 318.622273 224.61793 \r\nL 318.013545 224.61793 \r\nz\r\n\" style=\"fill:#1f77b4;\"/>\r\n   </g>\r\n   <g id=\"patch_428\">\r\n    <path clip-path=\"url(#pb408dbf1fc)\" d=\"M 318.622273 224.64 \r\nL 319.231 224.64 \r\nL 319.231 224.551719 \r\nL 318.622273 224.551719 \r\nz\r\n\" style=\"fill:#1f77b4;\"/>\r\n   </g>\r\n   <g id=\"patch_429\">\r\n    <path clip-path=\"url(#pb408dbf1fc)\" d=\"M 319.231 224.64 \r\nL 319.839727 224.64 \r\nL 319.839727 224.595859 \r\nL 319.231 224.595859 \r\nz\r\n\" style=\"fill:#1f77b4;\"/>\r\n   </g>\r\n   <g id=\"patch_430\">\r\n    <path clip-path=\"url(#pb408dbf1fc)\" d=\"M 319.839727 224.64 \r\nL 320.448455 224.64 \r\nL 320.448455 224.529648 \r\nL 319.839727 224.529648 \r\nz\r\n\" style=\"fill:#1f77b4;\"/>\r\n   </g>\r\n   <g id=\"patch_431\">\r\n    <path clip-path=\"url(#pb408dbf1fc)\" d=\"M 320.448455 224.64 \r\nL 321.057182 224.64 \r\nL 321.057182 224.507578 \r\nL 320.448455 224.507578 \r\nz\r\n\" style=\"fill:#1f77b4;\"/>\r\n   </g>\r\n   <g id=\"patch_432\">\r\n    <path clip-path=\"url(#pb408dbf1fc)\" d=\"M 321.057182 224.64 \r\nL 321.665909 224.64 \r\nL 321.665909 224.573789 \r\nL 321.057182 224.573789 \r\nz\r\n\" style=\"fill:#1f77b4;\"/>\r\n   </g>\r\n   <g id=\"patch_433\">\r\n    <path clip-path=\"url(#pb408dbf1fc)\" d=\"M 321.665909 224.64 \r\nL 322.274636 224.64 \r\nL 322.274636 224.573789 \r\nL 321.665909 224.573789 \r\nz\r\n\" style=\"fill:#1f77b4;\"/>\r\n   </g>\r\n   <g id=\"patch_434\">\r\n    <path clip-path=\"url(#pb408dbf1fc)\" d=\"M 322.274636 224.64 \r\nL 322.883364 224.64 \r\nL 322.883364 224.573789 \r\nL 322.274636 224.573789 \r\nz\r\n\" style=\"fill:#1f77b4;\"/>\r\n   </g>\r\n   <g id=\"patch_435\">\r\n    <path clip-path=\"url(#pb408dbf1fc)\" d=\"M 322.883364 224.64 \r\nL 323.492091 224.64 \r\nL 323.492091 224.595859 \r\nL 322.883364 224.595859 \r\nz\r\n\" style=\"fill:#1f77b4;\"/>\r\n   </g>\r\n   <g id=\"patch_436\">\r\n    <path clip-path=\"url(#pb408dbf1fc)\" d=\"M 323.492091 224.64 \r\nL 324.100818 224.64 \r\nL 324.100818 224.551719 \r\nL 323.492091 224.551719 \r\nz\r\n\" style=\"fill:#1f77b4;\"/>\r\n   </g>\r\n   <g id=\"patch_437\">\r\n    <path clip-path=\"url(#pb408dbf1fc)\" d=\"M 324.100818 224.64 \r\nL 324.709545 224.64 \r\nL 324.709545 224.551719 \r\nL 324.100818 224.551719 \r\nz\r\n\" style=\"fill:#1f77b4;\"/>\r\n   </g>\r\n   <g id=\"patch_438\">\r\n    <path clip-path=\"url(#pb408dbf1fc)\" d=\"M 324.709545 224.64 \r\nL 325.318273 224.64 \r\nL 325.318273 224.419297 \r\nL 324.709545 224.419297 \r\nz\r\n\" style=\"fill:#1f77b4;\"/>\r\n   </g>\r\n   <g id=\"patch_439\">\r\n    <path clip-path=\"url(#pb408dbf1fc)\" d=\"M 325.318273 224.64 \r\nL 325.927 224.64 \r\nL 325.927 224.463438 \r\nL 325.318273 224.463438 \r\nz\r\n\" style=\"fill:#1f77b4;\"/>\r\n   </g>\r\n   <g id=\"patch_440\">\r\n    <path clip-path=\"url(#pb408dbf1fc)\" d=\"M 325.927 224.64 \r\nL 326.535727 224.64 \r\nL 326.535727 224.463438 \r\nL 325.927 224.463438 \r\nz\r\n\" style=\"fill:#1f77b4;\"/>\r\n   </g>\r\n   <g id=\"patch_441\">\r\n    <path clip-path=\"url(#pb408dbf1fc)\" d=\"M 326.535727 224.64 \r\nL 327.144455 224.64 \r\nL 327.144455 224.441367 \r\nL 326.535727 224.441367 \r\nz\r\n\" style=\"fill:#1f77b4;\"/>\r\n   </g>\r\n   <g id=\"patch_442\">\r\n    <path clip-path=\"url(#pb408dbf1fc)\" d=\"M 327.144455 224.64 \r\nL 327.753182 224.64 \r\nL 327.753182 224.551719 \r\nL 327.144455 224.551719 \r\nz\r\n\" style=\"fill:#1f77b4;\"/>\r\n   </g>\r\n   <g id=\"patch_443\">\r\n    <path clip-path=\"url(#pb408dbf1fc)\" d=\"M 327.753182 224.64 \r\nL 328.361909 224.64 \r\nL 328.361909 224.529648 \r\nL 327.753182 224.529648 \r\nz\r\n\" style=\"fill:#1f77b4;\"/>\r\n   </g>\r\n   <g id=\"patch_444\">\r\n    <path clip-path=\"url(#pb408dbf1fc)\" d=\"M 328.361909 224.64 \r\nL 328.970636 224.64 \r\nL 328.970636 224.507578 \r\nL 328.361909 224.507578 \r\nz\r\n\" style=\"fill:#1f77b4;\"/>\r\n   </g>\r\n   <g id=\"patch_445\">\r\n    <path clip-path=\"url(#pb408dbf1fc)\" d=\"M 328.970636 224.64 \r\nL 329.579364 224.64 \r\nL 329.579364 224.595859 \r\nL 328.970636 224.595859 \r\nz\r\n\" style=\"fill:#1f77b4;\"/>\r\n   </g>\r\n   <g id=\"patch_446\">\r\n    <path clip-path=\"url(#pb408dbf1fc)\" d=\"M 329.579364 224.64 \r\nL 330.188091 224.64 \r\nL 330.188091 224.595859 \r\nL 329.579364 224.595859 \r\nz\r\n\" style=\"fill:#1f77b4;\"/>\r\n   </g>\r\n   <g id=\"patch_447\">\r\n    <path clip-path=\"url(#pb408dbf1fc)\" d=\"M 330.188091 224.64 \r\nL 330.796818 224.64 \r\nL 330.796818 224.61793 \r\nL 330.188091 224.61793 \r\nz\r\n\" style=\"fill:#1f77b4;\"/>\r\n   </g>\r\n   <g id=\"patch_448\">\r\n    <path clip-path=\"url(#pb408dbf1fc)\" d=\"M 330.796818 224.64 \r\nL 331.405545 224.64 \r\nL 331.405545 224.61793 \r\nL 330.796818 224.61793 \r\nz\r\n\" style=\"fill:#1f77b4;\"/>\r\n   </g>\r\n   <g id=\"patch_449\">\r\n    <path clip-path=\"url(#pb408dbf1fc)\" d=\"M 331.405545 224.64 \r\nL 332.014273 224.64 \r\nL 332.014273 224.463438 \r\nL 331.405545 224.463438 \r\nz\r\n\" style=\"fill:#1f77b4;\"/>\r\n   </g>\r\n   <g id=\"patch_450\">\r\n    <path clip-path=\"url(#pb408dbf1fc)\" d=\"M 332.014273 224.64 \r\nL 332.623 224.64 \r\nL 332.623 224.551719 \r\nL 332.014273 224.551719 \r\nz\r\n\" style=\"fill:#1f77b4;\"/>\r\n   </g>\r\n   <g id=\"patch_451\">\r\n    <path clip-path=\"url(#pb408dbf1fc)\" d=\"M 332.623 224.64 \r\nL 333.231727 224.64 \r\nL 333.231727 224.529648 \r\nL 332.623 224.529648 \r\nz\r\n\" style=\"fill:#1f77b4;\"/>\r\n   </g>\r\n   <g id=\"patch_452\">\r\n    <path clip-path=\"url(#pb408dbf1fc)\" d=\"M 333.231727 224.64 \r\nL 333.840455 224.64 \r\nL 333.840455 224.507578 \r\nL 333.231727 224.507578 \r\nz\r\n\" style=\"fill:#1f77b4;\"/>\r\n   </g>\r\n   <g id=\"patch_453\">\r\n    <path clip-path=\"url(#pb408dbf1fc)\" d=\"M 333.840455 224.64 \r\nL 334.449182 224.64 \r\nL 334.449182 224.573789 \r\nL 333.840455 224.573789 \r\nz\r\n\" style=\"fill:#1f77b4;\"/>\r\n   </g>\r\n   <g id=\"patch_454\">\r\n    <path clip-path=\"url(#pb408dbf1fc)\" d=\"M 334.449182 224.64 \r\nL 335.057909 224.64 \r\nL 335.057909 224.529648 \r\nL 334.449182 224.529648 \r\nz\r\n\" style=\"fill:#1f77b4;\"/>\r\n   </g>\r\n   <g id=\"patch_455\">\r\n    <path clip-path=\"url(#pb408dbf1fc)\" d=\"M 335.057909 224.64 \r\nL 335.666636 224.64 \r\nL 335.666636 224.573789 \r\nL 335.057909 224.573789 \r\nz\r\n\" style=\"fill:#1f77b4;\"/>\r\n   </g>\r\n   <g id=\"patch_456\">\r\n    <path clip-path=\"url(#pb408dbf1fc)\" d=\"M 335.666636 224.64 \r\nL 336.275364 224.64 \r\nL 336.275364 224.61793 \r\nL 335.666636 224.61793 \r\nz\r\n\" style=\"fill:#1f77b4;\"/>\r\n   </g>\r\n   <g id=\"patch_457\">\r\n    <path clip-path=\"url(#pb408dbf1fc)\" d=\"M 336.275364 224.64 \r\nL 336.884091 224.64 \r\nL 336.884091 224.61793 \r\nL 336.275364 224.61793 \r\nz\r\n\" style=\"fill:#1f77b4;\"/>\r\n   </g>\r\n   <g id=\"patch_458\">\r\n    <path clip-path=\"url(#pb408dbf1fc)\" d=\"M 336.884091 224.64 \r\nL 337.492818 224.64 \r\nL 337.492818 224.61793 \r\nL 336.884091 224.61793 \r\nz\r\n\" style=\"fill:#1f77b4;\"/>\r\n   </g>\r\n   <g id=\"patch_459\">\r\n    <path clip-path=\"url(#pb408dbf1fc)\" d=\"M 337.492818 224.64 \r\nL 338.101545 224.64 \r\nL 338.101545 224.64 \r\nL 337.492818 224.64 \r\nz\r\n\" style=\"fill:#1f77b4;\"/>\r\n   </g>\r\n   <g id=\"patch_460\">\r\n    <path clip-path=\"url(#pb408dbf1fc)\" d=\"M 338.101545 224.64 \r\nL 338.710273 224.64 \r\nL 338.710273 224.64 \r\nL 338.101545 224.64 \r\nz\r\n\" style=\"fill:#1f77b4;\"/>\r\n   </g>\r\n   <g id=\"patch_461\">\r\n    <path clip-path=\"url(#pb408dbf1fc)\" d=\"M 338.710273 224.64 \r\nL 339.319 224.64 \r\nL 339.319 224.595859 \r\nL 338.710273 224.595859 \r\nz\r\n\" style=\"fill:#1f77b4;\"/>\r\n   </g>\r\n   <g id=\"patch_462\">\r\n    <path clip-path=\"url(#pb408dbf1fc)\" d=\"M 339.319 224.64 \r\nL 339.927727 224.64 \r\nL 339.927727 224.61793 \r\nL 339.319 224.61793 \r\nz\r\n\" style=\"fill:#1f77b4;\"/>\r\n   </g>\r\n   <g id=\"patch_463\">\r\n    <path clip-path=\"url(#pb408dbf1fc)\" d=\"M 339.927727 224.64 \r\nL 340.536455 224.64 \r\nL 340.536455 224.61793 \r\nL 339.927727 224.61793 \r\nz\r\n\" style=\"fill:#1f77b4;\"/>\r\n   </g>\r\n   <g id=\"patch_464\">\r\n    <path clip-path=\"url(#pb408dbf1fc)\" d=\"M 340.536455 224.64 \r\nL 341.145182 224.64 \r\nL 341.145182 224.595859 \r\nL 340.536455 224.595859 \r\nz\r\n\" style=\"fill:#1f77b4;\"/>\r\n   </g>\r\n   <g id=\"patch_465\">\r\n    <path clip-path=\"url(#pb408dbf1fc)\" d=\"M 341.145182 224.64 \r\nL 341.753909 224.64 \r\nL 341.753909 224.595859 \r\nL 341.145182 224.595859 \r\nz\r\n\" style=\"fill:#1f77b4;\"/>\r\n   </g>\r\n   <g id=\"patch_466\">\r\n    <path clip-path=\"url(#pb408dbf1fc)\" d=\"M 341.753909 224.64 \r\nL 342.362636 224.64 \r\nL 342.362636 224.573789 \r\nL 341.753909 224.573789 \r\nz\r\n\" style=\"fill:#1f77b4;\"/>\r\n   </g>\r\n   <g id=\"patch_467\">\r\n    <path clip-path=\"url(#pb408dbf1fc)\" d=\"M 342.362636 224.64 \r\nL 342.971364 224.64 \r\nL 342.971364 224.64 \r\nL 342.362636 224.64 \r\nz\r\n\" style=\"fill:#1f77b4;\"/>\r\n   </g>\r\n   <g id=\"patch_468\">\r\n    <path clip-path=\"url(#pb408dbf1fc)\" d=\"M 342.971364 224.64 \r\nL 343.580091 224.64 \r\nL 343.580091 224.61793 \r\nL 342.971364 224.61793 \r\nz\r\n\" style=\"fill:#1f77b4;\"/>\r\n   </g>\r\n   <g id=\"patch_469\">\r\n    <path clip-path=\"url(#pb408dbf1fc)\" d=\"M 343.580091 224.64 \r\nL 344.188818 224.64 \r\nL 344.188818 224.64 \r\nL 343.580091 224.64 \r\nz\r\n\" style=\"fill:#1f77b4;\"/>\r\n   </g>\r\n   <g id=\"patch_470\">\r\n    <path clip-path=\"url(#pb408dbf1fc)\" d=\"M 344.188818 224.64 \r\nL 344.797545 224.64 \r\nL 344.797545 224.551719 \r\nL 344.188818 224.551719 \r\nz\r\n\" style=\"fill:#1f77b4;\"/>\r\n   </g>\r\n   <g id=\"patch_471\">\r\n    <path clip-path=\"url(#pb408dbf1fc)\" d=\"M 344.797545 224.64 \r\nL 345.406273 224.64 \r\nL 345.406273 224.64 \r\nL 344.797545 224.64 \r\nz\r\n\" style=\"fill:#1f77b4;\"/>\r\n   </g>\r\n   <g id=\"patch_472\">\r\n    <path clip-path=\"url(#pb408dbf1fc)\" d=\"M 345.406273 224.64 \r\nL 346.015 224.64 \r\nL 346.015 224.64 \r\nL 345.406273 224.64 \r\nz\r\n\" style=\"fill:#1f77b4;\"/>\r\n   </g>\r\n   <g id=\"patch_473\">\r\n    <path clip-path=\"url(#pb408dbf1fc)\" d=\"M 346.015 224.64 \r\nL 346.623727 224.64 \r\nL 346.623727 224.595859 \r\nL 346.015 224.595859 \r\nz\r\n\" style=\"fill:#1f77b4;\"/>\r\n   </g>\r\n   <g id=\"patch_474\">\r\n    <path clip-path=\"url(#pb408dbf1fc)\" d=\"M 346.623727 224.64 \r\nL 347.232455 224.64 \r\nL 347.232455 224.61793 \r\nL 346.623727 224.61793 \r\nz\r\n\" style=\"fill:#1f77b4;\"/>\r\n   </g>\r\n   <g id=\"patch_475\">\r\n    <path clip-path=\"url(#pb408dbf1fc)\" d=\"M 347.232455 224.64 \r\nL 347.841182 224.64 \r\nL 347.841182 224.61793 \r\nL 347.232455 224.61793 \r\nz\r\n\" style=\"fill:#1f77b4;\"/>\r\n   </g>\r\n   <g id=\"patch_476\">\r\n    <path clip-path=\"url(#pb408dbf1fc)\" d=\"M 347.841182 224.64 \r\nL 348.449909 224.64 \r\nL 348.449909 224.61793 \r\nL 347.841182 224.61793 \r\nz\r\n\" style=\"fill:#1f77b4;\"/>\r\n   </g>\r\n   <g id=\"patch_477\">\r\n    <path clip-path=\"url(#pb408dbf1fc)\" d=\"M 348.449909 224.64 \r\nL 349.058636 224.64 \r\nL 349.058636 224.64 \r\nL 348.449909 224.64 \r\nz\r\n\" style=\"fill:#1f77b4;\"/>\r\n   </g>\r\n   <g id=\"patch_478\">\r\n    <path clip-path=\"url(#pb408dbf1fc)\" d=\"M 349.058636 224.64 \r\nL 349.667364 224.64 \r\nL 349.667364 224.595859 \r\nL 349.058636 224.595859 \r\nz\r\n\" style=\"fill:#1f77b4;\"/>\r\n   </g>\r\n   <g id=\"patch_479\">\r\n    <path clip-path=\"url(#pb408dbf1fc)\" d=\"M 349.667364 224.64 \r\nL 350.276091 224.64 \r\nL 350.276091 224.595859 \r\nL 349.667364 224.595859 \r\nz\r\n\" style=\"fill:#1f77b4;\"/>\r\n   </g>\r\n   <g id=\"patch_480\">\r\n    <path clip-path=\"url(#pb408dbf1fc)\" d=\"M 350.276091 224.64 \r\nL 350.884818 224.64 \r\nL 350.884818 224.61793 \r\nL 350.276091 224.61793 \r\nz\r\n\" style=\"fill:#1f77b4;\"/>\r\n   </g>\r\n   <g id=\"patch_481\">\r\n    <path clip-path=\"url(#pb408dbf1fc)\" d=\"M 350.884818 224.64 \r\nL 351.493545 224.64 \r\nL 351.493545 224.573789 \r\nL 350.884818 224.573789 \r\nz\r\n\" style=\"fill:#1f77b4;\"/>\r\n   </g>\r\n   <g id=\"patch_482\">\r\n    <path clip-path=\"url(#pb408dbf1fc)\" d=\"M 351.493545 224.64 \r\nL 352.102273 224.64 \r\nL 352.102273 224.573789 \r\nL 351.493545 224.573789 \r\nz\r\n\" style=\"fill:#1f77b4;\"/>\r\n   </g>\r\n   <g id=\"patch_483\">\r\n    <path clip-path=\"url(#pb408dbf1fc)\" d=\"M 352.102273 224.64 \r\nL 352.711 224.64 \r\nL 352.711 224.595859 \r\nL 352.102273 224.595859 \r\nz\r\n\" style=\"fill:#1f77b4;\"/>\r\n   </g>\r\n   <g id=\"patch_484\">\r\n    <path clip-path=\"url(#pb408dbf1fc)\" d=\"M 352.711 224.64 \r\nL 353.319727 224.64 \r\nL 353.319727 224.64 \r\nL 352.711 224.64 \r\nz\r\n\" style=\"fill:#1f77b4;\"/>\r\n   </g>\r\n   <g id=\"patch_485\">\r\n    <path clip-path=\"url(#pb408dbf1fc)\" d=\"M 353.319727 224.64 \r\nL 353.928455 224.64 \r\nL 353.928455 224.61793 \r\nL 353.319727 224.61793 \r\nz\r\n\" style=\"fill:#1f77b4;\"/>\r\n   </g>\r\n   <g id=\"patch_486\">\r\n    <path clip-path=\"url(#pb408dbf1fc)\" d=\"M 353.928455 224.64 \r\nL 354.537182 224.64 \r\nL 354.537182 224.64 \r\nL 353.928455 224.64 \r\nz\r\n\" style=\"fill:#1f77b4;\"/>\r\n   </g>\r\n   <g id=\"patch_487\">\r\n    <path clip-path=\"url(#pb408dbf1fc)\" d=\"M 354.537182 224.64 \r\nL 355.145909 224.64 \r\nL 355.145909 224.573789 \r\nL 354.537182 224.573789 \r\nz\r\n\" style=\"fill:#1f77b4;\"/>\r\n   </g>\r\n   <g id=\"patch_488\">\r\n    <path clip-path=\"url(#pb408dbf1fc)\" d=\"M 355.145909 224.64 \r\nL 355.754636 224.64 \r\nL 355.754636 224.595859 \r\nL 355.145909 224.595859 \r\nz\r\n\" style=\"fill:#1f77b4;\"/>\r\n   </g>\r\n   <g id=\"patch_489\">\r\n    <path clip-path=\"url(#pb408dbf1fc)\" d=\"M 355.754636 224.64 \r\nL 356.363364 224.64 \r\nL 356.363364 224.64 \r\nL 355.754636 224.64 \r\nz\r\n\" style=\"fill:#1f77b4;\"/>\r\n   </g>\r\n   <g id=\"patch_490\">\r\n    <path clip-path=\"url(#pb408dbf1fc)\" d=\"M 356.363364 224.64 \r\nL 356.972091 224.64 \r\nL 356.972091 224.61793 \r\nL 356.363364 224.61793 \r\nz\r\n\" style=\"fill:#1f77b4;\"/>\r\n   </g>\r\n   <g id=\"patch_491\">\r\n    <path clip-path=\"url(#pb408dbf1fc)\" d=\"M 356.972091 224.64 \r\nL 357.580818 224.64 \r\nL 357.580818 224.64 \r\nL 356.972091 224.64 \r\nz\r\n\" style=\"fill:#1f77b4;\"/>\r\n   </g>\r\n   <g id=\"patch_492\">\r\n    <path clip-path=\"url(#pb408dbf1fc)\" d=\"M 357.580818 224.64 \r\nL 358.189545 224.64 \r\nL 358.189545 224.64 \r\nL 357.580818 224.64 \r\nz\r\n\" style=\"fill:#1f77b4;\"/>\r\n   </g>\r\n   <g id=\"patch_493\">\r\n    <path clip-path=\"url(#pb408dbf1fc)\" d=\"M 358.189545 224.64 \r\nL 358.798273 224.64 \r\nL 358.798273 224.64 \r\nL 358.189545 224.64 \r\nz\r\n\" style=\"fill:#1f77b4;\"/>\r\n   </g>\r\n   <g id=\"patch_494\">\r\n    <path clip-path=\"url(#pb408dbf1fc)\" d=\"M 358.798273 224.64 \r\nL 359.407 224.64 \r\nL 359.407 224.595859 \r\nL 358.798273 224.595859 \r\nz\r\n\" style=\"fill:#1f77b4;\"/>\r\n   </g>\r\n   <g id=\"patch_495\">\r\n    <path clip-path=\"url(#pb408dbf1fc)\" d=\"M 359.407 224.64 \r\nL 360.015727 224.64 \r\nL 360.015727 224.595859 \r\nL 359.407 224.595859 \r\nz\r\n\" style=\"fill:#1f77b4;\"/>\r\n   </g>\r\n   <g id=\"patch_496\">\r\n    <path clip-path=\"url(#pb408dbf1fc)\" d=\"M 360.015727 224.64 \r\nL 360.624455 224.64 \r\nL 360.624455 224.64 \r\nL 360.015727 224.64 \r\nz\r\n\" style=\"fill:#1f77b4;\"/>\r\n   </g>\r\n   <g id=\"patch_497\">\r\n    <path clip-path=\"url(#pb408dbf1fc)\" d=\"M 360.624455 224.64 \r\nL 361.233182 224.64 \r\nL 361.233182 224.64 \r\nL 360.624455 224.64 \r\nz\r\n\" style=\"fill:#1f77b4;\"/>\r\n   </g>\r\n   <g id=\"patch_498\">\r\n    <path clip-path=\"url(#pb408dbf1fc)\" d=\"M 361.233182 224.64 \r\nL 361.841909 224.64 \r\nL 361.841909 224.64 \r\nL 361.233182 224.64 \r\nz\r\n\" style=\"fill:#1f77b4;\"/>\r\n   </g>\r\n   <g id=\"patch_499\">\r\n    <path clip-path=\"url(#pb408dbf1fc)\" d=\"M 361.841909 224.64 \r\nL 362.450636 224.64 \r\nL 362.450636 224.64 \r\nL 361.841909 224.64 \r\nz\r\n\" style=\"fill:#1f77b4;\"/>\r\n   </g>\r\n   <g id=\"patch_500\">\r\n    <path clip-path=\"url(#pb408dbf1fc)\" d=\"M 362.450636 224.64 \r\nL 363.059364 224.64 \r\nL 363.059364 224.64 \r\nL 362.450636 224.64 \r\nz\r\n\" style=\"fill:#1f77b4;\"/>\r\n   </g>\r\n   <g id=\"patch_501\">\r\n    <path clip-path=\"url(#pb408dbf1fc)\" d=\"M 363.059364 224.64 \r\nL 363.668091 224.64 \r\nL 363.668091 224.64 \r\nL 363.059364 224.64 \r\nz\r\n\" style=\"fill:#1f77b4;\"/>\r\n   </g>\r\n   <g id=\"patch_502\">\r\n    <path clip-path=\"url(#pb408dbf1fc)\" d=\"M 363.668091 224.64 \r\nL 364.276818 224.64 \r\nL 364.276818 224.61793 \r\nL 363.668091 224.61793 \r\nz\r\n\" style=\"fill:#1f77b4;\"/>\r\n   </g>\r\n   <g id=\"matplotlib.axis_1\">\r\n    <g id=\"xtick_1\">\r\n     <g id=\"line2d_1\">\r\n      <path clip-path=\"url(#pb408dbf1fc)\" d=\"M 59.913182 224.64 \r\nL 59.913182 7.2 \r\n\" style=\"fill:none;stroke:#b0b0b0;stroke-linecap:square;\"/>\r\n     </g>\r\n     <g id=\"line2d_2\">\r\n      <defs>\r\n       <path d=\"M 0 0 \r\nL 0 6 \r\n\" id=\"m0548581f2c\" style=\"stroke:#000000;stroke-width:1.25;\"/>\r\n      </defs>\r\n      <g>\r\n       <use style=\"stroke:#000000;stroke-width:1.25;\" x=\"59.913182\" xlink:href=\"#m0548581f2c\" y=\"224.64\"/>\r\n      </g>\r\n     </g>\r\n     <g id=\"text_1\">\r\n      <!-- 0 -->\r\n      <g transform=\"translate(56.413807 242.498281)scale(0.11 -0.11)\">\r\n       <defs>\r\n        <path d=\"M 31.78125 66.40625 \r\nQ 24.171875 66.40625 20.328125 58.90625 \r\nQ 16.5 51.421875 16.5 36.375 \r\nQ 16.5 21.390625 20.328125 13.890625 \r\nQ 24.171875 6.390625 31.78125 6.390625 \r\nQ 39.453125 6.390625 43.28125 13.890625 \r\nQ 47.125 21.390625 47.125 36.375 \r\nQ 47.125 51.421875 43.28125 58.90625 \r\nQ 39.453125 66.40625 31.78125 66.40625 \r\nz\r\nM 31.78125 74.21875 \r\nQ 44.046875 74.21875 50.515625 64.515625 \r\nQ 56.984375 54.828125 56.984375 36.375 \r\nQ 56.984375 17.96875 50.515625 8.265625 \r\nQ 44.046875 -1.421875 31.78125 -1.421875 \r\nQ 19.53125 -1.421875 13.0625 8.265625 \r\nQ 6.59375 17.96875 6.59375 36.375 \r\nQ 6.59375 54.828125 13.0625 64.515625 \r\nQ 19.53125 74.21875 31.78125 74.21875 \r\nz\r\n\" id=\"DejaVuSans-48\"/>\r\n       </defs>\r\n       <use xlink:href=\"#DejaVuSans-48\"/>\r\n      </g>\r\n     </g>\r\n    </g>\r\n    <g id=\"xtick_2\">\r\n     <g id=\"line2d_3\">\r\n      <path clip-path=\"url(#pb408dbf1fc)\" d=\"M 100.279228 224.64 \r\nL 100.279228 7.2 \r\n\" style=\"fill:none;stroke:#b0b0b0;stroke-linecap:square;\"/>\r\n     </g>\r\n     <g id=\"line2d_4\">\r\n      <g>\r\n       <use style=\"stroke:#000000;stroke-width:1.25;\" x=\"100.279228\" xlink:href=\"#m0548581f2c\" y=\"224.64\"/>\r\n      </g>\r\n     </g>\r\n     <g id=\"text_2\">\r\n      <!-- 1 -->\r\n      <g transform=\"translate(96.779853 242.498281)scale(0.11 -0.11)\">\r\n       <defs>\r\n        <path d=\"M 12.40625 8.296875 \r\nL 28.515625 8.296875 \r\nL 28.515625 63.921875 \r\nL 10.984375 60.40625 \r\nL 10.984375 69.390625 \r\nL 28.421875 72.90625 \r\nL 38.28125 72.90625 \r\nL 38.28125 8.296875 \r\nL 54.390625 8.296875 \r\nL 54.390625 0 \r\nL 12.40625 0 \r\nz\r\n\" id=\"DejaVuSans-49\"/>\r\n       </defs>\r\n       <use xlink:href=\"#DejaVuSans-49\"/>\r\n      </g>\r\n     </g>\r\n    </g>\r\n    <g id=\"xtick_3\">\r\n     <g id=\"line2d_5\">\r\n      <path clip-path=\"url(#pb408dbf1fc)\" d=\"M 140.645275 224.64 \r\nL 140.645275 7.2 \r\n\" style=\"fill:none;stroke:#b0b0b0;stroke-linecap:square;\"/>\r\n     </g>\r\n     <g id=\"line2d_6\">\r\n      <g>\r\n       <use style=\"stroke:#000000;stroke-width:1.25;\" x=\"140.645275\" xlink:href=\"#m0548581f2c\" y=\"224.64\"/>\r\n      </g>\r\n     </g>\r\n     <g id=\"text_3\">\r\n      <!-- 2 -->\r\n      <g transform=\"translate(137.1459 242.498281)scale(0.11 -0.11)\">\r\n       <defs>\r\n        <path d=\"M 19.1875 8.296875 \r\nL 53.609375 8.296875 \r\nL 53.609375 0 \r\nL 7.328125 0 \r\nL 7.328125 8.296875 \r\nQ 12.9375 14.109375 22.625 23.890625 \r\nQ 32.328125 33.6875 34.8125 36.53125 \r\nQ 39.546875 41.84375 41.421875 45.53125 \r\nQ 43.3125 49.21875 43.3125 52.78125 \r\nQ 43.3125 58.59375 39.234375 62.25 \r\nQ 35.15625 65.921875 28.609375 65.921875 \r\nQ 23.96875 65.921875 18.8125 64.3125 \r\nQ 13.671875 62.703125 7.8125 59.421875 \r\nL 7.8125 69.390625 \r\nQ 13.765625 71.78125 18.9375 73 \r\nQ 24.125 74.21875 28.421875 74.21875 \r\nQ 39.75 74.21875 46.484375 68.546875 \r\nQ 53.21875 62.890625 53.21875 53.421875 \r\nQ 53.21875 48.921875 51.53125 44.890625 \r\nQ 49.859375 40.875 45.40625 35.40625 \r\nQ 44.1875 33.984375 37.640625 27.21875 \r\nQ 31.109375 20.453125 19.1875 8.296875 \r\nz\r\n\" id=\"DejaVuSans-50\"/>\r\n       </defs>\r\n       <use xlink:href=\"#DejaVuSans-50\"/>\r\n      </g>\r\n     </g>\r\n    </g>\r\n    <g id=\"xtick_4\">\r\n     <g id=\"line2d_7\">\r\n      <path clip-path=\"url(#pb408dbf1fc)\" d=\"M 181.011321 224.64 \r\nL 181.011321 7.2 \r\n\" style=\"fill:none;stroke:#b0b0b0;stroke-linecap:square;\"/>\r\n     </g>\r\n     <g id=\"line2d_8\">\r\n      <g>\r\n       <use style=\"stroke:#000000;stroke-width:1.25;\" x=\"181.011321\" xlink:href=\"#m0548581f2c\" y=\"224.64\"/>\r\n      </g>\r\n     </g>\r\n     <g id=\"text_4\">\r\n      <!-- 3 -->\r\n      <g transform=\"translate(177.511946 242.498281)scale(0.11 -0.11)\">\r\n       <defs>\r\n        <path d=\"M 40.578125 39.3125 \r\nQ 47.65625 37.796875 51.625 33 \r\nQ 55.609375 28.21875 55.609375 21.1875 \r\nQ 55.609375 10.40625 48.1875 4.484375 \r\nQ 40.765625 -1.421875 27.09375 -1.421875 \r\nQ 22.515625 -1.421875 17.65625 -0.515625 \r\nQ 12.796875 0.390625 7.625 2.203125 \r\nL 7.625 11.71875 \r\nQ 11.71875 9.328125 16.59375 8.109375 \r\nQ 21.484375 6.890625 26.8125 6.890625 \r\nQ 36.078125 6.890625 40.9375 10.546875 \r\nQ 45.796875 14.203125 45.796875 21.1875 \r\nQ 45.796875 27.640625 41.28125 31.265625 \r\nQ 36.765625 34.90625 28.71875 34.90625 \r\nL 20.21875 34.90625 \r\nL 20.21875 43.015625 \r\nL 29.109375 43.015625 \r\nQ 36.375 43.015625 40.234375 45.921875 \r\nQ 44.09375 48.828125 44.09375 54.296875 \r\nQ 44.09375 59.90625 40.109375 62.90625 \r\nQ 36.140625 65.921875 28.71875 65.921875 \r\nQ 24.65625 65.921875 20.015625 65.03125 \r\nQ 15.375 64.15625 9.8125 62.3125 \r\nL 9.8125 71.09375 \r\nQ 15.4375 72.65625 20.34375 73.4375 \r\nQ 25.25 74.21875 29.59375 74.21875 \r\nQ 40.828125 74.21875 47.359375 69.109375 \r\nQ 53.90625 64.015625 53.90625 55.328125 \r\nQ 53.90625 49.265625 50.4375 45.09375 \r\nQ 46.96875 40.921875 40.578125 39.3125 \r\nz\r\n\" id=\"DejaVuSans-51\"/>\r\n       </defs>\r\n       <use xlink:href=\"#DejaVuSans-51\"/>\r\n      </g>\r\n     </g>\r\n    </g>\r\n    <g id=\"xtick_5\">\r\n     <g id=\"line2d_9\">\r\n      <path clip-path=\"url(#pb408dbf1fc)\" d=\"M 221.377368 224.64 \r\nL 221.377368 7.2 \r\n\" style=\"fill:none;stroke:#b0b0b0;stroke-linecap:square;\"/>\r\n     </g>\r\n     <g id=\"line2d_10\">\r\n      <g>\r\n       <use style=\"stroke:#000000;stroke-width:1.25;\" x=\"221.377368\" xlink:href=\"#m0548581f2c\" y=\"224.64\"/>\r\n      </g>\r\n     </g>\r\n     <g id=\"text_5\">\r\n      <!-- 4 -->\r\n      <g transform=\"translate(217.877993 242.498281)scale(0.11 -0.11)\">\r\n       <defs>\r\n        <path d=\"M 37.796875 64.3125 \r\nL 12.890625 25.390625 \r\nL 37.796875 25.390625 \r\nz\r\nM 35.203125 72.90625 \r\nL 47.609375 72.90625 \r\nL 47.609375 25.390625 \r\nL 58.015625 25.390625 \r\nL 58.015625 17.1875 \r\nL 47.609375 17.1875 \r\nL 47.609375 0 \r\nL 37.796875 0 \r\nL 37.796875 17.1875 \r\nL 4.890625 17.1875 \r\nL 4.890625 26.703125 \r\nz\r\n\" id=\"DejaVuSans-52\"/>\r\n       </defs>\r\n       <use xlink:href=\"#DejaVuSans-52\"/>\r\n      </g>\r\n     </g>\r\n    </g>\r\n    <g id=\"xtick_6\">\r\n     <g id=\"line2d_11\">\r\n      <path clip-path=\"url(#pb408dbf1fc)\" d=\"M 261.743414 224.64 \r\nL 261.743414 7.2 \r\n\" style=\"fill:none;stroke:#b0b0b0;stroke-linecap:square;\"/>\r\n     </g>\r\n     <g id=\"line2d_12\">\r\n      <g>\r\n       <use style=\"stroke:#000000;stroke-width:1.25;\" x=\"261.743414\" xlink:href=\"#m0548581f2c\" y=\"224.64\"/>\r\n      </g>\r\n     </g>\r\n     <g id=\"text_6\">\r\n      <!-- 5 -->\r\n      <g transform=\"translate(258.244039 242.498281)scale(0.11 -0.11)\">\r\n       <defs>\r\n        <path d=\"M 10.796875 72.90625 \r\nL 49.515625 72.90625 \r\nL 49.515625 64.59375 \r\nL 19.828125 64.59375 \r\nL 19.828125 46.734375 \r\nQ 21.96875 47.46875 24.109375 47.828125 \r\nQ 26.265625 48.1875 28.421875 48.1875 \r\nQ 40.625 48.1875 47.75 41.5 \r\nQ 54.890625 34.8125 54.890625 23.390625 \r\nQ 54.890625 11.625 47.5625 5.09375 \r\nQ 40.234375 -1.421875 26.90625 -1.421875 \r\nQ 22.3125 -1.421875 17.546875 -0.640625 \r\nQ 12.796875 0.140625 7.71875 1.703125 \r\nL 7.71875 11.625 \r\nQ 12.109375 9.234375 16.796875 8.0625 \r\nQ 21.484375 6.890625 26.703125 6.890625 \r\nQ 35.15625 6.890625 40.078125 11.328125 \r\nQ 45.015625 15.765625 45.015625 23.390625 \r\nQ 45.015625 31 40.078125 35.4375 \r\nQ 35.15625 39.890625 26.703125 39.890625 \r\nQ 22.75 39.890625 18.8125 39.015625 \r\nQ 14.890625 38.140625 10.796875 36.28125 \r\nz\r\n\" id=\"DejaVuSans-53\"/>\r\n       </defs>\r\n       <use xlink:href=\"#DejaVuSans-53\"/>\r\n      </g>\r\n     </g>\r\n    </g>\r\n    <g id=\"xtick_7\">\r\n     <g id=\"line2d_13\">\r\n      <path clip-path=\"url(#pb408dbf1fc)\" d=\"M 302.109461 224.64 \r\nL 302.109461 7.2 \r\n\" style=\"fill:none;stroke:#b0b0b0;stroke-linecap:square;\"/>\r\n     </g>\r\n     <g id=\"line2d_14\">\r\n      <g>\r\n       <use style=\"stroke:#000000;stroke-width:1.25;\" x=\"302.109461\" xlink:href=\"#m0548581f2c\" y=\"224.64\"/>\r\n      </g>\r\n     </g>\r\n     <g id=\"text_7\">\r\n      <!-- 6 -->\r\n      <g transform=\"translate(298.610086 242.498281)scale(0.11 -0.11)\">\r\n       <defs>\r\n        <path d=\"M 33.015625 40.375 \r\nQ 26.375 40.375 22.484375 35.828125 \r\nQ 18.609375 31.296875 18.609375 23.390625 \r\nQ 18.609375 15.53125 22.484375 10.953125 \r\nQ 26.375 6.390625 33.015625 6.390625 \r\nQ 39.65625 6.390625 43.53125 10.953125 \r\nQ 47.40625 15.53125 47.40625 23.390625 \r\nQ 47.40625 31.296875 43.53125 35.828125 \r\nQ 39.65625 40.375 33.015625 40.375 \r\nz\r\nM 52.59375 71.296875 \r\nL 52.59375 62.3125 \r\nQ 48.875 64.0625 45.09375 64.984375 \r\nQ 41.3125 65.921875 37.59375 65.921875 \r\nQ 27.828125 65.921875 22.671875 59.328125 \r\nQ 17.53125 52.734375 16.796875 39.40625 \r\nQ 19.671875 43.65625 24.015625 45.921875 \r\nQ 28.375 48.1875 33.59375 48.1875 \r\nQ 44.578125 48.1875 50.953125 41.515625 \r\nQ 57.328125 34.859375 57.328125 23.390625 \r\nQ 57.328125 12.15625 50.6875 5.359375 \r\nQ 44.046875 -1.421875 33.015625 -1.421875 \r\nQ 20.359375 -1.421875 13.671875 8.265625 \r\nQ 6.984375 17.96875 6.984375 36.375 \r\nQ 6.984375 53.65625 15.1875 63.9375 \r\nQ 23.390625 74.21875 37.203125 74.21875 \r\nQ 40.921875 74.21875 44.703125 73.484375 \r\nQ 48.484375 72.75 52.59375 71.296875 \r\nz\r\n\" id=\"DejaVuSans-54\"/>\r\n       </defs>\r\n       <use xlink:href=\"#DejaVuSans-54\"/>\r\n      </g>\r\n     </g>\r\n    </g>\r\n    <g id=\"xtick_8\">\r\n     <g id=\"line2d_15\">\r\n      <path clip-path=\"url(#pb408dbf1fc)\" d=\"M 342.475507 224.64 \r\nL 342.475507 7.2 \r\n\" style=\"fill:none;stroke:#b0b0b0;stroke-linecap:square;\"/>\r\n     </g>\r\n     <g id=\"line2d_16\">\r\n      <g>\r\n       <use style=\"stroke:#000000;stroke-width:1.25;\" x=\"342.475507\" xlink:href=\"#m0548581f2c\" y=\"224.64\"/>\r\n      </g>\r\n     </g>\r\n     <g id=\"text_8\">\r\n      <!-- 7 -->\r\n      <g transform=\"translate(338.976132 242.498281)scale(0.11 -0.11)\">\r\n       <defs>\r\n        <path d=\"M 8.203125 72.90625 \r\nL 55.078125 72.90625 \r\nL 55.078125 68.703125 \r\nL 28.609375 0 \r\nL 18.3125 0 \r\nL 43.21875 64.59375 \r\nL 8.203125 64.59375 \r\nz\r\n\" id=\"DejaVuSans-55\"/>\r\n       </defs>\r\n       <use xlink:href=\"#DejaVuSans-55\"/>\r\n      </g>\r\n     </g>\r\n    </g>\r\n   </g>\r\n   <g id=\"matplotlib.axis_2\">\r\n    <g id=\"ytick_1\">\r\n     <g id=\"line2d_17\">\r\n      <path clip-path=\"url(#pb408dbf1fc)\" d=\"M 44.695 224.64 \r\nL 379.495 224.64 \r\n\" style=\"fill:none;stroke:#b0b0b0;stroke-linecap:square;\"/>\r\n     </g>\r\n     <g id=\"line2d_18\">\r\n      <defs>\r\n       <path d=\"M 0 0 \r\nL -6 0 \r\n\" id=\"m2a84c00630\" style=\"stroke:#000000;stroke-width:1.25;\"/>\r\n      </defs>\r\n      <g>\r\n       <use style=\"stroke:#000000;stroke-width:1.25;\" x=\"44.695\" xlink:href=\"#m2a84c00630\" y=\"224.64\"/>\r\n      </g>\r\n     </g>\r\n     <g id=\"text_9\">\r\n      <!-- 0 -->\r\n      <g transform=\"translate(28.19625 228.819141)scale(0.11 -0.11)\">\r\n       <use xlink:href=\"#DejaVuSans-48\"/>\r\n      </g>\r\n     </g>\r\n    </g>\r\n    <g id=\"ytick_2\">\r\n     <g id=\"line2d_19\">\r\n      <path clip-path=\"url(#pb408dbf1fc)\" d=\"M 44.695 180.499381 \r\nL 379.495 180.499381 \r\n\" style=\"fill:none;stroke:#b0b0b0;stroke-linecap:square;\"/>\r\n     </g>\r\n     <g id=\"line2d_20\">\r\n      <g>\r\n       <use style=\"stroke:#000000;stroke-width:1.25;\" x=\"44.695\" xlink:href=\"#m2a84c00630\" y=\"180.499381\"/>\r\n      </g>\r\n     </g>\r\n     <g id=\"text_10\">\r\n      <!-- 2000 -->\r\n      <g transform=\"translate(7.2 184.678522)scale(0.11 -0.11)\">\r\n       <use xlink:href=\"#DejaVuSans-50\"/>\r\n       <use x=\"63.623047\" xlink:href=\"#DejaVuSans-48\"/>\r\n       <use x=\"127.246094\" xlink:href=\"#DejaVuSans-48\"/>\r\n       <use x=\"190.869141\" xlink:href=\"#DejaVuSans-48\"/>\r\n      </g>\r\n     </g>\r\n    </g>\r\n    <g id=\"ytick_3\">\r\n     <g id=\"line2d_21\">\r\n      <path clip-path=\"url(#pb408dbf1fc)\" d=\"M 44.695 136.358762 \r\nL 379.495 136.358762 \r\n\" style=\"fill:none;stroke:#b0b0b0;stroke-linecap:square;\"/>\r\n     </g>\r\n     <g id=\"line2d_22\">\r\n      <g>\r\n       <use style=\"stroke:#000000;stroke-width:1.25;\" x=\"44.695\" xlink:href=\"#m2a84c00630\" y=\"136.358762\"/>\r\n      </g>\r\n     </g>\r\n     <g id=\"text_11\">\r\n      <!-- 4000 -->\r\n      <g transform=\"translate(7.2 140.537903)scale(0.11 -0.11)\">\r\n       <use xlink:href=\"#DejaVuSans-52\"/>\r\n       <use x=\"63.623047\" xlink:href=\"#DejaVuSans-48\"/>\r\n       <use x=\"127.246094\" xlink:href=\"#DejaVuSans-48\"/>\r\n       <use x=\"190.869141\" xlink:href=\"#DejaVuSans-48\"/>\r\n      </g>\r\n     </g>\r\n    </g>\r\n    <g id=\"ytick_4\">\r\n     <g id=\"line2d_23\">\r\n      <path clip-path=\"url(#pb408dbf1fc)\" d=\"M 44.695 92.218143 \r\nL 379.495 92.218143 \r\n\" style=\"fill:none;stroke:#b0b0b0;stroke-linecap:square;\"/>\r\n     </g>\r\n     <g id=\"line2d_24\">\r\n      <g>\r\n       <use style=\"stroke:#000000;stroke-width:1.25;\" x=\"44.695\" xlink:href=\"#m2a84c00630\" y=\"92.218143\"/>\r\n      </g>\r\n     </g>\r\n     <g id=\"text_12\">\r\n      <!-- 6000 -->\r\n      <g transform=\"translate(7.2 96.397283)scale(0.11 -0.11)\">\r\n       <use xlink:href=\"#DejaVuSans-54\"/>\r\n       <use x=\"63.623047\" xlink:href=\"#DejaVuSans-48\"/>\r\n       <use x=\"127.246094\" xlink:href=\"#DejaVuSans-48\"/>\r\n       <use x=\"190.869141\" xlink:href=\"#DejaVuSans-48\"/>\r\n      </g>\r\n     </g>\r\n    </g>\r\n    <g id=\"ytick_5\">\r\n     <g id=\"line2d_25\">\r\n      <path clip-path=\"url(#pb408dbf1fc)\" d=\"M 44.695 48.077524 \r\nL 379.495 48.077524 \r\n\" style=\"fill:none;stroke:#b0b0b0;stroke-linecap:square;\"/>\r\n     </g>\r\n     <g id=\"line2d_26\">\r\n      <g>\r\n       <use style=\"stroke:#000000;stroke-width:1.25;\" x=\"44.695\" xlink:href=\"#m2a84c00630\" y=\"48.077524\"/>\r\n      </g>\r\n     </g>\r\n     <g id=\"text_13\">\r\n      <!-- 8000 -->\r\n      <g transform=\"translate(7.2 52.256664)scale(0.11 -0.11)\">\r\n       <defs>\r\n        <path d=\"M 31.78125 34.625 \r\nQ 24.75 34.625 20.71875 30.859375 \r\nQ 16.703125 27.09375 16.703125 20.515625 \r\nQ 16.703125 13.921875 20.71875 10.15625 \r\nQ 24.75 6.390625 31.78125 6.390625 \r\nQ 38.8125 6.390625 42.859375 10.171875 \r\nQ 46.921875 13.96875 46.921875 20.515625 \r\nQ 46.921875 27.09375 42.890625 30.859375 \r\nQ 38.875 34.625 31.78125 34.625 \r\nz\r\nM 21.921875 38.8125 \r\nQ 15.578125 40.375 12.03125 44.71875 \r\nQ 8.5 49.078125 8.5 55.328125 \r\nQ 8.5 64.0625 14.71875 69.140625 \r\nQ 20.953125 74.21875 31.78125 74.21875 \r\nQ 42.671875 74.21875 48.875 69.140625 \r\nQ 55.078125 64.0625 55.078125 55.328125 \r\nQ 55.078125 49.078125 51.53125 44.71875 \r\nQ 48 40.375 41.703125 38.8125 \r\nQ 48.828125 37.15625 52.796875 32.3125 \r\nQ 56.78125 27.484375 56.78125 20.515625 \r\nQ 56.78125 9.90625 50.3125 4.234375 \r\nQ 43.84375 -1.421875 31.78125 -1.421875 \r\nQ 19.734375 -1.421875 13.25 4.234375 \r\nQ 6.78125 9.90625 6.78125 20.515625 \r\nQ 6.78125 27.484375 10.78125 32.3125 \r\nQ 14.796875 37.15625 21.921875 38.8125 \r\nz\r\nM 18.3125 54.390625 \r\nQ 18.3125 48.734375 21.84375 45.5625 \r\nQ 25.390625 42.390625 31.78125 42.390625 \r\nQ 38.140625 42.390625 41.71875 45.5625 \r\nQ 45.3125 48.734375 45.3125 54.390625 \r\nQ 45.3125 60.0625 41.71875 63.234375 \r\nQ 38.140625 66.40625 31.78125 66.40625 \r\nQ 25.390625 66.40625 21.84375 63.234375 \r\nQ 18.3125 60.0625 18.3125 54.390625 \r\nz\r\n\" id=\"DejaVuSans-56\"/>\r\n       </defs>\r\n       <use xlink:href=\"#DejaVuSans-56\"/>\r\n       <use x=\"63.623047\" xlink:href=\"#DejaVuSans-48\"/>\r\n       <use x=\"127.246094\" xlink:href=\"#DejaVuSans-48\"/>\r\n       <use x=\"190.869141\" xlink:href=\"#DejaVuSans-48\"/>\r\n      </g>\r\n     </g>\r\n    </g>\r\n   </g>\r\n   <g id=\"patch_503\">\r\n    <path d=\"M 44.695 224.64 \r\nL 44.695 7.2 \r\n\" style=\"fill:none;stroke:#000000;stroke-linecap:square;stroke-linejoin:miter;stroke-width:1.25;\"/>\r\n   </g>\r\n   <g id=\"patch_504\">\r\n    <path d=\"M 379.495 224.64 \r\nL 379.495 7.2 \r\n\" style=\"fill:none;stroke:#000000;stroke-linecap:square;stroke-linejoin:miter;stroke-width:1.25;\"/>\r\n   </g>\r\n   <g id=\"patch_505\">\r\n    <path d=\"M 44.695 224.64 \r\nL 379.495 224.64 \r\n\" style=\"fill:none;stroke:#000000;stroke-linecap:square;stroke-linejoin:miter;stroke-width:1.25;\"/>\r\n   </g>\r\n   <g id=\"patch_506\">\r\n    <path d=\"M 44.695 7.2 \r\nL 379.495 7.2 \r\n\" style=\"fill:none;stroke:#000000;stroke-linecap:square;stroke-linejoin:miter;stroke-width:1.25;\"/>\r\n   </g>\r\n  </g>\r\n </g>\r\n <defs>\r\n  <clipPath id=\"pb408dbf1fc\">\r\n   <rect height=\"217.44\" width=\"334.8\" x=\"44.695\" y=\"7.2\"/>\r\n  </clipPath>\r\n </defs>\r\n</svg>\r\n",
      "image/png": "[encoded data removed]"
     },
     "metadata": {
      "needs_background": "light"
     }
    }
   ],
   "source": [
    "segments.seg_length.apply(np.log).hist(bins=500)"
   ]
  },
  {
   "cell_type": "markdown",
   "metadata": {},
   "source": [
    "We can see that although there are date/time fields in the dataset, they are not in any specialized format, such as `datetime`."
   ]
  },
  {
   "cell_type": "markdown",
   "metadata": {},
   "source": [
    "Our first order of business will be to convert these data to `datetime`. The `strptime` method parses a string representation of a date and/or time field, according to the expected format of this information."
   ]
  },
  {
   "cell_type": "code",
   "execution_count": 9,
   "metadata": {},
   "outputs": [
    {
     "output_type": "execute_result",
     "data": {
      "text/plain": [
       "datetime.datetime(2009, 2, 10, 16, 3)"
      ]
     },
     "metadata": {},
     "execution_count": 9
    }
   ],
   "source": [
    "datetime.strptime(segments.st_time.iloc[0], '%m/%d/%y %H:%M')"
   ]
  },
  {
   "cell_type": "markdown",
   "metadata": {},
   "source": [
    "The `dateutil` package includes a parser that attempts to detect the format of the date strings, and convert them automatically."
   ]
  },
  {
   "cell_type": "code",
   "execution_count": 10,
   "metadata": {},
   "outputs": [],
   "source": [
    "from dateutil.parser import parse"
   ]
  },
  {
   "cell_type": "code",
   "execution_count": 11,
   "metadata": {},
   "outputs": [
    {
     "output_type": "execute_result",
     "data": {
      "text/plain": [
       "datetime.datetime(2009, 2, 10, 16, 3)"
      ]
     },
     "metadata": {},
     "execution_count": 11
    }
   ],
   "source": [
    "parse(segments.st_time.iloc[0])"
   ]
  },
  {
   "cell_type": "markdown",
   "metadata": {},
   "source": [
    "We can convert all the dates in a particular column by using the `apply` method."
   ]
  },
  {
   "cell_type": "code",
   "execution_count": 12,
   "metadata": {},
   "outputs": [
    {
     "output_type": "execute_result",
     "data": {
      "text/plain": [
       "0   2009-02-10 16:03:00\n",
       "1   2009-04-06 14:31:00\n",
       "2   2009-04-06 14:36:00\n",
       "3   2009-04-10 17:58:00\n",
       "4   2009-04-10 17:59:00\n",
       "5   2010-03-20 16:06:00\n",
       "6   2010-03-20 18:05:00\n",
       "7   2011-05-04 11:28:00\n",
       "8   2010-06-05 11:23:00\n",
       "9   2010-06-08 11:03:00\n",
       "Name: st_time, dtype: datetime64[ns]"
      ]
     },
     "metadata": {},
     "execution_count": 12
    }
   ],
   "source": [
    "segments.st_time.apply(lambda d: datetime.strptime(d, '%m/%d/%y %H:%M')).head(10)"
   ]
  },
  {
   "cell_type": "markdown",
   "metadata": {},
   "source": [
    "As a convenience, Pandas has a `to_datetime` method that will parse and convert an entire `Series` of formatted strings into `datetime` objects."
   ]
  },
  {
   "cell_type": "code",
   "execution_count": 13,
   "metadata": {},
   "outputs": [
    {
     "output_type": "execute_result",
     "data": {
      "text/plain": [
       "0   2009-02-10 16:03:00\n",
       "1   2009-04-06 14:31:00\n",
       "2   2009-04-06 14:36:00\n",
       "3   2009-04-10 17:58:00\n",
       "4   2009-04-10 17:59:00\n",
       "5   2010-03-20 16:06:00\n",
       "6   2010-03-20 18:05:00\n",
       "7   2011-05-04 11:28:00\n",
       "8   2010-06-05 11:23:00\n",
       "9   2010-06-08 11:03:00\n",
       "Name: st_time, dtype: datetime64[ns]"
      ]
     },
     "metadata": {},
     "execution_count": 13
    }
   ],
   "source": [
    "pd.to_datetime(segments.st_time[:10])"
   ]
  },
  {
   "cell_type": "markdown",
   "metadata": {},
   "source": [
    "Pandas also has a custom NA value for missing datetime objects, `NaT`."
   ]
  },
  {
   "cell_type": "code",
   "execution_count": 14,
   "metadata": {},
   "outputs": [
    {
     "output_type": "execute_result",
     "data": {
      "text/plain": [
       "DatetimeIndex(['NaT'], dtype='datetime64[ns]', freq=None)"
      ]
     },
     "metadata": {},
     "execution_count": 14
    }
   ],
   "source": [
    "pd.to_datetime([None])"
   ]
  },
  {
   "cell_type": "markdown",
   "metadata": {},
   "source": [
    "Also, if `to_datetime()` has problems parsing any particular date/time format, you can pass the spec in using the `format=` argument."
   ]
  },
  {
   "cell_type": "markdown",
   "metadata": {},
   "source": [
    "The `read_*` functions now have an optional `parse_dates` argument that try to convert any columns passed to it into `datetime` format upon import:"
   ]
  },
  {
   "cell_type": "code",
   "execution_count": 15,
   "metadata": {},
   "outputs": [],
   "source": [
    "segments = pd.read_csv(\"Data/transit_segments.csv\", parse_dates=['st_time', 'end_time'], nrows=1000)"
   ]
  },
  {
   "cell_type": "code",
   "execution_count": 16,
   "metadata": {},
   "outputs": [
    {
     "output_type": "execute_result",
     "data": {
      "text/plain": [
       "mmsi                   int64\n",
       "name                  object\n",
       "transit                int64\n",
       "segment                int64\n",
       "seg_length           float64\n",
       "avg_sog              float64\n",
       "min_sog              float64\n",
       "max_sog              float64\n",
       "pdgt10               float64\n",
       "st_time       datetime64[ns]\n",
       "end_time      datetime64[ns]\n",
       "dtype: object"
      ]
     },
     "metadata": {},
     "execution_count": 16
    }
   ],
   "source": [
    "segments.dtypes"
   ]
  },
  {
   "cell_type": "markdown",
   "metadata": {},
   "source": [
    "Columns of the `datetime` type have an **accessor** to easily extract properties of the data type. This will return a `Series`, with the same row index as the `DataFrame`. For example:"
   ]
  },
  {
   "cell_type": "code",
   "execution_count": 17,
   "metadata": {},
   "outputs": [
    {
     "output_type": "execute_result",
     "data": {
      "text/plain": [
       "0    2\n",
       "1    4\n",
       "2    4\n",
       "3    4\n",
       "4    4\n",
       "Name: st_time, dtype: int64"
      ]
     },
     "metadata": {},
     "execution_count": 17
    }
   ],
   "source": [
    "segments.st_time.dt.month.head()"
   ]
  },
  {
   "cell_type": "markdown",
   "metadata": {},
   "source": [
    "This can be used to easily filter rows by particular temporal attributes:"
   ]
  },
  {
   "cell_type": "code",
   "execution_count": 18,
   "metadata": {},
   "outputs": [
    {
     "output_type": "execute_result",
     "data": {
      "text/plain": [
       "    mmsi         name  transit  segment  seg_length  avg_sog  min_sog  \\\n",
       "0      1  Us Govt Ves        1        1         5.1     13.2      9.2   \n",
       "78  3011   Charleston       16        1        18.9      0.3      0.0   \n",
       "79  3011   Charleston       17        1        19.2      0.3      0.0   \n",
       "80  3011   Charleston       18        1        24.7      0.3      0.0   \n",
       "81  3011   Charleston       19        1        40.1      0.4      0.0   \n",
       "\n",
       "    max_sog  pdgt10             st_time            end_time  \n",
       "0      14.5    96.5 2009-02-10 16:03:00 2009-02-10 16:27:00  \n",
       "78     16.1     0.5 2010-02-07 07:26:00 2010-02-09 19:27:00  \n",
       "79      6.4     0.0 2010-02-11 16:56:00 2010-02-14 14:31:00  \n",
       "80      5.7     0.0 2010-02-19 11:53:00 2010-02-22 16:50:00  \n",
       "81     16.3     0.1 2010-02-23 15:15:00 2010-03-02 14:25:00  "
      ],
      "text/html": "<div>\n<style scoped>\n    .dataframe tbody tr th:only-of-type {\n        vertical-align: middle;\n    }\n\n    .dataframe tbody tr th {\n        vertical-align: top;\n    }\n\n    .dataframe thead th {\n        text-align: right;\n    }\n</style>\n<table border=\"1\" class=\"dataframe\">\n  <thead>\n    <tr style=\"text-align: right;\">\n      <th></th>\n      <th>mmsi</th>\n      <th>name</th>\n      <th>transit</th>\n      <th>segment</th>\n      <th>seg_length</th>\n      <th>avg_sog</th>\n      <th>min_sog</th>\n      <th>max_sog</th>\n      <th>pdgt10</th>\n      <th>st_time</th>\n      <th>end_time</th>\n    </tr>\n  </thead>\n  <tbody>\n    <tr>\n      <th>0</th>\n      <td>1</td>\n      <td>Us Govt Ves</td>\n      <td>1</td>\n      <td>1</td>\n      <td>5.1</td>\n      <td>13.2</td>\n      <td>9.2</td>\n      <td>14.5</td>\n      <td>96.5</td>\n      <td>2009-02-10 16:03:00</td>\n      <td>2009-02-10 16:27:00</td>\n    </tr>\n    <tr>\n      <th>78</th>\n      <td>3011</td>\n      <td>Charleston</td>\n      <td>16</td>\n      <td>1</td>\n      <td>18.9</td>\n      <td>0.3</td>\n      <td>0.0</td>\n      <td>16.1</td>\n      <td>0.5</td>\n      <td>2010-02-07 07:26:00</td>\n      <td>2010-02-09 19:27:00</td>\n    </tr>\n    <tr>\n      <th>79</th>\n      <td>3011</td>\n      <td>Charleston</td>\n      <td>17</td>\n      <td>1</td>\n      <td>19.2</td>\n      <td>0.3</td>\n      <td>0.0</td>\n      <td>6.4</td>\n      <td>0.0</td>\n      <td>2010-02-11 16:56:00</td>\n      <td>2010-02-14 14:31:00</td>\n    </tr>\n    <tr>\n      <th>80</th>\n      <td>3011</td>\n      <td>Charleston</td>\n      <td>18</td>\n      <td>1</td>\n      <td>24.7</td>\n      <td>0.3</td>\n      <td>0.0</td>\n      <td>5.7</td>\n      <td>0.0</td>\n      <td>2010-02-19 11:53:00</td>\n      <td>2010-02-22 16:50:00</td>\n    </tr>\n    <tr>\n      <th>81</th>\n      <td>3011</td>\n      <td>Charleston</td>\n      <td>19</td>\n      <td>1</td>\n      <td>40.1</td>\n      <td>0.4</td>\n      <td>0.0</td>\n      <td>16.3</td>\n      <td>0.1</td>\n      <td>2010-02-23 15:15:00</td>\n      <td>2010-03-02 14:25:00</td>\n    </tr>\n  </tbody>\n</table>\n</div>"
     },
     "metadata": {},
     "execution_count": 18
    }
   ],
   "source": [
    "segments[segments.st_time.dt.month==2].head()"
   ]
  },
  {
   "cell_type": "markdown",
   "metadata": {},
   "source": [
    "## Merging and joining DataFrame objects"
   ]
  },
  {
   "cell_type": "markdown",
   "metadata": {},
   "source": [
    "Now that we have the vessel transit information as we need it, we may want a little more information regarding the vessels themselves. In the `data/AIS` folder there is a second table that contains information about each of the ships that traveled the segments in the `segments` table."
   ]
  },
  {
   "cell_type": "code",
   "execution_count": 19,
   "metadata": {},
   "outputs": [
    {
     "output_type": "execute_result",
     "data": {
      "text/plain": [
       "      num_names                                              names sov  \\\n",
       "mmsi                                                                     \n",
       "1             8  Bil Holman Dredge/Dredge Capt Frank/Emo/Offsho...   Y   \n",
       "9             3                         000000009/Raven/Shearwater   N   \n",
       "21            1                                      Us Gov Vessel   Y   \n",
       "74            2                                  Mcfaul/Sarah Bell   N   \n",
       "103           3           Ron G/Us Navy Warship 103/Us Warship 103   Y   \n",
       "\n",
       "         flag flag_type  num_loas                                    loa  \\\n",
       "mmsi                                                                       \n",
       "1     Unknown   Unknown         7  42.0/48.0/57.0/90.0/138.0/154.0/156.0   \n",
       "9     Unknown   Unknown         2                              50.0/62.0   \n",
       "21    Unknown   Unknown         1                                  208.0   \n",
       "74    Unknown   Unknown         1                                  155.0   \n",
       "103   Unknown   Unknown         2                             26.0/155.0   \n",
       "\n",
       "      max_loa  num_types                             type  \n",
       "mmsi                                                       \n",
       "1       156.0          4  Dredging/MilOps/Reserved/Towing  \n",
       "9        62.0          2                     Pleasure/Tug  \n",
       "21      208.0          1                          Unknown  \n",
       "74      155.0          1                          Unknown  \n",
       "103     155.0          2                   Tanker/Unknown  "
      ],
      "text/html": "<div>\n<style scoped>\n    .dataframe tbody tr th:only-of-type {\n        vertical-align: middle;\n    }\n\n    .dataframe tbody tr th {\n        vertical-align: top;\n    }\n\n    .dataframe thead th {\n        text-align: right;\n    }\n</style>\n<table border=\"1\" class=\"dataframe\">\n  <thead>\n    <tr style=\"text-align: right;\">\n      <th></th>\n      <th>num_names</th>\n      <th>names</th>\n      <th>sov</th>\n      <th>flag</th>\n      <th>flag_type</th>\n      <th>num_loas</th>\n      <th>loa</th>\n      <th>max_loa</th>\n      <th>num_types</th>\n      <th>type</th>\n    </tr>\n    <tr>\n      <th>mmsi</th>\n      <th></th>\n      <th></th>\n      <th></th>\n      <th></th>\n      <th></th>\n      <th></th>\n      <th></th>\n      <th></th>\n      <th></th>\n      <th></th>\n    </tr>\n  </thead>\n  <tbody>\n    <tr>\n      <th>1</th>\n      <td>8</td>\n      <td>Bil Holman Dredge/Dredge Capt Frank/Emo/Offsho...</td>\n      <td>Y</td>\n      <td>Unknown</td>\n      <td>Unknown</td>\n      <td>7</td>\n      <td>42.0/48.0/57.0/90.0/138.0/154.0/156.0</td>\n      <td>156.0</td>\n      <td>4</td>\n      <td>Dredging/MilOps/Reserved/Towing</td>\n    </tr>\n    <tr>\n      <th>9</th>\n      <td>3</td>\n      <td>000000009/Raven/Shearwater</td>\n      <td>N</td>\n      <td>Unknown</td>\n      <td>Unknown</td>\n      <td>2</td>\n      <td>50.0/62.0</td>\n      <td>62.0</td>\n      <td>2</td>\n      <td>Pleasure/Tug</td>\n    </tr>\n    <tr>\n      <th>21</th>\n      <td>1</td>\n      <td>Us Gov Vessel</td>\n      <td>Y</td>\n      <td>Unknown</td>\n      <td>Unknown</td>\n      <td>1</td>\n      <td>208.0</td>\n      <td>208.0</td>\n      <td>1</td>\n      <td>Unknown</td>\n    </tr>\n    <tr>\n      <th>74</th>\n      <td>2</td>\n      <td>Mcfaul/Sarah Bell</td>\n      <td>N</td>\n      <td>Unknown</td>\n      <td>Unknown</td>\n      <td>1</td>\n      <td>155.0</td>\n      <td>155.0</td>\n      <td>1</td>\n      <td>Unknown</td>\n    </tr>\n    <tr>\n      <th>103</th>\n      <td>3</td>\n      <td>Ron G/Us Navy Warship 103/Us Warship 103</td>\n      <td>Y</td>\n      <td>Unknown</td>\n      <td>Unknown</td>\n      <td>2</td>\n      <td>26.0/155.0</td>\n      <td>155.0</td>\n      <td>2</td>\n      <td>Tanker/Unknown</td>\n    </tr>\n  </tbody>\n</table>\n</div>"
     },
     "metadata": {},
     "execution_count": 19
    }
   ],
   "source": [
    "vessels = pd.read_csv(\"Data/vessel_information.csv\", index_col='mmsi')\n",
    "vessels.head()"
   ]
  },
  {
   "cell_type": "markdown",
   "metadata": {},
   "source": [
    "The challenge is that several ships have travelled multiple segments, so there is not a one-to-one relationship between the rows of the two tables. **The table of vessel information has a *one-to-many* relationship with the segments**.\n",
    "\n",
    "In Pandas, we can combine tables according to the value of one or more *keys* that are used to identify rows, much like an index. Using a trivial example:"
   ]
  },
  {
   "cell_type": "code",
   "execution_count": 20,
   "metadata": {},
   "outputs": [
    {
     "output_type": "execute_result",
     "data": {
      "text/plain": [
       "   id  age\n",
       "0   0   21\n",
       "1   1   29\n",
       "2   2   19\n",
       "3   3   23"
      ],
      "text/html": "<div>\n<style scoped>\n    .dataframe tbody tr th:only-of-type {\n        vertical-align: middle;\n    }\n\n    .dataframe tbody tr th {\n        vertical-align: top;\n    }\n\n    .dataframe thead th {\n        text-align: right;\n    }\n</style>\n<table border=\"1\" class=\"dataframe\">\n  <thead>\n    <tr style=\"text-align: right;\">\n      <th></th>\n      <th>id</th>\n      <th>age</th>\n    </tr>\n  </thead>\n  <tbody>\n    <tr>\n      <th>0</th>\n      <td>0</td>\n      <td>21</td>\n    </tr>\n    <tr>\n      <th>1</th>\n      <td>1</td>\n      <td>29</td>\n    </tr>\n    <tr>\n      <th>2</th>\n      <td>2</td>\n      <td>19</td>\n    </tr>\n    <tr>\n      <th>3</th>\n      <td>3</td>\n      <td>23</td>\n    </tr>\n  </tbody>\n</table>\n</div>"
     },
     "metadata": {},
     "execution_count": 20
    }
   ],
   "source": [
    "df1 = pd.DataFrame(dict(id=range(4), age=np.random.randint(18, 31, size=4)))\n",
    "df2 = pd.DataFrame(dict(id=list(range(3))+list(range(3)), \n",
    "                        score=np.random.random(size=6)))\n",
    "\n",
    "df1"
   ]
  },
  {
   "cell_type": "code",
   "execution_count": 21,
   "metadata": {},
   "outputs": [
    {
     "output_type": "execute_result",
     "data": {
      "text/plain": [
       "   id     score\n",
       "0   0  0.596626\n",
       "1   1  0.163820\n",
       "2   2  0.142359\n",
       "3   0  0.428407\n",
       "4   1  0.369751\n",
       "5   2  0.868272"
      ],
      "text/html": "<div>\n<style scoped>\n    .dataframe tbody tr th:only-of-type {\n        vertical-align: middle;\n    }\n\n    .dataframe tbody tr th {\n        vertical-align: top;\n    }\n\n    .dataframe thead th {\n        text-align: right;\n    }\n</style>\n<table border=\"1\" class=\"dataframe\">\n  <thead>\n    <tr style=\"text-align: right;\">\n      <th></th>\n      <th>id</th>\n      <th>score</th>\n    </tr>\n  </thead>\n  <tbody>\n    <tr>\n      <th>0</th>\n      <td>0</td>\n      <td>0.596626</td>\n    </tr>\n    <tr>\n      <th>1</th>\n      <td>1</td>\n      <td>0.163820</td>\n    </tr>\n    <tr>\n      <th>2</th>\n      <td>2</td>\n      <td>0.142359</td>\n    </tr>\n    <tr>\n      <th>3</th>\n      <td>0</td>\n      <td>0.428407</td>\n    </tr>\n    <tr>\n      <th>4</th>\n      <td>1</td>\n      <td>0.369751</td>\n    </tr>\n    <tr>\n      <th>5</th>\n      <td>2</td>\n      <td>0.868272</td>\n    </tr>\n  </tbody>\n</table>\n</div>"
     },
     "metadata": {},
     "execution_count": 21
    }
   ],
   "source": [
    "df2"
   ]
  },
  {
   "cell_type": "code",
   "execution_count": 22,
   "metadata": {},
   "outputs": [
    {
     "output_type": "execute_result",
     "data": {
      "text/plain": [
       "   id  age     score\n",
       "0   0   21  0.596626\n",
       "1   0   21  0.428407\n",
       "2   1   29  0.163820\n",
       "3   1   29  0.369751\n",
       "4   2   19  0.142359\n",
       "5   2   19  0.868272"
      ],
      "text/html": "<div>\n<style scoped>\n    .dataframe tbody tr th:only-of-type {\n        vertical-align: middle;\n    }\n\n    .dataframe tbody tr th {\n        vertical-align: top;\n    }\n\n    .dataframe thead th {\n        text-align: right;\n    }\n</style>\n<table border=\"1\" class=\"dataframe\">\n  <thead>\n    <tr style=\"text-align: right;\">\n      <th></th>\n      <th>id</th>\n      <th>age</th>\n      <th>score</th>\n    </tr>\n  </thead>\n  <tbody>\n    <tr>\n      <th>0</th>\n      <td>0</td>\n      <td>21</td>\n      <td>0.596626</td>\n    </tr>\n    <tr>\n      <th>1</th>\n      <td>0</td>\n      <td>21</td>\n      <td>0.428407</td>\n    </tr>\n    <tr>\n      <th>2</th>\n      <td>1</td>\n      <td>29</td>\n      <td>0.163820</td>\n    </tr>\n    <tr>\n      <th>3</th>\n      <td>1</td>\n      <td>29</td>\n      <td>0.369751</td>\n    </tr>\n    <tr>\n      <th>4</th>\n      <td>2</td>\n      <td>19</td>\n      <td>0.142359</td>\n    </tr>\n    <tr>\n      <th>5</th>\n      <td>2</td>\n      <td>19</td>\n      <td>0.868272</td>\n    </tr>\n  </tbody>\n</table>\n</div>"
     },
     "metadata": {},
     "execution_count": 22
    }
   ],
   "source": [
    "pd.merge(df1, df2)"
   ]
  },
  {
   "cell_type": "markdown",
   "metadata": {},
   "source": [
    "Notice that without any information about which column to use as a key, Pandas did the right thing and used the `id` column in both tables. Unless specified otherwise, `merge` will used any common column names as keys for merging the tables. \n",
    "\n",
    "Notice also that `id=3` from `df1` was omitted from the merged table. This is because, by default, `merge` performs an **inner join** on the tables, meaning that the merged table represents an intersection of the two tables."
   ]
  },
  {
   "cell_type": "code",
   "execution_count": 23,
   "metadata": {},
   "outputs": [
    {
     "output_type": "execute_result",
     "data": {
      "text/plain": [
       "   id  age     score\n",
       "0   0   21  0.596626\n",
       "1   0   21  0.428407\n",
       "2   1   29  0.163820\n",
       "3   1   29  0.369751\n",
       "4   2   19  0.142359\n",
       "5   2   19  0.868272\n",
       "6   3   23       NaN"
      ],
      "text/html": "<div>\n<style scoped>\n    .dataframe tbody tr th:only-of-type {\n        vertical-align: middle;\n    }\n\n    .dataframe tbody tr th {\n        vertical-align: top;\n    }\n\n    .dataframe thead th {\n        text-align: right;\n    }\n</style>\n<table border=\"1\" class=\"dataframe\">\n  <thead>\n    <tr style=\"text-align: right;\">\n      <th></th>\n      <th>id</th>\n      <th>age</th>\n      <th>score</th>\n    </tr>\n  </thead>\n  <tbody>\n    <tr>\n      <th>0</th>\n      <td>0</td>\n      <td>21</td>\n      <td>0.596626</td>\n    </tr>\n    <tr>\n      <th>1</th>\n      <td>0</td>\n      <td>21</td>\n      <td>0.428407</td>\n    </tr>\n    <tr>\n      <th>2</th>\n      <td>1</td>\n      <td>29</td>\n      <td>0.163820</td>\n    </tr>\n    <tr>\n      <th>3</th>\n      <td>1</td>\n      <td>29</td>\n      <td>0.369751</td>\n    </tr>\n    <tr>\n      <th>4</th>\n      <td>2</td>\n      <td>19</td>\n      <td>0.142359</td>\n    </tr>\n    <tr>\n      <th>5</th>\n      <td>2</td>\n      <td>19</td>\n      <td>0.868272</td>\n    </tr>\n    <tr>\n      <th>6</th>\n      <td>3</td>\n      <td>23</td>\n      <td>NaN</td>\n    </tr>\n  </tbody>\n</table>\n</div>"
     },
     "metadata": {},
     "execution_count": 23
    }
   ],
   "source": [
    "pd.merge(df1, df2, how='outer')"
   ]
  },
  {
   "cell_type": "markdown",
   "metadata": {},
   "source": [
    "The **outer join** above yields the union of the two tables, so all rows are represented, with missing values inserted as appropriate. One can also perform **right** and **left** joins to include all rows of the right or left table (*i.e.* first or second argument to `merge`), but not necessarily the other."
   ]
  },
  {
   "cell_type": "markdown",
   "metadata": {},
   "source": [
    "Looking at the two datasets that we wish to merge:"
   ]
  },
  {
   "cell_type": "code",
   "execution_count": 24,
   "metadata": {},
   "outputs": [
    {
     "output_type": "execute_result",
     "data": {
      "text/plain": [
       "   mmsi         name  transit  segment  seg_length  avg_sog  min_sog  max_sog  \\\n",
       "0     1  Us Govt Ves        1        1         5.1     13.2      9.2     14.5   \n",
       "\n",
       "   pdgt10             st_time            end_time  \n",
       "0    96.5 2009-02-10 16:03:00 2009-02-10 16:27:00  "
      ],
      "text/html": "<div>\n<style scoped>\n    .dataframe tbody tr th:only-of-type {\n        vertical-align: middle;\n    }\n\n    .dataframe tbody tr th {\n        vertical-align: top;\n    }\n\n    .dataframe thead th {\n        text-align: right;\n    }\n</style>\n<table border=\"1\" class=\"dataframe\">\n  <thead>\n    <tr style=\"text-align: right;\">\n      <th></th>\n      <th>mmsi</th>\n      <th>name</th>\n      <th>transit</th>\n      <th>segment</th>\n      <th>seg_length</th>\n      <th>avg_sog</th>\n      <th>min_sog</th>\n      <th>max_sog</th>\n      <th>pdgt10</th>\n      <th>st_time</th>\n      <th>end_time</th>\n    </tr>\n  </thead>\n  <tbody>\n    <tr>\n      <th>0</th>\n      <td>1</td>\n      <td>Us Govt Ves</td>\n      <td>1</td>\n      <td>1</td>\n      <td>5.1</td>\n      <td>13.2</td>\n      <td>9.2</td>\n      <td>14.5</td>\n      <td>96.5</td>\n      <td>2009-02-10 16:03:00</td>\n      <td>2009-02-10 16:27:00</td>\n    </tr>\n  </tbody>\n</table>\n</div>"
     },
     "metadata": {},
     "execution_count": 24
    }
   ],
   "source": [
    "segments.head(1)"
   ]
  },
  {
   "cell_type": "code",
   "execution_count": 25,
   "metadata": {},
   "outputs": [
    {
     "output_type": "execute_result",
     "data": {
      "text/plain": [
       "      num_names                                              names sov  \\\n",
       "mmsi                                                                     \n",
       "1             8  Bil Holman Dredge/Dredge Capt Frank/Emo/Offsho...   Y   \n",
       "\n",
       "         flag flag_type  num_loas                                    loa  \\\n",
       "mmsi                                                                       \n",
       "1     Unknown   Unknown         7  42.0/48.0/57.0/90.0/138.0/154.0/156.0   \n",
       "\n",
       "      max_loa  num_types                             type  \n",
       "mmsi                                                       \n",
       "1       156.0          4  Dredging/MilOps/Reserved/Towing  "
      ],
      "text/html": "<div>\n<style scoped>\n    .dataframe tbody tr th:only-of-type {\n        vertical-align: middle;\n    }\n\n    .dataframe tbody tr th {\n        vertical-align: top;\n    }\n\n    .dataframe thead th {\n        text-align: right;\n    }\n</style>\n<table border=\"1\" class=\"dataframe\">\n  <thead>\n    <tr style=\"text-align: right;\">\n      <th></th>\n      <th>num_names</th>\n      <th>names</th>\n      <th>sov</th>\n      <th>flag</th>\n      <th>flag_type</th>\n      <th>num_loas</th>\n      <th>loa</th>\n      <th>max_loa</th>\n      <th>num_types</th>\n      <th>type</th>\n    </tr>\n    <tr>\n      <th>mmsi</th>\n      <th></th>\n      <th></th>\n      <th></th>\n      <th></th>\n      <th></th>\n      <th></th>\n      <th></th>\n      <th></th>\n      <th></th>\n      <th></th>\n    </tr>\n  </thead>\n  <tbody>\n    <tr>\n      <th>1</th>\n      <td>8</td>\n      <td>Bil Holman Dredge/Dredge Capt Frank/Emo/Offsho...</td>\n      <td>Y</td>\n      <td>Unknown</td>\n      <td>Unknown</td>\n      <td>7</td>\n      <td>42.0/48.0/57.0/90.0/138.0/154.0/156.0</td>\n      <td>156.0</td>\n      <td>4</td>\n      <td>Dredging/MilOps/Reserved/Towing</td>\n    </tr>\n  </tbody>\n</table>\n</div>"
     },
     "metadata": {},
     "execution_count": 25
    }
   ],
   "source": [
    "vessels.head(1)"
   ]
  },
  {
   "cell_type": "markdown",
   "metadata": {},
   "source": [
    "we see that there is a `mmsi` value (a vessel identifier) in each table, but it is used as an index for the `vessels` table. In this case, we have to specify to join on the index for this table, and on the `mmsi` column for the other."
   ]
  },
  {
   "cell_type": "code",
   "execution_count": 26,
   "metadata": {},
   "outputs": [],
   "source": [
    "segments_merged = pd.merge(vessels, segments, left_index=True, right_on='mmsi')"
   ]
  },
  {
   "cell_type": "code",
   "execution_count": 27,
   "metadata": {},
   "outputs": [
    {
     "output_type": "execute_result",
     "data": {
      "text/plain": [
       "   num_names                                              names sov     flag  \\\n",
       "0          8  Bil Holman Dredge/Dredge Capt Frank/Emo/Offsho...   Y  Unknown   \n",
       "1          8  Bil Holman Dredge/Dredge Capt Frank/Emo/Offsho...   Y  Unknown   \n",
       "2          8  Bil Holman Dredge/Dredge Capt Frank/Emo/Offsho...   Y  Unknown   \n",
       "3          8  Bil Holman Dredge/Dredge Capt Frank/Emo/Offsho...   Y  Unknown   \n",
       "4          8  Bil Holman Dredge/Dredge Capt Frank/Emo/Offsho...   Y  Unknown   \n",
       "\n",
       "  flag_type  num_loas                                    loa  max_loa  \\\n",
       "0   Unknown         7  42.0/48.0/57.0/90.0/138.0/154.0/156.0    156.0   \n",
       "1   Unknown         7  42.0/48.0/57.0/90.0/138.0/154.0/156.0    156.0   \n",
       "2   Unknown         7  42.0/48.0/57.0/90.0/138.0/154.0/156.0    156.0   \n",
       "3   Unknown         7  42.0/48.0/57.0/90.0/138.0/154.0/156.0    156.0   \n",
       "4   Unknown         7  42.0/48.0/57.0/90.0/138.0/154.0/156.0    156.0   \n",
       "\n",
       "   num_types                             type  ...               name transit  \\\n",
       "0          4  Dredging/MilOps/Reserved/Towing  ...        Us Govt Ves       1   \n",
       "1          4  Dredging/MilOps/Reserved/Towing  ...  Dredge Capt Frank       1   \n",
       "2          4  Dredging/MilOps/Reserved/Towing  ...      Us Gov Vessel       1   \n",
       "3          4  Dredging/MilOps/Reserved/Towing  ...      Us Gov Vessel       2   \n",
       "4          4  Dredging/MilOps/Reserved/Towing  ...  Dredge Capt Frank       2   \n",
       "\n",
       "   segment  seg_length  avg_sog  min_sog  max_sog  pdgt10             st_time  \\\n",
       "0        1         5.1     13.2      9.2     14.5    96.5 2009-02-10 16:03:00   \n",
       "1        1        13.5     18.6     10.4     20.6   100.0 2009-04-06 14:31:00   \n",
       "2        1         4.3     16.2     10.3     20.5   100.0 2009-04-06 14:36:00   \n",
       "3        1         9.2     15.4     14.5     16.1   100.0 2009-04-10 17:58:00   \n",
       "4        1         9.2     15.4     14.6     16.2   100.0 2009-04-10 17:59:00   \n",
       "\n",
       "             end_time  \n",
       "0 2009-02-10 16:27:00  \n",
       "1 2009-04-06 15:20:00  \n",
       "2 2009-04-06 14:55:00  \n",
       "3 2009-04-10 18:34:00  \n",
       "4 2009-04-10 18:35:00  \n",
       "\n",
       "[5 rows x 21 columns]"
      ],
      "text/html": "<div>\n<style scoped>\n    .dataframe tbody tr th:only-of-type {\n        vertical-align: middle;\n    }\n\n    .dataframe tbody tr th {\n        vertical-align: top;\n    }\n\n    .dataframe thead th {\n        text-align: right;\n    }\n</style>\n<table border=\"1\" class=\"dataframe\">\n  <thead>\n    <tr style=\"text-align: right;\">\n      <th></th>\n      <th>num_names</th>\n      <th>names</th>\n      <th>sov</th>\n      <th>flag</th>\n      <th>flag_type</th>\n      <th>num_loas</th>\n      <th>loa</th>\n      <th>max_loa</th>\n      <th>num_types</th>\n      <th>type</th>\n      <th>...</th>\n      <th>name</th>\n      <th>transit</th>\n      <th>segment</th>\n      <th>seg_length</th>\n      <th>avg_sog</th>\n      <th>min_sog</th>\n      <th>max_sog</th>\n      <th>pdgt10</th>\n      <th>st_time</th>\n      <th>end_time</th>\n    </tr>\n  </thead>\n  <tbody>\n    <tr>\n      <th>0</th>\n      <td>8</td>\n      <td>Bil Holman Dredge/Dredge Capt Frank/Emo/Offsho...</td>\n      <td>Y</td>\n      <td>Unknown</td>\n      <td>Unknown</td>\n      <td>7</td>\n      <td>42.0/48.0/57.0/90.0/138.0/154.0/156.0</td>\n      <td>156.0</td>\n      <td>4</td>\n      <td>Dredging/MilOps/Reserved/Towing</td>\n      <td>...</td>\n      <td>Us Govt Ves</td>\n      <td>1</td>\n      <td>1</td>\n      <td>5.1</td>\n      <td>13.2</td>\n      <td>9.2</td>\n      <td>14.5</td>\n      <td>96.5</td>\n      <td>2009-02-10 16:03:00</td>\n      <td>2009-02-10 16:27:00</td>\n    </tr>\n    <tr>\n      <th>1</th>\n      <td>8</td>\n      <td>Bil Holman Dredge/Dredge Capt Frank/Emo/Offsho...</td>\n      <td>Y</td>\n      <td>Unknown</td>\n      <td>Unknown</td>\n      <td>7</td>\n      <td>42.0/48.0/57.0/90.0/138.0/154.0/156.0</td>\n      <td>156.0</td>\n      <td>4</td>\n      <td>Dredging/MilOps/Reserved/Towing</td>\n      <td>...</td>\n      <td>Dredge Capt Frank</td>\n      <td>1</td>\n      <td>1</td>\n      <td>13.5</td>\n      <td>18.6</td>\n      <td>10.4</td>\n      <td>20.6</td>\n      <td>100.0</td>\n      <td>2009-04-06 14:31:00</td>\n      <td>2009-04-06 15:20:00</td>\n    </tr>\n    <tr>\n      <th>2</th>\n      <td>8</td>\n      <td>Bil Holman Dredge/Dredge Capt Frank/Emo/Offsho...</td>\n      <td>Y</td>\n      <td>Unknown</td>\n      <td>Unknown</td>\n      <td>7</td>\n      <td>42.0/48.0/57.0/90.0/138.0/154.0/156.0</td>\n      <td>156.0</td>\n      <td>4</td>\n      <td>Dredging/MilOps/Reserved/Towing</td>\n      <td>...</td>\n      <td>Us Gov Vessel</td>\n      <td>1</td>\n      <td>1</td>\n      <td>4.3</td>\n      <td>16.2</td>\n      <td>10.3</td>\n      <td>20.5</td>\n      <td>100.0</td>\n      <td>2009-04-06 14:36:00</td>\n      <td>2009-04-06 14:55:00</td>\n    </tr>\n    <tr>\n      <th>3</th>\n      <td>8</td>\n      <td>Bil Holman Dredge/Dredge Capt Frank/Emo/Offsho...</td>\n      <td>Y</td>\n      <td>Unknown</td>\n      <td>Unknown</td>\n      <td>7</td>\n      <td>42.0/48.0/57.0/90.0/138.0/154.0/156.0</td>\n      <td>156.0</td>\n      <td>4</td>\n      <td>Dredging/MilOps/Reserved/Towing</td>\n      <td>...</td>\n      <td>Us Gov Vessel</td>\n      <td>2</td>\n      <td>1</td>\n      <td>9.2</td>\n      <td>15.4</td>\n      <td>14.5</td>\n      <td>16.1</td>\n      <td>100.0</td>\n      <td>2009-04-10 17:58:00</td>\n      <td>2009-04-10 18:34:00</td>\n    </tr>\n    <tr>\n      <th>4</th>\n      <td>8</td>\n      <td>Bil Holman Dredge/Dredge Capt Frank/Emo/Offsho...</td>\n      <td>Y</td>\n      <td>Unknown</td>\n      <td>Unknown</td>\n      <td>7</td>\n      <td>42.0/48.0/57.0/90.0/138.0/154.0/156.0</td>\n      <td>156.0</td>\n      <td>4</td>\n      <td>Dredging/MilOps/Reserved/Towing</td>\n      <td>...</td>\n      <td>Dredge Capt Frank</td>\n      <td>2</td>\n      <td>1</td>\n      <td>9.2</td>\n      <td>15.4</td>\n      <td>14.6</td>\n      <td>16.2</td>\n      <td>100.0</td>\n      <td>2009-04-10 17:59:00</td>\n      <td>2009-04-10 18:35:00</td>\n    </tr>\n  </tbody>\n</table>\n<p>5 rows × 21 columns</p>\n</div>"
     },
     "metadata": {},
     "execution_count": 27
    }
   ],
   "source": [
    "segments_merged.head()"
   ]
  },
  {
   "cell_type": "markdown",
   "metadata": {},
   "source": [
    "In this case, the default inner join is suitable; we are not interested in observations from either table that do not have corresponding entries in the other. \n",
    "\n",
    "Notice that `mmsi` field that was an index on the `vessels` table is no longer an index on the merged table."
   ]
  },
  {
   "cell_type": "markdown",
   "metadata": {},
   "source": [
    "Here, we used the `merge` function to perform the merge; we could also have used the `merge` *method* for either of the tables:"
   ]
  },
  {
   "cell_type": "code",
   "execution_count": 28,
   "metadata": {},
   "outputs": [
    {
     "output_type": "execute_result",
     "data": {
      "text/plain": [
       "   num_names                                              names sov     flag  \\\n",
       "0          8  Bil Holman Dredge/Dredge Capt Frank/Emo/Offsho...   Y  Unknown   \n",
       "1          8  Bil Holman Dredge/Dredge Capt Frank/Emo/Offsho...   Y  Unknown   \n",
       "2          8  Bil Holman Dredge/Dredge Capt Frank/Emo/Offsho...   Y  Unknown   \n",
       "3          8  Bil Holman Dredge/Dredge Capt Frank/Emo/Offsho...   Y  Unknown   \n",
       "4          8  Bil Holman Dredge/Dredge Capt Frank/Emo/Offsho...   Y  Unknown   \n",
       "\n",
       "  flag_type  num_loas                                    loa  max_loa  \\\n",
       "0   Unknown         7  42.0/48.0/57.0/90.0/138.0/154.0/156.0    156.0   \n",
       "1   Unknown         7  42.0/48.0/57.0/90.0/138.0/154.0/156.0    156.0   \n",
       "2   Unknown         7  42.0/48.0/57.0/90.0/138.0/154.0/156.0    156.0   \n",
       "3   Unknown         7  42.0/48.0/57.0/90.0/138.0/154.0/156.0    156.0   \n",
       "4   Unknown         7  42.0/48.0/57.0/90.0/138.0/154.0/156.0    156.0   \n",
       "\n",
       "   num_types                             type  ...               name transit  \\\n",
       "0          4  Dredging/MilOps/Reserved/Towing  ...        Us Govt Ves       1   \n",
       "1          4  Dredging/MilOps/Reserved/Towing  ...  Dredge Capt Frank       1   \n",
       "2          4  Dredging/MilOps/Reserved/Towing  ...      Us Gov Vessel       1   \n",
       "3          4  Dredging/MilOps/Reserved/Towing  ...      Us Gov Vessel       2   \n",
       "4          4  Dredging/MilOps/Reserved/Towing  ...  Dredge Capt Frank       2   \n",
       "\n",
       "   segment  seg_length  avg_sog  min_sog  max_sog  pdgt10             st_time  \\\n",
       "0        1         5.1     13.2      9.2     14.5    96.5 2009-02-10 16:03:00   \n",
       "1        1        13.5     18.6     10.4     20.6   100.0 2009-04-06 14:31:00   \n",
       "2        1         4.3     16.2     10.3     20.5   100.0 2009-04-06 14:36:00   \n",
       "3        1         9.2     15.4     14.5     16.1   100.0 2009-04-10 17:58:00   \n",
       "4        1         9.2     15.4     14.6     16.2   100.0 2009-04-10 17:59:00   \n",
       "\n",
       "             end_time  \n",
       "0 2009-02-10 16:27:00  \n",
       "1 2009-04-06 15:20:00  \n",
       "2 2009-04-06 14:55:00  \n",
       "3 2009-04-10 18:34:00  \n",
       "4 2009-04-10 18:35:00  \n",
       "\n",
       "[5 rows x 21 columns]"
      ],
      "text/html": "<div>\n<style scoped>\n    .dataframe tbody tr th:only-of-type {\n        vertical-align: middle;\n    }\n\n    .dataframe tbody tr th {\n        vertical-align: top;\n    }\n\n    .dataframe thead th {\n        text-align: right;\n    }\n</style>\n<table border=\"1\" class=\"dataframe\">\n  <thead>\n    <tr style=\"text-align: right;\">\n      <th></th>\n      <th>num_names</th>\n      <th>names</th>\n      <th>sov</th>\n      <th>flag</th>\n      <th>flag_type</th>\n      <th>num_loas</th>\n      <th>loa</th>\n      <th>max_loa</th>\n      <th>num_types</th>\n      <th>type</th>\n      <th>...</th>\n      <th>name</th>\n      <th>transit</th>\n      <th>segment</th>\n      <th>seg_length</th>\n      <th>avg_sog</th>\n      <th>min_sog</th>\n      <th>max_sog</th>\n      <th>pdgt10</th>\n      <th>st_time</th>\n      <th>end_time</th>\n    </tr>\n  </thead>\n  <tbody>\n    <tr>\n      <th>0</th>\n      <td>8</td>\n      <td>Bil Holman Dredge/Dredge Capt Frank/Emo/Offsho...</td>\n      <td>Y</td>\n      <td>Unknown</td>\n      <td>Unknown</td>\n      <td>7</td>\n      <td>42.0/48.0/57.0/90.0/138.0/154.0/156.0</td>\n      <td>156.0</td>\n      <td>4</td>\n      <td>Dredging/MilOps/Reserved/Towing</td>\n      <td>...</td>\n      <td>Us Govt Ves</td>\n      <td>1</td>\n      <td>1</td>\n      <td>5.1</td>\n      <td>13.2</td>\n      <td>9.2</td>\n      <td>14.5</td>\n      <td>96.5</td>\n      <td>2009-02-10 16:03:00</td>\n      <td>2009-02-10 16:27:00</td>\n    </tr>\n    <tr>\n      <th>1</th>\n      <td>8</td>\n      <td>Bil Holman Dredge/Dredge Capt Frank/Emo/Offsho...</td>\n      <td>Y</td>\n      <td>Unknown</td>\n      <td>Unknown</td>\n      <td>7</td>\n      <td>42.0/48.0/57.0/90.0/138.0/154.0/156.0</td>\n      <td>156.0</td>\n      <td>4</td>\n      <td>Dredging/MilOps/Reserved/Towing</td>\n      <td>...</td>\n      <td>Dredge Capt Frank</td>\n      <td>1</td>\n      <td>1</td>\n      <td>13.5</td>\n      <td>18.6</td>\n      <td>10.4</td>\n      <td>20.6</td>\n      <td>100.0</td>\n      <td>2009-04-06 14:31:00</td>\n      <td>2009-04-06 15:20:00</td>\n    </tr>\n    <tr>\n      <th>2</th>\n      <td>8</td>\n      <td>Bil Holman Dredge/Dredge Capt Frank/Emo/Offsho...</td>\n      <td>Y</td>\n      <td>Unknown</td>\n      <td>Unknown</td>\n      <td>7</td>\n      <td>42.0/48.0/57.0/90.0/138.0/154.0/156.0</td>\n      <td>156.0</td>\n      <td>4</td>\n      <td>Dredging/MilOps/Reserved/Towing</td>\n      <td>...</td>\n      <td>Us Gov Vessel</td>\n      <td>1</td>\n      <td>1</td>\n      <td>4.3</td>\n      <td>16.2</td>\n      <td>10.3</td>\n      <td>20.5</td>\n      <td>100.0</td>\n      <td>2009-04-06 14:36:00</td>\n      <td>2009-04-06 14:55:00</td>\n    </tr>\n    <tr>\n      <th>3</th>\n      <td>8</td>\n      <td>Bil Holman Dredge/Dredge Capt Frank/Emo/Offsho...</td>\n      <td>Y</td>\n      <td>Unknown</td>\n      <td>Unknown</td>\n      <td>7</td>\n      <td>42.0/48.0/57.0/90.0/138.0/154.0/156.0</td>\n      <td>156.0</td>\n      <td>4</td>\n      <td>Dredging/MilOps/Reserved/Towing</td>\n      <td>...</td>\n      <td>Us Gov Vessel</td>\n      <td>2</td>\n      <td>1</td>\n      <td>9.2</td>\n      <td>15.4</td>\n      <td>14.5</td>\n      <td>16.1</td>\n      <td>100.0</td>\n      <td>2009-04-10 17:58:00</td>\n      <td>2009-04-10 18:34:00</td>\n    </tr>\n    <tr>\n      <th>4</th>\n      <td>8</td>\n      <td>Bil Holman Dredge/Dredge Capt Frank/Emo/Offsho...</td>\n      <td>Y</td>\n      <td>Unknown</td>\n      <td>Unknown</td>\n      <td>7</td>\n      <td>42.0/48.0/57.0/90.0/138.0/154.0/156.0</td>\n      <td>156.0</td>\n      <td>4</td>\n      <td>Dredging/MilOps/Reserved/Towing</td>\n      <td>...</td>\n      <td>Dredge Capt Frank</td>\n      <td>2</td>\n      <td>1</td>\n      <td>9.2</td>\n      <td>15.4</td>\n      <td>14.6</td>\n      <td>16.2</td>\n      <td>100.0</td>\n      <td>2009-04-10 17:59:00</td>\n      <td>2009-04-10 18:35:00</td>\n    </tr>\n  </tbody>\n</table>\n<p>5 rows × 21 columns</p>\n</div>"
     },
     "metadata": {},
     "execution_count": 28
    }
   ],
   "source": [
    "vessels.merge(segments, left_index=True, right_on='mmsi').head()"
   ]
  },
  {
   "cell_type": "markdown",
   "metadata": {},
   "source": [
    "Occasionally, there will be fields with the same in both tables that we do not wish to use to join the tables; they may contain different information, despite having the same name. In this case, Pandas will by default append suffixes `_x` and `_y` to the columns to uniquely identify them."
   ]
  },
  {
   "cell_type": "code",
   "execution_count": 29,
   "metadata": {},
   "outputs": [
    {
     "output_type": "execute_result",
     "data": {
      "text/plain": [
       "   num_names                                              names sov     flag  \\\n",
       "0          8  Bil Holman Dredge/Dredge Capt Frank/Emo/Offsho...   Y  Unknown   \n",
       "1          8  Bil Holman Dredge/Dredge Capt Frank/Emo/Offsho...   Y  Unknown   \n",
       "2          8  Bil Holman Dredge/Dredge Capt Frank/Emo/Offsho...   Y  Unknown   \n",
       "3          8  Bil Holman Dredge/Dredge Capt Frank/Emo/Offsho...   Y  Unknown   \n",
       "4          8  Bil Holman Dredge/Dredge Capt Frank/Emo/Offsho...   Y  Unknown   \n",
       "\n",
       "  flag_type  num_loas                                    loa  max_loa  \\\n",
       "0   Unknown         7  42.0/48.0/57.0/90.0/138.0/154.0/156.0    156.0   \n",
       "1   Unknown         7  42.0/48.0/57.0/90.0/138.0/154.0/156.0    156.0   \n",
       "2   Unknown         7  42.0/48.0/57.0/90.0/138.0/154.0/156.0    156.0   \n",
       "3   Unknown         7  42.0/48.0/57.0/90.0/138.0/154.0/156.0    156.0   \n",
       "4   Unknown         7  42.0/48.0/57.0/90.0/138.0/154.0/156.0    156.0   \n",
       "\n",
       "   num_types                           type_x  ...  transit segment  \\\n",
       "0          4  Dredging/MilOps/Reserved/Towing  ...        1       1   \n",
       "1          4  Dredging/MilOps/Reserved/Towing  ...        1       1   \n",
       "2          4  Dredging/MilOps/Reserved/Towing  ...        1       1   \n",
       "3          4  Dredging/MilOps/Reserved/Towing  ...        2       1   \n",
       "4          4  Dredging/MilOps/Reserved/Towing  ...        2       1   \n",
       "\n",
       "   seg_length  avg_sog  min_sog  max_sog  pdgt10             st_time  \\\n",
       "0         5.1     13.2      9.2     14.5    96.5 2009-02-10 16:03:00   \n",
       "1        13.5     18.6     10.4     20.6   100.0 2009-04-06 14:31:00   \n",
       "2         4.3     16.2     10.3     20.5   100.0 2009-04-06 14:36:00   \n",
       "3         9.2     15.4     14.5     16.1   100.0 2009-04-10 17:58:00   \n",
       "4         9.2     15.4     14.6     16.2   100.0 2009-04-10 17:59:00   \n",
       "\n",
       "             end_time type_y  \n",
       "0 2009-02-10 16:27:00    foo  \n",
       "1 2009-04-06 15:20:00    foo  \n",
       "2 2009-04-06 14:55:00    foo  \n",
       "3 2009-04-10 18:34:00    foo  \n",
       "4 2009-04-10 18:35:00    foo  \n",
       "\n",
       "[5 rows x 22 columns]"
      ],
      "text/html": "<div>\n<style scoped>\n    .dataframe tbody tr th:only-of-type {\n        vertical-align: middle;\n    }\n\n    .dataframe tbody tr th {\n        vertical-align: top;\n    }\n\n    .dataframe thead th {\n        text-align: right;\n    }\n</style>\n<table border=\"1\" class=\"dataframe\">\n  <thead>\n    <tr style=\"text-align: right;\">\n      <th></th>\n      <th>num_names</th>\n      <th>names</th>\n      <th>sov</th>\n      <th>flag</th>\n      <th>flag_type</th>\n      <th>num_loas</th>\n      <th>loa</th>\n      <th>max_loa</th>\n      <th>num_types</th>\n      <th>type_x</th>\n      <th>...</th>\n      <th>transit</th>\n      <th>segment</th>\n      <th>seg_length</th>\n      <th>avg_sog</th>\n      <th>min_sog</th>\n      <th>max_sog</th>\n      <th>pdgt10</th>\n      <th>st_time</th>\n      <th>end_time</th>\n      <th>type_y</th>\n    </tr>\n  </thead>\n  <tbody>\n    <tr>\n      <th>0</th>\n      <td>8</td>\n      <td>Bil Holman Dredge/Dredge Capt Frank/Emo/Offsho...</td>\n      <td>Y</td>\n      <td>Unknown</td>\n      <td>Unknown</td>\n      <td>7</td>\n      <td>42.0/48.0/57.0/90.0/138.0/154.0/156.0</td>\n      <td>156.0</td>\n      <td>4</td>\n      <td>Dredging/MilOps/Reserved/Towing</td>\n      <td>...</td>\n      <td>1</td>\n      <td>1</td>\n      <td>5.1</td>\n      <td>13.2</td>\n      <td>9.2</td>\n      <td>14.5</td>\n      <td>96.5</td>\n      <td>2009-02-10 16:03:00</td>\n      <td>2009-02-10 16:27:00</td>\n      <td>foo</td>\n    </tr>\n    <tr>\n      <th>1</th>\n      <td>8</td>\n      <td>Bil Holman Dredge/Dredge Capt Frank/Emo/Offsho...</td>\n      <td>Y</td>\n      <td>Unknown</td>\n      <td>Unknown</td>\n      <td>7</td>\n      <td>42.0/48.0/57.0/90.0/138.0/154.0/156.0</td>\n      <td>156.0</td>\n      <td>4</td>\n      <td>Dredging/MilOps/Reserved/Towing</td>\n      <td>...</td>\n      <td>1</td>\n      <td>1</td>\n      <td>13.5</td>\n      <td>18.6</td>\n      <td>10.4</td>\n      <td>20.6</td>\n      <td>100.0</td>\n      <td>2009-04-06 14:31:00</td>\n      <td>2009-04-06 15:20:00</td>\n      <td>foo</td>\n    </tr>\n    <tr>\n      <th>2</th>\n      <td>8</td>\n      <td>Bil Holman Dredge/Dredge Capt Frank/Emo/Offsho...</td>\n      <td>Y</td>\n      <td>Unknown</td>\n      <td>Unknown</td>\n      <td>7</td>\n      <td>42.0/48.0/57.0/90.0/138.0/154.0/156.0</td>\n      <td>156.0</td>\n      <td>4</td>\n      <td>Dredging/MilOps/Reserved/Towing</td>\n      <td>...</td>\n      <td>1</td>\n      <td>1</td>\n      <td>4.3</td>\n      <td>16.2</td>\n      <td>10.3</td>\n      <td>20.5</td>\n      <td>100.0</td>\n      <td>2009-04-06 14:36:00</td>\n      <td>2009-04-06 14:55:00</td>\n      <td>foo</td>\n    </tr>\n    <tr>\n      <th>3</th>\n      <td>8</td>\n      <td>Bil Holman Dredge/Dredge Capt Frank/Emo/Offsho...</td>\n      <td>Y</td>\n      <td>Unknown</td>\n      <td>Unknown</td>\n      <td>7</td>\n      <td>42.0/48.0/57.0/90.0/138.0/154.0/156.0</td>\n      <td>156.0</td>\n      <td>4</td>\n      <td>Dredging/MilOps/Reserved/Towing</td>\n      <td>...</td>\n      <td>2</td>\n      <td>1</td>\n      <td>9.2</td>\n      <td>15.4</td>\n      <td>14.5</td>\n      <td>16.1</td>\n      <td>100.0</td>\n      <td>2009-04-10 17:58:00</td>\n      <td>2009-04-10 18:34:00</td>\n      <td>foo</td>\n    </tr>\n    <tr>\n      <th>4</th>\n      <td>8</td>\n      <td>Bil Holman Dredge/Dredge Capt Frank/Emo/Offsho...</td>\n      <td>Y</td>\n      <td>Unknown</td>\n      <td>Unknown</td>\n      <td>7</td>\n      <td>42.0/48.0/57.0/90.0/138.0/154.0/156.0</td>\n      <td>156.0</td>\n      <td>4</td>\n      <td>Dredging/MilOps/Reserved/Towing</td>\n      <td>...</td>\n      <td>2</td>\n      <td>1</td>\n      <td>9.2</td>\n      <td>15.4</td>\n      <td>14.6</td>\n      <td>16.2</td>\n      <td>100.0</td>\n      <td>2009-04-10 17:59:00</td>\n      <td>2009-04-10 18:35:00</td>\n      <td>foo</td>\n    </tr>\n  </tbody>\n</table>\n<p>5 rows × 22 columns</p>\n</div>"
     },
     "metadata": {},
     "execution_count": 29
    }
   ],
   "source": [
    "segments['type'] = 'foo'\n",
    "pd.merge(vessels, segments, left_index=True, right_on='mmsi').head()"
   ]
  },
  {
   "cell_type": "markdown",
   "metadata": {},
   "source": [
    "This behavior can be overridden by specifying a `suffixes` argument, containing a list of the suffixes to be used for the columns of the left and right columns, respectively."
   ]
  },
  {
   "cell_type": "markdown",
   "metadata": {},
   "source": [
    "### Exercise 6\n",
    "Fix the following `merge` in order to return a non-empty `DataFrame`."
   ]
  },
  {
   "cell_type": "code",
   "execution_count": 30,
   "metadata": {},
   "outputs": [
    {
     "output_type": "execute_result",
     "data": {
      "text/plain": [
       "   mmsi               name  transit  segment  seg_length  avg_sog  min_sog  \\\n",
       "0     1        Us Govt Ves        1        1         5.1     13.2      9.2   \n",
       "1     1  Dredge Capt Frank        1        1        13.5     18.6     10.4   \n",
       "2     1      Us Gov Vessel        1        1         4.3     16.2     10.3   \n",
       "3     1      Us Gov Vessel        2        1         9.2     15.4     14.5   \n",
       "4     1  Dredge Capt Frank        2        1         9.2     15.4     14.6   \n",
       "5     1  Bil Holman Dredge        1        1        17.4     34.3     33.9   \n",
       "6     1  Bil Holman Dredge        1        2        76.0     34.4     33.8   \n",
       "7     1         S.d. Gumel        1        1        13.7      6.9      3.0   \n",
       "8     9         Shearwater        4        1        11.6      8.8      7.9   \n",
       "9     9         Shearwater        8        1        11.6      8.3      7.4   \n",
       "\n",
       "   max_sog  pdgt10             st_time  ... num_names  \\\n",
       "0     14.5    96.5 2009-02-10 16:03:00  ...         8   \n",
       "1     20.6   100.0 2009-04-06 14:31:00  ...         8   \n",
       "2     20.5   100.0 2009-04-06 14:36:00  ...         8   \n",
       "3     16.1   100.0 2009-04-10 17:58:00  ...         8   \n",
       "4     16.2   100.0 2009-04-10 17:59:00  ...         8   \n",
       "5     35.0   100.0 2010-03-20 16:06:00  ...         8   \n",
       "6     34.9   100.0 2010-03-20 18:05:00  ...         8   \n",
       "7     14.0    38.2 2011-05-04 11:28:00  ...         8   \n",
       "8     10.3     0.0 2010-06-05 11:23:00  ...         3   \n",
       "9      9.2     0.0 2010-06-08 11:03:00  ...         3   \n",
       "\n",
       "                                               names  sov     flag flag_type  \\\n",
       "0  Bil Holman Dredge/Dredge Capt Frank/Emo/Offsho...    Y  Unknown   Unknown   \n",
       "1  Bil Holman Dredge/Dredge Capt Frank/Emo/Offsho...    Y  Unknown   Unknown   \n",
       "2  Bil Holman Dredge/Dredge Capt Frank/Emo/Offsho...    Y  Unknown   Unknown   \n",
       "3  Bil Holman Dredge/Dredge Capt Frank/Emo/Offsho...    Y  Unknown   Unknown   \n",
       "4  Bil Holman Dredge/Dredge Capt Frank/Emo/Offsho...    Y  Unknown   Unknown   \n",
       "5  Bil Holman Dredge/Dredge Capt Frank/Emo/Offsho...    Y  Unknown   Unknown   \n",
       "6  Bil Holman Dredge/Dredge Capt Frank/Emo/Offsho...    Y  Unknown   Unknown   \n",
       "7  Bil Holman Dredge/Dredge Capt Frank/Emo/Offsho...    Y  Unknown   Unknown   \n",
       "8                         000000009/Raven/Shearwater    N  Unknown   Unknown   \n",
       "9                         000000009/Raven/Shearwater    N  Unknown   Unknown   \n",
       "\n",
       "  num_loas                                    loa  max_loa num_types  \\\n",
       "0        7  42.0/48.0/57.0/90.0/138.0/154.0/156.0    156.0         4   \n",
       "1        7  42.0/48.0/57.0/90.0/138.0/154.0/156.0    156.0         4   \n",
       "2        7  42.0/48.0/57.0/90.0/138.0/154.0/156.0    156.0         4   \n",
       "3        7  42.0/48.0/57.0/90.0/138.0/154.0/156.0    156.0         4   \n",
       "4        7  42.0/48.0/57.0/90.0/138.0/154.0/156.0    156.0         4   \n",
       "5        7  42.0/48.0/57.0/90.0/138.0/154.0/156.0    156.0         4   \n",
       "6        7  42.0/48.0/57.0/90.0/138.0/154.0/156.0    156.0         4   \n",
       "7        7  42.0/48.0/57.0/90.0/138.0/154.0/156.0    156.0         4   \n",
       "8        2                              50.0/62.0     62.0         2   \n",
       "9        2                              50.0/62.0     62.0         2   \n",
       "\n",
       "                            type_y  \n",
       "0  Dredging/MilOps/Reserved/Towing  \n",
       "1  Dredging/MilOps/Reserved/Towing  \n",
       "2  Dredging/MilOps/Reserved/Towing  \n",
       "3  Dredging/MilOps/Reserved/Towing  \n",
       "4  Dredging/MilOps/Reserved/Towing  \n",
       "5  Dredging/MilOps/Reserved/Towing  \n",
       "6  Dredging/MilOps/Reserved/Towing  \n",
       "7  Dredging/MilOps/Reserved/Towing  \n",
       "8                     Pleasure/Tug  \n",
       "9                     Pleasure/Tug  \n",
       "\n",
       "[10 rows x 22 columns]"
      ],
      "text/html": "<div>\n<style scoped>\n    .dataframe tbody tr th:only-of-type {\n        vertical-align: middle;\n    }\n\n    .dataframe tbody tr th {\n        vertical-align: top;\n    }\n\n    .dataframe thead th {\n        text-align: right;\n    }\n</style>\n<table border=\"1\" class=\"dataframe\">\n  <thead>\n    <tr style=\"text-align: right;\">\n      <th></th>\n      <th>mmsi</th>\n      <th>name</th>\n      <th>transit</th>\n      <th>segment</th>\n      <th>seg_length</th>\n      <th>avg_sog</th>\n      <th>min_sog</th>\n      <th>max_sog</th>\n      <th>pdgt10</th>\n      <th>st_time</th>\n      <th>...</th>\n      <th>num_names</th>\n      <th>names</th>\n      <th>sov</th>\n      <th>flag</th>\n      <th>flag_type</th>\n      <th>num_loas</th>\n      <th>loa</th>\n      <th>max_loa</th>\n      <th>num_types</th>\n      <th>type_y</th>\n    </tr>\n  </thead>\n  <tbody>\n    <tr>\n      <th>0</th>\n      <td>1</td>\n      <td>Us Govt Ves</td>\n      <td>1</td>\n      <td>1</td>\n      <td>5.1</td>\n      <td>13.2</td>\n      <td>9.2</td>\n      <td>14.5</td>\n      <td>96.5</td>\n      <td>2009-02-10 16:03:00</td>\n      <td>...</td>\n      <td>8</td>\n      <td>Bil Holman Dredge/Dredge Capt Frank/Emo/Offsho...</td>\n      <td>Y</td>\n      <td>Unknown</td>\n      <td>Unknown</td>\n      <td>7</td>\n      <td>42.0/48.0/57.0/90.0/138.0/154.0/156.0</td>\n      <td>156.0</td>\n      <td>4</td>\n      <td>Dredging/MilOps/Reserved/Towing</td>\n    </tr>\n    <tr>\n      <th>1</th>\n      <td>1</td>\n      <td>Dredge Capt Frank</td>\n      <td>1</td>\n      <td>1</td>\n      <td>13.5</td>\n      <td>18.6</td>\n      <td>10.4</td>\n      <td>20.6</td>\n      <td>100.0</td>\n      <td>2009-04-06 14:31:00</td>\n      <td>...</td>\n      <td>8</td>\n      <td>Bil Holman Dredge/Dredge Capt Frank/Emo/Offsho...</td>\n      <td>Y</td>\n      <td>Unknown</td>\n      <td>Unknown</td>\n      <td>7</td>\n      <td>42.0/48.0/57.0/90.0/138.0/154.0/156.0</td>\n      <td>156.0</td>\n      <td>4</td>\n      <td>Dredging/MilOps/Reserved/Towing</td>\n    </tr>\n    <tr>\n      <th>2</th>\n      <td>1</td>\n      <td>Us Gov Vessel</td>\n      <td>1</td>\n      <td>1</td>\n      <td>4.3</td>\n      <td>16.2</td>\n      <td>10.3</td>\n      <td>20.5</td>\n      <td>100.0</td>\n      <td>2009-04-06 14:36:00</td>\n      <td>...</td>\n      <td>8</td>\n      <td>Bil Holman Dredge/Dredge Capt Frank/Emo/Offsho...</td>\n      <td>Y</td>\n      <td>Unknown</td>\n      <td>Unknown</td>\n      <td>7</td>\n      <td>42.0/48.0/57.0/90.0/138.0/154.0/156.0</td>\n      <td>156.0</td>\n      <td>4</td>\n      <td>Dredging/MilOps/Reserved/Towing</td>\n    </tr>\n    <tr>\n      <th>3</th>\n      <td>1</td>\n      <td>Us Gov Vessel</td>\n      <td>2</td>\n      <td>1</td>\n      <td>9.2</td>\n      <td>15.4</td>\n      <td>14.5</td>\n      <td>16.1</td>\n      <td>100.0</td>\n      <td>2009-04-10 17:58:00</td>\n      <td>...</td>\n      <td>8</td>\n      <td>Bil Holman Dredge/Dredge Capt Frank/Emo/Offsho...</td>\n      <td>Y</td>\n      <td>Unknown</td>\n      <td>Unknown</td>\n      <td>7</td>\n      <td>42.0/48.0/57.0/90.0/138.0/154.0/156.0</td>\n      <td>156.0</td>\n      <td>4</td>\n      <td>Dredging/MilOps/Reserved/Towing</td>\n    </tr>\n    <tr>\n      <th>4</th>\n      <td>1</td>\n      <td>Dredge Capt Frank</td>\n      <td>2</td>\n      <td>1</td>\n      <td>9.2</td>\n      <td>15.4</td>\n      <td>14.6</td>\n      <td>16.2</td>\n      <td>100.0</td>\n      <td>2009-04-10 17:59:00</td>\n      <td>...</td>\n      <td>8</td>\n      <td>Bil Holman Dredge/Dredge Capt Frank/Emo/Offsho...</td>\n      <td>Y</td>\n      <td>Unknown</td>\n      <td>Unknown</td>\n      <td>7</td>\n      <td>42.0/48.0/57.0/90.0/138.0/154.0/156.0</td>\n      <td>156.0</td>\n      <td>4</td>\n      <td>Dredging/MilOps/Reserved/Towing</td>\n    </tr>\n    <tr>\n      <th>5</th>\n      <td>1</td>\n      <td>Bil Holman Dredge</td>\n      <td>1</td>\n      <td>1</td>\n      <td>17.4</td>\n      <td>34.3</td>\n      <td>33.9</td>\n      <td>35.0</td>\n      <td>100.0</td>\n      <td>2010-03-20 16:06:00</td>\n      <td>...</td>\n      <td>8</td>\n      <td>Bil Holman Dredge/Dredge Capt Frank/Emo/Offsho...</td>\n      <td>Y</td>\n      <td>Unknown</td>\n      <td>Unknown</td>\n      <td>7</td>\n      <td>42.0/48.0/57.0/90.0/138.0/154.0/156.0</td>\n      <td>156.0</td>\n      <td>4</td>\n      <td>Dredging/MilOps/Reserved/Towing</td>\n    </tr>\n    <tr>\n      <th>6</th>\n      <td>1</td>\n      <td>Bil Holman Dredge</td>\n      <td>1</td>\n      <td>2</td>\n      <td>76.0</td>\n      <td>34.4</td>\n      <td>33.8</td>\n      <td>34.9</td>\n      <td>100.0</td>\n      <td>2010-03-20 18:05:00</td>\n      <td>...</td>\n      <td>8</td>\n      <td>Bil Holman Dredge/Dredge Capt Frank/Emo/Offsho...</td>\n      <td>Y</td>\n      <td>Unknown</td>\n      <td>Unknown</td>\n      <td>7</td>\n      <td>42.0/48.0/57.0/90.0/138.0/154.0/156.0</td>\n      <td>156.0</td>\n      <td>4</td>\n      <td>Dredging/MilOps/Reserved/Towing</td>\n    </tr>\n    <tr>\n      <th>7</th>\n      <td>1</td>\n      <td>S.d. Gumel</td>\n      <td>1</td>\n      <td>1</td>\n      <td>13.7</td>\n      <td>6.9</td>\n      <td>3.0</td>\n      <td>14.0</td>\n      <td>38.2</td>\n      <td>2011-05-04 11:28:00</td>\n      <td>...</td>\n      <td>8</td>\n      <td>Bil Holman Dredge/Dredge Capt Frank/Emo/Offsho...</td>\n      <td>Y</td>\n      <td>Unknown</td>\n      <td>Unknown</td>\n      <td>7</td>\n      <td>42.0/48.0/57.0/90.0/138.0/154.0/156.0</td>\n      <td>156.0</td>\n      <td>4</td>\n      <td>Dredging/MilOps/Reserved/Towing</td>\n    </tr>\n    <tr>\n      <th>8</th>\n      <td>9</td>\n      <td>Shearwater</td>\n      <td>4</td>\n      <td>1</td>\n      <td>11.6</td>\n      <td>8.8</td>\n      <td>7.9</td>\n      <td>10.3</td>\n      <td>0.0</td>\n      <td>2010-06-05 11:23:00</td>\n      <td>...</td>\n      <td>3</td>\n      <td>000000009/Raven/Shearwater</td>\n      <td>N</td>\n      <td>Unknown</td>\n      <td>Unknown</td>\n      <td>2</td>\n      <td>50.0/62.0</td>\n      <td>62.0</td>\n      <td>2</td>\n      <td>Pleasure/Tug</td>\n    </tr>\n    <tr>\n      <th>9</th>\n      <td>9</td>\n      <td>Shearwater</td>\n      <td>8</td>\n      <td>1</td>\n      <td>11.6</td>\n      <td>8.3</td>\n      <td>7.4</td>\n      <td>9.2</td>\n      <td>0.0</td>\n      <td>2010-06-08 11:03:00</td>\n      <td>...</td>\n      <td>3</td>\n      <td>000000009/Raven/Shearwater</td>\n      <td>N</td>\n      <td>Unknown</td>\n      <td>Unknown</td>\n      <td>2</td>\n      <td>50.0/62.0</td>\n      <td>62.0</td>\n      <td>2</td>\n      <td>Pleasure/Tug</td>\n    </tr>\n  </tbody>\n</table>\n<p>10 rows × 22 columns</p>\n</div>"
     },
     "metadata": {},
     "execution_count": 30
    }
   ],
   "source": [
    "segments.merge(vessels).head(10) #empty\n",
    "segments.merge(vessels, right_index=True, left_on='mmsi').head(10) #non-empty"
   ]
  },
  {
   "cell_type": "markdown",
   "metadata": {},
   "source": [
    "## Concatenation\n",
    "\n",
    "A common data manipulation is appending rows or columns to a dataset that already conform to the dimensions of the exsiting rows or colums, respectively:"
   ]
  },
  {
   "cell_type": "code",
   "execution_count": 31,
   "metadata": {},
   "outputs": [
    {
     "output_type": "execute_result",
     "data": {
      "text/plain": [
       "array([0.67279254, 0.90667279, 0.31974105, 0.33992105, 0.81626044,\n",
       "       0.44887342, 0.45895435, 0.81216281, 0.60742464, 0.93627656])"
      ]
     },
     "metadata": {},
     "execution_count": 31
    }
   ],
   "source": [
    "np.concatenate([np.random.random(5), np.random.random(5)])"
   ]
  },
  {
   "cell_type": "markdown",
   "metadata": {},
   "source": [
    "This operation is also called *binding* or *stacking*.\n",
    "\n",
    "With Pandas' indexed data structures, there are additional considerations as the overlap in index values between two data structures affects how they are concatenate.\n",
    "\n",
    "Lets import two microbiome datasets, each consisting of counts of microorganiams from a particular patient. We will use the first column of each dataset as the index."
   ]
  },
  {
   "cell_type": "code",
   "execution_count": 32,
   "metadata": {},
   "outputs": [
    {
     "output_type": "execute_result",
     "data": {
      "text/plain": [
       "((272, 1), (288, 1))"
      ]
     },
     "metadata": {},
     "execution_count": 32
    }
   ],
   "source": [
    "mb1 = pd.read_excel('Data/microbiome_MID1.xls', 'Sheet 1', index_col=0, header=None)\n",
    "mb2 = pd.read_excel('Data/microbiome_MID2.xls', 'Sheet 1', index_col=0, header=None)\n",
    "mb1.columns = mb2.columns = ['Count']\n",
    "mb1.index.name = mb2.index.name = 'Taxon'\n",
    "mb1.shape, mb2.shape"
   ]
  },
  {
   "cell_type": "code",
   "execution_count": 33,
   "metadata": {},
   "outputs": [
    {
     "output_type": "execute_result",
     "data": {
      "text/plain": [
       "                                                    Count\n",
       "Taxon                                                    \n",
       "Archaea \"Crenarchaeota\" Thermoprotei Desulfuroc...      7\n",
       "Archaea \"Crenarchaeota\" Thermoprotei Desulfuroc...      2\n",
       "Archaea \"Crenarchaeota\" Thermoprotei Sulfolobal...      3\n",
       "Archaea \"Crenarchaeota\" Thermoprotei Thermoprot...      3\n",
       "Archaea \"Euryarchaeota\" \"Methanomicrobia\" Metha...      7"
      ],
      "text/html": "<div>\n<style scoped>\n    .dataframe tbody tr th:only-of-type {\n        vertical-align: middle;\n    }\n\n    .dataframe tbody tr th {\n        vertical-align: top;\n    }\n\n    .dataframe thead th {\n        text-align: right;\n    }\n</style>\n<table border=\"1\" class=\"dataframe\">\n  <thead>\n    <tr style=\"text-align: right;\">\n      <th></th>\n      <th>Count</th>\n    </tr>\n    <tr>\n      <th>Taxon</th>\n      <th></th>\n    </tr>\n  </thead>\n  <tbody>\n    <tr>\n      <th>Archaea \"Crenarchaeota\" Thermoprotei Desulfurococcales Desulfurococcaceae Ignisphaera</th>\n      <td>7</td>\n    </tr>\n    <tr>\n      <th>Archaea \"Crenarchaeota\" Thermoprotei Desulfurococcales Pyrodictiaceae Pyrolobus</th>\n      <td>2</td>\n    </tr>\n    <tr>\n      <th>Archaea \"Crenarchaeota\" Thermoprotei Sulfolobales Sulfolobaceae Stygiolobus</th>\n      <td>3</td>\n    </tr>\n    <tr>\n      <th>Archaea \"Crenarchaeota\" Thermoprotei Thermoproteales Thermofilaceae Thermofilum</th>\n      <td>3</td>\n    </tr>\n    <tr>\n      <th>Archaea \"Euryarchaeota\" \"Methanomicrobia\" Methanocellales Methanocellaceae Methanocella</th>\n      <td>7</td>\n    </tr>\n  </tbody>\n</table>\n</div>"
     },
     "metadata": {},
     "execution_count": 33
    }
   ],
   "source": [
    "mb1.head()"
   ]
  },
  {
   "cell_type": "markdown",
   "metadata": {},
   "source": [
    "The index of these data is the unique biological classification of each organism, beginning with *domain*, *phylum*, *class*, and for some organisms, going all the way down to the genus level.\n",
    "\n",
    "![classification](http://upload.wikimedia.org/wikipedia/commons/thumb/a/a5/Biological_classification_L_Pengo_vflip.svg/150px-Biological_classification_L_Pengo_vflip.svg.png)"
   ]
  },
  {
   "cell_type": "code",
   "execution_count": 34,
   "metadata": {},
   "outputs": [
    {
     "output_type": "execute_result",
     "data": {
      "text/plain": [
       "True"
      ]
     },
     "metadata": {},
     "execution_count": 34
    }
   ],
   "source": [
    "mb1.index.is_unique"
   ]
  },
  {
   "cell_type": "markdown",
   "metadata": {},
   "source": [
    "If we concatenate along `axis=0` (the default), we will obtain another data frame with the the rows concatenated:"
   ]
  },
  {
   "cell_type": "code",
   "execution_count": 35,
   "metadata": {},
   "outputs": [
    {
     "output_type": "execute_result",
     "data": {
      "text/plain": [
       "                                                    Count\n",
       "Taxon                                                    \n",
       "Archaea \"Crenarchaeota\" Thermoprotei Desulfuroc...      7\n",
       "Archaea \"Crenarchaeota\" Thermoprotei Desulfuroc...      2\n",
       "Archaea \"Crenarchaeota\" Thermoprotei Sulfolobal...      3\n",
       "Archaea \"Crenarchaeota\" Thermoprotei Thermoprot...      3\n",
       "Archaea \"Euryarchaeota\" \"Methanomicrobia\" Metha...      7"
      ],
      "text/html": "<div>\n<style scoped>\n    .dataframe tbody tr th:only-of-type {\n        vertical-align: middle;\n    }\n\n    .dataframe tbody tr th {\n        vertical-align: top;\n    }\n\n    .dataframe thead th {\n        text-align: right;\n    }\n</style>\n<table border=\"1\" class=\"dataframe\">\n  <thead>\n    <tr style=\"text-align: right;\">\n      <th></th>\n      <th>Count</th>\n    </tr>\n    <tr>\n      <th>Taxon</th>\n      <th></th>\n    </tr>\n  </thead>\n  <tbody>\n    <tr>\n      <th>Archaea \"Crenarchaeota\" Thermoprotei Desulfurococcales Desulfurococcaceae Ignisphaera</th>\n      <td>7</td>\n    </tr>\n    <tr>\n      <th>Archaea \"Crenarchaeota\" Thermoprotei Desulfurococcales Pyrodictiaceae Pyrolobus</th>\n      <td>2</td>\n    </tr>\n    <tr>\n      <th>Archaea \"Crenarchaeota\" Thermoprotei Sulfolobales Sulfolobaceae Stygiolobus</th>\n      <td>3</td>\n    </tr>\n    <tr>\n      <th>Archaea \"Crenarchaeota\" Thermoprotei Thermoproteales Thermofilaceae Thermofilum</th>\n      <td>3</td>\n    </tr>\n    <tr>\n      <th>Archaea \"Euryarchaeota\" \"Methanomicrobia\" Methanocellales Methanocellaceae Methanocella</th>\n      <td>7</td>\n    </tr>\n  </tbody>\n</table>\n</div>"
     },
     "metadata": {},
     "execution_count": 35
    }
   ],
   "source": [
    "pd.concat([mb1, mb2], axis=0).head()"
   ]
  },
  {
   "cell_type": "markdown",
   "metadata": {},
   "source": [
    "However, the index is no longer unique, due to overlap between the two `DataFrames`."
   ]
  },
  {
   "cell_type": "code",
   "execution_count": 36,
   "metadata": {},
   "outputs": [
    {
     "output_type": "execute_result",
     "data": {
      "text/plain": [
       "False"
      ]
     },
     "metadata": {},
     "execution_count": 36
    }
   ],
   "source": [
    "pd.concat([mb1, mb2], axis=0).index.is_unique"
   ]
  },
  {
   "cell_type": "markdown",
   "metadata": {},
   "source": [
    "Concatenating along `axis=1` will concatenate column-wise, but respecting the indices of the two `DataFrames`."
   ]
  },
  {
   "cell_type": "code",
   "execution_count": 37,
   "metadata": {},
   "outputs": [
    {
     "output_type": "execute_result",
     "data": {
      "text/plain": [
       "(438, 2)"
      ]
     },
     "metadata": {},
     "execution_count": 37
    }
   ],
   "source": [
    "pd.concat([mb1, mb2], axis=1).shape"
   ]
  },
  {
   "cell_type": "code",
   "execution_count": 38,
   "metadata": {},
   "outputs": [
    {
     "output_type": "execute_result",
     "data": {
      "text/plain": [
       "                                                    Count  Count\n",
       "Archaea \"Crenarchaeota\" Thermoprotei Desulfuroc...    7.0   23.0\n",
       "Archaea \"Crenarchaeota\" Thermoprotei Desulfuroc...    2.0    2.0\n",
       "Archaea \"Crenarchaeota\" Thermoprotei Sulfolobal...    3.0   10.0\n",
       "Archaea \"Crenarchaeota\" Thermoprotei Thermoprot...    3.0    9.0\n",
       "Archaea \"Euryarchaeota\" \"Methanomicrobia\" Metha...    7.0    9.0"
      ],
      "text/html": "<div>\n<style scoped>\n    .dataframe tbody tr th:only-of-type {\n        vertical-align: middle;\n    }\n\n    .dataframe tbody tr th {\n        vertical-align: top;\n    }\n\n    .dataframe thead th {\n        text-align: right;\n    }\n</style>\n<table border=\"1\" class=\"dataframe\">\n  <thead>\n    <tr style=\"text-align: right;\">\n      <th></th>\n      <th>Count</th>\n      <th>Count</th>\n    </tr>\n  </thead>\n  <tbody>\n    <tr>\n      <th>Archaea \"Crenarchaeota\" Thermoprotei Desulfurococcales Desulfurococcaceae Ignisphaera</th>\n      <td>7.0</td>\n      <td>23.0</td>\n    </tr>\n    <tr>\n      <th>Archaea \"Crenarchaeota\" Thermoprotei Desulfurococcales Pyrodictiaceae Pyrolobus</th>\n      <td>2.0</td>\n      <td>2.0</td>\n    </tr>\n    <tr>\n      <th>Archaea \"Crenarchaeota\" Thermoprotei Sulfolobales Sulfolobaceae Stygiolobus</th>\n      <td>3.0</td>\n      <td>10.0</td>\n    </tr>\n    <tr>\n      <th>Archaea \"Crenarchaeota\" Thermoprotei Thermoproteales Thermofilaceae Thermofilum</th>\n      <td>3.0</td>\n      <td>9.0</td>\n    </tr>\n    <tr>\n      <th>Archaea \"Euryarchaeota\" \"Methanomicrobia\" Methanocellales Methanocellaceae Methanocella</th>\n      <td>7.0</td>\n      <td>9.0</td>\n    </tr>\n  </tbody>\n</table>\n</div>"
     },
     "metadata": {},
     "execution_count": 38
    }
   ],
   "source": [
    "pd.concat([mb1, mb2], axis=1).head()"
   ]
  },
  {
   "cell_type": "markdown",
   "metadata": {},
   "source": [
    "## Reshaping DataFrame objects\n",
    "\n",
    "In the context of a single DataFrame, we are often interested in re-arranging the layout of our data. "
   ]
  },
  {
   "cell_type": "markdown",
   "metadata": {},
   "source": [
    "This dataset is from Table 6.9 of [Statistical Methods for the Analysis of Repeated Measurements](http://www.amazon.com/Statistical-Methods-Analysis-Repeated-Measurements/dp/0387953701) by Charles S. Davis, pp. 161-163 (Springer, 2002). These data are from a multicenter, randomized controlled trial of botulinum toxin type B (BotB) in patients with cervical dystonia from nine U.S. sites.\n",
    "\n",
    "* Randomized to placebo (N=36), 5000 units of BotB (N=36), 10,000 units of BotB (N=37)\n",
    "* Response variable: total score on Toronto Western Spasmodic Torticollis Rating Scale (TWSTRS), measuring severity, pain, and disability of cervical dystonia (high scores mean more impairment)\n",
    "* TWSTRS measured at baseline (week 0) and weeks 2, 4, 8, 12, 16 after treatment began"
   ]
  },
  {
   "cell_type": "code",
   "execution_count": 39,
   "metadata": {},
   "outputs": [
    {
     "output_type": "execute_result",
     "data": {
      "text/plain": [
       "   patient  obs  week  site  id  treat  age sex  twstrs\n",
       "0        1    1     0     1   1  5000U   65   F      32\n",
       "1        1    2     2     1   1  5000U   65   F      30\n",
       "2        1    3     4     1   1  5000U   65   F      24\n",
       "3        1    4     8     1   1  5000U   65   F      37\n",
       "4        1    5    12     1   1  5000U   65   F      39"
      ],
      "text/html": "<div>\n<style scoped>\n    .dataframe tbody tr th:only-of-type {\n        vertical-align: middle;\n    }\n\n    .dataframe tbody tr th {\n        vertical-align: top;\n    }\n\n    .dataframe thead th {\n        text-align: right;\n    }\n</style>\n<table border=\"1\" class=\"dataframe\">\n  <thead>\n    <tr style=\"text-align: right;\">\n      <th></th>\n      <th>patient</th>\n      <th>obs</th>\n      <th>week</th>\n      <th>site</th>\n      <th>id</th>\n      <th>treat</th>\n      <th>age</th>\n      <th>sex</th>\n      <th>twstrs</th>\n    </tr>\n  </thead>\n  <tbody>\n    <tr>\n      <th>0</th>\n      <td>1</td>\n      <td>1</td>\n      <td>0</td>\n      <td>1</td>\n      <td>1</td>\n      <td>5000U</td>\n      <td>65</td>\n      <td>F</td>\n      <td>32</td>\n    </tr>\n    <tr>\n      <th>1</th>\n      <td>1</td>\n      <td>2</td>\n      <td>2</td>\n      <td>1</td>\n      <td>1</td>\n      <td>5000U</td>\n      <td>65</td>\n      <td>F</td>\n      <td>30</td>\n    </tr>\n    <tr>\n      <th>2</th>\n      <td>1</td>\n      <td>3</td>\n      <td>4</td>\n      <td>1</td>\n      <td>1</td>\n      <td>5000U</td>\n      <td>65</td>\n      <td>F</td>\n      <td>24</td>\n    </tr>\n    <tr>\n      <th>3</th>\n      <td>1</td>\n      <td>4</td>\n      <td>8</td>\n      <td>1</td>\n      <td>1</td>\n      <td>5000U</td>\n      <td>65</td>\n      <td>F</td>\n      <td>37</td>\n    </tr>\n    <tr>\n      <th>4</th>\n      <td>1</td>\n      <td>5</td>\n      <td>12</td>\n      <td>1</td>\n      <td>1</td>\n      <td>5000U</td>\n      <td>65</td>\n      <td>F</td>\n      <td>39</td>\n    </tr>\n  </tbody>\n</table>\n</div>"
     },
     "metadata": {},
     "execution_count": 39
    }
   ],
   "source": [
    "cdystonia = pd.read_csv(\"Data/cdystonia.csv\", index_col=None)\n",
    "cdystonia.head()"
   ]
  },
  {
   "cell_type": "markdown",
   "metadata": {},
   "source": [
    "This dataset includes repeated measurements of the same individuals (longitudinal data). Its possible to present such information in (at least) two ways: showing each repeated measurement in their own row, or in multiple columns representing multiple measurements.\n"
   ]
  },
  {
   "cell_type": "markdown",
   "metadata": {},
   "source": [
    "The `stack` method rotates the data frame so that columns are represented in rows:"
   ]
  },
  {
   "cell_type": "code",
   "execution_count": 40,
   "metadata": {},
   "outputs": [
    {
     "output_type": "execute_result",
     "data": {
      "text/plain": [
       "0  patient        1\n",
       "   obs            1\n",
       "   week           0\n",
       "   site           1\n",
       "   id             1\n",
       "   treat      5000U\n",
       "   age           65\n",
       "   sex            F\n",
       "   twstrs        32\n",
       "1  patient        1\n",
       "   obs            2\n",
       "   week           2\n",
       "   site           1\n",
       "   id             1\n",
       "   treat      5000U\n",
       "dtype: object"
      ]
     },
     "metadata": {},
     "execution_count": 40
    }
   ],
   "source": [
    "stacked = cdystonia.stack()\n",
    "stacked.head(15)"
   ]
  },
  {
   "cell_type": "markdown",
   "metadata": {},
   "source": [
    "To complement this, `unstack` pivots from rows back to columns."
   ]
  },
  {
   "cell_type": "code",
   "execution_count": 41,
   "metadata": {},
   "outputs": [
    {
     "output_type": "execute_result",
     "data": {
      "text/plain": [
       "  patient obs week site id  treat age sex twstrs\n",
       "0       1   1    0    1  1  5000U  65   F     32\n",
       "1       1   2    2    1  1  5000U  65   F     30\n",
       "2       1   3    4    1  1  5000U  65   F     24\n",
       "3       1   4    8    1  1  5000U  65   F     37\n",
       "4       1   5   12    1  1  5000U  65   F     39"
      ],
      "text/html": "<div>\n<style scoped>\n    .dataframe tbody tr th:only-of-type {\n        vertical-align: middle;\n    }\n\n    .dataframe tbody tr th {\n        vertical-align: top;\n    }\n\n    .dataframe thead th {\n        text-align: right;\n    }\n</style>\n<table border=\"1\" class=\"dataframe\">\n  <thead>\n    <tr style=\"text-align: right;\">\n      <th></th>\n      <th>patient</th>\n      <th>obs</th>\n      <th>week</th>\n      <th>site</th>\n      <th>id</th>\n      <th>treat</th>\n      <th>age</th>\n      <th>sex</th>\n      <th>twstrs</th>\n    </tr>\n  </thead>\n  <tbody>\n    <tr>\n      <th>0</th>\n      <td>1</td>\n      <td>1</td>\n      <td>0</td>\n      <td>1</td>\n      <td>1</td>\n      <td>5000U</td>\n      <td>65</td>\n      <td>F</td>\n      <td>32</td>\n    </tr>\n    <tr>\n      <th>1</th>\n      <td>1</td>\n      <td>2</td>\n      <td>2</td>\n      <td>1</td>\n      <td>1</td>\n      <td>5000U</td>\n      <td>65</td>\n      <td>F</td>\n      <td>30</td>\n    </tr>\n    <tr>\n      <th>2</th>\n      <td>1</td>\n      <td>3</td>\n      <td>4</td>\n      <td>1</td>\n      <td>1</td>\n      <td>5000U</td>\n      <td>65</td>\n      <td>F</td>\n      <td>24</td>\n    </tr>\n    <tr>\n      <th>3</th>\n      <td>1</td>\n      <td>4</td>\n      <td>8</td>\n      <td>1</td>\n      <td>1</td>\n      <td>5000U</td>\n      <td>65</td>\n      <td>F</td>\n      <td>37</td>\n    </tr>\n    <tr>\n      <th>4</th>\n      <td>1</td>\n      <td>5</td>\n      <td>12</td>\n      <td>1</td>\n      <td>1</td>\n      <td>5000U</td>\n      <td>65</td>\n      <td>F</td>\n      <td>39</td>\n    </tr>\n  </tbody>\n</table>\n</div>"
     },
     "metadata": {},
     "execution_count": 41
    }
   ],
   "source": [
    "stacked.unstack().head()"
   ]
  },
  {
   "cell_type": "markdown",
   "metadata": {},
   "source": [
    "For this dataset, it makes sense to create a hierarchical index based on the patient and observation:"
   ]
  },
  {
   "cell_type": "markdown",
   "metadata": {},
   "source": [
    "## Pivoting\n",
    "\n",
    "The `pivot` method allows a DataFrame to be transformed easily between long and wide formats in the same way as a pivot table is created in a spreadsheet. It takes three arguments: `index`, `columns` and `values`, corresponding to the DataFrame index (the row headers), columns and cell values, respectively.\n",
    "\n",
    "For example, we may want the `twstrs` variable (the response variable) in wide format according to patient, as we saw with the unstacking method above:"
   ]
  },
  {
   "cell_type": "code",
   "execution_count": 42,
   "metadata": {},
   "outputs": [
    {
     "output_type": "execute_result",
     "data": {
      "text/plain": [
       "obs         1     2     3     4     5     6\n",
       "patient                                    \n",
       "1        32.0  30.0  24.0  37.0  39.0  36.0\n",
       "2        60.0  26.0  27.0  41.0  65.0  67.0\n",
       "3        44.0  20.0  23.0  26.0  35.0  35.0\n",
       "4        53.0  61.0  64.0  62.0   NaN   NaN\n",
       "5        53.0  35.0  48.0  49.0  41.0  51.0"
      ],
      "text/html": "<div>\n<style scoped>\n    .dataframe tbody tr th:only-of-type {\n        vertical-align: middle;\n    }\n\n    .dataframe tbody tr th {\n        vertical-align: top;\n    }\n\n    .dataframe thead th {\n        text-align: right;\n    }\n</style>\n<table border=\"1\" class=\"dataframe\">\n  <thead>\n    <tr style=\"text-align: right;\">\n      <th>obs</th>\n      <th>1</th>\n      <th>2</th>\n      <th>3</th>\n      <th>4</th>\n      <th>5</th>\n      <th>6</th>\n    </tr>\n    <tr>\n      <th>patient</th>\n      <th></th>\n      <th></th>\n      <th></th>\n      <th></th>\n      <th></th>\n      <th></th>\n    </tr>\n  </thead>\n  <tbody>\n    <tr>\n      <th>1</th>\n      <td>32.0</td>\n      <td>30.0</td>\n      <td>24.0</td>\n      <td>37.0</td>\n      <td>39.0</td>\n      <td>36.0</td>\n    </tr>\n    <tr>\n      <th>2</th>\n      <td>60.0</td>\n      <td>26.0</td>\n      <td>27.0</td>\n      <td>41.0</td>\n      <td>65.0</td>\n      <td>67.0</td>\n    </tr>\n    <tr>\n      <th>3</th>\n      <td>44.0</td>\n      <td>20.0</td>\n      <td>23.0</td>\n      <td>26.0</td>\n      <td>35.0</td>\n      <td>35.0</td>\n    </tr>\n    <tr>\n      <th>4</th>\n      <td>53.0</td>\n      <td>61.0</td>\n      <td>64.0</td>\n      <td>62.0</td>\n      <td>NaN</td>\n      <td>NaN</td>\n    </tr>\n    <tr>\n      <th>5</th>\n      <td>53.0</td>\n      <td>35.0</td>\n      <td>48.0</td>\n      <td>49.0</td>\n      <td>41.0</td>\n      <td>51.0</td>\n    </tr>\n  </tbody>\n</table>\n</div>"
     },
     "metadata": {},
     "execution_count": 42
    }
   ],
   "source": [
    "twstrs_wide = cdystonia.pivot(index='patient', columns='obs', values='twstrs').head()\n",
    "twstrs_wide"
   ]
  },
  {
   "cell_type": "code",
   "execution_count": 43,
   "metadata": {},
   "outputs": [
    {
     "output_type": "execute_result",
     "data": {
      "text/plain": [
       "    patient  site  id    treat  age sex     1     2     3     4     5     6\n",
       "0         1     1   1    5000U   65   F  32.0  30.0  24.0  37.0  39.0  36.0\n",
       "6         2     1   2   10000U   70   F  60.0  26.0  27.0  41.0  65.0  67.0\n",
       "12        3     1   3    5000U   64   F  44.0  20.0  23.0  26.0  35.0  35.0\n",
       "18        4     1   4  Placebo   59   F  53.0  61.0  64.0  62.0   NaN   NaN\n",
       "22        5     1   5   10000U   76   F  53.0  35.0  48.0  49.0  41.0  51.0"
      ],
      "text/html": "<div>\n<style scoped>\n    .dataframe tbody tr th:only-of-type {\n        vertical-align: middle;\n    }\n\n    .dataframe tbody tr th {\n        vertical-align: top;\n    }\n\n    .dataframe thead th {\n        text-align: right;\n    }\n</style>\n<table border=\"1\" class=\"dataframe\">\n  <thead>\n    <tr style=\"text-align: right;\">\n      <th></th>\n      <th>patient</th>\n      <th>site</th>\n      <th>id</th>\n      <th>treat</th>\n      <th>age</th>\n      <th>sex</th>\n      <th>1</th>\n      <th>2</th>\n      <th>3</th>\n      <th>4</th>\n      <th>5</th>\n      <th>6</th>\n    </tr>\n  </thead>\n  <tbody>\n    <tr>\n      <th>0</th>\n      <td>1</td>\n      <td>1</td>\n      <td>1</td>\n      <td>5000U</td>\n      <td>65</td>\n      <td>F</td>\n      <td>32.0</td>\n      <td>30.0</td>\n      <td>24.0</td>\n      <td>37.0</td>\n      <td>39.0</td>\n      <td>36.0</td>\n    </tr>\n    <tr>\n      <th>6</th>\n      <td>2</td>\n      <td>1</td>\n      <td>2</td>\n      <td>10000U</td>\n      <td>70</td>\n      <td>F</td>\n      <td>60.0</td>\n      <td>26.0</td>\n      <td>27.0</td>\n      <td>41.0</td>\n      <td>65.0</td>\n      <td>67.0</td>\n    </tr>\n    <tr>\n      <th>12</th>\n      <td>3</td>\n      <td>1</td>\n      <td>3</td>\n      <td>5000U</td>\n      <td>64</td>\n      <td>F</td>\n      <td>44.0</td>\n      <td>20.0</td>\n      <td>23.0</td>\n      <td>26.0</td>\n      <td>35.0</td>\n      <td>35.0</td>\n    </tr>\n    <tr>\n      <th>18</th>\n      <td>4</td>\n      <td>1</td>\n      <td>4</td>\n      <td>Placebo</td>\n      <td>59</td>\n      <td>F</td>\n      <td>53.0</td>\n      <td>61.0</td>\n      <td>64.0</td>\n      <td>62.0</td>\n      <td>NaN</td>\n      <td>NaN</td>\n    </tr>\n    <tr>\n      <th>22</th>\n      <td>5</td>\n      <td>1</td>\n      <td>5</td>\n      <td>10000U</td>\n      <td>76</td>\n      <td>F</td>\n      <td>53.0</td>\n      <td>35.0</td>\n      <td>48.0</td>\n      <td>49.0</td>\n      <td>41.0</td>\n      <td>51.0</td>\n    </tr>\n  </tbody>\n</table>\n</div>"
     },
     "metadata": {},
     "execution_count": 43
    }
   ],
   "source": [
    "cdystonia_wide = (cdystonia[['patient','site','id','treat','age','sex']]\n",
    "                  .drop_duplicates()\n",
    "                  .merge(twstrs_wide, right_index=True, left_on='patient', how='inner')\n",
    "                  .head())\n",
    "cdystonia_wide"
   ]
  },
  {
   "cell_type": "markdown",
   "metadata": {},
   "source": [
    "To convert our \"wide\" format back to long, we can use the `melt` function, appropriately parameterized. This function is useful for `DataFrame`s where one\n",
    "or more columns are identifier variables (`id_vars`), with the remaining columns being measured variables (`value_vars`). The measured variables are \"unpivoted\" to\n",
    "the row axis, leaving just two non-identifier columns, a *variable* and its corresponding *value*, which can both be renamed using optional arguments."
   ]
  },
  {
   "cell_type": "code",
   "execution_count": 44,
   "metadata": {},
   "outputs": [
    {
     "output_type": "execute_result",
     "data": {
      "text/plain": [
       "   patient  site  id    treat  age sex obs  twsters\n",
       "0        1     1   1    5000U   65   F   1     32.0\n",
       "1        2     1   2   10000U   70   F   1     60.0\n",
       "2        3     1   3    5000U   64   F   1     44.0\n",
       "3        4     1   4  Placebo   59   F   1     53.0\n",
       "4        5     1   5   10000U   76   F   1     53.0"
      ],
      "text/html": "<div>\n<style scoped>\n    .dataframe tbody tr th:only-of-type {\n        vertical-align: middle;\n    }\n\n    .dataframe tbody tr th {\n        vertical-align: top;\n    }\n\n    .dataframe thead th {\n        text-align: right;\n    }\n</style>\n<table border=\"1\" class=\"dataframe\">\n  <thead>\n    <tr style=\"text-align: right;\">\n      <th></th>\n      <th>patient</th>\n      <th>site</th>\n      <th>id</th>\n      <th>treat</th>\n      <th>age</th>\n      <th>sex</th>\n      <th>obs</th>\n      <th>twsters</th>\n    </tr>\n  </thead>\n  <tbody>\n    <tr>\n      <th>0</th>\n      <td>1</td>\n      <td>1</td>\n      <td>1</td>\n      <td>5000U</td>\n      <td>65</td>\n      <td>F</td>\n      <td>1</td>\n      <td>32.0</td>\n    </tr>\n    <tr>\n      <th>1</th>\n      <td>2</td>\n      <td>1</td>\n      <td>2</td>\n      <td>10000U</td>\n      <td>70</td>\n      <td>F</td>\n      <td>1</td>\n      <td>60.0</td>\n    </tr>\n    <tr>\n      <th>2</th>\n      <td>3</td>\n      <td>1</td>\n      <td>3</td>\n      <td>5000U</td>\n      <td>64</td>\n      <td>F</td>\n      <td>1</td>\n      <td>44.0</td>\n    </tr>\n    <tr>\n      <th>3</th>\n      <td>4</td>\n      <td>1</td>\n      <td>4</td>\n      <td>Placebo</td>\n      <td>59</td>\n      <td>F</td>\n      <td>1</td>\n      <td>53.0</td>\n    </tr>\n    <tr>\n      <th>4</th>\n      <td>5</td>\n      <td>1</td>\n      <td>5</td>\n      <td>10000U</td>\n      <td>76</td>\n      <td>F</td>\n      <td>1</td>\n      <td>53.0</td>\n    </tr>\n  </tbody>\n</table>\n</div>"
     },
     "metadata": {},
     "execution_count": 44
    }
   ],
   "source": [
    "pd.melt(cdystonia_wide, id_vars=['patient','site','id','treat','age','sex'], var_name='obs', value_name='twsters').head()"
   ]
  },
  {
   "cell_type": "markdown",
   "metadata": {},
   "source": [
    "This illustrates the two formats for longitudinal data: **long** and **wide** formats. Its typically better to store data in long format because additional data can be included as additional rows in the database, while wide format requires that the entire database schema be altered by adding columns to every row as data are collected.\n",
    "\n",
    "The preferable format for analysis depends entirely on what is planned for the data, so it is imporant to be able to move easily between them."
   ]
  },
  {
   "cell_type": "markdown",
   "metadata": {},
   "source": [
    "A related method, `pivot_table`, creates a spreadsheet-like table with a hierarchical index, and allows the values of the table to be populated using an arbitrary aggregation function."
   ]
  },
  {
   "cell_type": "code",
   "execution_count": 45,
   "metadata": {},
   "outputs": [
    {
     "output_type": "execute_result",
     "data": {
      "text/plain": [
       "week          0   2   4   8   12  16\n",
       "site treat                          \n",
       "1    10000U   60  41  48  49  65  67\n",
       "     5000U    44  32  34  43  42  46\n",
       "     Placebo  53  61  64  62  32  38\n",
       "2    10000U   65  60  60  64  67  66\n",
       "     5000U    67  64  65  64  62  64\n",
       "     Placebo  53  56  52  57  61  54\n",
       "3    10000U   50  43  51  46  49  56\n",
       "     5000U    52  44  47  50  50  49\n",
       "     Placebo  43  38  40  48  49  44\n",
       "4    10000U   54  52  52  54  51  57"
      ],
      "text/html": "<div>\n<style scoped>\n    .dataframe tbody tr th:only-of-type {\n        vertical-align: middle;\n    }\n\n    .dataframe tbody tr th {\n        vertical-align: top;\n    }\n\n    .dataframe thead th {\n        text-align: right;\n    }\n</style>\n<table border=\"1\" class=\"dataframe\">\n  <thead>\n    <tr style=\"text-align: right;\">\n      <th></th>\n      <th>week</th>\n      <th>0</th>\n      <th>2</th>\n      <th>4</th>\n      <th>8</th>\n      <th>12</th>\n      <th>16</th>\n    </tr>\n    <tr>\n      <th>site</th>\n      <th>treat</th>\n      <th></th>\n      <th></th>\n      <th></th>\n      <th></th>\n      <th></th>\n      <th></th>\n    </tr>\n  </thead>\n  <tbody>\n    <tr>\n      <th rowspan=\"3\" valign=\"top\">1</th>\n      <th>10000U</th>\n      <td>60</td>\n      <td>41</td>\n      <td>48</td>\n      <td>49</td>\n      <td>65</td>\n      <td>67</td>\n    </tr>\n    <tr>\n      <th>5000U</th>\n      <td>44</td>\n      <td>32</td>\n      <td>34</td>\n      <td>43</td>\n      <td>42</td>\n      <td>46</td>\n    </tr>\n    <tr>\n      <th>Placebo</th>\n      <td>53</td>\n      <td>61</td>\n      <td>64</td>\n      <td>62</td>\n      <td>32</td>\n      <td>38</td>\n    </tr>\n    <tr>\n      <th rowspan=\"3\" valign=\"top\">2</th>\n      <th>10000U</th>\n      <td>65</td>\n      <td>60</td>\n      <td>60</td>\n      <td>64</td>\n      <td>67</td>\n      <td>66</td>\n    </tr>\n    <tr>\n      <th>5000U</th>\n      <td>67</td>\n      <td>64</td>\n      <td>65</td>\n      <td>64</td>\n      <td>62</td>\n      <td>64</td>\n    </tr>\n    <tr>\n      <th>Placebo</th>\n      <td>53</td>\n      <td>56</td>\n      <td>52</td>\n      <td>57</td>\n      <td>61</td>\n      <td>54</td>\n    </tr>\n    <tr>\n      <th rowspan=\"3\" valign=\"top\">3</th>\n      <th>10000U</th>\n      <td>50</td>\n      <td>43</td>\n      <td>51</td>\n      <td>46</td>\n      <td>49</td>\n      <td>56</td>\n    </tr>\n    <tr>\n      <th>5000U</th>\n      <td>52</td>\n      <td>44</td>\n      <td>47</td>\n      <td>50</td>\n      <td>50</td>\n      <td>49</td>\n    </tr>\n    <tr>\n      <th>Placebo</th>\n      <td>43</td>\n      <td>38</td>\n      <td>40</td>\n      <td>48</td>\n      <td>49</td>\n      <td>44</td>\n    </tr>\n    <tr>\n      <th>4</th>\n      <th>10000U</th>\n      <td>54</td>\n      <td>52</td>\n      <td>52</td>\n      <td>54</td>\n      <td>51</td>\n      <td>57</td>\n    </tr>\n  </tbody>\n</table>\n</div>"
     },
     "metadata": {},
     "execution_count": 45
    }
   ],
   "source": [
    "cdystonia.pivot_table(index=['site', 'treat'], columns='week', values='twstrs', aggfunc=max).head(10)"
   ]
  },
  {
   "cell_type": "markdown",
   "metadata": {},
   "source": [
    "For a simple cross-tabulation of group frequencies, the `crosstab` function (not a method) aggregates counts of data according to factors in rows and columns. The factors may be hierarchical if desired."
   ]
  },
  {
   "cell_type": "code",
   "execution_count": 46,
   "metadata": {},
   "outputs": [
    {
     "output_type": "execute_result",
     "data": {
      "text/plain": [
       "site   1   2   3   4   5   6   7   8   9\n",
       "sex                                     \n",
       "F     52  53  42  30  22  54  66  48  28\n",
       "M     18  29  30  18  11  33   6  58  33"
      ],
      "text/html": "<div>\n<style scoped>\n    .dataframe tbody tr th:only-of-type {\n        vertical-align: middle;\n    }\n\n    .dataframe tbody tr th {\n        vertical-align: top;\n    }\n\n    .dataframe thead th {\n        text-align: right;\n    }\n</style>\n<table border=\"1\" class=\"dataframe\">\n  <thead>\n    <tr style=\"text-align: right;\">\n      <th>site</th>\n      <th>1</th>\n      <th>2</th>\n      <th>3</th>\n      <th>4</th>\n      <th>5</th>\n      <th>6</th>\n      <th>7</th>\n      <th>8</th>\n      <th>9</th>\n    </tr>\n    <tr>\n      <th>sex</th>\n      <th></th>\n      <th></th>\n      <th></th>\n      <th></th>\n      <th></th>\n      <th></th>\n      <th></th>\n      <th></th>\n      <th></th>\n    </tr>\n  </thead>\n  <tbody>\n    <tr>\n      <th>F</th>\n      <td>52</td>\n      <td>53</td>\n      <td>42</td>\n      <td>30</td>\n      <td>22</td>\n      <td>54</td>\n      <td>66</td>\n      <td>48</td>\n      <td>28</td>\n    </tr>\n    <tr>\n      <th>M</th>\n      <td>18</td>\n      <td>29</td>\n      <td>30</td>\n      <td>18</td>\n      <td>11</td>\n      <td>33</td>\n      <td>6</td>\n      <td>58</td>\n      <td>33</td>\n    </tr>\n  </tbody>\n</table>\n</div>"
     },
     "metadata": {},
     "execution_count": 46
    }
   ],
   "source": [
    "pd.crosstab(cdystonia.sex, cdystonia.site)"
   ]
  },
  {
   "cell_type": "markdown",
   "metadata": {},
   "source": [
    "## Data transformation\n",
    "\n",
    "There are a slew of additional operations for DataFrames that we would collectively refer to as \"transformations\" which include tasks such as removing duplicate values, replacing values, and grouping values."
   ]
  },
  {
   "cell_type": "markdown",
   "metadata": {},
   "source": [
    "### Dealing with duplicates\n",
    "\n",
    "We can easily identify and remove duplicate values from `DataFrame` objects. For example, say we want to removed ships from our `vessels` dataset that have the same name:"
   ]
  },
  {
   "cell_type": "code",
   "execution_count": 47,
   "metadata": {},
   "outputs": [
    {
     "output_type": "execute_result",
     "data": {
      "text/plain": [
       "mmsi\n",
       "1          False\n",
       "9          False\n",
       "21         False\n",
       "74         False\n",
       "103        False\n",
       "310        False\n",
       "3011       False\n",
       "4731       False\n",
       "15151      False\n",
       "46809      False\n",
       "80404      False\n",
       "82003      False\n",
       "298716     False\n",
       "366235     False\n",
       "439541     False\n",
       "453556     False\n",
       "505843     False\n",
       "527918     False\n",
       "565026     False\n",
       "572329     False\n",
       "587370     False\n",
       "641114     False\n",
       "642262     False\n",
       "693559     False\n",
       "883085      True\n",
       "1193046    False\n",
       "1193946    False\n",
       "1233916    False\n",
       "1239468    False\n",
       "3041300    False\n",
       "dtype: bool"
      ]
     },
     "metadata": {},
     "execution_count": 47
    }
   ],
   "source": [
    "vessels.duplicated(subset='names').head(30)"
   ]
  },
  {
   "cell_type": "code",
   "execution_count": 48,
   "metadata": {
    "scrolled": true
   },
   "outputs": [
    {
     "output_type": "execute_result",
     "data": {
      "text/plain": [
       "      num_names                                              names sov  \\\n",
       "mmsi                                                                     \n",
       "1             8  Bil Holman Dredge/Dredge Capt Frank/Emo/Offsho...   Y   \n",
       "9             3                         000000009/Raven/Shearwater   N   \n",
       "21            1                                      Us Gov Vessel   Y   \n",
       "74            2                                  Mcfaul/Sarah Bell   N   \n",
       "103           3           Ron G/Us Navy Warship 103/Us Warship 103   Y   \n",
       "\n",
       "         flag flag_type  num_loas                                    loa  \\\n",
       "mmsi                                                                       \n",
       "1     Unknown   Unknown         7  42.0/48.0/57.0/90.0/138.0/154.0/156.0   \n",
       "9     Unknown   Unknown         2                              50.0/62.0   \n",
       "21    Unknown   Unknown         1                                  208.0   \n",
       "74    Unknown   Unknown         1                                  155.0   \n",
       "103   Unknown   Unknown         2                             26.0/155.0   \n",
       "\n",
       "      max_loa  num_types                             type  \n",
       "mmsi                                                       \n",
       "1       156.0          4  Dredging/MilOps/Reserved/Towing  \n",
       "9        62.0          2                     Pleasure/Tug  \n",
       "21      208.0          1                          Unknown  \n",
       "74      155.0          1                          Unknown  \n",
       "103     155.0          2                   Tanker/Unknown  "
      ],
      "text/html": "<div>\n<style scoped>\n    .dataframe tbody tr th:only-of-type {\n        vertical-align: middle;\n    }\n\n    .dataframe tbody tr th {\n        vertical-align: top;\n    }\n\n    .dataframe thead th {\n        text-align: right;\n    }\n</style>\n<table border=\"1\" class=\"dataframe\">\n  <thead>\n    <tr style=\"text-align: right;\">\n      <th></th>\n      <th>num_names</th>\n      <th>names</th>\n      <th>sov</th>\n      <th>flag</th>\n      <th>flag_type</th>\n      <th>num_loas</th>\n      <th>loa</th>\n      <th>max_loa</th>\n      <th>num_types</th>\n      <th>type</th>\n    </tr>\n    <tr>\n      <th>mmsi</th>\n      <th></th>\n      <th></th>\n      <th></th>\n      <th></th>\n      <th></th>\n      <th></th>\n      <th></th>\n      <th></th>\n      <th></th>\n      <th></th>\n    </tr>\n  </thead>\n  <tbody>\n    <tr>\n      <th>1</th>\n      <td>8</td>\n      <td>Bil Holman Dredge/Dredge Capt Frank/Emo/Offsho...</td>\n      <td>Y</td>\n      <td>Unknown</td>\n      <td>Unknown</td>\n      <td>7</td>\n      <td>42.0/48.0/57.0/90.0/138.0/154.0/156.0</td>\n      <td>156.0</td>\n      <td>4</td>\n      <td>Dredging/MilOps/Reserved/Towing</td>\n    </tr>\n    <tr>\n      <th>9</th>\n      <td>3</td>\n      <td>000000009/Raven/Shearwater</td>\n      <td>N</td>\n      <td>Unknown</td>\n      <td>Unknown</td>\n      <td>2</td>\n      <td>50.0/62.0</td>\n      <td>62.0</td>\n      <td>2</td>\n      <td>Pleasure/Tug</td>\n    </tr>\n    <tr>\n      <th>21</th>\n      <td>1</td>\n      <td>Us Gov Vessel</td>\n      <td>Y</td>\n      <td>Unknown</td>\n      <td>Unknown</td>\n      <td>1</td>\n      <td>208.0</td>\n      <td>208.0</td>\n      <td>1</td>\n      <td>Unknown</td>\n    </tr>\n    <tr>\n      <th>74</th>\n      <td>2</td>\n      <td>Mcfaul/Sarah Bell</td>\n      <td>N</td>\n      <td>Unknown</td>\n      <td>Unknown</td>\n      <td>1</td>\n      <td>155.0</td>\n      <td>155.0</td>\n      <td>1</td>\n      <td>Unknown</td>\n    </tr>\n    <tr>\n      <th>103</th>\n      <td>3</td>\n      <td>Ron G/Us Navy Warship 103/Us Warship 103</td>\n      <td>Y</td>\n      <td>Unknown</td>\n      <td>Unknown</td>\n      <td>2</td>\n      <td>26.0/155.0</td>\n      <td>155.0</td>\n      <td>2</td>\n      <td>Tanker/Unknown</td>\n    </tr>\n  </tbody>\n</table>\n</div>"
     },
     "metadata": {},
     "execution_count": 48
    }
   ],
   "source": [
    "vessels.drop_duplicates(['names']).head()"
   ]
  },
  {
   "cell_type": "markdown",
   "metadata": {},
   "source": [
    "### Value replacement\n",
    "\n",
    "Frequently, we get data columns that are encoded as strings that we wish to represent numerically for the purposes of including it in a quantitative analysis. For example, consider the treatment variable in the cervical dystonia dataset:"
   ]
  },
  {
   "cell_type": "code",
   "execution_count": 49,
   "metadata": {},
   "outputs": [
    {
     "output_type": "execute_result",
     "data": {
      "text/plain": [
       "10000U     213\n",
       "5000U      211\n",
       "Placebo    207\n",
       "Name: treat, dtype: int64"
      ]
     },
     "metadata": {},
     "execution_count": 49
    }
   ],
   "source": [
    "cdystonia.treat.value_counts()"
   ]
  },
  {
   "cell_type": "markdown",
   "metadata": {},
   "source": [
    "A logical way to specify these numerically is to change them to integer values, perhaps using \"Placebo\" as a baseline value. If we create a dict with the original values as keys and the replacements as values, we can pass it to the `map` method to implement the changes."
   ]
  },
  {
   "cell_type": "code",
   "execution_count": 50,
   "metadata": {},
   "outputs": [
    {
     "output_type": "execute_result",
     "data": {
      "text/plain": [
       "0    1\n",
       "1    1\n",
       "2    1\n",
       "3    1\n",
       "4    1\n",
       "5    1\n",
       "6    2\n",
       "7    2\n",
       "8    2\n",
       "9    2\n",
       "Name: treatment, dtype: int64"
      ]
     },
     "metadata": {},
     "execution_count": 50
    }
   ],
   "source": [
    "cdystonia['treatment'] = cdystonia.treat.map({'Placebo': 0, '5000U': 1, '10000U': 2})\n",
    "cdystonia.treatment.head(10)"
   ]
  },
  {
   "cell_type": "markdown",
   "metadata": {},
   "source": [
    "We can also perform the same replacement that we used `map` for with `replace`:"
   ]
  },
  {
   "cell_type": "code",
   "execution_count": 51,
   "metadata": {},
   "outputs": [
    {
     "output_type": "execute_result",
     "data": {
      "text/plain": [
       "0     5000U\n",
       "1     5000U\n",
       "2     5000U\n",
       "3     5000U\n",
       "4     5000U\n",
       "5     5000U\n",
       "6    10000U\n",
       "7    10000U\n",
       "8    10000U\n",
       "9    10000U\n",
       "Name: treat, dtype: object"
      ]
     },
     "metadata": {},
     "execution_count": 51
    }
   ],
   "source": [
    "cdystonia.treat.replace({0:'Placebo', 1:'5000U', 2:'10000U'}).head(10)"
   ]
  },
  {
   "cell_type": "markdown",
   "metadata": {},
   "source": [
    "### Inidcator variables\n",
    "\n",
    "For some statistical analyses (*e.g.* regression models or analyses of variance), categorical or group variables need to be converted into columns of indicators--zeros and ones--to create a so-called **design matrix**. The Pandas function `get_dummies` (indicator variables are also known as *dummy variables*) makes this transformation straightforward."
   ]
  },
  {
   "cell_type": "code",
   "execution_count": 52,
   "metadata": {},
   "outputs": [
    {
     "output_type": "execute_result",
     "data": {
      "text/plain": [
       "       Dredging/MilOps/Reserved/Towing  Other  Pleasure/Tug  Tanker/Unknown  \\\n",
       "mmsi                                                                          \n",
       "1                                    1      0             0               0   \n",
       "9                                    0      0             1               0   \n",
       "21                                   0      0             0               0   \n",
       "74                                   0      0             0               0   \n",
       "103                                  0      0             0               1   \n",
       "310                                  0      0             0               0   \n",
       "3011                                 0      1             0               0   \n",
       "4731                                 0      0             0               0   \n",
       "15151                                0      0             0               0   \n",
       "46809                                0      0             0               0   \n",
       "\n",
       "       Towing  Tug  Unknown  \n",
       "mmsi                         \n",
       "1           0    0        0  \n",
       "9           0    0        0  \n",
       "21          0    0        1  \n",
       "74          0    0        1  \n",
       "103         0    0        0  \n",
       "310         0    0        1  \n",
       "3011        0    0        0  \n",
       "4731        0    0        1  \n",
       "15151       0    1        0  \n",
       "46809       1    0        0  "
      ],
      "text/html": "<div>\n<style scoped>\n    .dataframe tbody tr th:only-of-type {\n        vertical-align: middle;\n    }\n\n    .dataframe tbody tr th {\n        vertical-align: top;\n    }\n\n    .dataframe thead th {\n        text-align: right;\n    }\n</style>\n<table border=\"1\" class=\"dataframe\">\n  <thead>\n    <tr style=\"text-align: right;\">\n      <th></th>\n      <th>Dredging/MilOps/Reserved/Towing</th>\n      <th>Other</th>\n      <th>Pleasure/Tug</th>\n      <th>Tanker/Unknown</th>\n      <th>Towing</th>\n      <th>Tug</th>\n      <th>Unknown</th>\n    </tr>\n    <tr>\n      <th>mmsi</th>\n      <th></th>\n      <th></th>\n      <th></th>\n      <th></th>\n      <th></th>\n      <th></th>\n      <th></th>\n    </tr>\n  </thead>\n  <tbody>\n    <tr>\n      <th>1</th>\n      <td>1</td>\n      <td>0</td>\n      <td>0</td>\n      <td>0</td>\n      <td>0</td>\n      <td>0</td>\n      <td>0</td>\n    </tr>\n    <tr>\n      <th>9</th>\n      <td>0</td>\n      <td>0</td>\n      <td>1</td>\n      <td>0</td>\n      <td>0</td>\n      <td>0</td>\n      <td>0</td>\n    </tr>\n    <tr>\n      <th>21</th>\n      <td>0</td>\n      <td>0</td>\n      <td>0</td>\n      <td>0</td>\n      <td>0</td>\n      <td>0</td>\n      <td>1</td>\n    </tr>\n    <tr>\n      <th>74</th>\n      <td>0</td>\n      <td>0</td>\n      <td>0</td>\n      <td>0</td>\n      <td>0</td>\n      <td>0</td>\n      <td>1</td>\n    </tr>\n    <tr>\n      <th>103</th>\n      <td>0</td>\n      <td>0</td>\n      <td>0</td>\n      <td>1</td>\n      <td>0</td>\n      <td>0</td>\n      <td>0</td>\n    </tr>\n    <tr>\n      <th>310</th>\n      <td>0</td>\n      <td>0</td>\n      <td>0</td>\n      <td>0</td>\n      <td>0</td>\n      <td>0</td>\n      <td>1</td>\n    </tr>\n    <tr>\n      <th>3011</th>\n      <td>0</td>\n      <td>1</td>\n      <td>0</td>\n      <td>0</td>\n      <td>0</td>\n      <td>0</td>\n      <td>0</td>\n    </tr>\n    <tr>\n      <th>4731</th>\n      <td>0</td>\n      <td>0</td>\n      <td>0</td>\n      <td>0</td>\n      <td>0</td>\n      <td>0</td>\n      <td>1</td>\n    </tr>\n    <tr>\n      <th>15151</th>\n      <td>0</td>\n      <td>0</td>\n      <td>0</td>\n      <td>0</td>\n      <td>0</td>\n      <td>1</td>\n      <td>0</td>\n    </tr>\n    <tr>\n      <th>46809</th>\n      <td>0</td>\n      <td>0</td>\n      <td>0</td>\n      <td>0</td>\n      <td>1</td>\n      <td>0</td>\n      <td>0</td>\n    </tr>\n  </tbody>\n</table>\n</div>"
     },
     "metadata": {},
     "execution_count": 52
    }
   ],
   "source": [
    "pd.get_dummies(vessels.head(10).type)"
   ]
  },
  {
   "cell_type": "markdown",
   "metadata": {},
   "source": [
    "## Categorical Data\n",
    "\n",
    "Pandas provides a convenient `dtype` for reprsenting categorical (factor) data, called `category`. \n",
    "\n",
    "For example, the `treat` column in the cervical dystonia dataset represents three treatment levels in a clinical trial, and is imported by default as an `object` type, since it is a mixture of string characters."
   ]
  },
  {
   "cell_type": "code",
   "execution_count": 53,
   "metadata": {},
   "outputs": [
    {
     "output_type": "execute_result",
     "data": {
      "text/plain": [
       "0    5000U\n",
       "1    5000U\n",
       "2    5000U\n",
       "3    5000U\n",
       "4    5000U\n",
       "Name: treat, dtype: object"
      ]
     },
     "metadata": {},
     "execution_count": 53
    }
   ],
   "source": [
    "cdystonia.treat.head()"
   ]
  },
  {
   "cell_type": "markdown",
   "metadata": {},
   "source": [
    "We can convert this to a `category` type either by the `Categorical` constructor, or casting the column using `astype`:"
   ]
  },
  {
   "cell_type": "code",
   "execution_count": 54,
   "metadata": {},
   "outputs": [
    {
     "output_type": "execute_result",
     "data": {
      "text/plain": [
       "['5000U', '5000U', '5000U', '5000U', '5000U', ..., '5000U', '5000U', '5000U', '5000U', '5000U']\n",
       "Length: 631\n",
       "Categories (3, object): ['10000U', '5000U', 'Placebo']"
      ]
     },
     "metadata": {},
     "execution_count": 54
    }
   ],
   "source": [
    "pd.Categorical(cdystonia.treat)"
   ]
  },
  {
   "cell_type": "code",
   "execution_count": 55,
   "metadata": {},
   "outputs": [],
   "source": [
    "cdystonia['treat'] = cdystonia.treat.astype('category')"
   ]
  },
  {
   "cell_type": "code",
   "execution_count": 56,
   "metadata": {},
   "outputs": [
    {
     "output_type": "execute_result",
     "data": {
      "text/plain": [
       "count        631\n",
       "unique         3\n",
       "top       10000U\n",
       "freq         213\n",
       "Name: treat, dtype: object"
      ]
     },
     "metadata": {},
     "execution_count": 56
    }
   ],
   "source": [
    "cdystonia.treat.describe()"
   ]
  },
  {
   "cell_type": "markdown",
   "metadata": {},
   "source": [
    "The important difference between the `category` type and the `object` type is that `category` is represented by an <b>underlying array of integers</b>, which is then mapped to character labels."
   ]
  },
  {
   "cell_type": "code",
   "execution_count": 57,
   "metadata": {},
   "outputs": [
    {
     "output_type": "execute_result",
     "data": {
      "text/plain": [
       "0     1\n",
       "1     1\n",
       "2     1\n",
       "3     1\n",
       "4     1\n",
       "5     1\n",
       "6     0\n",
       "7     0\n",
       "8     0\n",
       "9     0\n",
       "10    0\n",
       "11    0\n",
       "12    1\n",
       "13    1\n",
       "14    1\n",
       "15    1\n",
       "16    1\n",
       "17    1\n",
       "18    2\n",
       "19    2\n",
       "dtype: int8"
      ]
     },
     "metadata": {},
     "execution_count": 57
    }
   ],
   "source": [
    "cdystonia.treat.cat.codes.head(20)"
   ]
  },
  {
   "cell_type": "markdown",
   "metadata": {},
   "source": [
    "Notice that these are 8-bit integers, which are essentially single bytes of data, making memory usage lower.\n",
    "\n",
    "There is also a performance benefit. Consider an operation such as calculating the total segment lengths for each ship in the `segments` table (this is also a preview of pandas' `groupby` operation!):"
   ]
  },
  {
   "cell_type": "code",
   "execution_count": 58,
   "metadata": {},
   "outputs": [
    {
     "output_type": "stream",
     "name": "stdout",
     "text": [
      "Wall time: 12 ms\n"
     ]
    },
    {
     "output_type": "execute_result",
     "data": {
      "text/plain": [
       "name\n",
       "Nauticast           19190.5\n",
       "Asphalt Seminole     6528.1\n",
       "Majestic             2997.9\n",
       "Neva Belle           2737.9\n",
       "Zaandam              2296.7\n",
       "Name: seg_length, dtype: float64"
      ]
     },
     "metadata": {},
     "execution_count": 58
    }
   ],
   "source": [
    "%time segments.groupby(segments.name).seg_length.sum().sort_values(ascending=False, inplace=False).head()"
   ]
  },
  {
   "cell_type": "code",
   "execution_count": 59,
   "metadata": {},
   "outputs": [],
   "source": [
    "segments['name'] = segments.name.astype('category')"
   ]
  },
  {
   "cell_type": "code",
   "execution_count": 60,
   "metadata": {},
   "outputs": [
    {
     "output_type": "stream",
     "name": "stdout",
     "text": [
      "Wall time: 8.98 ms\n"
     ]
    },
    {
     "output_type": "execute_result",
     "data": {
      "text/plain": [
       "name\n",
       "Nauticast           19190.5\n",
       "Asphalt Seminole     6528.1\n",
       "Majestic             2997.9\n",
       "Neva Belle           2737.9\n",
       "Zaandam              2296.7\n",
       "Name: seg_length, dtype: float64"
      ]
     },
     "metadata": {},
     "execution_count": 60
    }
   ],
   "source": [
    "%time segments.groupby(segments.name).seg_length.sum().sort_values(ascending=False, inplace=False).head()"
   ]
  },
  {
   "cell_type": "markdown",
   "metadata": {},
   "source": [
    "Hence, we get a considerable speedup simply by using the appropriate `dtype` for our data."
   ]
  },
  {
   "cell_type": "markdown",
   "metadata": {},
   "source": [
    "### Discretization\n",
    "\n",
    "Pandas' `cut` function can be used to group continuous or countable data in to bins. Discretization is generally a very **bad idea** for statistical analysis, so use this function responsibly!\n",
    "\n",
    "Lets say we want to bin the ages of the cervical dystonia patients into a smaller number of groups:"
   ]
  },
  {
   "cell_type": "code",
   "execution_count": 61,
   "metadata": {},
   "outputs": [
    {
     "output_type": "execute_result",
     "data": {
      "text/plain": [
       "count    631.000000\n",
       "mean      55.616482\n",
       "std       12.123910\n",
       "min       26.000000\n",
       "25%       46.000000\n",
       "50%       56.000000\n",
       "75%       65.000000\n",
       "max       83.000000\n",
       "Name: age, dtype: float64"
      ]
     },
     "metadata": {},
     "execution_count": 61
    }
   ],
   "source": [
    "cdystonia.age.describe()"
   ]
  },
  {
   "cell_type": "markdown",
   "metadata": {},
   "source": [
    "Let's transform these data into decades, beginnnig with individuals in their 20's and ending with those in their 80's:"
   ]
  },
  {
   "cell_type": "code",
   "execution_count": 62,
   "metadata": {},
   "outputs": [
    {
     "output_type": "execute_result",
     "data": {
      "text/plain": [
       "0     (60, 70]\n",
       "1     (60, 70]\n",
       "2     (60, 70]\n",
       "3     (60, 70]\n",
       "4     (60, 70]\n",
       "5     (60, 70]\n",
       "6     (60, 70]\n",
       "7     (60, 70]\n",
       "8     (60, 70]\n",
       "9     (60, 70]\n",
       "10    (60, 70]\n",
       "11    (60, 70]\n",
       "12    (60, 70]\n",
       "13    (60, 70]\n",
       "14    (60, 70]\n",
       "15    (60, 70]\n",
       "16    (60, 70]\n",
       "17    (60, 70]\n",
       "18    (50, 60]\n",
       "19    (50, 60]\n",
       "Name: age, dtype: category\n",
       "Categories (7, interval[int64]): [(20, 30] < (30, 40] < (40, 50] < (50, 60] < (60, 70] < (70, 80] < (80, 90]]"
      ]
     },
     "metadata": {},
     "execution_count": 62
    }
   ],
   "source": [
    "pd.cut(cdystonia.age, [20,30,40,50,60,70,80,90])[:20]"
   ]
  },
  {
   "cell_type": "markdown",
   "metadata": {},
   "source": [
    "The parentheses indicate an open interval, meaning that the interval includes values up to but *not including* the endpoint, whereas the square bracket is a closed interval, where the endpoint is included in the interval. We can switch the closure to the left side by setting the `right` flag to `False`:"
   ]
  },
  {
   "cell_type": "code",
   "execution_count": 63,
   "metadata": {},
   "outputs": [
    {
     "output_type": "execute_result",
     "data": {
      "text/plain": [
       "0     [60, 70)\n",
       "1     [60, 70)\n",
       "2     [60, 70)\n",
       "3     [60, 70)\n",
       "4     [60, 70)\n",
       "5     [60, 70)\n",
       "6     [70, 80)\n",
       "7     [70, 80)\n",
       "8     [70, 80)\n",
       "9     [70, 80)\n",
       "10    [70, 80)\n",
       "11    [70, 80)\n",
       "12    [60, 70)\n",
       "13    [60, 70)\n",
       "14    [60, 70)\n",
       "15    [60, 70)\n",
       "16    [60, 70)\n",
       "17    [60, 70)\n",
       "18    [50, 60)\n",
       "19    [50, 60)\n",
       "Name: age, dtype: category\n",
       "Categories (7, interval[int64]): [[20, 30) < [30, 40) < [40, 50) < [50, 60) < [60, 70) < [70, 80) < [80, 90)]"
      ]
     },
     "metadata": {},
     "execution_count": 63
    }
   ],
   "source": [
    "pd.cut(cdystonia.age, [20,30,40,50,60,70,80,90], right=False)[:20]"
   ]
  },
  {
   "cell_type": "markdown",
   "metadata": {},
   "source": [
    "Since the data are now **ordinal**, rather than numeric, we can give them labels:"
   ]
  },
  {
   "cell_type": "code",
   "execution_count": 64,
   "metadata": {},
   "outputs": [
    {
     "output_type": "execute_result",
     "data": {
      "text/plain": [
       "0             old\n",
       "1             old\n",
       "2             old\n",
       "3             old\n",
       "4             old\n",
       "5             old\n",
       "6             old\n",
       "7             old\n",
       "8             old\n",
       "9             old\n",
       "10            old\n",
       "11            old\n",
       "12            old\n",
       "13            old\n",
       "14            old\n",
       "15            old\n",
       "16            old\n",
       "17            old\n",
       "18    middle-aged\n",
       "19    middle-aged\n",
       "Name: age, dtype: category\n",
       "Categories (4, object): ['young' < 'middle-aged' < 'old' < 'really old']"
      ]
     },
     "metadata": {},
     "execution_count": 64
    }
   ],
   "source": [
    "pd.cut(cdystonia.age, [20,40,60,80,90], labels=['young','middle-aged','old','really old'])[:20]"
   ]
  },
  {
   "cell_type": "markdown",
   "metadata": {},
   "source": [
    "A related function `qcut` uses empirical quantiles to divide the data. If, for example, we want the quartiles -- (0-25%], (25-50%], (50-70%], (75-100%] -- we can just specify 4 intervals, which will be equally-spaced by default:"
   ]
  },
  {
   "cell_type": "code",
   "execution_count": 65,
   "metadata": {},
   "outputs": [
    {
     "output_type": "execute_result",
     "data": {
      "text/plain": [
       "0     (56.0, 65.0]\n",
       "1     (56.0, 65.0]\n",
       "2     (56.0, 65.0]\n",
       "3     (56.0, 65.0]\n",
       "4     (56.0, 65.0]\n",
       "5     (56.0, 65.0]\n",
       "6     (65.0, 83.0]\n",
       "7     (65.0, 83.0]\n",
       "8     (65.0, 83.0]\n",
       "9     (65.0, 83.0]\n",
       "10    (65.0, 83.0]\n",
       "11    (65.0, 83.0]\n",
       "12    (56.0, 65.0]\n",
       "13    (56.0, 65.0]\n",
       "14    (56.0, 65.0]\n",
       "15    (56.0, 65.0]\n",
       "16    (56.0, 65.0]\n",
       "17    (56.0, 65.0]\n",
       "18    (56.0, 65.0]\n",
       "19    (56.0, 65.0]\n",
       "Name: age, dtype: category\n",
       "Categories (4, interval[float64]): [(25.999, 46.0] < (46.0, 56.0] < (56.0, 65.0] < (65.0, 83.0]]"
      ]
     },
     "metadata": {},
     "execution_count": 65
    }
   ],
   "source": [
    "pd.qcut(cdystonia.age, 4)[:20]"
   ]
  },
  {
   "cell_type": "markdown",
   "metadata": {},
   "source": [
    "Alternatively, one can specify custom quantiles to act as cut points:"
   ]
  },
  {
   "cell_type": "code",
   "execution_count": 66,
   "metadata": {},
   "outputs": [
    {
     "output_type": "execute_result",
     "data": {
      "text/plain": [
       "0     (1.7, 455.8]\n",
       "1     (1.7, 455.8]\n",
       "2     (1.7, 455.8]\n",
       "3     (1.7, 455.8]\n",
       "4     (1.7, 455.8]\n",
       "5     (1.7, 455.8]\n",
       "6     (1.7, 455.8]\n",
       "7     (1.7, 455.8]\n",
       "8     (1.7, 455.8]\n",
       "9     (1.7, 455.8]\n",
       "10    (1.7, 455.8]\n",
       "11    (1.7, 455.8]\n",
       "12    (1.7, 455.8]\n",
       "13    (1.7, 455.8]\n",
       "14    (1.7, 455.8]\n",
       "15    (1.7, 455.8]\n",
       "16    (1.7, 455.8]\n",
       "17    (1.7, 455.8]\n",
       "18    (1.7, 455.8]\n",
       "19    (1.7, 455.8]\n",
       "Name: seg_length, dtype: category\n",
       "Categories (5, interval[float64]): [(0.999, 1.1] < (1.1, 1.7] < (1.7, 455.8] < (455.8, 456.801] < (456.801, 701.6]]"
      ]
     },
     "metadata": {},
     "execution_count": 66
    }
   ],
   "source": [
    "quantiles = pd.qcut(segments.seg_length, [0, 0.01, 0.05, 0.95, 0.99, 1])\n",
    "quantiles[:20]"
   ]
  },
  {
   "cell_type": "markdown",
   "metadata": {},
   "source": [
    "### Permutation and sampling\n",
    "\n",
    "For some data analysis tasks, such as simulation, we need to be able to randomly reorder our data, or draw random values from it. Calling NumPy's `permutation` function with the length of the sequence you want to permute generates an array with a permuted sequence of integers, which can be used to re-order the sequence."
   ]
  },
  {
   "cell_type": "code",
   "execution_count": 67,
   "metadata": {},
   "outputs": [
    {
     "output_type": "execute_result",
     "data": {
      "text/plain": [
       "array([203, 980, 450, 577, 790, 287, 636, 978, 407, 773, 904,  50, 579,\n",
       "       651,  49,  43, 396, 683, 437, 560,  48, 930, 559, 693, 923, 550,\n",
       "       907, 876, 392, 766])"
      ]
     },
     "metadata": {},
     "execution_count": 67
    }
   ],
   "source": [
    "new_order = np.random.permutation(len(segments))\n",
    "new_order[:30]"
   ]
  },
  {
   "cell_type": "markdown",
   "metadata": {},
   "source": [
    "Using this sequence as an argument to the `take` method results in a reordered DataFrame:"
   ]
  },
  {
   "cell_type": "code",
   "execution_count": 68,
   "metadata": {},
   "outputs": [
    {
     "output_type": "execute_result",
     "data": {
      "text/plain": [
       "        mmsi                  name  transit  segment  seg_length  avg_sog  \\\n",
       "203   439541  Canadian Warship 711        9        1        60.3      4.1   \n",
       "980  1193046              Majestic      109        1        13.7     19.7   \n",
       "450   642262           Usns Hunter       18        1        30.1      9.9   \n",
       "577  1193046              Mr Devin        1        1        25.4      4.8   \n",
       "790  1193046      Belua Foundation        4       17       455.8      0.1   \n",
       "\n",
       "     min_sog  max_sog  pdgt10             st_time            end_time type  \n",
       "203      0.0     12.2    52.3 2012-01-29 13:18:00 2012-01-30 14:37:00  foo  \n",
       "980     16.9     21.2   100.0 2009-09-21 15:18:00 2009-09-21 16:00:00  foo  \n",
       "450      9.0     10.7    38.2 2009-01-20 19:27:00 2009-01-22 05:50:00  foo  \n",
       "577      2.7      6.6     0.0 2008-12-15 11:40:00 2008-12-15 16:43:00  foo  \n",
       "790      0.0      0.1     0.0 2009-04-17 07:27:00 2009-04-17 08:21:00  foo  "
      ],
      "text/html": "<div>\n<style scoped>\n    .dataframe tbody tr th:only-of-type {\n        vertical-align: middle;\n    }\n\n    .dataframe tbody tr th {\n        vertical-align: top;\n    }\n\n    .dataframe thead th {\n        text-align: right;\n    }\n</style>\n<table border=\"1\" class=\"dataframe\">\n  <thead>\n    <tr style=\"text-align: right;\">\n      <th></th>\n      <th>mmsi</th>\n      <th>name</th>\n      <th>transit</th>\n      <th>segment</th>\n      <th>seg_length</th>\n      <th>avg_sog</th>\n      <th>min_sog</th>\n      <th>max_sog</th>\n      <th>pdgt10</th>\n      <th>st_time</th>\n      <th>end_time</th>\n      <th>type</th>\n    </tr>\n  </thead>\n  <tbody>\n    <tr>\n      <th>203</th>\n      <td>439541</td>\n      <td>Canadian Warship 711</td>\n      <td>9</td>\n      <td>1</td>\n      <td>60.3</td>\n      <td>4.1</td>\n      <td>0.0</td>\n      <td>12.2</td>\n      <td>52.3</td>\n      <td>2012-01-29 13:18:00</td>\n      <td>2012-01-30 14:37:00</td>\n      <td>foo</td>\n    </tr>\n    <tr>\n      <th>980</th>\n      <td>1193046</td>\n      <td>Majestic</td>\n      <td>109</td>\n      <td>1</td>\n      <td>13.7</td>\n      <td>19.7</td>\n      <td>16.9</td>\n      <td>21.2</td>\n      <td>100.0</td>\n      <td>2009-09-21 15:18:00</td>\n      <td>2009-09-21 16:00:00</td>\n      <td>foo</td>\n    </tr>\n    <tr>\n      <th>450</th>\n      <td>642262</td>\n      <td>Usns Hunter</td>\n      <td>18</td>\n      <td>1</td>\n      <td>30.1</td>\n      <td>9.9</td>\n      <td>9.0</td>\n      <td>10.7</td>\n      <td>38.2</td>\n      <td>2009-01-20 19:27:00</td>\n      <td>2009-01-22 05:50:00</td>\n      <td>foo</td>\n    </tr>\n    <tr>\n      <th>577</th>\n      <td>1193046</td>\n      <td>Mr Devin</td>\n      <td>1</td>\n      <td>1</td>\n      <td>25.4</td>\n      <td>4.8</td>\n      <td>2.7</td>\n      <td>6.6</td>\n      <td>0.0</td>\n      <td>2008-12-15 11:40:00</td>\n      <td>2008-12-15 16:43:00</td>\n      <td>foo</td>\n    </tr>\n    <tr>\n      <th>790</th>\n      <td>1193046</td>\n      <td>Belua Foundation</td>\n      <td>4</td>\n      <td>17</td>\n      <td>455.8</td>\n      <td>0.1</td>\n      <td>0.0</td>\n      <td>0.1</td>\n      <td>0.0</td>\n      <td>2009-04-17 07:27:00</td>\n      <td>2009-04-17 08:21:00</td>\n      <td>foo</td>\n    </tr>\n  </tbody>\n</table>\n</div>"
     },
     "metadata": {},
     "execution_count": 68
    }
   ],
   "source": [
    "segments.take(new_order).head()"
   ]
  },
  {
   "cell_type": "markdown",
   "metadata": {},
   "source": [
    "Compare this ordering with the original:"
   ]
  },
  {
   "cell_type": "code",
   "execution_count": 69,
   "metadata": {},
   "outputs": [
    {
     "output_type": "execute_result",
     "data": {
      "text/plain": [
       "   mmsi               name  transit  segment  seg_length  avg_sog  min_sog  \\\n",
       "0     1        Us Govt Ves        1        1         5.1     13.2      9.2   \n",
       "1     1  Dredge Capt Frank        1        1        13.5     18.6     10.4   \n",
       "2     1      Us Gov Vessel        1        1         4.3     16.2     10.3   \n",
       "3     1      Us Gov Vessel        2        1         9.2     15.4     14.5   \n",
       "4     1  Dredge Capt Frank        2        1         9.2     15.4     14.6   \n",
       "\n",
       "   max_sog  pdgt10             st_time            end_time type  \n",
       "0     14.5    96.5 2009-02-10 16:03:00 2009-02-10 16:27:00  foo  \n",
       "1     20.6   100.0 2009-04-06 14:31:00 2009-04-06 15:20:00  foo  \n",
       "2     20.5   100.0 2009-04-06 14:36:00 2009-04-06 14:55:00  foo  \n",
       "3     16.1   100.0 2009-04-10 17:58:00 2009-04-10 18:34:00  foo  \n",
       "4     16.2   100.0 2009-04-10 17:59:00 2009-04-10 18:35:00  foo  "
      ],
      "text/html": "<div>\n<style scoped>\n    .dataframe tbody tr th:only-of-type {\n        vertical-align: middle;\n    }\n\n    .dataframe tbody tr th {\n        vertical-align: top;\n    }\n\n    .dataframe thead th {\n        text-align: right;\n    }\n</style>\n<table border=\"1\" class=\"dataframe\">\n  <thead>\n    <tr style=\"text-align: right;\">\n      <th></th>\n      <th>mmsi</th>\n      <th>name</th>\n      <th>transit</th>\n      <th>segment</th>\n      <th>seg_length</th>\n      <th>avg_sog</th>\n      <th>min_sog</th>\n      <th>max_sog</th>\n      <th>pdgt10</th>\n      <th>st_time</th>\n      <th>end_time</th>\n      <th>type</th>\n    </tr>\n  </thead>\n  <tbody>\n    <tr>\n      <th>0</th>\n      <td>1</td>\n      <td>Us Govt Ves</td>\n      <td>1</td>\n      <td>1</td>\n      <td>5.1</td>\n      <td>13.2</td>\n      <td>9.2</td>\n      <td>14.5</td>\n      <td>96.5</td>\n      <td>2009-02-10 16:03:00</td>\n      <td>2009-02-10 16:27:00</td>\n      <td>foo</td>\n    </tr>\n    <tr>\n      <th>1</th>\n      <td>1</td>\n      <td>Dredge Capt Frank</td>\n      <td>1</td>\n      <td>1</td>\n      <td>13.5</td>\n      <td>18.6</td>\n      <td>10.4</td>\n      <td>20.6</td>\n      <td>100.0</td>\n      <td>2009-04-06 14:31:00</td>\n      <td>2009-04-06 15:20:00</td>\n      <td>foo</td>\n    </tr>\n    <tr>\n      <th>2</th>\n      <td>1</td>\n      <td>Us Gov Vessel</td>\n      <td>1</td>\n      <td>1</td>\n      <td>4.3</td>\n      <td>16.2</td>\n      <td>10.3</td>\n      <td>20.5</td>\n      <td>100.0</td>\n      <td>2009-04-06 14:36:00</td>\n      <td>2009-04-06 14:55:00</td>\n      <td>foo</td>\n    </tr>\n    <tr>\n      <th>3</th>\n      <td>1</td>\n      <td>Us Gov Vessel</td>\n      <td>2</td>\n      <td>1</td>\n      <td>9.2</td>\n      <td>15.4</td>\n      <td>14.5</td>\n      <td>16.1</td>\n      <td>100.0</td>\n      <td>2009-04-10 17:58:00</td>\n      <td>2009-04-10 18:34:00</td>\n      <td>foo</td>\n    </tr>\n    <tr>\n      <th>4</th>\n      <td>1</td>\n      <td>Dredge Capt Frank</td>\n      <td>2</td>\n      <td>1</td>\n      <td>9.2</td>\n      <td>15.4</td>\n      <td>14.6</td>\n      <td>16.2</td>\n      <td>100.0</td>\n      <td>2009-04-10 17:59:00</td>\n      <td>2009-04-10 18:35:00</td>\n      <td>foo</td>\n    </tr>\n  </tbody>\n</table>\n</div>"
     },
     "metadata": {},
     "execution_count": 69
    }
   ],
   "source": [
    "segments.head()"
   ]
  },
  {
   "cell_type": "markdown",
   "metadata": {},
   "source": [
    "For random sampling, `DataFrame` and `Series` objects have a `sample` method that can be used to draw samples, with or without replacement:"
   ]
  },
  {
   "cell_type": "code",
   "execution_count": 70,
   "metadata": {},
   "outputs": [
    {
     "output_type": "execute_result",
     "data": {
      "text/plain": [
       "           num_names                       names sov  \\\n",
       "mmsi                                                   \n",
       "250002133          1               Arklow Meadow   N   \n",
       "372605000          1            Chembulk Tortola   N   \n",
       "477049500          1          Hyundai Challenger   N   \n",
       "367514750          1                      Wizard   N   \n",
       "477192700          1                     An Ning   N   \n",
       "244976000          2  Mississippiborg/Msc Poland   N   \n",
       "636092152          1                E.r.bordeaux   N   \n",
       "304990000          2       Mariella/S/y Mariella   N   \n",
       "354445000          1               Global Island   N   \n",
       "367314080          1                R L Enterkin   N   \n",
       "\n",
       "                                                        flag flag_type  \\\n",
       "mmsi                                                                     \n",
       "250002133                                           Ireland    Foreign   \n",
       "372605000                              Panama (Republic of)    Foreign   \n",
       "477049500  Hong Kong (Special Administrative Region of Ch...   Foreign   \n",
       "367514750                          United States of America   Domestic   \n",
       "477192700  Hong Kong (Special Administrative Region of Ch...   Foreign   \n",
       "244976000                      Netherlands (Kingdom of the)    Foreign   \n",
       "636092152                             Liberia (Republic of)    Foreign   \n",
       "304990000                               Antigua and Barbuda    Foreign   \n",
       "354445000                              Panama (Republic of)    Foreign   \n",
       "367314080                          United States of America   Domestic   \n",
       "\n",
       "           num_loas          loa  max_loa  num_types      type  \n",
       "mmsi                                                            \n",
       "250002133         1        137.0    137.0          1     Cargo  \n",
       "372605000         1        141.0    141.0          1    Tanker  \n",
       "477049500         1        233.0    233.0          1     Cargo  \n",
       "367514750         1         23.0     23.0          1  Pleasure  \n",
       "477192700         1        190.0    190.0          1     Cargo  \n",
       "244976000         2  134.0/135.0    135.0          1     Cargo  \n",
       "636092152         1        188.0    188.0          1     Cargo  \n",
       "304990000         1         24.0     24.0          1   Sailing  \n",
       "354445000         1        191.0    191.0          1     Cargo  \n",
       "367314080         1         60.0     60.0          1       Tug  "
      ],
      "text/html": "<div>\n<style scoped>\n    .dataframe tbody tr th:only-of-type {\n        vertical-align: middle;\n    }\n\n    .dataframe tbody tr th {\n        vertical-align: top;\n    }\n\n    .dataframe thead th {\n        text-align: right;\n    }\n</style>\n<table border=\"1\" class=\"dataframe\">\n  <thead>\n    <tr style=\"text-align: right;\">\n      <th></th>\n      <th>num_names</th>\n      <th>names</th>\n      <th>sov</th>\n      <th>flag</th>\n      <th>flag_type</th>\n      <th>num_loas</th>\n      <th>loa</th>\n      <th>max_loa</th>\n      <th>num_types</th>\n      <th>type</th>\n    </tr>\n    <tr>\n      <th>mmsi</th>\n      <th></th>\n      <th></th>\n      <th></th>\n      <th></th>\n      <th></th>\n      <th></th>\n      <th></th>\n      <th></th>\n      <th></th>\n      <th></th>\n    </tr>\n  </thead>\n  <tbody>\n    <tr>\n      <th>250002133</th>\n      <td>1</td>\n      <td>Arklow Meadow</td>\n      <td>N</td>\n      <td>Ireland</td>\n      <td>Foreign</td>\n      <td>1</td>\n      <td>137.0</td>\n      <td>137.0</td>\n      <td>1</td>\n      <td>Cargo</td>\n    </tr>\n    <tr>\n      <th>372605000</th>\n      <td>1</td>\n      <td>Chembulk Tortola</td>\n      <td>N</td>\n      <td>Panama (Republic of)</td>\n      <td>Foreign</td>\n      <td>1</td>\n      <td>141.0</td>\n      <td>141.0</td>\n      <td>1</td>\n      <td>Tanker</td>\n    </tr>\n    <tr>\n      <th>477049500</th>\n      <td>1</td>\n      <td>Hyundai Challenger</td>\n      <td>N</td>\n      <td>Hong Kong (Special Administrative Region of Ch...</td>\n      <td>Foreign</td>\n      <td>1</td>\n      <td>233.0</td>\n      <td>233.0</td>\n      <td>1</td>\n      <td>Cargo</td>\n    </tr>\n    <tr>\n      <th>367514750</th>\n      <td>1</td>\n      <td>Wizard</td>\n      <td>N</td>\n      <td>United States of America</td>\n      <td>Domestic</td>\n      <td>1</td>\n      <td>23.0</td>\n      <td>23.0</td>\n      <td>1</td>\n      <td>Pleasure</td>\n    </tr>\n    <tr>\n      <th>477192700</th>\n      <td>1</td>\n      <td>An Ning</td>\n      <td>N</td>\n      <td>Hong Kong (Special Administrative Region of Ch...</td>\n      <td>Foreign</td>\n      <td>1</td>\n      <td>190.0</td>\n      <td>190.0</td>\n      <td>1</td>\n      <td>Cargo</td>\n    </tr>\n    <tr>\n      <th>244976000</th>\n      <td>2</td>\n      <td>Mississippiborg/Msc Poland</td>\n      <td>N</td>\n      <td>Netherlands (Kingdom of the)</td>\n      <td>Foreign</td>\n      <td>2</td>\n      <td>134.0/135.0</td>\n      <td>135.0</td>\n      <td>1</td>\n      <td>Cargo</td>\n    </tr>\n    <tr>\n      <th>636092152</th>\n      <td>1</td>\n      <td>E.r.bordeaux</td>\n      <td>N</td>\n      <td>Liberia (Republic of)</td>\n      <td>Foreign</td>\n      <td>1</td>\n      <td>188.0</td>\n      <td>188.0</td>\n      <td>1</td>\n      <td>Cargo</td>\n    </tr>\n    <tr>\n      <th>304990000</th>\n      <td>2</td>\n      <td>Mariella/S/y Mariella</td>\n      <td>N</td>\n      <td>Antigua and Barbuda</td>\n      <td>Foreign</td>\n      <td>1</td>\n      <td>24.0</td>\n      <td>24.0</td>\n      <td>1</td>\n      <td>Sailing</td>\n    </tr>\n    <tr>\n      <th>354445000</th>\n      <td>1</td>\n      <td>Global Island</td>\n      <td>N</td>\n      <td>Panama (Republic of)</td>\n      <td>Foreign</td>\n      <td>1</td>\n      <td>191.0</td>\n      <td>191.0</td>\n      <td>1</td>\n      <td>Cargo</td>\n    </tr>\n    <tr>\n      <th>367314080</th>\n      <td>1</td>\n      <td>R L Enterkin</td>\n      <td>N</td>\n      <td>United States of America</td>\n      <td>Domestic</td>\n      <td>1</td>\n      <td>60.0</td>\n      <td>60.0</td>\n      <td>1</td>\n      <td>Tug</td>\n    </tr>\n  </tbody>\n</table>\n</div>"
     },
     "metadata": {},
     "execution_count": 70
    }
   ],
   "source": [
    "vessels.sample(n=10)"
   ]
  },
  {
   "cell_type": "code",
   "execution_count": 71,
   "metadata": {},
   "outputs": [
    {
     "output_type": "execute_result",
     "data": {
      "text/plain": [
       "           num_names              names sov                            flag  \\\n",
       "mmsi                                                                          \n",
       "636091899          1          Aldebaran   N          Liberia (Republic of)    \n",
       "366725230          1  Franklin Reinauer   N       United States of America    \n",
       "311062200          1        Knud Reefer   N  Bahamas (Commonwealth of the)    \n",
       "367014550          1   Cynthia Turecamo   N       United States of America    \n",
       "378001277          1             Vesper   N         British Virgin Islands    \n",
       "636091665          1       Vega Scorpio   N          Liberia (Republic of)    \n",
       "636092195          1         Lady Doris   N          Liberia (Republic of)    \n",
       "240799000          1            Sestrea   N                         Greece    \n",
       "355979000          1   Frontier Phoenix   N           Panama (Republic of)    \n",
       "257703000          1      Ellen Knutsen   N                         Norway    \n",
       "\n",
       "          flag_type  num_loas             loa  max_loa  num_types  \\\n",
       "mmsi                                                                \n",
       "636091899   Foreign         1           207.0    207.0          1   \n",
       "366725230  Domestic         2        0.0/24.0     24.0          3   \n",
       "311062200   Foreign         1           164.0    164.0          1   \n",
       "367014550  Domestic         1            31.0     31.0          1   \n",
       "378001277   Foreign         3  28.0/29.0/30.0     30.0          1   \n",
       "636091665   Foreign         1           139.0    139.0          1   \n",
       "636092195   Foreign         1           185.0    185.0          1   \n",
       "240799000   Foreign         1           274.0    274.0          1   \n",
       "355979000   Foreign         1           292.0    292.0          1   \n",
       "257703000   Foreign         1           142.0    142.0          1   \n",
       "\n",
       "                        type  \n",
       "mmsi                          \n",
       "636091899              Cargo  \n",
       "366725230  BigTow/Towing/Tug  \n",
       "311062200              Cargo  \n",
       "367014550                Tug  \n",
       "378001277            Sailing  \n",
       "636091665              Cargo  \n",
       "636092195              Cargo  \n",
       "240799000             Tanker  \n",
       "355979000              Cargo  \n",
       "257703000             Tanker  "
      ],
      "text/html": "<div>\n<style scoped>\n    .dataframe tbody tr th:only-of-type {\n        vertical-align: middle;\n    }\n\n    .dataframe tbody tr th {\n        vertical-align: top;\n    }\n\n    .dataframe thead th {\n        text-align: right;\n    }\n</style>\n<table border=\"1\" class=\"dataframe\">\n  <thead>\n    <tr style=\"text-align: right;\">\n      <th></th>\n      <th>num_names</th>\n      <th>names</th>\n      <th>sov</th>\n      <th>flag</th>\n      <th>flag_type</th>\n      <th>num_loas</th>\n      <th>loa</th>\n      <th>max_loa</th>\n      <th>num_types</th>\n      <th>type</th>\n    </tr>\n    <tr>\n      <th>mmsi</th>\n      <th></th>\n      <th></th>\n      <th></th>\n      <th></th>\n      <th></th>\n      <th></th>\n      <th></th>\n      <th></th>\n      <th></th>\n      <th></th>\n    </tr>\n  </thead>\n  <tbody>\n    <tr>\n      <th>636091899</th>\n      <td>1</td>\n      <td>Aldebaran</td>\n      <td>N</td>\n      <td>Liberia (Republic of)</td>\n      <td>Foreign</td>\n      <td>1</td>\n      <td>207.0</td>\n      <td>207.0</td>\n      <td>1</td>\n      <td>Cargo</td>\n    </tr>\n    <tr>\n      <th>366725230</th>\n      <td>1</td>\n      <td>Franklin Reinauer</td>\n      <td>N</td>\n      <td>United States of America</td>\n      <td>Domestic</td>\n      <td>2</td>\n      <td>0.0/24.0</td>\n      <td>24.0</td>\n      <td>3</td>\n      <td>BigTow/Towing/Tug</td>\n    </tr>\n    <tr>\n      <th>311062200</th>\n      <td>1</td>\n      <td>Knud Reefer</td>\n      <td>N</td>\n      <td>Bahamas (Commonwealth of the)</td>\n      <td>Foreign</td>\n      <td>1</td>\n      <td>164.0</td>\n      <td>164.0</td>\n      <td>1</td>\n      <td>Cargo</td>\n    </tr>\n    <tr>\n      <th>367014550</th>\n      <td>1</td>\n      <td>Cynthia Turecamo</td>\n      <td>N</td>\n      <td>United States of America</td>\n      <td>Domestic</td>\n      <td>1</td>\n      <td>31.0</td>\n      <td>31.0</td>\n      <td>1</td>\n      <td>Tug</td>\n    </tr>\n    <tr>\n      <th>378001277</th>\n      <td>1</td>\n      <td>Vesper</td>\n      <td>N</td>\n      <td>British Virgin Islands</td>\n      <td>Foreign</td>\n      <td>3</td>\n      <td>28.0/29.0/30.0</td>\n      <td>30.0</td>\n      <td>1</td>\n      <td>Sailing</td>\n    </tr>\n    <tr>\n      <th>636091665</th>\n      <td>1</td>\n      <td>Vega Scorpio</td>\n      <td>N</td>\n      <td>Liberia (Republic of)</td>\n      <td>Foreign</td>\n      <td>1</td>\n      <td>139.0</td>\n      <td>139.0</td>\n      <td>1</td>\n      <td>Cargo</td>\n    </tr>\n    <tr>\n      <th>636092195</th>\n      <td>1</td>\n      <td>Lady Doris</td>\n      <td>N</td>\n      <td>Liberia (Republic of)</td>\n      <td>Foreign</td>\n      <td>1</td>\n      <td>185.0</td>\n      <td>185.0</td>\n      <td>1</td>\n      <td>Cargo</td>\n    </tr>\n    <tr>\n      <th>240799000</th>\n      <td>1</td>\n      <td>Sestrea</td>\n      <td>N</td>\n      <td>Greece</td>\n      <td>Foreign</td>\n      <td>1</td>\n      <td>274.0</td>\n      <td>274.0</td>\n      <td>1</td>\n      <td>Tanker</td>\n    </tr>\n    <tr>\n      <th>355979000</th>\n      <td>1</td>\n      <td>Frontier Phoenix</td>\n      <td>N</td>\n      <td>Panama (Republic of)</td>\n      <td>Foreign</td>\n      <td>1</td>\n      <td>292.0</td>\n      <td>292.0</td>\n      <td>1</td>\n      <td>Cargo</td>\n    </tr>\n    <tr>\n      <th>257703000</th>\n      <td>1</td>\n      <td>Ellen Knutsen</td>\n      <td>N</td>\n      <td>Norway</td>\n      <td>Foreign</td>\n      <td>1</td>\n      <td>142.0</td>\n      <td>142.0</td>\n      <td>1</td>\n      <td>Tanker</td>\n    </tr>\n  </tbody>\n</table>\n</div>"
     },
     "metadata": {},
     "execution_count": 71
    }
   ],
   "source": [
    "vessels.sample(n=10, replace=True)"
   ]
  },
  {
   "cell_type": "markdown",
   "metadata": {},
   "source": [
    "## Data aggregation and GroupBy operations\n",
    "\n",
    "One of the most powerful features of Pandas is its **GroupBy** functionality. On some occasions we may want to perform operations on *groups* of observations within a dataset. For example:\n",
    "\n",
    "* **aggregation**, such as computing the sum of mean of each group, which involves applying a function to each group and returning the aggregated results\n",
    "* **slicing** the DataFrame into groups and then doing something with the resulting slices (*e.g.* plotting)\n",
    "* group-wise **transformation**, such as standardization/normalization"
   ]
  },
  {
   "cell_type": "code",
   "execution_count": 72,
   "metadata": {},
   "outputs": [],
   "source": [
    "cdystonia_grouped = cdystonia.groupby(cdystonia.patient)"
   ]
  },
  {
   "cell_type": "markdown",
   "metadata": {},
   "source": [
    "However, the grouping is only an intermediate step; for example, we may want to **iterate** over each of the patient groups:"
   ]
  },
  {
   "cell_type": "code",
   "execution_count": 73,
   "metadata": {
    "tags": [
     "outputPrepend"
    ]
   },
   "outputs": [
    {
     "output_type": "stream",
     "name": "stdout",
     "text": [
      "2     7   1  5000U   54   F      41          1\n",
      "397       68    6    16     7   1  5000U   54   F      31          1\n",
      "patient 69\n",
      "group      patient  obs  week  site  id    treat  age sex  twstrs  treatment\n",
      "398       69    1     0     7   2  Placebo   67   F      42          0\n",
      "399       69    2     2     7   2  Placebo   67   F      30          0\n",
      "400       69    3     4     7   2  Placebo   67   F      40          0\n",
      "401       69    4     8     7   2  Placebo   67   F      43          0\n",
      "402       69    5    12     7   2  Placebo   67   F      36          0\n",
      "403       69    6    16     7   2  Placebo   67   F      45          0\n",
      "patient 70\n",
      "group      patient  obs  week  site  id   treat  age sex  twstrs  treatment\n",
      "404       70    1     0     7   3  10000U   58   F      31          2\n",
      "405       70    2     2     7   3  10000U   58   F      18          2\n",
      "406       70    3     4     7   3  10000U   58   F      23          2\n",
      "407       70    4     8     7   3  10000U   58   F      26          2\n",
      "408       70    5    12     7   3  10000U   58   F      33          2\n",
      "409       70    6    16     7   3  10000U   58   F      41          2\n",
      "patient 71\n",
      "group      patient  obs  week  site  id    treat  age sex  twstrs  treatment\n",
      "410       71    1     0     7   4  Placebo   72   F      50          0\n",
      "411       71    2     2     7   4  Placebo   72   F      27          0\n",
      "412       71    3     4     7   4  Placebo   72   F      43          0\n",
      "413       71    4     8     7   4  Placebo   72   F      32          0\n",
      "414       71    5    12     7   4  Placebo   72   F      40          0\n",
      "415       71    6    16     7   4  Placebo   72   F      47          0\n",
      "patient 72\n",
      "group      patient  obs  week  site  id   treat  age sex  twstrs  treatment\n",
      "416       72    1     0     7   5  10000U   65   F      35          2\n",
      "417       72    2     2     7   5  10000U   65   F      24          2\n",
      "418       72    3     4     7   5  10000U   65   F      34          2\n",
      "419       72    4     8     7   5  10000U   65   F      28          2\n",
      "420       72    5    12     7   5  10000U   65   F      34          2\n",
      "421       72    6    16     7   5  10000U   65   F      28          2\n",
      "patient 73\n",
      "group      patient  obs  week  site  id  treat  age sex  twstrs  treatment\n",
      "422       73    1     0     7   6  5000U   68   F      38          1\n",
      "423       73    2     2     7   6  5000U   68   F      25          1\n",
      "424       73    3     4     7   6  5000U   68   F      21          1\n",
      "425       73    4     8     7   6  5000U   68   F      33          1\n",
      "426       73    5    12     7   6  5000U   68   F      42          1\n",
      "427       73    6    16     7   6  5000U   68   F      53          1\n",
      "patient 74\n",
      "group      patient  obs  week  site  id   treat  age sex  twstrs  treatment\n",
      "428       74    1     0     7   7  10000U   75   F      53          2\n",
      "429       74    2     2     7   7  10000U   75   F      40          2\n",
      "430       74    3     4     7   7  10000U   75   F      38          2\n",
      "431       74    4     8     7   7  10000U   75   F      44          2\n",
      "432       74    5    12     7   7  10000U   75   F      47          2\n",
      "433       74    6    16     7   7  10000U   75   F      53          2\n",
      "patient 75\n",
      "group      patient  obs  week  site  id    treat  age sex  twstrs  treatment\n",
      "434       75    1     0     7   8  Placebo   26   F      42          0\n",
      "435       75    2     2     7   8  Placebo   26   F      48          0\n",
      "436       75    3     4     7   8  Placebo   26   F      26          0\n",
      "437       75    4     8     7   8  Placebo   26   F      37          0\n",
      "438       75    5    12     7   8  Placebo   26   F      37          0\n",
      "439       75    6    16     7   8  Placebo   26   F      43          0\n",
      "patient 76\n",
      "group      patient  obs  week  site  id  treat  age sex  twstrs  treatment\n",
      "440       76    1     0     7   9  5000U   36   F      53          1\n",
      "441       76    2     2     7   9  5000U   36   F      45          1\n",
      "442       76    3     4     7   9  5000U   36   F      52          1\n",
      "443       76    4     8     7   9  5000U   36   F      51          1\n",
      "444       76    5    12     7   9  5000U   36   F      52          1\n",
      "445       76    6    16     7   9  5000U   36   F      53          1\n",
      "patient 77\n",
      "group      patient  obs  week  site  id   treat  age sex  twstrs  treatment\n",
      "446       77    1     0     7  10  10000U   72   M      46          2\n",
      "447       77    2     2     7  10  10000U   72   M      47          2\n",
      "448       77    3     4     7  10  10000U   72   M      45          2\n",
      "449       77    4     8     7  10  10000U   72   M      45          2\n",
      "450       77    5    12     7  10  10000U   72   M      50          2\n",
      "451       77    6    16     7  10  10000U   72   M      52          2\n",
      "patient 78\n",
      "group      patient  obs  week  site  id    treat  age sex  twstrs  treatment\n",
      "452       78    1     0     7  11  Placebo   54   F      50          0\n",
      "453       78    2     2     7  11  Placebo   54   F      42          0\n",
      "454       78    3     4     7  11  Placebo   54   F      52          0\n",
      "455       78    4     8     7  11  Placebo   54   F      60          0\n",
      "456       78    5    12     7  11  Placebo   54   F      54          0\n",
      "457       78    6    16     7  11  Placebo   54   F      59          0\n",
      "patient 79\n",
      "group      patient  obs  week  site  id  treat  age sex  twstrs  treatment\n",
      "458       79    1     0     7  12  5000U   64   F      43          1\n",
      "459       79    2     2     7  12  5000U   64   F      24          1\n",
      "460       79    3     4     7  12  5000U   64   F      17          1\n",
      "461       79    4     8     7  12  5000U   64   F      37          1\n",
      "462       79    5    12     7  12  5000U   64   F      36          1\n",
      "463       79    6    16     7  12  5000U   64   F      38          1\n",
      "patient 80\n",
      "group      patient  obs  week  site  id    treat  age sex  twstrs  treatment\n",
      "464       80    1     0     8   1  Placebo   39   F      46          0\n",
      "465       80    2     2     8   1  Placebo   39   F      39          0\n",
      "466       80    3     4     8   1  Placebo   39   F      25          0\n",
      "467       80    4     8     8   1  Placebo   39   F      15          0\n",
      "468       80    5    12     8   1  Placebo   39   F      21          0\n",
      "469       80    6    16     8   1  Placebo   39   F      25          0\n",
      "patient 81\n",
      "group      patient  obs  week  site  id   treat  age sex  twstrs  treatment\n",
      "470       81    1     0     8   2  10000U   54   M      41          2\n",
      "471       81    2     2     8   2  10000U   54   M      30          2\n",
      "472       81    3     4     8   2  10000U   54   M      44          2\n",
      "473       81    4     8     8   2  10000U   54   M      46          2\n",
      "474       81    5    12     8   2  10000U   54   M      46          2\n",
      "475       81    6    16     8   2  10000U   54   M      44          2\n",
      "patient 82\n",
      "group      patient  obs  week  site  id  treat  age sex  twstrs  treatment\n",
      "476       82    1     0     8   3  5000U   48   M      33          1\n",
      "477       82    2     2     8   3  5000U   48   M      27          1\n",
      "478       82    3     4     8   3  5000U   48   M      25          1\n",
      "479       82    4     8     8   3  5000U   48   M      30          1\n",
      "480       82    5    12     8   3  5000U   48   M      28          1\n",
      "481       82    6    16     8   3  5000U   48   M      30          1\n",
      "patient 83\n",
      "group      patient  obs  week  site  id  treat  age sex  twstrs  treatment\n",
      "482       83    1     0     8   4  5000U   83   F      36          1\n",
      "483       83    2     2     8   4  5000U   83   F      15          1\n",
      "484       83    3     4     8   4  5000U   83   F      16          1\n",
      "485       83    4     8     8   4  5000U   83   F      17          1\n",
      "486       83    5    12     8   4  5000U   83   F      22          1\n",
      "487       83    6    16     8   4  5000U   83   F      41          1\n",
      "patient 84\n",
      "group      patient  obs  week  site  id   treat  age sex  twstrs  treatment\n",
      "488       84    1     0     8   5  10000U   74   M      33          2\n",
      "489       84    2     2     8   5  10000U   74   M      32          2\n",
      "490       84    3     4     8   5  10000U   74   M      31          2\n",
      "491       84    4     8     8   5  10000U   74   M      27          2\n",
      "492       84    5    12     8   5  10000U   74   M      49          2\n",
      "493       84    6    16     8   5  10000U   74   M      60          2\n",
      "patient 85\n",
      "group      patient  obs  week  site  id    treat  age sex  twstrs  treatment\n",
      "494       85    1     0     8   6  Placebo   41   M      37          0\n",
      "patient 86\n",
      "group      patient  obs  week  site  id   treat  age sex  twstrs  treatment\n",
      "495       86    1     0     8   7  10000U   65   F      24          2\n",
      "496       86    2     2     8   7  10000U   65   F      29          2\n",
      "497       86    3     4     8   7  10000U   65   F      18          2\n",
      "498       86    4     8     8   7  10000U   65   F      20          2\n",
      "499       86    5    12     8   7  10000U   65   F      25          2\n",
      "500       86    6    16     8   7  10000U   65   F      41          2\n",
      "patient 87\n",
      "group      patient  obs  week  site  id  treat  age sex  twstrs  treatment\n",
      "501       87    1     0     8   8  5000U   79   M      42          1\n",
      "502       87    2     2     8   8  5000U   79   M      23          1\n",
      "503       87    3     4     8   8  5000U   79   M      30          1\n",
      "504       87    4     8     8   8  5000U   79   M      36          1\n",
      "505       87    5    12     8   8  5000U   79   M      41          1\n",
      "506       87    6    16     8   8  5000U   79   M      43          1\n",
      "patient 88\n",
      "group      patient  obs  week  site  id    treat  age sex  twstrs  treatment\n",
      "507       88    1     0     8   9  Placebo   63   M      30          0\n",
      "508       88    2     2     8   9  Placebo   63   M      22          0\n",
      "509       88    3     4     8   9  Placebo   63   M      21          0\n",
      "510       88    4     8     8   9  Placebo   63   M      25          0\n",
      "511       88    5    12     8   9  Placebo   63   M      26          0\n",
      "512       88    6    16     8   9  Placebo   63   M      33          0\n",
      "patient 89\n",
      "group      patient  obs  week  site  id    treat  age sex  twstrs  treatment\n",
      "513       89    1     0     8  10  Placebo   63   F      42          0\n",
      "514       89    2     2     8  10  Placebo   63   F      46          0\n",
      "515       89    3     4     8  10  Placebo   63   F      41          0\n",
      "516       89    4     8     8  10  Placebo   63   F      43          0\n",
      "517       89    5    12     8  10  Placebo   63   F      49          0\n",
      "518       89    6    16     8  10  Placebo   63   F      54          0\n",
      "patient 90\n",
      "group      patient  obs  week  site  id   treat  age sex  twstrs  treatment\n",
      "519       90    1     0     8  11  10000U   34   F      49          2\n",
      "520       90    2     2     8  11  10000U   34   F      25          2\n",
      "521       90    3     4     8  11  10000U   34   F      30          2\n",
      "522       90    4     8     8  11  10000U   34   F      49          2\n",
      "523       90    5    12     8  11  10000U   34   F      55          2\n",
      "524       90    6    16     8  11  10000U   34   F      58          2\n",
      "patient 91\n",
      "group      patient  obs  week  site  id  treat  age sex  twstrs  treatment\n",
      "525       91    1     0     8  12  5000U   42   M      58          1\n",
      "526       91    2     2     8  12  5000U   42   M      46          1\n",
      "527       91    3     4     8  12  5000U   42   M      46          1\n",
      "528       91    4     8     8  12  5000U   42   M      50          1\n",
      "529       91    5    12     8  12  5000U   42   M      56          1\n",
      "530       91    6    16     8  12  5000U   42   M      60          1\n",
      "patient 92\n",
      "group      patient  obs  week  site  id    treat  age sex  twstrs  treatment\n",
      "531       92    1     0     8  13  Placebo   57   M      26          0\n",
      "532       92    2     2     8  13  Placebo   57   M      26          0\n",
      "533       92    3     4     8  13  Placebo   57   M      27          0\n",
      "534       92    4     8     8  13  Placebo   57   M      22          0\n",
      "535       92    5    12     8  13  Placebo   57   M      38          0\n",
      "536       92    6    16     8  13  Placebo   57   M      35          0\n",
      "patient 93\n",
      "group      patient  obs  week  site  id  treat  age sex  twstrs  treatment\n",
      "537       93    1     0     8  14  5000U   68   M      37          1\n",
      "538       93    3     4     8  14  5000U   68   M      23          1\n",
      "539       93    4     8     8  14  5000U   68   M      18          1\n",
      "540       93    5    12     8  14  5000U   68   M      34          1\n",
      "541       93    6    16     8  14  5000U   68   M      36          1\n",
      "patient 94\n",
      "group      patient  obs  week  site  id   treat  age sex  twstrs  treatment\n",
      "542       94    1     0     8  15  10000U   51   M      40          2\n",
      "543       94    2     2     8  15  10000U   51   M      24          2\n",
      "544       94    3     4     8  15  10000U   51   M      25          2\n",
      "545       94    4     8     8  15  10000U   51   M      37          2\n",
      "546       94    6    16     8  15  10000U   51   M      38          2\n",
      "patient 95\n",
      "group      patient  obs  week  site  id  treat  age sex  twstrs  treatment\n",
      "547       95    1     0     8  16  5000U   51   F      33          1\n",
      "548       95    2     2     8  16  5000U   51   F      10          1\n",
      "549       95    3     4     8  16  5000U   51   F      13          1\n",
      "550       95    4     8     8  16  5000U   51   F      16          1\n",
      "551       95    5    12     8  16  5000U   51   F      32          1\n",
      "552       95    6    16     8  16  5000U   51   F      16          1\n",
      "patient 96\n",
      "group      patient  obs  week  site  id   treat  age sex  twstrs  treatment\n",
      "553       96    1     0     8  17  10000U   61   F      41          2\n",
      "554       96    2     2     8  17  10000U   61   F      50          2\n",
      "555       96    3     4     8  17  10000U   61   F      22          2\n",
      "556       96    4     8     8  17  10000U   61   F      28          2\n",
      "557       96    5    12     8  17  10000U   61   F      34          2\n",
      "558       96    6    16     8  17  10000U   61   F      36          2\n",
      "patient 97\n",
      "group      patient  obs  week  site  id    treat  age sex  twstrs  treatment\n",
      "559       97    1     0     8  18  Placebo   42   M      46          0\n",
      "560       97    3     4     8  18  Placebo   42   M      41          0\n",
      "561       97    4     8     8  18  Placebo   42   M      41          0\n",
      "562       97    5    12     8  18  Placebo   42   M      58          0\n",
      "563       97    6    16     8  18  Placebo   42   M      53          0\n",
      "patient 98\n",
      "group      patient  obs  week  site  id   treat  age sex  twstrs  treatment\n",
      "564       98    1     0     8  19  10000U   73   F      40          2\n",
      "565       98    2     2     8  19  10000U   73   F      28          2\n",
      "566       98    3     4     8  19  10000U   73   F      29          2\n",
      "567       98    4     8     8  19  10000U   73   F      30          2\n",
      "568       98    5    12     8  19  10000U   73   F      37          2\n",
      "569       98    6    16     8  19  10000U   73   F      44          2\n",
      "patient 99\n",
      "group      patient  obs  week  site  id   treat  age sex  twstrs  treatment\n",
      "570       99    1     0     9   1  10000U   57   M      40          2\n",
      "571       99    2     2     9   1  10000U   57   M      16          2\n",
      "572       99    3     4     9   1  10000U   57   M      18          2\n",
      "573       99    4     8     9   1  10000U   57   M      25          2\n",
      "574       99    5    12     9   1  10000U   57   M      33          2\n",
      "575       99    6    16     9   1  10000U   57   M      48          2\n",
      "patient 100\n",
      "group      patient  obs  week  site  id    treat  age sex  twstrs  treatment\n",
      "576      100    1     0     9   2  Placebo   59   M      61          0\n",
      "577      100    2     2     9   2  Placebo   59   M      52          0\n",
      "578      100    3     4     9   2  Placebo   59   M      61          0\n",
      "579      100    4     8     9   2  Placebo   59   M      68          0\n",
      "580      100    5    12     9   2  Placebo   59   M      59          0\n",
      "581      100    6    16     9   2  Placebo   59   M      71          0\n",
      "patient 101\n",
      "group      patient  obs  week  site  id  treat  age sex  twstrs  treatment\n",
      "582      101    1     0     9   3  5000U   57   M      35          1\n",
      "583      101    2     2     9   3  5000U   57   M      21          1\n",
      "584      101    3     4     9   3  5000U   57   M      29          1\n",
      "585      101    4     8     9   3  5000U   57   M      30          1\n",
      "586      101    5    12     9   3  5000U   57   M      35          1\n",
      "587      101    6    16     9   3  5000U   57   M      48          1\n",
      "patient 102\n",
      "group      patient  obs  week  site  id    treat  age sex  twstrs  treatment\n",
      "588      102    1     0     9   4  Placebo   68   F      58          0\n",
      "589      102    2     2     9   4  Placebo   68   F      38          0\n",
      "590      102    3     4     9   4  Placebo   68   F      50          0\n",
      "591      102    4     8     9   4  Placebo   68   F      53          0\n",
      "592      102    5    12     9   4  Placebo   68   F      47          0\n",
      "593      102    6    16     9   4  Placebo   68   F      59          0\n",
      "patient 103\n",
      "group      patient  obs  week  site  id  treat  age sex  twstrs  treatment\n",
      "594      103    1     0     9   5  5000U   55   F      49          1\n",
      "595      103    2     2     9   5  5000U   55   F      45          1\n",
      "596      103    3     4     9   5  5000U   55   F      36          1\n",
      "597      103    5    12     9   5  5000U   55   F      40          1\n",
      "598      103    6    16     9   5  5000U   55   F      52          1\n",
      "patient 104\n",
      "group      patient  obs  week  site  id   treat  age sex  twstrs  treatment\n",
      "599      104    1     0     9   6  10000U   46   F      52          2\n",
      "600      104    2     2     9   6  10000U   46   F      46          2\n",
      "601      104    3     4     9   6  10000U   46   F      36          2\n",
      "602      104    5    12     9   6  10000U   46   F      45          2\n",
      "603      104    6    16     9   6  10000U   46   F      54          2\n",
      "patient 105\n",
      "group      patient  obs  week  site  id    treat  age sex  twstrs  treatment\n",
      "604      105    1     0     9   7  Placebo   79   F      45          0\n",
      "605      105    2     2     9   7  Placebo   79   F      46          0\n",
      "606      105    3     4     9   7  Placebo   79   F      33          0\n",
      "607      105    4     8     9   7  Placebo   79   F      44          0\n",
      "608      105    5    12     9   7  Placebo   79   F      46          0\n",
      "609      105    6    16     9   7  Placebo   79   F      48          0\n",
      "patient 106\n",
      "group      patient  obs  week  site  id  treat  age sex  twstrs  treatment\n",
      "610      106    1     0     9   8  5000U   43   M      67          1\n",
      "611      106    2     2     9   8  5000U   43   M      63          1\n",
      "612      106    3     4     9   8  5000U   43   M      71          1\n",
      "613      106    4     8     9   8  5000U   43   M      66          1\n",
      "614      106    5    12     9   8  5000U   43   M      68          1\n",
      "615      106    6    16     9   8  5000U   43   M      71          1\n",
      "patient 107\n",
      "group      patient  obs  week  site  id   treat  age sex  twstrs  treatment\n",
      "616      107    1     0     9   9  10000U   50   M      57          2\n",
      "617      107    3     4     9   9  10000U   50   M      36          2\n",
      "618      107    4     8     9   9  10000U   50   M      23          2\n",
      "619      107    6    16     9   9  10000U   50   M      52          2\n",
      "patient 108\n",
      "group      patient  obs  week  site  id   treat  age sex  twstrs  treatment\n",
      "620      108    1     0     9  10  10000U   39   F      63          2\n",
      "621      108    2     2     9  10  10000U   39   F      51          2\n",
      "622      108    3     4     9  10  10000U   39   F      46          2\n",
      "623      108    4     8     9  10  10000U   39   F      50          2\n",
      "624      108    5    12     9  10  10000U   39   F      50          2\n",
      "625      108    6    16     9  10  10000U   39   F      54          2\n",
      "patient 109\n",
      "group      patient  obs  week  site  id  treat  age sex  twstrs  treatment\n",
      "626      109    1     0     9  11  5000U   57   M      53          1\n",
      "627      109    2     2     9  11  5000U   57   M      38          1\n",
      "628      109    4     8     9  11  5000U   57   M      33          1\n",
      "629      109    5    12     9  11  5000U   57   M      36          1\n",
      "630      109    6    16     9  11  5000U   57   M      51          1\n"
     ]
    }
   ],
   "source": [
    "for patient, group in cdystonia_grouped:\n",
    "    print('patient', patient)\n",
    "    print('group', group)"
   ]
  },
  {
   "cell_type": "markdown",
   "metadata": {},
   "source": [
    "A common data analysis procedure is the **split-apply-combine** operation, which groups subsets of data together, applies a function to each of the groups, then recombines them into a new data table.\n",
    "\n",
    "For example, we may want to aggregate our data with with some function.\n",
    "\n",
    "![split-apply-combine](http://f.cl.ly/items/0s0Z252j0X0c3k3P1M47/Screen%20Shot%202013-06-02%20at%203.04.04%20PM.png)\n",
    "\n",
    "<div align=\"right\">*(figure taken from \"Python for Data Analysis\", p.251)*</div>"
   ]
  },
  {
   "cell_type": "markdown",
   "metadata": {},
   "source": [
    "We can aggregate in Pandas using the `aggregate` (or `agg`, for short) method:"
   ]
  },
  {
   "cell_type": "code",
   "execution_count": 74,
   "metadata": {},
   "outputs": [
    {
     "output_type": "execute_result",
     "data": {
      "text/plain": [
       "         obs  week  site   id   age     twstrs  treatment\n",
       "patient                                                  \n",
       "1        3.5   7.0   1.0  1.0  65.0  33.000000        1.0\n",
       "2        3.5   7.0   1.0  2.0  70.0  47.666667        2.0\n",
       "3        3.5   7.0   1.0  3.0  64.0  30.500000        1.0\n",
       "4        2.5   3.5   1.0  4.0  59.0  60.000000        0.0\n",
       "5        3.5   7.0   1.0  5.0  76.0  46.166667        2.0"
      ],
      "text/html": "<div>\n<style scoped>\n    .dataframe tbody tr th:only-of-type {\n        vertical-align: middle;\n    }\n\n    .dataframe tbody tr th {\n        vertical-align: top;\n    }\n\n    .dataframe thead th {\n        text-align: right;\n    }\n</style>\n<table border=\"1\" class=\"dataframe\">\n  <thead>\n    <tr style=\"text-align: right;\">\n      <th></th>\n      <th>obs</th>\n      <th>week</th>\n      <th>site</th>\n      <th>id</th>\n      <th>age</th>\n      <th>twstrs</th>\n      <th>treatment</th>\n    </tr>\n    <tr>\n      <th>patient</th>\n      <th></th>\n      <th></th>\n      <th></th>\n      <th></th>\n      <th></th>\n      <th></th>\n      <th></th>\n    </tr>\n  </thead>\n  <tbody>\n    <tr>\n      <th>1</th>\n      <td>3.5</td>\n      <td>7.0</td>\n      <td>1.0</td>\n      <td>1.0</td>\n      <td>65.0</td>\n      <td>33.000000</td>\n      <td>1.0</td>\n    </tr>\n    <tr>\n      <th>2</th>\n      <td>3.5</td>\n      <td>7.0</td>\n      <td>1.0</td>\n      <td>2.0</td>\n      <td>70.0</td>\n      <td>47.666667</td>\n      <td>2.0</td>\n    </tr>\n    <tr>\n      <th>3</th>\n      <td>3.5</td>\n      <td>7.0</td>\n      <td>1.0</td>\n      <td>3.0</td>\n      <td>64.0</td>\n      <td>30.500000</td>\n      <td>1.0</td>\n    </tr>\n    <tr>\n      <th>4</th>\n      <td>2.5</td>\n      <td>3.5</td>\n      <td>1.0</td>\n      <td>4.0</td>\n      <td>59.0</td>\n      <td>60.000000</td>\n      <td>0.0</td>\n    </tr>\n    <tr>\n      <th>5</th>\n      <td>3.5</td>\n      <td>7.0</td>\n      <td>1.0</td>\n      <td>5.0</td>\n      <td>76.0</td>\n      <td>46.166667</td>\n      <td>2.0</td>\n    </tr>\n  </tbody>\n</table>\n</div>"
     },
     "metadata": {},
     "execution_count": 74
    }
   ],
   "source": [
    "cdystonia_grouped.agg('mean').head()\n",
    "cdystonia_grouped.mean().head() #equivalent "
   ]
  },
  {
   "cell_type": "markdown",
   "metadata": {},
   "source": [
    "Notice that the `treat` and `sex` variables are <b>not included in the aggregation</b>. Since it does not make sense to aggregate string variables, these columns are simply ignored by the method.\n",
    "\n",
    "Some aggregation functions are so common that Pandas has a convenience method for them, such as `mean`:"
   ]
  },
  {
   "cell_type": "markdown",
   "metadata": {},
   "source": [
    "The `add_prefix` and `add_suffix` methods can be used to give the columns of the resulting table labels that reflect the transformation:"
   ]
  },
  {
   "cell_type": "code",
   "execution_count": 75,
   "metadata": {},
   "outputs": [
    {
     "output_type": "execute_result",
     "data": {
      "text/plain": [
       "         obs_mean  week_mean  site_mean  id_mean  age_mean  twstrs_mean  \\\n",
       "patient                                                                   \n",
       "1             3.5        7.0        1.0      1.0      65.0    33.000000   \n",
       "2             3.5        7.0        1.0      2.0      70.0    47.666667   \n",
       "3             3.5        7.0        1.0      3.0      64.0    30.500000   \n",
       "4             2.5        3.5        1.0      4.0      59.0    60.000000   \n",
       "5             3.5        7.0        1.0      5.0      76.0    46.166667   \n",
       "\n",
       "         treatment_mean  \n",
       "patient                  \n",
       "1                   1.0  \n",
       "2                   2.0  \n",
       "3                   1.0  \n",
       "4                   0.0  \n",
       "5                   2.0  "
      ],
      "text/html": "<div>\n<style scoped>\n    .dataframe tbody tr th:only-of-type {\n        vertical-align: middle;\n    }\n\n    .dataframe tbody tr th {\n        vertical-align: top;\n    }\n\n    .dataframe thead th {\n        text-align: right;\n    }\n</style>\n<table border=\"1\" class=\"dataframe\">\n  <thead>\n    <tr style=\"text-align: right;\">\n      <th></th>\n      <th>obs_mean</th>\n      <th>week_mean</th>\n      <th>site_mean</th>\n      <th>id_mean</th>\n      <th>age_mean</th>\n      <th>twstrs_mean</th>\n      <th>treatment_mean</th>\n    </tr>\n    <tr>\n      <th>patient</th>\n      <th></th>\n      <th></th>\n      <th></th>\n      <th></th>\n      <th></th>\n      <th></th>\n      <th></th>\n    </tr>\n  </thead>\n  <tbody>\n    <tr>\n      <th>1</th>\n      <td>3.5</td>\n      <td>7.0</td>\n      <td>1.0</td>\n      <td>1.0</td>\n      <td>65.0</td>\n      <td>33.000000</td>\n      <td>1.0</td>\n    </tr>\n    <tr>\n      <th>2</th>\n      <td>3.5</td>\n      <td>7.0</td>\n      <td>1.0</td>\n      <td>2.0</td>\n      <td>70.0</td>\n      <td>47.666667</td>\n      <td>2.0</td>\n    </tr>\n    <tr>\n      <th>3</th>\n      <td>3.5</td>\n      <td>7.0</td>\n      <td>1.0</td>\n      <td>3.0</td>\n      <td>64.0</td>\n      <td>30.500000</td>\n      <td>1.0</td>\n    </tr>\n    <tr>\n      <th>4</th>\n      <td>2.5</td>\n      <td>3.5</td>\n      <td>1.0</td>\n      <td>4.0</td>\n      <td>59.0</td>\n      <td>60.000000</td>\n      <td>0.0</td>\n    </tr>\n    <tr>\n      <th>5</th>\n      <td>3.5</td>\n      <td>7.0</td>\n      <td>1.0</td>\n      <td>5.0</td>\n      <td>76.0</td>\n      <td>46.166667</td>\n      <td>2.0</td>\n    </tr>\n  </tbody>\n</table>\n</div>"
     },
     "metadata": {},
     "execution_count": 75
    }
   ],
   "source": [
    "cdystonia_grouped.mean().add_suffix('_mean').head()"
   ]
  },
  {
   "cell_type": "code",
   "execution_count": 76,
   "metadata": {},
   "outputs": [
    {
     "output_type": "execute_result",
     "data": {
      "text/plain": [
       "patient\n",
       "1     34.0\n",
       "2     50.5\n",
       "3     30.5\n",
       "4     61.5\n",
       "5     48.5\n",
       "6     48.0\n",
       "7     42.0\n",
       "8     32.5\n",
       "9     35.5\n",
       "10    20.5\n",
       "Name: twstrs, dtype: float64"
      ]
     },
     "metadata": {},
     "execution_count": 76
    }
   ],
   "source": [
    "# The median of the `twstrs` variable\n",
    "cdystonia_grouped['twstrs'].quantile(0.5).head(10)"
   ]
  },
  {
   "cell_type": "markdown",
   "metadata": {},
   "source": [
    "If we wish, we can easily aggregate according to multiple keys:"
   ]
  },
  {
   "cell_type": "code",
   "execution_count": 77,
   "metadata": {},
   "outputs": [
    {
     "output_type": "execute_result",
     "data": {
      "text/plain": [
       "           patient  obs   id        age     twstrs  treatment\n",
       "week site                                                    \n",
       "0    1         6.5  1.0  6.5  59.000000  43.083333   1.000000\n",
       "     2        19.5  1.0  7.5  53.928571  51.857143   0.928571\n",
       "     3        32.5  1.0  6.5  51.500000  38.750000   1.000000\n",
       "     4        42.5  1.0  4.5  59.250000  48.125000   1.000000\n",
       "     5        49.5  1.0  3.5  51.833333  49.333333   1.000000"
      ],
      "text/html": "<div>\n<style scoped>\n    .dataframe tbody tr th:only-of-type {\n        vertical-align: middle;\n    }\n\n    .dataframe tbody tr th {\n        vertical-align: top;\n    }\n\n    .dataframe thead th {\n        text-align: right;\n    }\n</style>\n<table border=\"1\" class=\"dataframe\">\n  <thead>\n    <tr style=\"text-align: right;\">\n      <th></th>\n      <th></th>\n      <th>patient</th>\n      <th>obs</th>\n      <th>id</th>\n      <th>age</th>\n      <th>twstrs</th>\n      <th>treatment</th>\n    </tr>\n    <tr>\n      <th>week</th>\n      <th>site</th>\n      <th></th>\n      <th></th>\n      <th></th>\n      <th></th>\n      <th></th>\n      <th></th>\n    </tr>\n  </thead>\n  <tbody>\n    <tr>\n      <th rowspan=\"5\" valign=\"top\">0</th>\n      <th>1</th>\n      <td>6.5</td>\n      <td>1.0</td>\n      <td>6.5</td>\n      <td>59.000000</td>\n      <td>43.083333</td>\n      <td>1.000000</td>\n    </tr>\n    <tr>\n      <th>2</th>\n      <td>19.5</td>\n      <td>1.0</td>\n      <td>7.5</td>\n      <td>53.928571</td>\n      <td>51.857143</td>\n      <td>0.928571</td>\n    </tr>\n    <tr>\n      <th>3</th>\n      <td>32.5</td>\n      <td>1.0</td>\n      <td>6.5</td>\n      <td>51.500000</td>\n      <td>38.750000</td>\n      <td>1.000000</td>\n    </tr>\n    <tr>\n      <th>4</th>\n      <td>42.5</td>\n      <td>1.0</td>\n      <td>4.5</td>\n      <td>59.250000</td>\n      <td>48.125000</td>\n      <td>1.000000</td>\n    </tr>\n    <tr>\n      <th>5</th>\n      <td>49.5</td>\n      <td>1.0</td>\n      <td>3.5</td>\n      <td>51.833333</td>\n      <td>49.333333</td>\n      <td>1.000000</td>\n    </tr>\n  </tbody>\n</table>\n</div>"
     },
     "metadata": {},
     "execution_count": 77
    }
   ],
   "source": [
    "cdystonia.groupby(['week','site']).mean().head()"
   ]
  },
  {
   "cell_type": "markdown",
   "metadata": {},
   "source": [
    "### Apply\n",
    "\n",
    "We can generalize the split-apply-combine methodology by using `apply` function. This allows us to invoke any function we wish on a grouped dataset and recombine them into a DataFrame."
   ]
  },
  {
   "cell_type": "markdown",
   "metadata": {},
   "source": [
    "The function below takes a DataFrame and a column name, sorts by the column, and takes the `n` largest values of that column. We can use this with `apply` to return the largest values from every group in a DataFrame in a single call. "
   ]
  },
  {
   "cell_type": "code",
   "execution_count": 78,
   "metadata": {},
   "outputs": [],
   "source": [
    "def top(df, column, n=5):\n",
    "    return df.sort_values(by=column, ascending=False)[:n]"
   ]
  },
  {
   "cell_type": "markdown",
   "metadata": {},
   "source": [
    "To see this in action, consider the vessel transit segments dataset (which we merged with the vessel information to yield `segments_merged`). Say we wanted to return the 3 longest segments travelled by each ship:"
   ]
  },
  {
   "cell_type": "code",
   "execution_count": 80,
   "metadata": {},
   "outputs": [
    {
     "output_type": "execute_result",
     "data": {
      "text/plain": [
       "                                                     names  seg_length\n",
       "mmsi                                                                  \n",
       "1    6   Bil Holman Dredge/Dredge Capt Frank/Emo/Offsho...        76.0\n",
       "     5   Bil Holman Dredge/Dredge Capt Frank/Emo/Offsho...        17.4\n",
       "     7   Bil Holman Dredge/Dredge Capt Frank/Emo/Offsho...        13.7\n",
       "9    15                         000000009/Raven/Shearwater        47.2\n",
       "     14                         000000009/Raven/Shearwater        31.4\n",
       "     13                         000000009/Raven/Shearwater        19.3\n",
       "21   16                                      Us Gov Vessel        48.7\n",
       "     25                                      Us Gov Vessel        25.3\n",
       "     30                                      Us Gov Vessel        21.7\n",
       "74   35                                  Mcfaul/Sarah Bell         7.4\n",
       "     34                                  Mcfaul/Sarah Bell         1.4\n",
       "103  37           Ron G/Us Navy Warship 103/Us Warship 103        87.5\n",
       "     41           Ron G/Us Navy Warship 103/Us Warship 103        62.6\n",
       "     43           Ron G/Us Navy Warship 103/Us Warship 103        59.1\n",
       "310  51                                           Arabella        77.4"
      ],
      "text/html": "<div>\n<style scoped>\n    .dataframe tbody tr th:only-of-type {\n        vertical-align: middle;\n    }\n\n    .dataframe tbody tr th {\n        vertical-align: top;\n    }\n\n    .dataframe thead th {\n        text-align: right;\n    }\n</style>\n<table border=\"1\" class=\"dataframe\">\n  <thead>\n    <tr style=\"text-align: right;\">\n      <th></th>\n      <th></th>\n      <th>names</th>\n      <th>seg_length</th>\n    </tr>\n    <tr>\n      <th>mmsi</th>\n      <th></th>\n      <th></th>\n      <th></th>\n    </tr>\n  </thead>\n  <tbody>\n    <tr>\n      <th rowspan=\"3\" valign=\"top\">1</th>\n      <th>6</th>\n      <td>Bil Holman Dredge/Dredge Capt Frank/Emo/Offsho...</td>\n      <td>76.0</td>\n    </tr>\n    <tr>\n      <th>5</th>\n      <td>Bil Holman Dredge/Dredge Capt Frank/Emo/Offsho...</td>\n      <td>17.4</td>\n    </tr>\n    <tr>\n      <th>7</th>\n      <td>Bil Holman Dredge/Dredge Capt Frank/Emo/Offsho...</td>\n      <td>13.7</td>\n    </tr>\n    <tr>\n      <th rowspan=\"3\" valign=\"top\">9</th>\n      <th>15</th>\n      <td>000000009/Raven/Shearwater</td>\n      <td>47.2</td>\n    </tr>\n    <tr>\n      <th>14</th>\n      <td>000000009/Raven/Shearwater</td>\n      <td>31.4</td>\n    </tr>\n    <tr>\n      <th>13</th>\n      <td>000000009/Raven/Shearwater</td>\n      <td>19.3</td>\n    </tr>\n    <tr>\n      <th rowspan=\"3\" valign=\"top\">21</th>\n      <th>16</th>\n      <td>Us Gov Vessel</td>\n      <td>48.7</td>\n    </tr>\n    <tr>\n      <th>25</th>\n      <td>Us Gov Vessel</td>\n      <td>25.3</td>\n    </tr>\n    <tr>\n      <th>30</th>\n      <td>Us Gov Vessel</td>\n      <td>21.7</td>\n    </tr>\n    <tr>\n      <th rowspan=\"2\" valign=\"top\">74</th>\n      <th>35</th>\n      <td>Mcfaul/Sarah Bell</td>\n      <td>7.4</td>\n    </tr>\n    <tr>\n      <th>34</th>\n      <td>Mcfaul/Sarah Bell</td>\n      <td>1.4</td>\n    </tr>\n    <tr>\n      <th rowspan=\"3\" valign=\"top\">103</th>\n      <th>37</th>\n      <td>Ron G/Us Navy Warship 103/Us Warship 103</td>\n      <td>87.5</td>\n    </tr>\n    <tr>\n      <th>41</th>\n      <td>Ron G/Us Navy Warship 103/Us Warship 103</td>\n      <td>62.6</td>\n    </tr>\n    <tr>\n      <th>43</th>\n      <td>Ron G/Us Navy Warship 103/Us Warship 103</td>\n      <td>59.1</td>\n    </tr>\n    <tr>\n      <th>310</th>\n      <th>51</th>\n      <td>Arabella</td>\n      <td>77.4</td>\n    </tr>\n  </tbody>\n</table>\n</div>"
     },
     "metadata": {},
     "execution_count": 80
    }
   ],
   "source": [
    "top3segments = segments_merged.groupby('mmsi').apply(top, column='seg_length', n=3)[['names', 'seg_length']]\n",
    "top3segments.head(15)"
   ]
  },
  {
   "cell_type": "markdown",
   "metadata": {},
   "source": [
    "Notice that additional arguments for the applied function can be passed via `apply` after the function name. It assumes that the DataFrame is the first argument."
   ]
  },
  {
   "cell_type": "markdown",
   "metadata": {},
   "source": [
    "## References\n",
    "\n",
    "[Python for Data Analysis](http://shop.oreilly.com/product/0636920023784.do) Wes McKinney"
   ]
  }
 ],
 "metadata": {
  "anaconda-cloud": {},
  "kernelspec": {
   "display_name": "Python 3",
   "language": "python",
   "name": "python3"
  },
  "language_info": {
   "codemirror_mode": {
    "name": "ipython",
    "version": 3
   },
   "file_extension": ".py",
   "mimetype": "text/x-python",
   "name": "python",
   "nbconvert_exporter": "python",
   "pygments_lexer": "ipython3",
   "version": "3.8.5-final"
  },
  "nav_menu": {},
  "toc": {
   "base_numbering": 1,
   "nav_menu": {},
   "number_sections": false,
   "sideBar": false,
   "skip_h1_title": false,
   "title_cell": "Table of Contents",
   "title_sidebar": "Contents",
   "toc_cell": true,
   "toc_position": {},
   "toc_section_display": "block",
   "toc_window_display": false
  }
 },
 "nbformat": 4,
 "nbformat_minor": 1
}